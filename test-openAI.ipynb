{
 "cells": [
  {
   "cell_type": "code",
   "execution_count": 1,
   "id": "2c716ad0-87b1-4644-bd91-cf092b8bb66b",
   "metadata": {},
   "outputs": [],
   "source": [
    "# pip install openai"
   ]
  },
  {
   "cell_type": "code",
   "execution_count": 2,
   "id": "66f468ad-7d6c-4f69-8526-888816b2580d",
   "metadata": {},
   "outputs": [],
   "source": [
    "import getpass\n",
    "import requests\n",
    "\n",
    "import pandas as pd\n",
    "from pyspark.sql import SparkSession\n",
    "from pyspark.sql.functions import col, length, lower, regexp_extract\n",
    "from pyspark.sql.functions import to_date, when, datediff\n",
    "from pyspark.sql.functions import udf  \n",
    "from pyspark.sql.types import StringType, ArrayType"
   ]
  },
  {
   "cell_type": "code",
   "execution_count": null,
   "id": "0ad7ff5b",
   "metadata": {},
   "outputs": [],
   "source": [
    "username = ''\n",
    "password = ''"
   ]
  },
  {
   "cell_type": "code",
   "execution_count": 4,
   "id": "76333f87-0345-42cc-af8f-f58e2d63e8df",
   "metadata": {},
   "outputs": [],
   "source": [
    "# create access token for our login\n",
    "\n",
    "r = requests.post('https://ssoprod.sbdinc.com/as/token.oauth2', \n",
    "data={\"client_id\": 'Snowflake',\n",
    "\"grant_type\": 'password',\n",
    "'username': username,\n",
    "'password': password,\n",
    "'client_secret': 'f9sq630wmLP6UjpSsOk7kTuP6xccCrSOC4YhE1VdTq3GCupqR7gjYcpuhEGRJ9e0',\n",
    "'scope': 'session:role-any'})\n",
    "\n",
    "r.raise_for_status()\n",
    "\n",
    "access_token = r.json()['access_token']\n",
    "\n",
    "# Reading snowflake table as dataframe\n",
    "\n",
    "  \n",
    "spark = SparkSession.builder.getOrCreate()\n",
    "\n",
    "spark.conf.set(\"spark.sql.legacy.timeParserPolicy\",\"LEGACY\")\n",
    "\n",
    "\n",
    "# Change the configuration based on your snowflake schema\n",
    "df = spark.read.format(\"net.snowflake.spark.snowflake\")\\\n",
    ".option(\"sfurl\",\"sbd_caspian.us-east-1.snowflakecomputing.com\")\\\n",
    ".option(\"sfUser\", username)\\\n",
    ".option(\"sfDatabase\",\"DEV_AIDA\")\\\n",
    ".option(\"sfSchema\",\"PULSE\")\\\n",
    ".option(\"sfRole\",\"YOUR_ROLE\")\\\n",
    ".option('sfauthenticator','oauth')\\\n",
    ".option('autopushdown','off')\\\n",
    ".option(\"sfToken\",access_token)\\\n",
    ".option(\"sfWarehouse\",\"DEV_AIDA_WH\")\\\n",
    ".option(\"query\", \"\"\"SELECT *\n",
    "        FROM REVIEWS_MASTER;\"\"\")\\\n",
    ".load()"
   ]
  },
  {
   "cell_type": "code",
   "execution_count": 7,
   "id": "64cc603f-f154-42cd-9c56-188bb33d8440",
   "metadata": {},
   "outputs": [],
   "source": [
    "clean_reviews = 'this is a good product. i love this drill it knows how to make holes in anything. Not really my thing. I prefer other brands over DeWalt. Dewalt aka QUALITY.'"
   ]
  },
  {
   "cell_type": "code",
   "execution_count": null,
   "id": "1d0ca2cb-05e6-443b-929f-d1d1a6471ed2",
   "metadata": {},
   "outputs": [],
   "source": [
    "#Note: The openai-python library support for Azure OpenAI is in preview.\n",
    "#Note: This code sample requires OpenAI Python library version 1.0.0 or higher.\n",
    "import os\n",
    "from openai import AzureOpenAI\n",
    "\n",
    "client = AzureOpenAI(\n",
    "  azure_endpoint = \"https://openai-sbd-poc.openai.azure.com/\", \n",
    "  api_key='3a81d76d39114af784d0e2b116af0c0f',  \n",
    "  api_version=\"2024-02-15-preview\"\n",
    ")\n",
    "\n",
    "message_text = [{\"role\":\"system\",\"content\":\"You are an E-Commerce expert!\"},\n",
    "               {\"role\": \"user\", \"content\": f\"Summarise these reviews: {clean_reviews}\"}]\n",
    "\n",
    "completion = client.chat.completions.create(\n",
    "  model=\"SBD-PrivateChatGPT\", # model = \"deployment_name\"\n",
    "  messages = message_text,\n",
    "  temperature=0.7,\n",
    "  max_tokens=800,\n",
    "  top_p=0.95,\n",
    "  frequency_penalty=0,\n",
    "  presence_penalty=0,\n",
    "  stop=None\n",
    ")"
   ]
  },
  {
   "cell_type": "code",
   "execution_count": 19,
   "id": "129fb325-77db-497e-b72e-916734e4a629",
   "metadata": {},
   "outputs": [],
   "source": [
    "choices = completion.choices"
   ]
  },
  {
   "cell_type": "code",
   "execution_count": 20,
   "id": "241dc96b-5c25-41bb-a932-ff73b3ba4c07",
   "metadata": {},
   "outputs": [],
   "source": [
    "message_content = choices[0].message.content  "
   ]
  },
  {
   "cell_type": "code",
   "execution_count": 21,
   "id": "14d6e854-e04b-45fc-ace6-428d55692785",
   "metadata": {},
   "outputs": [
    {
     "data": {
      "text/plain": [
       "\"The reviews present a mixed sentiment about the product. One reviewer is highly satisfied, praising the drill's effectiveness in making holes in various materials. Another expresses a preference for other brands over DeWalt, suggesting dissatisfaction or a better experience with competitors. Meanwhile, a third review equates DeWalt with quality, indicating a positive perception of the brand. Overall, the reviews suggest that while some customers are pleased with the product's performance and associate the brand with high quality, others may not favor it as much and prefer alternatives.\""
      ]
     },
     "execution_count": 21,
     "metadata": {},
     "output_type": "execute_result"
    }
   ],
   "source": [
    "message_content"
   ]
  },
  {
   "cell_type": "code",
   "execution_count": null,
   "id": "62019b13-eb12-46bb-96e2-ed698291e390",
   "metadata": {},
   "outputs": [],
   "source": []
  },
  {
   "cell_type": "code",
   "execution_count": null,
   "id": "33cbb400-256d-4c53-aae5-9f39667e106a",
   "metadata": {},
   "outputs": [],
   "source": []
  },
  {
   "cell_type": "code",
   "execution_count": null,
   "id": "5946af95-0d8e-422d-b857-89f482a13597",
   "metadata": {},
   "outputs": [],
   "source": []
  },
  {
   "cell_type": "code",
   "execution_count": null,
   "id": "f4da8a67-d0c0-4332-9397-25c25473df09",
   "metadata": {},
   "outputs": [],
   "source": []
  },
  {
   "cell_type": "code",
   "execution_count": null,
   "id": "eb3e0ff2-fbcf-4b00-b277-d2e5d1a9d514",
   "metadata": {},
   "outputs": [],
   "source": []
  },
  {
   "cell_type": "code",
   "execution_count": null,
   "id": "2106029f-a7d2-484a-a68f-ba65437217fe",
   "metadata": {},
   "outputs": [],
   "source": []
  },
  {
   "cell_type": "code",
   "execution_count": null,
   "id": "25d13ba7-b76e-4fa7-84c1-ef3c70f24870",
   "metadata": {},
   "outputs": [],
   "source": []
  },
  {
   "cell_type": "code",
   "execution_count": null,
   "id": "bcbc6440-6c1d-487d-91de-ce46852199f2",
   "metadata": {},
   "outputs": [],
   "source": []
  }
 ],
 "metadata": {
  "kernelspec": {
   "display_name": "Python 3 (ipykernel)",
   "language": "python",
   "name": "python3"
  },
  "language_info": {
   "codemirror_mode": {
    "name": "ipython",
    "version": 3
   },
   "file_extension": ".py",
   "mimetype": "text/x-python",
   "name": "python",
   "nbconvert_exporter": "python",
   "pygments_lexer": "ipython3",
   "version": "3.9.7"
  }
 },
 "nbformat": 4,
 "nbformat_minor": 5
}
