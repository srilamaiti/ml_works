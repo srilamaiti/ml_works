{
  "nbformat": 4,
  "nbformat_minor": 0,
  "metadata": {
    "colab": {
      "private_outputs": true,
      "provenance": [],
      "authorship_tag": "ABX9TyNvnRwdLRnfJWm/xiuVlv5n",
      "include_colab_link": true
    },
    "kernelspec": {
      "name": "python3",
      "display_name": "Python 3"
    },
    "language_info": {
      "name": "python"
    }
  },
  "cells": [
    {
      "cell_type": "markdown",
      "metadata": {
        "id": "view-in-github",
        "colab_type": "text"
      },
      "source": [
        "<a href=\"https://colab.research.google.com/github/srilamaiti/ml_works/blob/main/kmeans_clustering.ipynb\" target=\"_parent\"><img src=\"https://colab.research.google.com/assets/colab-badge.svg\" alt=\"Open In Colab\"/></a>"
      ]
    },
    {
      "cell_type": "code",
      "execution_count": null,
      "metadata": {
        "id": "zyq95CiFDJEd"
      },
      "outputs": [],
      "source": [
        "import numpy as np\n",
        "import matplotlib.pyplot as plt"
      ]
    },
    {
      "cell_type": "code",
      "source": [
        "d = 2 # Number of features\n",
        "k = 3 # number of clusters\n",
        "n = 300 # total samples"
      ],
      "metadata": {
        "id": "cmLKqeEKDTox"
      },
      "execution_count": null,
      "outputs": []
    },
    {
      "cell_type": "code",
      "source": [
        "mu1 = np.array([0,0])\n",
        "mu2 = np.array([5,5])\n",
        "mu3 = np.array([0,5])"
      ],
      "metadata": {
        "id": "WwSEn6XkDTsE"
      },
      "execution_count": null,
      "outputs": []
    },
    {
      "cell_type": "code",
      "source": [
        "x = np.zeros([n, d])\n",
        "x.shape"
      ],
      "metadata": {
        "id": "AHDFSLKnDTx8"
      },
      "execution_count": null,
      "outputs": []
    },
    {
      "cell_type": "code",
      "source": [
        "np.random.seed(0)"
      ],
      "metadata": {
        "id": "6H0Km64DEJ9V"
      },
      "execution_count": null,
      "outputs": []
    },
    {
      "cell_type": "code",
      "source": [
        "x[:100, :] = np.random.randn(100, d) + mu1\n",
        "x[100:200, :] = np.random.randn(100, d) + mu2\n",
        "x[200:, :] = np.random.randn(100, d) + mu3"
      ],
      "metadata": {
        "id": "B4eZuvx3Dop0"
      },
      "execution_count": null,
      "outputs": []
    },
    {
      "cell_type": "code",
      "source": [
        "y = np.array([0] * 100 + [1] * 100 + [2] * 100)"
      ],
      "metadata": {
        "id": "pLKG6NamDos7"
      },
      "execution_count": null,
      "outputs": []
    },
    {
      "cell_type": "code",
      "source": [
        "plt.scatter(x[:,0], x[:,1], c =  y)"
      ],
      "metadata": {
        "id": "Bj1k0eWIDovj"
      },
      "execution_count": null,
      "outputs": []
    },
    {
      "cell_type": "code",
      "source": [
        "# A 2-dimensional array has two corresponding axes: the first running vertically downwards across rows (axis 0), and the second running horizontally across columns (axis 1)\n",
        "x.mean(),  x.mean(axis = 0), x.mean(axis = 1)"
      ],
      "metadata": {
        "id": "wkTvRTPXDoyr"
      },
      "execution_count": null,
      "outputs": []
    },
    {
      "cell_type": "code",
      "source": [
        "x.shape, y.shape"
      ],
      "metadata": {
        "id": "e1gyv-g2GBva"
      },
      "execution_count": null,
      "outputs": []
    },
    {
      "cell_type": "code",
      "source": [
        "x_new = np.concatenate((x, y.reshape(-1,1)), axis=1)"
      ],
      "metadata": {
        "id": "URVXO0DgGKz5"
      },
      "execution_count": null,
      "outputs": []
    },
    {
      "cell_type": "code",
      "source": [
        "means = np.zeros([k, d])\n",
        "means.shape"
      ],
      "metadata": {
        "id": "dwAWoQvmFiCj"
      },
      "execution_count": null,
      "outputs": []
    },
    {
      "cell_type": "code",
      "source": [
        "means[0, :] = x[y == 0].mean(axis = 0)\n",
        "means[1, :] = x[y == 1].mean(axis = 0)\n",
        "means[2, :] = x[y == 2].mean(axis = 0)"
      ],
      "metadata": {
        "id": "hdv5d2CmFyQh"
      },
      "execution_count": null,
      "outputs": []
    },
    {
      "cell_type": "code",
      "source": [
        "means"
      ],
      "metadata": {
        "id": "RjgoDXvXNVyB"
      },
      "execution_count": null,
      "outputs": []
    },
    {
      "cell_type": "code",
      "source": [
        "plt.scatter(x[:,0], x[:,1], c =  y)\n",
        "plt.scatter(means[:,0], means[:,1], c =  'red', marker = '*', s = 1000)"
      ],
      "metadata": {
        "id": "tc7mDwNHE1Dq"
      },
      "execution_count": null,
      "outputs": []
    },
    {
      "cell_type": "code",
      "source": [],
      "metadata": {
        "id": "XkYwJ3ZOE1Gx"
      },
      "execution_count": null,
      "outputs": []
    },
    {
      "cell_type": "code",
      "source": [],
      "metadata": {
        "id": "YEgUG_JmE1J6"
      },
      "execution_count": null,
      "outputs": []
    },
    {
      "cell_type": "code",
      "source": [],
      "metadata": {
        "id": "pYu0XQKyDo2C"
      },
      "execution_count": null,
      "outputs": []
    }
  ]
}