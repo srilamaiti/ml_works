{
  "nbformat": 4,
  "nbformat_minor": 0,
  "metadata": {
    "colab": {
      "private_outputs": true,
      "provenance": [],
      "authorship_tag": "ABX9TyO849eEARPxydm38gLD4VKc",
      "include_colab_link": true
    },
    "kernelspec": {
      "name": "python3",
      "display_name": "Python 3"
    },
    "language_info": {
      "name": "python"
    }
  },
  "cells": [
    {
      "cell_type": "markdown",
      "metadata": {
        "id": "view-in-github",
        "colab_type": "text"
      },
      "source": [
        "<a href=\"https://colab.research.google.com/github/srilamaiti/ml_works/blob/main/image_hash.ipynb\" target=\"_parent\"><img src=\"https://colab.research.google.com/assets/colab-badge.svg\" alt=\"Open In Colab\"/></a>"
      ]
    },
    {
      "cell_type": "code",
      "execution_count": null,
      "metadata": {
        "id": "08yKDwzbi2RO"
      },
      "outputs": [],
      "source": [
        "!pip install ImageHash"
      ]
    },
    {
      "cell_type": "code",
      "source": [
        "from PIL import Image\n",
        "import imagehash"
      ],
      "metadata": {
        "id": "C_io9hcNjU-z"
      },
      "execution_count": null,
      "outputs": []
    },
    {
      "cell_type": "code",
      "source": [
        "hash = imagehash.average_hash(Image.open('0a61bddab956.png'))\n",
        "print(hash)\n",
        "\n",
        "otherhash = imagehash.average_hash(Image.open('0a902c80d5da.png'))\n",
        "print(otherhash)\n",
        "print(hash == otherhash)\n",
        "print(hash - otherhash)  # hamming distance\n"
      ],
      "metadata": {
        "id": "YiEB0MnYi8Lp"
      },
      "execution_count": null,
      "outputs": []
    },
    {
      "cell_type": "code",
      "source": [
        "otherhash1 = imagehash.average_hash(Image.open('0a61bddab956.png'))\n",
        "print(otherhash1)\n",
        "print(hash == otherhash1)\n",
        "print(hash - otherhash1)  # hamming distance"
      ],
      "metadata": {
        "id": "AY2mULKbj_Dp"
      },
      "execution_count": null,
      "outputs": []
    }
  ]
}