{
  "nbformat": 4,
  "nbformat_minor": 0,
  "metadata": {
    "colab": {
      "provenance": [],
      "include_colab_link": true
    },
    "kernelspec": {
      "name": "python3",
      "display_name": "Python 3"
    },
    "language_info": {
      "name": "python"
    }
  },
  "cells": [
    {
      "cell_type": "markdown",
      "metadata": {
        "id": "view-in-github",
        "colab_type": "text"
      },
      "source": [
        "<a href=\"https://colab.research.google.com/github/srilamaiti/ml_works/blob/main/Untitled0.ipynb\" target=\"_parent\"><img src=\"https://colab.research.google.com/assets/colab-badge.svg\" alt=\"Open In Colab\"/></a>"
      ]
    },
    {
      "cell_type": "code",
      "execution_count": 1,
      "metadata": {
        "id": "Bnls_s7-Niyz"
      },
      "outputs": [],
      "source": [
        "import pandas as pd\n",
        "import numpy as np\n",
        "import os\n",
        "import random\n",
        "import joblib\n",
        "import glob\n",
        "import random\n",
        "from itertools import product\n",
        "import gc\n",
        "import subprocess\n",
        "import shutil\n",
        "import copy\n",
        "import statistics as st\n",
        "from scipy import stats\n",
        "\n",
        "from imutils import rotate as rotate\n",
        "import cv2\n",
        "import matplotlib.pyplot as plt\n",
        "import seaborn as sns\n",
        "import plotly.express as px\n",
        "import matplotlib.patches as patches\n",
        "from matplotlib.patches import Polygon\n",
        "from sklearn.metrics import confusion_matrix\n",
        "from mlxtend.plotting import plot_confusion_matrix\n",
        "from skimage.color import gray2rgb\n",
        "import skimage.io as skio\n",
        "\n",
        "from sklearn.utils import shuffle\n",
        "from sklearn.decomposition import PCA\n",
        "from sklearn.decomposition import IncrementalPCA\n",
        "from sklearn.model_selection import train_test_split\n",
        "from sklearn.model_selection import StratifiedKFold\n",
        "from sklearn.metrics import roc_auc_score\n",
        "from sklearn.metrics import roc_curve\n",
        "from sklearn.metrics import auc\n",
        "from sklearn.metrics import classification_report\n",
        "from sklearn.model_selection import KFold\n",
        "from sklearn.model_selection import cross_val_score\n",
        "from sklearn.model_selection import cross_val_predict\n",
        "from sklearn.model_selection import StratifiedShuffleSplit\n",
        "\n",
        "import tensorflow as tf\n",
        "from tensorflow import keras\n",
        "from tensorflow.keras import layers\n",
        "from tensorflow.keras.preprocessing.image import ImageDataGenerator\n",
        "#from livelossplot import PlotLossesKeras\n",
        "\n",
        "from tensorflow.keras.layers import RandomFlip\n",
        "from tensorflow.keras.layers import RandomZoom\n",
        "from tensorflow.keras.layers import RandomRotation\n",
        "from tensorflow.keras.layers import Conv1D\n",
        "from tensorflow.keras.layers import Conv2D\n",
        "from tensorflow.keras.layers import Concatenate\n",
        "from tensorflow.keras.layers import MaxPooling1D\n",
        "from tensorflow.keras.layers import MaxPooling2D\n",
        "from tensorflow.keras.layers import AveragePooling2D\n",
        "from tensorflow.keras.layers import Input\n",
        "from tensorflow.keras.layers import Dense\n",
        "from tensorflow.keras.layers import Flatten\n",
        "from tensorflow.keras.layers import Dropout\n",
        "from tensorflow.keras.models import Sequential\n",
        "from tensorflow.keras.layers import BatchNormalization\n",
        "from tensorflow.keras.layers import GlobalMaxPooling2D\n",
        "from tensorflow.keras.layers import GlobalAveragePooling1D\n",
        "from tensorflow.keras.layers import GlobalAveragePooling2D\n",
        "from tensorflow.keras.layers import Lambda\n",
        "from tensorflow.keras.layers import Multiply\n",
        "from tensorflow.keras.layers import LSTM\n",
        "from tensorflow.keras.layers import Bidirectional\n",
        "from tensorflow.keras.layers import PReLU\n",
        "from keras.layers.core import Activation\n",
        "from keras.layers.convolutional import SeparableConv1D\n",
        "from keras.layers.convolutional import SeparableConv2D\n",
        "\n",
        "from tensorflow.keras.optimizers import Adam\n",
        "from tensorflow.keras.optimizers import RMSprop\n",
        "\n",
        "from keras.applications.vgg16 import VGG16\n",
        "from keras.applications.vgg19 import VGG19\n",
        "from keras.applications.densenet import *\n",
        "from keras.applications.resnet import ResNet152\n",
        "from keras.applications.nasnet import NASNetMobile\n",
        "from keras.applications.nasnet import NASNetLarge\n",
        "from keras.applications.nasnet import preprocess_input\n",
        "from keras.applications import MobileNetV2\n",
        "from keras.applications.xception import Xception\n",
        "from keras.applications.inception_v3 import *\n",
        "\n",
        "from tensorflow.keras.preprocessing.image import array_to_img\n",
        "from tensorflow.keras.preprocessing.image import img_to_array\n",
        "from tensorflow.keras.preprocessing.image import load_img\n",
        "from tensorflow.keras.preprocessing.image import save_img\n",
        "\n",
        "from tensorflow.python.ops.numpy_ops import np_config\n",
        "\n",
        "from keras.callbacks import ModelCheckpoint\n",
        "from keras.callbacks import EarlyStopping\n",
        "from keras.callbacks import ReduceLROnPlateau\n",
        "from keras.callbacks import LearningRateScheduler\n",
        "\n",
        "from tensorflow.keras.losses import mae\n",
        "from tensorflow.keras.losses import sparse_categorical_crossentropy\n",
        "from tensorflow.keras.losses import binary_crossentropy\n",
        "\n",
        "from keras.models import Model\n",
        "from tensorflow.keras.regularizers import l2\n",
        "from tensorflow.keras.optimizers import SGD\n",
        "from keras.models import load_model\n"
      ]
    },
    {
      "cell_type": "code",
      "source": [
        "random_state = 1234"
      ],
      "metadata": {
        "id": "m2zN53nHOdbl"
      },
      "execution_count": 2,
      "outputs": []
    },
    {
      "cell_type": "code",
      "source": [
        "def build_pretained_model(model_name):\n",
        "    \"\"\"\n",
        "    This function utilizes transfer learning of a given model.\n",
        "    \"\"\"\n",
        "    tf.random.set_seed(random_state)\n",
        "    np.random.seed(random_state)\n",
        "    tf.keras.backend.clear_session()\n",
        "    input_shape = (image_size, image_size, 3)\n",
        "    if model_name == 'VGG19':\n",
        "        pretrained_model = VGG19(weights = 'imagenet', include_top = False, input_shape = input_shape)\n",
        "    elif model_name == 'DenseNet201':\n",
        "        pretrained_model = tf.keras.applications.densenet.DenseNet201(weights = 'imagenet', include_top = False, input_shape = input_shape)\n",
        "    elif model_name == 'ResNet50':\n",
        "        pretrained_model = tf.keras.applications.resnet50.ResNet50(weights = 'imagenet', include_top = False, input_shape = input_shape)\n",
        "    elif model_name == 'VGG16':\n",
        "        pretrained_model = VGG16(weights = 'imagenet', include_top = False, input_shape = input_shape)\n",
        "    elif model_name == 'EfficientNetB7':\n",
        "        pretrained_model = tf.keras.applications.efficientnet.EfficientNetB7(weights = 'imagenet', include_top = False, input_shape = input_shape)\n",
        "    elif model_name == 'MobileNet':\n",
        "        pretrained_model = tf.keras.applications.MobileNet(weights = 'imagenet', include_top = False, input_shape = input_shape)\n",
        "    elif model_name == 'Xception':\n",
        "        pretrained_model = tf.keras.applications.Xception(weights = 'imagenet', include_top = False, input_shape = input_shape)\n",
        "    elif model_name == 'InceptionV3':\n",
        "        pretrained_model = tf.keras.applications.InceptionV3(weights = 'imagenet', include_top = False, input_shape = input_shape)\n",
        "    return pretrained_model\n"
      ],
      "metadata": {
        "id": "TQpQkoi5N07r"
      },
      "execution_count": 3,
      "outputs": []
    },
    {
      "cell_type": "code",
      "source": [
        "image_size = 96\n",
        "dropout_rate = .5\n",
        "model_name = 'ResNet50'"
      ],
      "metadata": {
        "id": "fufUTTNQOHxq"
      },
      "execution_count": 2,
      "outputs": []
    },
    {
      "cell_type": "code",
      "source": [
        "pretrained_model = build_pretained_model(model_name = model_name)\n",
        "pretrained_model.trainable = False\n",
        "        \n",
        "# Plug the pre-trained model to custom model\n",
        "print(f\"Plugging in the pretainined model for {model_name} to custom model\")\n",
        "try:\n",
        "    del model\n",
        "except:\n",
        "    None\n",
        "input_shape = (image_size, image_size, 3)\n",
        "inputs = tf.keras.Input(input_shape)\n",
        "m2 = tf.keras.layers.GlobalAveragePooling2D()(pretrained_model(inputs))\n",
        "m2 = tf.keras.layers.Dropout(dropout_rate)(m2)\n",
        "m2 = tf.keras.layers.Dense(512, activation = 'relu')(m2)\n",
        "m2 = tf.keras.layers.BatchNormalization()(m2)\n",
        "m2 = tf.keras.layers.Dropout(dropout_rate)(m2)\n",
        "m2 = tf.keras.layers.Dense(256, activation = 'relu')(m2)\n",
        "m2 = tf.keras.layers.BatchNormalization()(m2)\n",
        "m2 = tf.keras.layers.Dropout(dropout_rate)(m2)\n",
        "m2 = tf.keras.layers.Flatten()(m2)\n",
        "m2 = tf.keras.layers.Dense(1, activation = None)(m2)\n",
        "model = tf.keras.Model(inputs = inputs, outputs = m2)"
      ],
      "metadata": {
        "colab": {
          "base_uri": "https://localhost:8080/"
        },
        "id": "zMJktLhlN52U",
        "outputId": "3b74ad80-82e3-4f23-dabb-bb59a6d3e30d"
      },
      "execution_count": 5,
      "outputs": [
        {
          "output_type": "stream",
          "name": "stdout",
          "text": [
            "Downloading data from https://storage.googleapis.com/tensorflow/keras-applications/resnet/resnet50_weights_tf_dim_ordering_tf_kernels_notop.h5\n",
            "94765736/94765736 [==============================] - 2s 0us/step\n",
            "Plugging in the pretainined model for ResNet50 to custom model\n"
          ]
        }
      ]
    },
    {
      "cell_type": "code",
      "source": [
        "tf.keras.utils.plot_model(model)"
      ],
      "metadata": {
        "colab": {
          "base_uri": "https://localhost:8080/",
          "height": 1000
        },
        "id": "1yl8KLZbOqcd",
        "outputId": "6135dd71-1b98-4018-d260-c828b08bdb5e"
      },
      "execution_count": 6,
      "outputs": [
        {
          "output_type": "execute_result",
          "data": {
            "image/png": "[encoded data removed]",
            "text/plain": [
              "<IPython.core.display.Image object>"
            ]
          },
          "metadata": {},
          "execution_count": 6
        }
      ]
    },
    {
      "cell_type": "code",
      "source": [
        "!unzip -o -qq \\*.zip  && rm *.zip"
      ],
      "metadata": {
        "id": "AdTOcloCRQU8"
      },
      "execution_count": 4,
      "outputs": []
    },
    {
      "cell_type": "code",
      "source": [
        "!rm -rf image_processing/"
      ],
      "metadata": {
        "id": "dFwV9FlsaApf"
      },
      "execution_count": 3,
      "outputs": []
    },
    {
      "cell_type": "code",
      "source": [
        "!ls -ltr Dataset"
      ],
      "metadata": {
        "colab": {
          "base_uri": "https://localhost:8080/"
        },
        "id": "WjE-qGmqW9qS",
        "outputId": "10ceb97c-c2da-4709-8278-9f4e26e6bde2"
      },
      "execution_count": null,
      "outputs": [
        {
          "output_type": "stream",
          "name": "stdout",
          "text": [
            "total 12\n",
            "drwxr-xr-x 4 root root 4096 Oct  4 01:10 Test\n",
            "drwxr-xr-x 4 root root 4096 Oct  4 01:10 Train\n",
            "drwxr-xr-x 4 root root 4096 Oct  4 01:10 Validate\n"
          ]
        }
      ]
    },
    {
      "cell_type": "code",
      "source": [
        "!ls -ltr Dataset/Train/0|wc -l\n",
        "!ls -ltr Dataset/Train/1|wc -l\n",
        "\n",
        "!ls -ltr Dataset/Test/0|wc -l\n",
        "!ls -ltr Dataset/Test/1|wc -l\n",
        "\n",
        "!ls -ltr Dataset/Validate/0|wc -l\n",
        "!ls -ltr Dataset/Validate/1|wc -l"
      ],
      "metadata": {
        "colab": {
          "base_uri": "https://localhost:8080/"
        },
        "id": "rNK-XNrxXBVl",
        "outputId": "646e27ae-329a-4ecd-ce82-8dd70e2e34ff"
      },
      "execution_count": 9,
      "outputs": [
        {
          "output_type": "stream",
          "name": "stdout",
          "text": [
            "401\n",
            "401\n",
            "101\n",
            "101\n",
            "101\n",
            "101\n"
          ]
        }
      ]
    },
    {
      "cell_type": "code",
      "source": [
        "import pandas as pd\n",
        "import numpy as np\n",
        "import os\n",
        "import re\n",
        "import random\n",
        "import joblib\n",
        "import glob\n",
        "import itertools\n",
        "\n",
        "import matplotlib.pyplot as plt\n",
        "import seaborn as sns\n",
        "import plotly.express as px\n",
        "import matplotlib.patches as patches\n",
        "\n",
        "from tensorflow.keras.preprocessing.image import array_to_img\n",
        "from tensorflow.keras.preprocessing.image import img_to_array\n",
        "from tensorflow.keras.preprocessing.image import load_img\n",
        "from tensorflow.keras.preprocessing.image import save_img\n",
        "\n",
        "\n",
        "from sklearn.utils import shuffle\n",
        "from sklearn.ensemble import GradientBoostingClassifier, AdaBoostClassifier, RandomForestClassifier\n",
        "from sklearn.model_selection import train_test_split, GridSearchCV\n",
        "from scipy import stats\n",
        "from collections import Counter\n",
        "from sklearn import preprocessing\n",
        "from sklearn.preprocessing import StandardScaler\n",
        "from sklearn.metrics import *                            # confusion_matrix, log_loss, accuracy_score\n",
        "from sklearn.model_selection import *                    # train_test_split\n",
        "from sklearn.tree import DecisionTreeClassifier\n",
        "from sklearn.naive_bayes import GaussianNB\n",
        "from sklearn import preprocessing\n",
        "from sklearn.preprocessing import *  \n",
        "# from sklearn.ensemble import *\n",
        "from sklearn.svm import *\n",
        "from sklearn.linear_model import *                       # LinearRegression\n",
        "from sklearn.discriminant_analysis import *\n",
        "from sklearn.neighbors import KNeighborsClassifier\n",
        "from mlxtend.plotting import plot_decision_regions\n",
        "\n",
        "import tensorflow as tf\n",
        "from tensorflow import keras\n",
        "from keras import metrics\n",
        "from tensorflow.keras import initializers\n",
        "from tensorflow.keras.preprocessing.image import ImageDataGenerator\n",
        "from tensorflow.keras.layers import RandomFlip, RandomZoom, RandomRotation, Conv2D, MaxPooling2D, AveragePooling2D, Input, Dense, Flatten, Dropout, BatchNormalization, GlobalAveragePooling2D\n",
        "from tensorflow.keras.losses import BinaryCrossentropy, CategoricalCrossentropy\n",
        "from tensorflow.keras.models import Sequential\n",
        "from tensorflow.keras.optimizers import Adam, SGD, Adadelta, Adagrad, RMSprop\n",
        "from keras.layers import ReLU, LeakyReLU\n",
        "from tensorflow.keras.callbacks import ReduceLROnPlateau, ModelCheckpoint\n",
        "from keras.wrappers.scikit_learn import KerasClassifier\n",
        "from keras.layers import ReLU, LeakyReLU\n",
        "\n",
        "from sklearn.metrics import roc_auc_score, auc\n",
        "from sklearn.metrics import roc_curve\n",
        "\n",
        "tf.get_logger().setLevel('INFO')\n",
        "\n",
        "import cv2 as cv\n",
        "import skimage.io as io\n",
        "\n",
        "import warnings\n",
        "warnings.filterwarnings('ignore')\n"
      ],
      "metadata": {
        "id": "7WvBGVZaRQSU"
      },
      "execution_count": 5,
      "outputs": []
    },
    {
      "cell_type": "code",
      "source": [
        "val_image_directory = '/content/Dataset/Validate'\n",
        "train_image_directory = '/content/Dataset/Train'\n",
        "test_image_directory = '/content/Dataset/Test'\n",
        "directory_path = '/content/Dataset'\n",
        "\n",
        "tgt_directory_path = '/content/image_processing'\n",
        "tgt_train_positive_image_path = '/content/image_processing/train/positive/'\n",
        "tgt_train_negative_image_path = '/content/image_processing/train/negative/'\n",
        "tgt_val_positive_image_path = '/content/image_processing/val/positive/'\n",
        "tgt_val_negative_image_path = '/content/image_processing/val/negative/'\n",
        "tgt_test_positive_image_path = '/content/image_processing/test/positive/'\n",
        "tgt_test_negative_image_path = '/content/image_processing/test/negative/'\n",
        "\n",
        "tgt_path_list = [tgt_train_positive_image_path, tgt_train_negative_image_path,\n",
        "                 tgt_val_positive_image_path, tgt_val_negative_image_path,\n",
        "                 tgt_test_positive_image_path, tgt_test_negative_image_path\n",
        "                ]"
      ],
      "metadata": {
        "id": "UATtHsgNSRqG"
      },
      "execution_count": 6,
      "outputs": []
    },
    {
      "cell_type": "code",
      "source": [
        "train_positive_images_path = [train_image_directory + '/' +  dir + '/' for dir in os.listdir(train_image_directory) if dir != '.DS_Store'][0]\n",
        "train_negative_images_path = [train_image_directory + '/' +  dir + '/' for dir in os.listdir(train_image_directory) if dir != '.DS_Store'][1]\n",
        "\n",
        "test_positive_images_path = [test_image_directory + '/' +  dir + '/' for dir in os.listdir(test_image_directory) if dir != '.DS_Store'][0]\n",
        "test_negative_images_path = [test_image_directory + '/' +  dir + '/' for dir in os.listdir(test_image_directory) if dir != '.DS_Store'][1]\n",
        "\n",
        "val_positive_images_path = [val_image_directory + '/' +  dir + '/' for dir in os.listdir(val_image_directory) if dir != '.DS_Store'][0]\n",
        "val_negative_images_path = [val_image_directory + '/' +  dir + '/' for dir in os.listdir(val_image_directory) if dir != '.DS_Store'][1]"
      ],
      "metadata": {
        "id": "dh1GbkYSTXYy"
      },
      "execution_count": 7,
      "outputs": []
    },
    {
      "cell_type": "code",
      "source": [
        "train_positive_images_list = [train_positive_images_path + file for file in list(os.walk(train_positive_images_path))[0][2] if file[0] != '.']\n",
        "train_negative_images_list = [train_negative_images_path + file for file in list(os.walk(train_negative_images_path))[0][2] if file[0] != '.']\n",
        "\n",
        "test_positive_images_list = [test_positive_images_path + file for file in list(os.walk(test_positive_images_path))[0][2] if file[0] != '.']\n",
        "test_negative_images_list = [test_negative_images_path + file for file in list(os.walk(test_negative_images_path))[0][2] if file[0] != '.']\n",
        "\n",
        "val_positive_images_list = [val_positive_images_path + file for file in list(os.walk(val_positive_images_path))[0][2] if file[0] != '.']\n",
        "val_negative_images_list = [val_negative_images_path + file for file in list(os.walk(val_negative_images_path))[0][2] if file[0] != '.']"
      ],
      "metadata": {
        "id": "zbL0x9QHShXm"
      },
      "execution_count": 8,
      "outputs": []
    },
    {
      "cell_type": "code",
      "source": [
        "len(train_positive_images_list + train_negative_images_list + test_positive_images_list + test_negative_images_list + val_positive_images_list + val_negative_images_list)"
      ],
      "metadata": {
        "colab": {
          "base_uri": "https://localhost:8080/"
        },
        "id": "BmVWCg1geoxB",
        "outputId": "7caf55b7-1445-4ef7-8170-3bdb9013b57e"
      },
      "execution_count": 14,
      "outputs": [
        {
          "output_type": "execute_result",
          "data": {
            "text/plain": [
              "1200"
            ]
          },
          "metadata": {},
          "execution_count": 14
        }
      ]
    },
    {
      "cell_type": "code",
      "source": [
        "len(train_positive_images_list), len(train_negative_images_list), len(test_positive_images_list), len(test_negative_images_list), len(val_positive_images_list), len(val_negative_images_list)"
      ],
      "metadata": {
        "colab": {
          "base_uri": "https://localhost:8080/"
        },
        "id": "XNjz53EpXpb-",
        "outputId": "b2291df1-4bc3-4974-b4ba-aa650eaedc92"
      },
      "execution_count": 15,
      "outputs": [
        {
          "output_type": "execute_result",
          "data": {
            "text/plain": [
              "(400, 400, 100, 100, 100, 100)"
            ]
          },
          "metadata": {},
          "execution_count": 15
        }
      ]
    },
    {
      "cell_type": "code",
      "source": [
        "test_img = load_img(train_positive_images_list[0], color_mode =\"grayscale\")\n",
        "test_img_arry = img_to_array(test_img)\n",
        "print(type(test_img))\n",
        "print(test_img.format)\n",
        "print(test_img.mode)\n",
        "print(test_img.size)\n",
        "print(test_img.getbands())\n",
        "print(test_img_arry.shape)\n",
        "print(\"****\")\n",
        "test_img1 = load_img(train_positive_images_list[0])\n",
        "test_img1_arry = img_to_array(test_img1)\n",
        "print(test_img1_arry.shape)\n",
        "print(test_img1.getbands())"
      ],
      "metadata": {
        "colab": {
          "base_uri": "https://localhost:8080/"
        },
        "id": "V_g0AF4Xd-LJ",
        "outputId": "875c17b9-6933-4bb5-8efb-0524f6a00e30"
      },
      "execution_count": 9,
      "outputs": [
        {
          "output_type": "stream",
          "name": "stdout",
          "text": [
            "<class 'PIL.Image.Image'>\n",
            "None\n",
            "L\n",
            "(50, 50)\n",
            "('L',)\n",
            "(50, 50, 1)\n",
            "****\n",
            "(50, 50, 3)\n",
            "('R', 'G', 'B')\n"
          ]
        }
      ]
    },
    {
      "cell_type": "code",
      "source": [
        "from google.colab.patches import cv2_imshow\n",
        "test_img = load_img(train_positive_images_list[0], color_mode =\"grayscale\")\n",
        "test_img_arry = img_to_array(test_img_arry)\n",
        "hflip_img_gs = cv2.flip(test_img_arry, 1)\n",
        "vflip_img_gs = cv2.flip(test_img_arry, 0)\n",
        "print(\"original****\")\n",
        "cv2_imshow(test_img_arry)\n",
        "print(\"vflip****\")\n",
        "cv2_imshow(vflip_img_gs)\n",
        "print(\"hflip****\")\n",
        "cv2_imshow(hflip_img_gs)\n",
        "\n",
        "angle = int(random.uniform(-90, 90))\n",
        "h, w = test_img_arry.shape[:2]\n",
        "M = cv2.getRotationMatrix2D((int(w/2), int(h/2)), angle, 1)\n",
        "rotated_img_gs = cv2.warpAffine(test_img_arry, M, (w, h))\n",
        "rotated_img_gs = img_to_array(rotated_img_gs)\n",
        "print(\"rot90****\")\n",
        "cv2_imshow(rotated_img_gs)\n",
        "\n",
        "angle = int(random.uniform(-45, 45))\n",
        "h, w = test_img_arry.shape[:2]\n",
        "M = cv2.getRotationMatrix2D((int(w/2), int(h/2)), angle, 1)\n",
        "rotated_img_gs = cv2.warpAffine(test_img_arry, M, (w, h))\n",
        "rotated_img_gs = img_to_array(rotated_img_gs)\n",
        "print(\"rot45****\")\n",
        "cv2_imshow(rotated_img_gs)\n",
        "\n",
        "angle = int(random.uniform(-180, 180))\n",
        "h, w = test_img_arry.shape[:2]\n",
        "M = cv2.getRotationMatrix2D((int(w/2), int(h/2)), angle, 1)\n",
        "rotated_img_gs = cv2.warpAffine(test_img_arry, M, (w, h))\n",
        "rotated_img_gs = img_to_array(rotated_img_gs)\n",
        "print(\"****\")\n",
        "cv2_imshow(rotated_img_gs)\n",
        "\n",
        "# rotate ccw\n",
        "out=cv2.transpose(test_img_arry)\n",
        "out=cv2.flip(out,flipCode=0)\n",
        "rotated_img_gs = img_to_array(out)\n",
        "print(\"90ccwrot****\")\n",
        "cv2_imshow(out)\n",
        "\n",
        "out=cv2.transpose(test_img_arry)\n",
        "out=cv2.flip(out,flipCode=1)\n",
        "rotated_img_gs = img_to_array(out)\n",
        "print(\"90rot****\")\n",
        "cv2_imshow(out)\n"
      ],
      "metadata": {
        "colab": {
          "base_uri": "https://localhost:8080/",
          "height": 556
        },
        "id": "TCVsAcTIzjXG",
        "outputId": "202cbd8c-3712-4640-9654-b90f3ec2f495"
      },
      "execution_count": 10,
      "outputs": [
        {
          "output_type": "stream",
          "name": "stdout",
          "text": [
            "original****\n"
          ]
        },
        {
          "output_type": "display_data",
          "data": {
            "text/plain": [
              "<PIL.Image.Image image mode=RGB size=50x50 at 0x7EFD546E5850>"
            ],
            "image/png": "[encoded data removed]"
          },
          "metadata": {}
        },
        {
          "output_type": "stream",
          "name": "stdout",
          "text": [
            "vflip****\n"
          ]
        },
        {
          "output_type": "display_data",
          "data": {
            "text/plain": [
              "<PIL.Image.Image image mode=L size=50x50 at 0x7EFD546E5710>"
            ],
            "image/png": "[encoded data removed]"
          },
          "metadata": {}
        },
        {
          "output_type": "stream",
          "name": "stdout",
          "text": [
            "hflip****\n"
          ]
        },
        {
          "output_type": "display_data",
          "data": {
            "text/plain": [
              "<PIL.Image.Image image mode=L size=50x50 at 0x7EFD546E5C90>"
            ],
            "image/png": "[encoded data removed]"
          },
          "metadata": {}
        },
        {
          "output_type": "stream",
          "name": "stdout",
          "text": [
            "rot90****\n"
          ]
        },
        {
          "output_type": "display_data",
          "data": {
            "text/plain": [
              "<PIL.Image.Image image mode=RGB size=50x50 at 0x7EFD546E5850>"
            ],
            "image/png": "[encoded data removed]"
          },
          "metadata": {}
        },
        {
          "output_type": "stream",
          "name": "stdout",
          "text": [
            "rot45****\n"
          ]
        },
        {
          "output_type": "display_data",
          "data": {
            "text/plain": [
              "<PIL.Image.Image image mode=RGB size=50x50 at 0x7EFD546E5D10>"
            ],
            "image/png": "[encoded data removed]"
          },
          "metadata": {}
        },
        {
          "output_type": "stream",
          "name": "stdout",
          "text": [
            "****\n"
          ]
        },
        {
          "output_type": "display_data",
          "data": {
            "text/plain": [
              "<PIL.Image.Image image mode=RGB size=50x50 at 0x7EFD546E5B10>"
            ],
            "image/png": "[encoded data removed]"
          },
          "metadata": {}
        },
        {
          "output_type": "stream",
          "name": "stdout",
          "text": [
            "90ccwrot****\n"
          ]
        },
        {
          "output_type": "display_data",
          "data": {
            "text/plain": [
              "<PIL.Image.Image image mode=L size=50x50 at 0x7EFD546E5B90>"
            ],
            "image/png": "[encoded data removed]"
          },
          "metadata": {}
        },
        {
          "output_type": "stream",
          "name": "stdout",
          "text": [
            "90rot****\n"
          ]
        },
        {
          "output_type": "display_data",
          "data": {
            "text/plain": [
              "<PIL.Image.Image image mode=L size=50x50 at 0x7EFD546E5B10>"
            ],
            "image/png": "[encoded data removed]"
          },
          "metadata": {}
        }
      ]
    },
    {
      "cell_type": "code",
      "source": [
        "resized = cv2.resize(test_img_arry, (224, 224), interpolation = cv2.INTER_AREA)\n",
        " \n",
        "print('Resized Dimensions : ',resized.shape)\n",
        " \n",
        "cv2_imshow(resized)"
      ],
      "metadata": {
        "colab": {
          "base_uri": "https://localhost:8080/",
          "height": 258
        },
        "id": "5I6GPlMm_6GR",
        "outputId": "02b09933-c6b3-4b50-cfdd-a9d85a69f83b"
      },
      "execution_count": 11,
      "outputs": [
        {
          "output_type": "stream",
          "name": "stdout",
          "text": [
            "Resized Dimensions :  (224, 224)\n"
          ]
        },
        {
          "output_type": "display_data",
          "data": {
            "text/plain": [
              "<PIL.Image.Image image mode=L size=224x224 at 0x7EFD54718710>"
            ],
            "image/png": "[encoded data removed]"
          },
          "metadata": {}
        }
      ]
    },
    {
      "cell_type": "code",
      "source": [
        "odd_file_list = []\n",
        "def find_odd_shaped_files(file_list, file_size = 50):\n",
        "    for file_name in file_list:\n",
        "        test_img = load_img(file_name, color_mode =\"grayscale\")\n",
        "        test_img_arry = img_to_array(test_img)\n",
        "        if test_img_arry.shape[0] != file_size or test_img_arry.shape[1] != file_size:\n",
        "            odd_file_list.append(file_name)"
      ],
      "metadata": {
        "id": "ksYFBFjrdbFK"
      },
      "execution_count": 12,
      "outputs": []
    },
    {
      "cell_type": "code",
      "source": [
        "find_odd_shaped_files(train_positive_images_list + train_negative_images_list + test_positive_images_list + test_negative_images_list + val_positive_images_list + val_negative_images_list)"
      ],
      "metadata": {
        "id": "BewtIomPefkn"
      },
      "execution_count": 13,
      "outputs": []
    },
    {
      "cell_type": "code",
      "source": [
        "odd_file_list"
      ],
      "metadata": {
        "colab": {
          "base_uri": "https://localhost:8080/"
        },
        "id": "zcBUXUXqe6Xv",
        "outputId": "802861c3-7e71-4c2a-c189-076970ef8277"
      },
      "execution_count": 14,
      "outputs": [
        {
          "output_type": "execute_result",
          "data": {
            "text/plain": [
              "['/content/Dataset/Train/0/9347_idx5_x2101_y801_class0.png',\n",
              " '/content/Dataset/Train/0/12954_idx5_x1651_y2951_class0.png',\n",
              " '/content/Dataset/Train/0/13106_idx5_x1_y2951_class0.png',\n",
              " '/content/Dataset/Test/0/13404_idx5_x1101_y2901_class0.png',\n",
              " '/content/Dataset/Validate/0/9320_idx5_x801_y2951_class0.png',\n",
              " '/content/Dataset/Validate/0/12931_idx5_x1901_y2151_class0.png',\n",
              " '/content/Dataset/Validate/0/13694_idx5_x1551_y2801_class0.png']"
            ]
          },
          "metadata": {},
          "execution_count": 14
        }
      ]
    },
    {
      "cell_type": "code",
      "source": [
        "train_negative_images_list[:5]"
      ],
      "metadata": {
        "colab": {
          "base_uri": "https://localhost:8080/"
        },
        "id": "oVtUbzBwSkOx",
        "outputId": "2bc1ebc4-629e-4b8d-9abe-50efe9bd1d73"
      },
      "execution_count": 20,
      "outputs": [
        {
          "output_type": "execute_result",
          "data": {
            "text/plain": [
              "['/content/Dataset/Train/0/10291_idx5_x3251_y401_class0.png',\n",
              " '/content/Dataset/Train/0/9078_idx5_x2201_y2001_class0.png',\n",
              " '/content/Dataset/Train/0/9176_idx5_x701_y2101_class0.png',\n",
              " '/content/Dataset/Train/0/8956_idx5_x1901_y1051_class0.png',\n",
              " '/content/Dataset/Train/0/15903_idx5_x551_y1501_class0.png']"
            ]
          },
          "metadata": {},
          "execution_count": 20
        }
      ]
    },
    {
      "cell_type": "code",
      "source": [
        "train_positive_images_list[0].split(\"/\")[-1], train_positive_images_list[0][:train_positive_images_list[0].rfind(\"/\") + 1]"
      ],
      "metadata": {
        "colab": {
          "base_uri": "https://localhost:8080/"
        },
        "id": "2BcU0Mx5ShaC",
        "outputId": "45c51775-5604-42db-8bd1-1b5fa0a957bd"
      },
      "execution_count": 21,
      "outputs": [
        {
          "output_type": "execute_result",
          "data": {
            "text/plain": [
              "('12817_idx5_x1801_y901_class1.png', '/content/Dataset/Train/1/')"
            ]
          },
          "metadata": {},
          "execution_count": 21
        }
      ]
    },
    {
      "cell_type": "code",
      "source": [
        "image_file_extension = '.png'\n",
        "root_dir = 'image_processing'\n",
        "\n",
        "train_file_positive_gs_list = []\n",
        "train_file_negative_gs_list = []\n",
        "\n",
        "val_file_positive_gs_list = []\n",
        "val_file_negative_gs_list = []\n",
        "\n",
        "test_file_positive_gs_list = []\n",
        "test_file_negative_gs_list = []"
      ],
      "metadata": {
        "id": "2ShZ66ddXu_H"
      },
      "execution_count": 15,
      "outputs": []
    },
    {
      "cell_type": "code",
      "source": [
        "!rm -rf image_processing"
      ],
      "metadata": {
        "id": "MvNu2SfA9Kbi"
      },
      "execution_count": 168,
      "outputs": []
    },
    {
      "cell_type": "code",
      "source": [
        "os.makedirs(f'{root_dir}', exist_ok = True)\n",
        "for dir in ['train', 'val', 'test']:\n",
        "    for sub_dir in ['positive', 'negative']:\n",
        "        os.makedirs(f'{root_dir}/{dir}/{sub_dir}', exist_ok=True)"
      ],
      "metadata": {
        "id": "NuLyO5-kX9RL"
      },
      "execution_count": 16,
      "outputs": []
    },
    {
      "cell_type": "code",
      "source": [
        "def create_gs_files(file_list, dest_dir, ind):\n",
        "    #print(file_list, dest_dir, ind)\n",
        "    for image_file in file_list:\n",
        "        #print(image_file)\n",
        "        if image_file[0] == '.' or image_file in odd_file_list:\n",
        "            continue\n",
        "        img_gs = load_img(image_file, color_mode = \"grayscale\")\n",
        "        img_array_gs = img_to_array(img_gs)\n",
        "        #print(\"a\")\n",
        "        #img_array_gs = cv2.resize(img_array_gs, (224, 224), interpolation = cv2.INTER_AREA)\n",
        "        \n",
        "        file_name = image_file.split(\"/\")[-1]\n",
        "        save_img(dest_dir + file_name.split(\".\")[0] + '_gs' + image_file_extension, img_array_gs)\n",
        "        if ind == 1:\n",
        "            train_file_positive_gs_list.append(dest_dir + file_name.split(\".\")[0] + '_gs' + image_file_extension)\n",
        "            \n",
        "            hflip_img_gs = cv2.flip(img_array_gs, 1)\n",
        "            img_array_hflip_gs = img_to_array(hflip_img_gs)\n",
        "            save_img(dest_dir + file_name.split(\".\")[0] + '_hflip_gs' + image_file_extension, img_array_hflip_gs)\n",
        "            train_file_positive_gs_list.append(dest_dir + file_name.split(\".\")[0] + '_hflip_gs' + image_file_extension)\n",
        "            #print(\"b\")\n",
        "\n",
        "            vflip_img_gs = cv2.flip(img_array_gs, 0)\n",
        "            img_array_vflip_gs = img_to_array(vflip_img_gs)\n",
        "            save_img(dest_dir + file_name.split(\".\")[0] + '_vflip_gs' + image_file_extension, img_array_vflip_gs)\n",
        "            train_file_positive_gs_list.append(dest_dir + file_name.split(\".\")[0] + '_vflip_gs' + image_file_extension)\n",
        "            #print(\"c\")\n",
        "            '''\n",
        "            angle = int(random.uniform(-90, 90))\n",
        "            h, w = img_array_gs.shape[:2]\n",
        "            M = cv2.getRotationMatrix2D((int(w/2), int(h/2)), angle, 1)\n",
        "            rotated_img_gs = cv2.warpAffine(img_array_gs, M, (w, h))\n",
        "            img_array_rotated_gs = img_to_array(rotated_img_gs)\n",
        "            save_img(dest_dir + file_name.split(\".\")[0] + '_90rotated_gs' + image_file_extension, img_array_rotated_gs)\n",
        "            train_file_positive_gs_list.append(dest_dir + file_name.split(\".\")[0] + '_90rotated_gs' + image_file_extension)\n",
        "\n",
        "            angle = int(random.uniform(-279, 270))\n",
        "            h, w = img_array_gs.shape[:2]\n",
        "            M = cv2.getRotationMatrix2D((int(w/2), int(h/2)), angle, 1)\n",
        "            rotated_img_gs = cv2.warpAffine(img_array_gs, M, (w, h))\n",
        "            img_array_rotated_gs = img_to_array(rotated_img_gs)\n",
        "            save_img(dest_dir + file_name.split(\".\")[0] + '_270rotated_gs' + image_file_extension, img_array_rotated_gs)\n",
        "            train_file_positive_gs_list.append(dest_dir + file_name.split(\".\")[0] + '_270rotated_gs' + image_file_extension)\n",
        "            \n",
        "            img_90rot_gs = cv2.rotate(img_gs, cv2.cv2.ROTATE_90_CLOCKWISE)\n",
        "            img_array_90rot_gs = img_to_array(img_90rot_gs)\n",
        "            save_img(dest_dir + file_name.split(\".\")[0] + '_90rot_gs' + image_file_extension, img_array_90rot_gs)\n",
        "            train_file_positive_gs_list.append(dest_dir + file_name.split(\".\")[0] + '_90rot_gs' + image_file_extension)\n",
        "            \n",
        "            img_180rot_gs = cv2.rotate(img_gs, cv2.cv2.ROTATE_180_CLOCKWISE)\n",
        "            img_array_180rot_gs = img_to_array(img_180rot_gs)\n",
        "            save_img(dest_dir + file_name.split(\".\")[0] + '_180rot_gs' + image_file_extension, img_array_180rot_gs)\n",
        "            train_file_positive_gs_list.append(dest_dir + file_name.split(\".\")[0] + '_180rot_gs' + image_file_extension)\n",
        "\n",
        "            img_270rot_gs = cv2.rotate(img_gs, cv2.cv2.ROTATE_270_CLOCKWISE)\n",
        "            img_array_270rot_gs = img_to_array(img_90rot_gs)\n",
        "            save_img(dest_dir + file_name.split(\".\")[0] + '_90rot_gs' + image_file_extension, img_array_270rot_gs)\n",
        "            train_file_positive_gs_list.append(dest_dir + file_name.split(\".\")[0] + '_90rot_gs' + image_file_extension)\n",
        "            '''\n",
        "            img_gs = cv2.imread(image_file, 0)\n",
        "            #img_array_gs = img_to_array(img_gs)\n",
        "            img_array_enhanced_gs = cv2.equalizeHist(img_gs)\n",
        "            img_array_enhanced_gs = img_to_array(img_array_enhanced_gs)\n",
        "            #img_array_enhanced_gs = cv2.resize(img_array_enhanced_gs, (224, 224), interpolation = cv2.INTER_AREA)\n",
        "            save_img(dest_dir + file_name.split(\".\")[0] + '_enhance_gs' + image_file_extension, img_array_enhanced_gs)\n",
        "            train_file_positive_gs_list.append(dest_dir + file_name.split(\".\")[0] + '_enhanced_gs' + image_file_extension)\n",
        "            #print(\"d\")\n",
        "\n",
        "            img_ccw90rot_gs = cv2.transpose(img_array_gs)\n",
        "            img_ccw90rot_gs = cv2.flip(img_ccw90rot_gs, flipCode = 0)\n",
        "            rotatedccw90_img_gs = img_to_array(img_ccw90rot_gs)\n",
        "            save_img(dest_dir + file_name.split(\".\")[0] + '_ccw90rot_gs' + image_file_extension, rotatedccw90_img_gs)\n",
        "            train_file_positive_gs_list.append(dest_dir + file_name.split(\".\")[0] + '_ccw90rot_gs' + image_file_extension)\n",
        "            #print(\"e\")\n",
        "\n",
        "            img_90rot_gs = cv2.transpose(img_array_gs)\n",
        "            img_90rot_gs = cv2.flip(img_90rot_gs, flipCode = 1)\n",
        "            rotated90_img_gs = img_to_array(img_90rot_gs)\n",
        "            save_img(dest_dir + file_name.split(\".\")[0] + '_90rot_gs' + image_file_extension, rotated90_img_gs)\n",
        "            train_file_positive_gs_list.append(dest_dir + file_name.split(\".\")[0] + '_90rot_gs' + image_file_extension)\n",
        "            #print(\"f\")\n",
        "\n",
        "        elif ind == 2:\n",
        "            train_file_negative_gs_list.append(dest_dir + file_name.split(\".\")[0] + '_gs' + image_file_extension)\n",
        "            hflip_img_gs = cv2.flip(img_array_gs, 1)\n",
        "            img_array_hflip_gs = img_to_array(hflip_img_gs)\n",
        "            save_img(dest_dir + file_name.split(\".\")[0] + '_hflip_gs' + image_file_extension, img_array_hflip_gs)\n",
        "            train_file_negative_gs_list.append(dest_dir + file_name.split(\".\")[0] + '_hflip_gs' + image_file_extension)\n",
        "            #print(\"b\")\n",
        "\n",
        "            vflip_img_gs = cv2.flip(img_array_gs, 0)\n",
        "            img_array_vflip_gs = img_to_array(vflip_img_gs)\n",
        "            save_img(dest_dir + file_name.split(\".\")[0] + '_vflip_gs' + image_file_extension, img_array_vflip_gs)\n",
        "            train_file_negative_gs_list.append(dest_dir + file_name.split(\".\")[0] + '_vflip_gs' + image_file_extension)\n",
        "            #print(\"c\")\n",
        "            '''\n",
        "            angle = int(random.uniform(-90, 90))\n",
        "            h, w = img_array_gs.shape[:2]\n",
        "            M = cv2.getRotationMatrix2D((int(w/2), int(h/2)), angle, 1)\n",
        "            rotated_img_gs = cv2.warpAffine(img_array_gs, M, (w, h))\n",
        "            img_array_rotated_gs = img_to_array(rotated_img_gs)\n",
        "            save_img(dest_dir + file_name.split(\".\")[0] + '_90rotated_gs' + image_file_extension, img_array_rotated_gs)\n",
        "            train_file_positive_gs_list.append(dest_dir + file_name.split(\".\")[0] + '_90rotated_gs' + image_file_extension)\n",
        "\n",
        "            angle = int(random.uniform(-279, 270))\n",
        "            h, w = img_array_gs.shape[:2]\n",
        "            M = cv2.getRotationMatrix2D((int(w/2), int(h/2)), angle, 1)\n",
        "            rotated_img_gs = cv2.warpAffine(img_array_gs, M, (w, h))\n",
        "            img_array_rotated_gs = img_to_array(rotated_img_gs)\n",
        "            save_img(dest_dir + file_name.split(\".\")[0] + '_270rotated_gs' + image_file_extension, img_array_rotated_gs)\n",
        "            train_file_positive_gs_list.append(dest_dir + file_name.split(\".\")[0] + '_270rotated_gs' + image_file_extension)\n",
        "            \n",
        "            img_90rot_gs = cv2.rotate(img_gs, cv2.cv2.ROTATE_90_CLOCKWISE)\n",
        "            img_array_90rot_gs = img_to_array(img_90rot_gs)\n",
        "            save_img(dest_dir + file_name.split(\".\")[0] + '_90rot_gs' + image_file_extension, img_array_90rot_gs)\n",
        "            train_file_positive_gs_list.append(dest_dir + file_name.split(\".\")[0] + '_90rot_gs' + image_file_extension)\n",
        "            \n",
        "            img_180rot_gs = cv2.rotate(img_gs, cv2.cv2.ROTATE_180_CLOCKWISE)\n",
        "            img_array_180rot_gs = img_to_array(img_180rot_gs)\n",
        "            save_img(dest_dir + file_name.split(\".\")[0] + '_180rot_gs' + image_file_extension, img_array_180rot_gs)\n",
        "            train_file_positive_gs_list.append(dest_dir + file_name.split(\".\")[0] + '_180rot_gs' + image_file_extension)\n",
        "\n",
        "            img_270rot_gs = cv2.rotate(img_gs, cv2.cv2.ROTATE_270_CLOCKWISE)\n",
        "            img_array_270rot_gs = img_to_array(img_90rot_gs)\n",
        "            save_img(dest_dir + file_name.split(\".\")[0] + '_90rot_gs' + image_file_extension, img_array_270rot_gs)\n",
        "            train_file_positive_gs_list.append(dest_dir + file_name.split(\".\")[0] + '_90rot_gs' + image_file_extension)\n",
        "            '''\n",
        "            img_gs = cv2.imread(image_file, 0)\n",
        "            #img_array_gs = img_to_array(img_gs)\n",
        "            img_array_enhanced_gs = cv2.equalizeHist(img_gs)\n",
        "            img_array_enhanced_gs = img_to_array(img_array_enhanced_gs)\n",
        "            #img_array_enhanced_gs = cv2.resize(img_array_enhanced_gs, (224, 224), interpolation = cv2.INTER_AREA)\n",
        "            save_img(dest_dir + file_name.split(\".\")[0] + '_enhance_gs' + image_file_extension, img_array_enhanced_gs)\n",
        "            train_file_negative_gs_list.append(dest_dir + file_name.split(\".\")[0] + '_enhanced_gs' + image_file_extension)\n",
        "            #print(\"d\")\n",
        "\n",
        "            img_ccw90rot_gs = cv2.transpose(img_array_gs)\n",
        "            img_ccw90rot_gs = cv2.flip(img_ccw90rot_gs, flipCode = 0)\n",
        "            rotatedccw90_img_gs = img_to_array(img_ccw90rot_gs)\n",
        "            save_img(dest_dir + file_name.split(\".\")[0] + '_ccw90rot_gs' + image_file_extension, rotatedccw90_img_gs)\n",
        "            train_file_negative_gs_list.append(dest_dir + file_name.split(\".\")[0] + '_ccw90rot_gs' + image_file_extension)\n",
        "            #print(\"e\")\n",
        "\n",
        "            img_90rot_gs = cv2.transpose(img_array_gs)\n",
        "            img_90rot_gs = cv2.flip(img_90rot_gs, flipCode = 1)\n",
        "            rotated90_img_gs = img_to_array(img_90rot_gs)\n",
        "            save_img(dest_dir + file_name.split(\".\")[0] + '_90rot_gs' + image_file_extension, rotated90_img_gs)\n",
        "            train_file_negative_gs_list.append(dest_dir + file_name.split(\".\")[0] + '_90rot_gs' + image_file_extension)\n",
        "            #print(\"f\")\n",
        "        elif ind == 3:\n",
        "            val_file_positive_gs_list.append(dest_dir + file_name.split(\".\")[0] + '_gs' + image_file_extension)\n",
        "        elif ind == 4:\n",
        "            val_file_negative_gs_list.append(dest_dir + file_name.split(\".\")[0] + '_gs' + image_file_extension)\n",
        "        elif ind == 5:\n",
        "            test_file_positive_gs_list.append(dest_dir + file_name.split(\".\")[0] + '_gs' + image_file_extension)\n",
        "        elif ind == 6:\n",
        "            test_file_negative_gs_list.append(dest_dir + file_name.split(\".\")[0] + '_gs' + image_file_extension)\n",
        "                "
      ],
      "metadata": {
        "id": "3-MFsdu1Shc_"
      },
      "execution_count": 17,
      "outputs": []
    },
    {
      "cell_type": "code",
      "source": [
        "len(os.listdir('/content/Dataset/Validate/0'))"
      ],
      "metadata": {
        "colab": {
          "base_uri": "https://localhost:8080/"
        },
        "id": "RRzsJjRdYI-N",
        "outputId": "3294320c-9330-40fd-a8da-0d3892af9647"
      },
      "execution_count": 25,
      "outputs": [
        {
          "output_type": "execute_result",
          "data": {
            "text/plain": [
              "101"
            ]
          },
          "metadata": {},
          "execution_count": 25
        }
      ]
    },
    {
      "cell_type": "code",
      "source": [
        "create_gs_files(train_positive_images_list, tgt_train_positive_image_path, 1)\n",
        "print(len(os.listdir('/content/Dataset/Train/1')))\n",
        "print(len(os.listdir(tgt_train_positive_image_path)))\n",
        "create_gs_files(train_negative_images_list, tgt_train_negative_image_path, 2)\n",
        "print(len(os.listdir('/content/Dataset/Train/0')))\n",
        "print(len(os.listdir(tgt_train_negative_image_path)))\n",
        "\n",
        "create_gs_files(val_positive_images_list, tgt_val_positive_image_path, 3)\n",
        "print(len(os.listdir('/content/Dataset/Validate/1')))\n",
        "print(len(os.listdir(tgt_val_positive_image_path)))\n",
        "create_gs_files(val_negative_images_list, tgt_val_negative_image_path, 4)\n",
        "print(len(os.listdir('/content/Dataset/Validate/0')))\n",
        "print(len(os.listdir(tgt_val_negative_image_path)))\n",
        "\n",
        "create_gs_files(test_positive_images_list, tgt_test_positive_image_path, 5)\n",
        "print(len(os.listdir('/content/Dataset/Test/1')))\n",
        "print(len(os.listdir(tgt_test_positive_image_path)))\n",
        "create_gs_files(test_negative_images_list, tgt_test_negative_image_path, 6)\n",
        "print(len(os.listdir('/content/Dataset/Test/0')))\n",
        "print(len(os.listdir(tgt_test_negative_image_path)))"
      ],
      "metadata": {
        "colab": {
          "base_uri": "https://localhost:8080/"
        },
        "id": "Nn5sGtRqURP5",
        "outputId": "dfd8d504-2ac7-4df4-ea69-14c11dcff5a1"
      },
      "execution_count": 18,
      "outputs": [
        {
          "output_type": "stream",
          "name": "stdout",
          "text": [
            "401\n",
            "2400\n",
            "401\n",
            "2382\n",
            "101\n",
            "100\n",
            "101\n",
            "97\n",
            "101\n",
            "100\n",
            "101\n",
            "99\n"
          ]
        }
      ]
    },
    {
      "cell_type": "code",
      "source": [
        "!ls -ltr /content/Dataset/Train/1/*.png|wc -l\n",
        "!ls -ltr /content/Dataset/Train/0/*.png|wc -l"
      ],
      "metadata": {
        "colab": {
          "base_uri": "https://localhost:8080/"
        },
        "id": "X9_PlsJlbDak",
        "outputId": "4a00e66d-b078-4dbb-b1b5-af9aef0ac232"
      },
      "execution_count": 164,
      "outputs": [
        {
          "output_type": "stream",
          "name": "stdout",
          "text": [
            "400\n",
            "400\n"
          ]
        }
      ]
    },
    {
      "cell_type": "code",
      "source": [
        "!ls -ltra /content/image_processing/train/positive/*.png|wc -l\n",
        "!ls -ltra /content/image_processing/train/negative/*.png|wc -l"
      ],
      "metadata": {
        "colab": {
          "base_uri": "https://localhost:8080/"
        },
        "id": "I58crwAWUK-E",
        "outputId": "a9af8129-7448-4d50-e172-8f19a88e6a97"
      },
      "execution_count": 165,
      "outputs": [
        {
          "output_type": "stream",
          "name": "stdout",
          "text": [
            "2400\n",
            "2382\n"
          ]
        }
      ]
    },
    {
      "cell_type": "code",
      "source": [
        "transfer_learning_model_list = ['VGG16', \n",
        "                                'VGG19', \n",
        "                                'DenseNet201', \n",
        "                                'InceptionV3', \n",
        "                                'ResNet50', \n",
        "                                'EfficientNetB7', \n",
        "                                'MobileNet', \n",
        "                                'Xception'\n",
        "                               ]\n",
        "batch_size = 32\n",
        "epochs = 10\n",
        "lr_val = 0.01\n",
        "\n",
        "image_size = 50"
      ],
      "metadata": {
        "id": "urp6UPUGcfgF"
      },
      "execution_count": 20,
      "outputs": []
    },
    {
      "cell_type": "code",
      "source": [
        "def custom_augmentation(np_tensor):\n",
        " \n",
        "    def random_contrast(np_tensor):\n",
        "        return tf.image.random_contrast(np_tensor, 0.5, 2)\n",
        " \n",
        "    def random_hue(np_tensor):\n",
        "        return tf.image.random_hue(np_tensor, 0.5)\n",
        " \n",
        "    def random_saturation(np_tensor):\n",
        "        return tf.image.random_saturation(np_tensor, 0.2, 3)\n",
        " \n",
        "    def gaussian_noise(np_tensor):\n",
        "        mean = 0\n",
        "        # variance: randomly between 1 to 25\n",
        "        var = np.random.randint(1, 26)\n",
        "        # sigma is square root of the variance value\n",
        "        noise = np.random.normal(mean,var**0.5,np_tensor.shape)\n",
        "        return np.clip(np_tensor + noise, 0, 255).astype('int')\n",
        "\n",
        "    augmnted_tensor = random_contrast(np_tensor)\n",
        "    augmnted_tensor = random_hue(augmnted_tensor)\n",
        "    augmnted_tensor = random_saturation(augmnted_tensor)\n",
        "    augmented_tensor = gaussian_noise(augmnted_tensor)\n",
        "  \n",
        "    return np.array(augmnted_tensor)\n",
        "\n",
        "# Train data generator\n",
        "train_datagen = tf.keras.preprocessing.image.ImageDataGenerator(\n",
        "    #featurewise_center            = True, \n",
        "    #featurewise_std_normalization = True,\n",
        "    rescale                       = 1.0/255\n",
        "    \n",
        "    #,horizontal_flip               = True\n",
        "    #,vertical_flip                 = True \n",
        "\n",
        ")\n",
        "\n",
        "# Validation data generator\n",
        "val_datagen = tf.keras.preprocessing.image.ImageDataGenerator(\n",
        "    #featurewise_center            = True, \n",
        "    #featurewise_std_normalization = True\n",
        "    rescale = 1.0/255\n",
        "    )\n",
        "\n",
        "# Test data generator\n",
        "test_datagen = tf.keras.preprocessing.image.ImageDataGenerator(\n",
        "    #featurewise_center            = True, \n",
        "    #featurewise_std_normalization = True\n",
        "    rescale = 1.0/255\n",
        "    )"
      ],
      "metadata": {
        "id": "hH1PhTDtgAHG"
      },
      "execution_count": 19,
      "outputs": []
    },
    {
      "cell_type": "code",
      "source": [
        "model_name = 'MobileNetV2'\n",
        "image_size = 50\n",
        "dropout_rate = .5\n",
        "batch_size = 32\n",
        "lr_val = .001\n",
        "epochs = 10"
      ],
      "metadata": {
        "id": "1LpIbfFrgSF2"
      },
      "execution_count": 21,
      "outputs": []
    },
    {
      "cell_type": "code",
      "source": [
        "from keras.layers.convolutional import SeparableConv2D\n",
        "from keras.layers.core import Activation"
      ],
      "metadata": {
        "id": "i6gnAp0KmMNG"
      },
      "execution_count": 22,
      "outputs": []
    },
    {
      "cell_type": "code",
      "source": [
        "def plot_model_accuracy_and_loss(history, model_name):\n",
        "   \"\"\"\n",
        "   This method plots model training and validation accuracies.\n",
        "   \"\"\"\n",
        "   tf.keras.backend.clear_session()\n",
        "\n",
        "   hist = history.history\n",
        "   x_arr = np.arange(len(hist['loss'])) + 1\n",
        "        \n",
        "   fig = plt.figure(figsize=(12, 4))\n",
        "   ax = fig.add_subplot(1, 2, 1)\n",
        "   ax.plot(x_arr, hist['loss'], '-o', label = 'Train loss')\n",
        "   ax.plot(x_arr, hist['val_loss'], '--<', label = 'Validation loss')\n",
        "   ax.legend(fontsize=15)\n",
        "   ax.set_xlabel('Epoch', size = 15)\n",
        "   ax.set_ylabel('Loss', size = 15)\n",
        "\n",
        "   ax = fig.add_subplot(1, 2, 2)\n",
        "   ax.plot(x_arr, hist['accuracy'], '-o', label = 'Train acc.')\n",
        "   ax.plot(x_arr, hist['val_accuracy'], '--<', label = 'Validation acc.')\n",
        "   ax.legend(fontsize = 15)\n",
        "   ax.set_xlabel('Epoch', size = 15)\n",
        "   ax.set_ylabel('Accuracy', size = 15)\n",
        "   ax.set_ylim(0,1)\n",
        "   plt.title(f\"Training and validation loss and accuracies for model : {model_name}\")\n",
        "   plt.show(block = False)"
      ],
      "metadata": {
        "id": "Kymn8vnZsPc8"
      },
      "execution_count": 23,
      "outputs": []
    },
    {
      "cell_type": "code",
      "source": [
        "random_state = 1234\n",
        "base_model = VGG16(weights='imagenet', include_top=False,\n",
        "                            input_shape=(50, 50,3))\n",
        "\n",
        "# freeze extraction layers\n",
        "base_model.trainable = False\n",
        "\n",
        "# add custom top layers\n",
        "x = base_model.output\n",
        "x = GlobalAveragePooling2D()(x)\n",
        "x = Dropout(0.2)(x)\n",
        "x = Dense(256,activation=\"relu\")(x)\n",
        "x = BatchNormalization()(x)\n",
        "x = Dropout(0.2)(x)\n",
        "x = Dense(128,activation=\"relu\")(x)\n",
        "x = Dropout(0.2)(x)\n",
        "predictions = Dense(2, activation='sigmoid')(x)\n",
        "model = Model(inputs=base_model.input, outputs=predictions)\n",
        "model.summary()\n",
        "from IPython.display import Image\n",
        "tf.keras.utils.plot_model(model, to_file='convnet.png', show_shapes=True,show_layer_names=True)\n",
        "Image(filename='convnet.png') \n",
        "callbacks = [EarlyStopping(monitor='val_loss', patience=5, verbose=1),\n",
        "                ModelCheckpoint('model.hdf5',\n",
        "                                 save_best_only=True)]\n",
        "opt = Adam(learning_rate=0.001)\n",
        "model.compile(\n",
        "  loss='categorical_crossentropy',\n",
        "  optimizer=opt,\n",
        "  metrics=[\n",
        "      tf.keras.metrics.BinaryAccuracy(name='accuracy'),\n",
        "      tf.keras.metrics.Precision(name='precision'),\n",
        "      tf.keras.metrics.Recall(name='recall'),  \n",
        "      tf.keras.metrics.AUC(name='auc')]\n",
        ")\n",
        "batch_size = 64\n",
        "epochs = 20\n",
        "image_processing_train_path = '/content/image_processing/train'\n",
        "image_processing_validation_path = '/content/image_processing/val'\n",
        "image_processing_test_path = '/content/image_processing/test'\n",
        "\n",
        "train_dataset_from_data_generator = train_datagen.flow_from_directory(image_processing_train_path,\n",
        "                                                                     target_size = (image_size, image_size),\n",
        "                                                                     class_mode = 'categorical',\n",
        "                                                                     batch_size = batch_size,\n",
        "                                                                     color_mode = 'rgb',\n",
        "                                                                     shuffle = True,\n",
        "                                                                     seed = random_state\n",
        "                                                                    )\n",
        "validation_dataset_from_data_generator = val_datagen.flow_from_directory(image_processing_validation_path,\n",
        "                                                                 target_size = (image_size, image_size),\n",
        "                                                                 class_mode = 'categorical',\n",
        "                                                                 batch_size = batch_size,\n",
        "                                                                 color_mode = 'rgb',\n",
        "                                                                 shuffle = True,\n",
        "                                                                 seed = random_state\n",
        "                                                                )\n",
        "test_dataset_from_data_generator = test_datagen.flow_from_directory(image_processing_test_path,\n",
        "                                                                   target_size = (image_size, image_size),\n",
        "                                                                   batch_size = batch_size,\n",
        "                                                                   class_mode = 'categorical',\n",
        "                                                                   color_mode = 'rgb',\n",
        "                                                                   shuffle = False,\n",
        "                                                                   seed = random_state\n",
        "                                                                  )\n",
        "\n",
        "history = model.fit(train_dataset_from_data_generator,\n",
        "                    epochs = epochs,\n",
        "                    steps_per_epoch = len(train_dataset_from_data_generator),\n",
        "                    validation_data = validation_dataset_from_data_generator,\n",
        "                    validation_steps = len(validation_dataset_from_data_generator),\n",
        "                    verbose = 1\n",
        "                   )\n",
        "# Model save\n",
        "print(\"Saving model...\")\n",
        "tf.keras.backend.clear_session()\n",
        "gc.collect() \n",
        "model.save('breast_cancer_detection_' + model_name + '.h5')\n",
        "\n",
        "# Plot train and val accuracy and loss\n",
        "print(f\"Plotting train and validation accuracy and loss for model {model_name}\")\n",
        "plot_model_accuracy_and_loss(history = history, model_name = model_name)\n",
        "\n",
        "# Model Predict, transform logits to probabilities\n",
        "step_size_test = np.ceil(test_dataset_from_data_generator.n / test_dataset_from_data_generator.batch_size)\n",
        "test_dataset_from_data_generator.reset()\n",
        "pred_logits = model.predict(test_dataset_from_data_generator, steps = step_size_test, verbose = 1)\n",
        "probas_sigmoid = tf.sigmoid(pred_logits)\n",
        "probas_sigmoid = probas_sigmoid.numpy().flatten() * 100\n",
        "predictions_binary = [1 if x > 50.0 else 0 for x in probas_sigmoid]\n",
        "print(model.evaluate(test_dataset_from_data_generator, verbose = 0))\n"
      ],
      "metadata": {
        "colab": {
          "base_uri": "https://localhost:8080/"
        },
        "id": "P5folddANwyV",
        "outputId": "80c0ce62-88d7-46eb-c49b-2f14966863aa"
      },
      "execution_count": null,
      "outputs": [
        {
          "output_type": "stream",
          "name": "stdout",
          "text": [
            "Model: \"model_1\"\n",
            "_________________________________________________________________\n",
            " Layer (type)                Output Shape              Param #   \n",
            "=================================================================\n",
            " input_2 (InputLayer)        [(None, 50, 50, 3)]       0         \n",
            "                                                                 \n",
            " block1_conv1 (Conv2D)       (None, 50, 50, 64)        1792      \n",
            "                                                                 \n",
            " block1_conv2 (Conv2D)       (None, 50, 50, 64)        36928     \n",
            "                                                                 \n",
            " block1_pool (MaxPooling2D)  (None, 25, 25, 64)        0         \n",
            "                                                                 \n",
            " block2_conv1 (Conv2D)       (None, 25, 25, 128)       73856     \n",
            "                                                                 \n",
            " block2_conv2 (Conv2D)       (None, 25, 25, 128)       147584    \n",
            "                                                                 \n",
            " block2_pool (MaxPooling2D)  (None, 12, 12, 128)       0         \n",
            "                                                                 \n",
            " block3_conv1 (Conv2D)       (None, 12, 12, 256)       295168    \n",
            "                                                                 \n",
            " block3_conv2 (Conv2D)       (None, 12, 12, 256)       590080    \n",
            "                                                                 \n",
            " block3_conv3 (Conv2D)       (None, 12, 12, 256)       590080    \n",
            "                                                                 \n",
            " block3_pool (MaxPooling2D)  (None, 6, 6, 256)         0         \n",
            "                                                                 \n",
            " block4_conv1 (Conv2D)       (None, 6, 6, 512)         1180160   \n",
            "                                                                 \n",
            " block4_conv2 (Conv2D)       (None, 6, 6, 512)         2359808   \n",
            "                                                                 \n",
            " block4_conv3 (Conv2D)       (None, 6, 6, 512)         2359808   \n",
            "                                                                 \n",
            " block4_pool (MaxPooling2D)  (None, 3, 3, 512)         0         \n",
            "                                                                 \n",
            " block5_conv1 (Conv2D)       (None, 3, 3, 512)         2359808   \n",
            "                                                                 \n",
            " block5_conv2 (Conv2D)       (None, 3, 3, 512)         2359808   \n",
            "                                                                 \n",
            " block5_conv3 (Conv2D)       (None, 3, 3, 512)         2359808   \n",
            "                                                                 \n",
            " block5_pool (MaxPooling2D)  (None, 1, 1, 512)         0         \n",
            "                                                                 \n",
            " global_average_pooling2d_1   (None, 512)              0         \n",
            " (GlobalAveragePooling2D)                                        \n",
            "                                                                 \n",
            " dropout_3 (Dropout)         (None, 512)               0         \n",
            "                                                                 \n",
            " dense_3 (Dense)             (None, 256)               131328    \n",
            "                                                                 \n",
            " batch_normalization_1 (Batc  (None, 256)              1024      \n",
            " hNormalization)                                                 \n",
            "                                                                 \n",
            " dropout_4 (Dropout)         (None, 256)               0         \n",
            "                                                                 \n",
            " dense_4 (Dense)             (None, 128)               32896     \n",
            "                                                                 \n",
            " dropout_5 (Dropout)         (None, 128)               0         \n",
            "                                                                 \n",
            " dense_5 (Dense)             (None, 2)                 258       \n",
            "                                                                 \n",
            "=================================================================\n",
            "Total params: 14,880,194\n",
            "Trainable params: 164,994\n",
            "Non-trainable params: 14,715,200\n",
            "_________________________________________________________________\n",
            "Found 4782 images belonging to 2 classes.\n",
            "Found 197 images belonging to 2 classes.\n",
            "Found 199 images belonging to 2 classes.\n",
            "Epoch 1/20\n"
          ]
        }
      ]
    },
    {
      "cell_type": "code",
      "source": [
        "base_model = VGG16(weights='imagenet', include_top=False,\n",
        "                            input_shape=(50, 50,3))\n",
        "\n",
        "# freeze extraction layers\n",
        "base_model.trainable = False\n",
        "\n",
        "# add custom top layers\n",
        "x = base_model.output\n",
        "x = GlobalAveragePooling2D()(x)\n",
        "x = Dropout(0.2)(x)\n",
        "x = Dense(512,activation=\"relu\")(x)\n",
        "x = Dense(512,activation=\"relu\")(x)\n",
        "x = Dropout(0.2)(x)\n",
        "x = Dense(256,activation=\"relu\")(x)\n",
        "predictions = Dense(2, activation='sigmoid')(x)\n",
        "model = Model(inputs=base_model.input, outputs=predictions)\n",
        "model.summary()\n",
        "from IPython.display import Image\n",
        "tf.keras.utils.plot_model(model, to_file='convnet.png', show_shapes=True,show_layer_names=True)\n",
        "Image(filename='convnet.png') \n",
        "callbacks = [EarlyStopping(monitor='val_loss', patience=5, verbose=1),\n",
        "                ModelCheckpoint('model.hdf5',\n",
        "                                 save_best_only=True)]\n",
        "opt = Adam(learning_rate=0.001)\n",
        "model.compile(\n",
        "  loss='categorical_crossentropy',\n",
        "  optimizer=opt,\n",
        "  metrics=[\n",
        "      tf.keras.metrics.BinaryAccuracy(name='accuracy'),\n",
        "      tf.keras.metrics.Precision(name='precision'),\n",
        "      tf.keras.metrics.Recall(name='recall'),  \n",
        "      tf.keras.metrics.AUC(name='auc')]\n",
        ")\n",
        "batch_size = 64\n",
        "epochs = 20\n",
        "image_processing_train_path = '/content/image_processing/train'\n",
        "image_processing_validation_path = '/content/image_processing/val'\n",
        "image_processing_test_path = '/content/image_processing/test'\n",
        "\n",
        "train_dataset_from_data_generator = train_datagen.flow_from_directory(image_processing_train_path,\n",
        "                                                                     target_size = (image_size, image_size),\n",
        "                                                                     class_mode = 'categorical',\n",
        "                                                                     batch_size = batch_size,\n",
        "                                                                     color_mode = 'rgb',\n",
        "                                                                     shuffle = True,\n",
        "                                                                     seed = random_state\n",
        "                                                                    )\n",
        "validation_dataset_from_data_generator = val_datagen.flow_from_directory(image_processing_validation_path,\n",
        "                                                                 target_size = (image_size, image_size),\n",
        "                                                                 class_mode = 'categorical',\n",
        "                                                                 batch_size = batch_size,\n",
        "                                                                 color_mode = 'rgb',\n",
        "                                                                 shuffle = True,\n",
        "                                                                 seed = random_state\n",
        "                                                                )\n",
        "test_dataset_from_data_generator = test_datagen.flow_from_directory(image_processing_test_path,\n",
        "                                                                   target_size = (image_size, image_size),\n",
        "                                                                   batch_size = batch_size,\n",
        "                                                                   class_mode = 'categorical',\n",
        "                                                                   color_mode = 'rgb',\n",
        "                                                                   shuffle = False,\n",
        "                                                                   seed = random_state\n",
        "                                                                  )\n",
        "\n",
        "history = model.fit(train_dataset_from_data_generator,\n",
        "                    epochs = epochs,\n",
        "                    steps_per_epoch = len(train_dataset_from_data_generator),\n",
        "                    validation_data = validation_dataset_from_data_generator,\n",
        "                    validation_steps = len(validation_dataset_from_data_generator),\n",
        "                    verbose = 1\n",
        "                   )\n",
        "# Model save\n",
        "print(\"Saving model...\")\n",
        "tf.keras.backend.clear_session()\n",
        "gc.collect() \n",
        "model.save('breast_cancer_detection_' + model_name + '.h5')\n",
        "\n",
        "# Plot train and val accuracy and loss\n",
        "print(f\"Plotting train and validation accuracy and loss for model {model_name}\")\n",
        "plot_model_accuracy_and_loss(history = history, model_name = model_name)\n",
        "\n",
        "# Model Predict, transform logits to probabilities\n",
        "step_size_test = np.ceil(test_dataset_from_data_generator.n / test_dataset_from_data_generator.batch_size)\n",
        "test_dataset_from_data_generator.reset()\n",
        "pred_logits = model.predict(test_dataset_from_data_generator, steps = step_size_test, verbose = 1)\n",
        "probas_sigmoid = tf.sigmoid(pred_logits)\n",
        "probas_sigmoid = probas_sigmoid.numpy().flatten() * 100\n",
        "predictions_binary = [1 if x > 50.0 else 0 for x in probas_sigmoid]\n",
        "test_loss, test_accuracy = model.evaluate(test_dataset_from_data_generator, verbose = 0)\n",
        "print(test_loss, test_accuracy)\n",
        "'''\n",
        "from sklearn.metrics import confusion_matrix\n",
        "import seaborn as sns\n",
        "\n",
        "Y_pred = model.predict(X_test)\n",
        "Y_pred_classes = np.argmax(Y_pred,axis = 1) \n",
        "Y_true = np.argmax(y_test,axis = 1) \n",
        "\n",
        "confusion_mtx = confusion_matrix(Y_true, Y_pred_classes) \n",
        "\n",
        "f,ax = plt.subplots(figsize=(8, 8))\n",
        "sns.heatmap(confusion_mtx, annot=True, linewidths=0.01,cmap=\"OrRd\",linecolor=\"black\", fmt= '.1f',ax=ax)\n",
        "plt.xlabel(\"Predicted Label\")\n",
        "plt.ylabel(\"True Label\")\n",
        "plt.title(\"Confusion Matrix\")\n",
        "plt.show()\n",
        "'''"
      ],
      "metadata": {
        "colab": {
          "base_uri": "https://localhost:8080/",
          "height": 1000
        },
        "id": "1qD7cKukl08N",
        "outputId": "b528e4db-bcb8-4cab-a20e-082fa634779a"
      },
      "execution_count": 185,
      "outputs": [
        {
          "output_type": "stream",
          "name": "stdout",
          "text": [
            "Downloading data from https://storage.googleapis.com/tensorflow/keras-applications/vgg16/vgg16_weights_tf_dim_ordering_tf_kernels_notop.h5\n",
            "58889256/58889256 [==============================] - 1s 0us/step\n",
            "Model: \"model\"\n",
            "_________________________________________________________________\n",
            " Layer (type)                Output Shape              Param #   \n",
            "=================================================================\n",
            " input_13 (InputLayer)       [(None, 50, 50, 3)]       0         \n",
            "                                                                 \n",
            " block1_conv1 (Conv2D)       (None, 50, 50, 64)        1792      \n",
            "                                                                 \n",
            " block1_conv2 (Conv2D)       (None, 50, 50, 64)        36928     \n",
            "                                                                 \n",
            " block1_pool (MaxPooling2D)  (None, 25, 25, 64)        0         \n",
            "                                                                 \n",
            " block2_conv1 (Conv2D)       (None, 25, 25, 128)       73856     \n",
            "                                                                 \n",
            " block2_conv2 (Conv2D)       (None, 25, 25, 128)       147584    \n",
            "                                                                 \n",
            " block2_pool (MaxPooling2D)  (None, 12, 12, 128)       0         \n",
            "                                                                 \n",
            " block3_conv1 (Conv2D)       (None, 12, 12, 256)       295168    \n",
            "                                                                 \n",
            " block3_conv2 (Conv2D)       (None, 12, 12, 256)       590080    \n",
            "                                                                 \n",
            " block3_conv3 (Conv2D)       (None, 12, 12, 256)       590080    \n",
            "                                                                 \n",
            " block3_pool (MaxPooling2D)  (None, 6, 6, 256)         0         \n",
            "                                                                 \n",
            " block4_conv1 (Conv2D)       (None, 6, 6, 512)         1180160   \n",
            "                                                                 \n",
            " block4_conv2 (Conv2D)       (None, 6, 6, 512)         2359808   \n",
            "                                                                 \n",
            " block4_conv3 (Conv2D)       (None, 6, 6, 512)         2359808   \n",
            "                                                                 \n",
            " block4_pool (MaxPooling2D)  (None, 3, 3, 512)         0         \n",
            "                                                                 \n",
            " block5_conv1 (Conv2D)       (None, 3, 3, 512)         2359808   \n",
            "                                                                 \n",
            " block5_conv2 (Conv2D)       (None, 3, 3, 512)         2359808   \n",
            "                                                                 \n",
            " block5_conv3 (Conv2D)       (None, 3, 3, 512)         2359808   \n",
            "                                                                 \n",
            " block5_pool (MaxPooling2D)  (None, 1, 1, 512)         0         \n",
            "                                                                 \n",
            " global_average_pooling2d_12  (None, 512)              0         \n",
            "  (GlobalAveragePooling2D)                                       \n",
            "                                                                 \n",
            " dropout_12 (Dropout)        (None, 512)               0         \n",
            "                                                                 \n",
            " dense_6 (Dense)             (None, 512)               262656    \n",
            "                                                                 \n",
            " dense_7 (Dense)             (None, 512)               262656    \n",
            "                                                                 \n",
            " dropout_13 (Dropout)        (None, 512)               0         \n",
            "                                                                 \n",
            " dense_8 (Dense)             (None, 256)               131328    \n",
            "                                                                 \n",
            " dense_9 (Dense)             (None, 2)                 514       \n",
            "                                                                 \n",
            "=================================================================\n",
            "Total params: 15,371,842\n",
            "Trainable params: 657,154\n",
            "Non-trainable params: 14,714,688\n",
            "_________________________________________________________________\n",
            "Found 4782 images belonging to 2 classes.\n",
            "Found 197 images belonging to 2 classes.\n",
            "Found 199 images belonging to 2 classes.\n",
            "Epoch 1/20\n",
            "75/75 [==============================] - 118s 2s/step - loss: 0.6202 - accuracy: 0.6613 - precision: 0.6733 - recall: 0.6269 - auc: 0.7155 - val_loss: 0.6488 - val_accuracy: 0.6599 - val_precision: 0.6537 - val_recall: 0.6802 - val_auc: 0.6976\n",
            "Epoch 2/20\n",
            "75/75 [==============================] - 115s 2s/step - loss: 0.5593 - accuracy: 0.7212 - precision: 0.7041 - recall: 0.7633 - auc: 0.7833 - val_loss: 0.6486 - val_accuracy: 0.6497 - val_precision: 0.6372 - val_recall: 0.6954 - val_auc: 0.6988\n",
            "Epoch 3/20\n",
            "75/75 [==============================] - 116s 2s/step - loss: 0.5385 - accuracy: 0.7329 - precision: 0.7198 - recall: 0.7627 - auc: 0.8017 - val_loss: 0.6249 - val_accuracy: 0.6523 - val_precision: 0.6402 - val_recall: 0.6954 - val_auc: 0.7166\n",
            "Epoch 4/20\n",
            "75/75 [==============================] - 114s 2s/step - loss: 0.5264 - accuracy: 0.7383 - precision: 0.7324 - recall: 0.7509 - auc: 0.8132 - val_loss: 0.6372 - val_accuracy: 0.6396 - val_precision: 0.6355 - val_recall: 0.6548 - val_auc: 0.7119\n",
            "Epoch 5/20\n",
            "75/75 [==============================] - 116s 2s/step - loss: 0.5094 - accuracy: 0.7532 - precision: 0.7484 - recall: 0.7631 - auc: 0.8275 - val_loss: 0.6681 - val_accuracy: 0.6371 - val_precision: 0.6274 - val_recall: 0.6751 - val_auc: 0.6903\n",
            "Epoch 6/20\n",
            "75/75 [==============================] - 116s 2s/step - loss: 0.5051 - accuracy: 0.7533 - precision: 0.7441 - recall: 0.7723 - auc: 0.8309 - val_loss: 0.6446 - val_accuracy: 0.6523 - val_precision: 0.6500 - val_recall: 0.6599 - val_auc: 0.7154\n",
            "Epoch 7/20\n",
            "75/75 [==============================] - 116s 2s/step - loss: 0.4826 - accuracy: 0.7697 - precision: 0.7659 - recall: 0.7767 - auc: 0.8473 - val_loss: 0.6301 - val_accuracy: 0.6371 - val_precision: 0.6324 - val_recall: 0.6548 - val_auc: 0.7104\n",
            "Epoch 8/20\n",
            "75/75 [==============================] - 115s 2s/step - loss: 0.4789 - accuracy: 0.7757 - precision: 0.7727 - recall: 0.7813 - auc: 0.8495 - val_loss: 0.6933 - val_accuracy: 0.6497 - val_precision: 0.6497 - val_recall: 0.6497 - val_auc: 0.7048\n",
            "Epoch 9/20\n",
            "75/75 [==============================] - 116s 2s/step - loss: 0.4677 - accuracy: 0.7772 - precision: 0.7760 - recall: 0.7794 - auc: 0.8573 - val_loss: 0.6850 - val_accuracy: 0.6701 - val_precision: 0.6667 - val_recall: 0.6802 - val_auc: 0.7285\n",
            "Epoch 10/20\n",
            "75/75 [==============================] - 116s 2s/step - loss: 0.4591 - accuracy: 0.7791 - precision: 0.7804 - recall: 0.7767 - auc: 0.8620 - val_loss: 0.6644 - val_accuracy: 0.6802 - val_precision: 0.6766 - val_recall: 0.6904 - val_auc: 0.7293\n",
            "Epoch 11/20\n",
            "75/75 [==============================] - 116s 2s/step - loss: 0.4482 - accuracy: 0.7851 - precision: 0.7847 - recall: 0.7859 - auc: 0.8693 - val_loss: 0.6321 - val_accuracy: 0.6599 - val_precision: 0.6599 - val_recall: 0.6599 - val_auc: 0.7256\n",
            "Epoch 12/20\n",
            "75/75 [==============================] - 115s 2s/step - loss: 0.4346 - accuracy: 0.7936 - precision: 0.7923 - recall: 0.7959 - auc: 0.8794 - val_loss: 0.6279 - val_accuracy: 0.7005 - val_precision: 0.6985 - val_recall: 0.7056 - val_auc: 0.7452\n",
            "Epoch 13/20\n",
            "75/75 [==============================] - 114s 2s/step - loss: 0.4339 - accuracy: 0.7910 - precision: 0.7871 - recall: 0.7978 - auc: 0.8780 - val_loss: 0.6903 - val_accuracy: 0.6345 - val_precision: 0.6332 - val_recall: 0.6396 - val_auc: 0.7144\n",
            "Epoch 14/20\n",
            "75/75 [==============================] - 113s 2s/step - loss: 0.4227 - accuracy: 0.8005 - precision: 0.7984 - recall: 0.8041 - auc: 0.8856 - val_loss: 0.6707 - val_accuracy: 0.7081 - val_precision: 0.7071 - val_recall: 0.7107 - val_auc: 0.7523\n",
            "Epoch 15/20\n",
            "75/75 [==============================] - 112s 1s/step - loss: 0.4121 - accuracy: 0.8057 - precision: 0.8026 - recall: 0.8110 - auc: 0.8913 - val_loss: 0.5875 - val_accuracy: 0.6954 - val_precision: 0.6954 - val_recall: 0.6954 - val_auc: 0.7596\n",
            "Epoch 16/20\n",
            "75/75 [==============================] - 111s 1s/step - loss: 0.3953 - accuracy: 0.8186 - precision: 0.8143 - recall: 0.8254 - auc: 0.9011 - val_loss: 0.6728 - val_accuracy: 0.6980 - val_precision: 0.6970 - val_recall: 0.7005 - val_auc: 0.7488\n",
            "Epoch 17/20\n",
            "75/75 [==============================] - 112s 1s/step - loss: 0.3910 - accuracy: 0.8193 - precision: 0.8175 - recall: 0.8223 - auc: 0.9025 - val_loss: 0.6147 - val_accuracy: 0.7081 - val_precision: 0.7050 - val_recall: 0.7157 - val_auc: 0.7612\n",
            "Epoch 18/20\n",
            "75/75 [==============================] - 112s 1s/step - loss: 0.3752 - accuracy: 0.8284 - precision: 0.8279 - recall: 0.8292 - auc: 0.9105 - val_loss: 0.6265 - val_accuracy: 0.6954 - val_precision: 0.6935 - val_recall: 0.7005 - val_auc: 0.7682\n",
            "Epoch 19/20\n",
            "75/75 [==============================] - 113s 2s/step - loss: 0.3749 - accuracy: 0.8252 - precision: 0.8225 - recall: 0.8294 - auc: 0.9108 - val_loss: 0.8026 - val_accuracy: 0.6574 - val_precision: 0.6566 - val_recall: 0.6599 - val_auc: 0.7363\n",
            "Epoch 20/20\n",
            "75/75 [==============================] - 110s 1s/step - loss: 0.3692 - accuracy: 0.8311 - precision: 0.8304 - recall: 0.8323 - auc: 0.9136 - val_loss: 0.7648 - val_accuracy: 0.6701 - val_precision: 0.6683 - val_recall: 0.6751 - val_auc: 0.7419\n",
            "Saving model...\n",
            "Plotting train and validation accuracy and loss for model MobileNetV2\n"
          ]
        },
        {
          "output_type": "display_data",
          "data": {
            "text/plain": [
              "<Figure size 864x288 with 2 Axes>"
            ],
            "image/png": "[encoded data removed]"
          },
          "metadata": {
            "needs_background": "light"
          }
        },
        {
          "output_type": "stream",
          "name": "stdout",
          "text": [
            "4/4 [==============================] - 5s 1s/step\n"
          ]
        },
        {
          "output_type": "error",
          "ename": "ValueError",
          "evalue": "ignored",
          "traceback": [
            "\u001b[0;31m---------------------------------------------------------------------------\u001b[0m",
            "\u001b[0;31mValueError\u001b[0m                                Traceback (most recent call last)",
            "\u001b[0;32m<ipython-input-185-158ec6f1abaf>\u001b[0m in \u001b[0;36m<module>\u001b[0;34m\u001b[0m\n\u001b[1;32m     87\u001b[0m \u001b[0mprobas_sigmoid\u001b[0m \u001b[0;34m=\u001b[0m \u001b[0mprobas_sigmoid\u001b[0m\u001b[0;34m.\u001b[0m\u001b[0mnumpy\u001b[0m\u001b[0;34m(\u001b[0m\u001b[0;34m)\u001b[0m\u001b[0;34m.\u001b[0m\u001b[0mflatten\u001b[0m\u001b[0;34m(\u001b[0m\u001b[0;34m)\u001b[0m \u001b[0;34m*\u001b[0m \u001b[0;36m100\u001b[0m\u001b[0;34m\u001b[0m\u001b[0;34m\u001b[0m\u001b[0m\n\u001b[1;32m     88\u001b[0m \u001b[0mpredictions_binary\u001b[0m \u001b[0;34m=\u001b[0m \u001b[0;34m[\u001b[0m\u001b[0;36m1\u001b[0m \u001b[0;32mif\u001b[0m \u001b[0mx\u001b[0m \u001b[0;34m>\u001b[0m \u001b[0;36m50.0\u001b[0m \u001b[0;32melse\u001b[0m \u001b[0;36m0\u001b[0m \u001b[0;32mfor\u001b[0m \u001b[0mx\u001b[0m \u001b[0;32min\u001b[0m \u001b[0mprobas_sigmoid\u001b[0m\u001b[0;34m]\u001b[0m\u001b[0;34m\u001b[0m\u001b[0;34m\u001b[0m\u001b[0m\n\u001b[0;32m---> 89\u001b[0;31m \u001b[0mtest_loss\u001b[0m\u001b[0;34m,\u001b[0m \u001b[0mtest_accuracy\u001b[0m \u001b[0;34m=\u001b[0m \u001b[0mmodel\u001b[0m\u001b[0;34m.\u001b[0m\u001b[0mevaluate\u001b[0m\u001b[0;34m(\u001b[0m\u001b[0mtest_dataset_from_data_generator\u001b[0m\u001b[0;34m,\u001b[0m \u001b[0mverbose\u001b[0m \u001b[0;34m=\u001b[0m \u001b[0;36m0\u001b[0m\u001b[0;34m)\u001b[0m\u001b[0;34m\u001b[0m\u001b[0;34m\u001b[0m\u001b[0m\n\u001b[0m\u001b[1;32m     90\u001b[0m \u001b[0mprint\u001b[0m\u001b[0;34m(\u001b[0m\u001b[0mtest_loss\u001b[0m\u001b[0;34m,\u001b[0m \u001b[0mtest_accuracy\u001b[0m\u001b[0;34m)\u001b[0m\u001b[0;34m\u001b[0m\u001b[0;34m\u001b[0m\u001b[0m\n\u001b[1;32m     91\u001b[0m '''\n",
            "\u001b[0;31mValueError\u001b[0m: too many values to unpack (expected 2)"
          ]
        }
      ]
    },
    {
      "cell_type": "code",
      "source": [
        "base_model = VGG16(weights='imagenet', include_top=False,\n",
        "                            input_shape=(50, 50,3))\n",
        "\n",
        "# freeze extraction layers\n",
        "base_model.trainable = False\n",
        "\n",
        "# add custom top layers\n",
        "x = base_model.output\n",
        "x = GlobalAveragePooling2D()(x)\n",
        "x = Dropout(0.2)(x)\n",
        "x = Dense(512,activation=\"relu\")(x)\n",
        "x = Dense(512,activation=\"relu\")(x)\n",
        "x = Dropout(0.2)(x)\n",
        "x = Dense(256,activation=\"relu\")(x)\n",
        "x = Dense(256,activation=\"relu\")(x)\n",
        "x = Dropout(0.2)(x)\n",
        "x = Flatten()(x)\n",
        "predictions = Dense(2, activation='sigmoid')(x)\n",
        "model = Model(inputs=base_model.input, outputs=predictions)\n",
        "model.summary()\n",
        "from IPython.display import Image\n",
        "tf.keras.utils.plot_model(model, to_file='convnet.png', show_shapes=True,show_layer_names=True)\n",
        "Image(filename='convnet.png') \n",
        "callbacks = [EarlyStopping(monitor='val_loss', patience=5, verbose=1),\n",
        "                ModelCheckpoint('model.hdf5',\n",
        "                                 save_best_only=True)]\n",
        "opt = Adam(learning_rate=0.001)\n",
        "model.compile(\n",
        "  loss='categorical_crossentropy',\n",
        "  optimizer=opt,\n",
        "  metrics=[\n",
        "      tf.keras.metrics.BinaryAccuracy(name='accuracy'),\n",
        "      tf.keras.metrics.Precision(name='precision'),\n",
        "      tf.keras.metrics.Recall(name='recall'),  \n",
        "      tf.keras.metrics.AUC(name='auc')]\n",
        ")\n",
        "batch_size = 32\n",
        "epochs = 20\n",
        "image_processing_train_path = '/content/image_processing/train'\n",
        "image_processing_validation_path = '/content/image_processing/val'\n",
        "image_processing_test_path = '/content/image_processing/test'\n",
        "\n",
        "train_dataset_from_data_generator = train_datagen.flow_from_directory(image_processing_train_path,\n",
        "                                                                     target_size = (image_size, image_size),\n",
        "                                                                     class_mode = 'categorical',\n",
        "                                                                     batch_size = batch_size,\n",
        "                                                                     color_mode = 'rgb',\n",
        "                                                                     shuffle = True,\n",
        "                                                                     seed = random_state\n",
        "                                                                    )\n",
        "validation_dataset_from_data_generator = val_datagen.flow_from_directory(image_processing_validation_path,\n",
        "                                                                 target_size = (image_size, image_size),\n",
        "                                                                 class_mode = 'categorical',\n",
        "                                                                 batch_size = batch_size,\n",
        "                                                                 color_mode = 'rgb',\n",
        "                                                                 shuffle = True,\n",
        "                                                                 seed = random_state\n",
        "                                                                )\n",
        "test_dataset_from_data_generator = test_datagen.flow_from_directory(image_processing_test_path,\n",
        "                                                                   target_size = (image_size, image_size),\n",
        "                                                                   batch_size = batch_size,\n",
        "                                                                   class_mode = 'categorical',\n",
        "                                                                   color_mode = 'rgb',\n",
        "                                                                   shuffle = False,\n",
        "                                                                   seed = random_state\n",
        "                                                                  )\n",
        "\n",
        "history = model.fit(train_dataset_from_data_generator,\n",
        "                    epochs = epochs,\n",
        "                    steps_per_epoch = len(train_dataset_from_data_generator),\n",
        "                    validation_data = validation_dataset_from_data_generator,\n",
        "                    validation_steps = len(validation_dataset_from_data_generator),\n",
        "                    verbose = 1\n",
        "                   )\n",
        "# Model save\n",
        "print(\"Saving model...\")\n",
        "tf.keras.backend.clear_session()\n",
        "gc.collect() \n",
        "model.save('breast_cancer_detection_' + model_name + '.h5')\n",
        "\n",
        "# Plot train and val accuracy and loss\n",
        "print(f\"Plotting train and validation accuracy and loss for model {model_name}\")\n",
        "plot_model_accuracy_and_loss(history = history, model_name = model_name)\n",
        "\n",
        "# Model Predict, transform logits to probabilities\n",
        "step_size_test = np.ceil(test_dataset_from_data_generator.n / test_dataset_from_data_generator.batch_size)\n",
        "test_dataset_from_data_generator.reset()\n",
        "pred_logits = model.predict(test_dataset_from_data_generator, steps = step_size_test, verbose = 1)\n",
        "probas_sigmoid = tf.sigmoid(pred_logits)\n",
        "probas_sigmoid = probas_sigmoid.numpy().flatten() * 100\n",
        "predictions_binary = [1 if x > 50.0 else 0 for x in probas_sigmoid]\n",
        "#test_loss, test_accuracy = model.evaluate(test_dataset_from_data_generator, verbose = 0)\n",
        "print(model.evaluate(test_dataset_from_data_generator, verbose = 0))\n",
        "'''\n",
        "from sklearn.metrics import confusion_matrix\n",
        "import seaborn as sns\n",
        "\n",
        "Y_pred = model.predict(X_test)\n",
        "Y_pred_classes = np.argmax(Y_pred,axis = 1) \n",
        "Y_true = np.argmax(y_test,axis = 1) \n",
        "\n",
        "confusion_mtx = confusion_matrix(Y_true, Y_pred_classes) \n",
        "\n",
        "f,ax = plt.subplots(figsize=(8, 8))\n",
        "sns.heatmap(confusion_mtx, annot=True, linewidths=0.01,cmap=\"OrRd\",linecolor=\"black\", fmt= '.1f',ax=ax)\n",
        "plt.xlabel(\"Predicted Label\")\n",
        "plt.ylabel(\"True Label\")\n",
        "plt.title(\"Confusion Matrix\")\n",
        "plt.show()\n",
        "'''"
      ],
      "metadata": {
        "colab": {
          "base_uri": "https://localhost:8080/",
          "height": 1000
        },
        "id": "i7uYt9jH0bQo",
        "outputId": "bcd7515f-8f33-4593-e22e-4860a4ed7fe5"
      },
      "execution_count": 188,
      "outputs": [
        {
          "output_type": "stream",
          "name": "stdout",
          "text": [
            "Model: \"model\"\n",
            "_________________________________________________________________\n",
            " Layer (type)                Output Shape              Param #   \n",
            "=================================================================\n",
            " input_1 (InputLayer)        [(None, 50, 50, 3)]       0         \n",
            "                                                                 \n",
            " block1_conv1 (Conv2D)       (None, 50, 50, 64)        1792      \n",
            "                                                                 \n",
            " block1_conv2 (Conv2D)       (None, 50, 50, 64)        36928     \n",
            "                                                                 \n",
            " block1_pool (MaxPooling2D)  (None, 25, 25, 64)        0         \n",
            "                                                                 \n",
            " block2_conv1 (Conv2D)       (None, 25, 25, 128)       73856     \n",
            "                                                                 \n",
            " block2_conv2 (Conv2D)       (None, 25, 25, 128)       147584    \n",
            "                                                                 \n",
            " block2_pool (MaxPooling2D)  (None, 12, 12, 128)       0         \n",
            "                                                                 \n",
            " block3_conv1 (Conv2D)       (None, 12, 12, 256)       295168    \n",
            "                                                                 \n",
            " block3_conv2 (Conv2D)       (None, 12, 12, 256)       590080    \n",
            "                                                                 \n",
            " block3_conv3 (Conv2D)       (None, 12, 12, 256)       590080    \n",
            "                                                                 \n",
            " block3_pool (MaxPooling2D)  (None, 6, 6, 256)         0         \n",
            "                                                                 \n",
            " block4_conv1 (Conv2D)       (None, 6, 6, 512)         1180160   \n",
            "                                                                 \n",
            " block4_conv2 (Conv2D)       (None, 6, 6, 512)         2359808   \n",
            "                                                                 \n",
            " block4_conv3 (Conv2D)       (None, 6, 6, 512)         2359808   \n",
            "                                                                 \n",
            " block4_pool (MaxPooling2D)  (None, 3, 3, 512)         0         \n",
            "                                                                 \n",
            " block5_conv1 (Conv2D)       (None, 3, 3, 512)         2359808   \n",
            "                                                                 \n",
            " block5_conv2 (Conv2D)       (None, 3, 3, 512)         2359808   \n",
            "                                                                 \n",
            " block5_conv3 (Conv2D)       (None, 3, 3, 512)         2359808   \n",
            "                                                                 \n",
            " block5_pool (MaxPooling2D)  (None, 1, 1, 512)         0         \n",
            "                                                                 \n",
            " global_average_pooling2d (G  (None, 512)              0         \n",
            " lobalAveragePooling2D)                                          \n",
            "                                                                 \n",
            " dropout (Dropout)           (None, 512)               0         \n",
            "                                                                 \n",
            " dense (Dense)               (None, 512)               262656    \n",
            "                                                                 \n",
            " dense_1 (Dense)             (None, 512)               262656    \n",
            "                                                                 \n",
            " dropout_1 (Dropout)         (None, 512)               0         \n",
            "                                                                 \n",
            " dense_2 (Dense)             (None, 256)               131328    \n",
            "                                                                 \n",
            " dense_3 (Dense)             (None, 256)               65792     \n",
            "                                                                 \n",
            " dropout_2 (Dropout)         (None, 256)               0         \n",
            "                                                                 \n",
            " flatten (Flatten)           (None, 256)               0         \n",
            "                                                                 \n",
            " dense_4 (Dense)             (None, 2)                 514       \n",
            "                                                                 \n",
            "=================================================================\n",
            "Total params: 15,437,634\n",
            "Trainable params: 722,946\n",
            "Non-trainable params: 14,714,688\n",
            "_________________________________________________________________\n",
            "Found 4782 images belonging to 2 classes.\n",
            "Found 197 images belonging to 2 classes.\n",
            "Found 199 images belonging to 2 classes.\n",
            "Epoch 1/20\n",
            "150/150 [==============================] - 117s 770ms/step - loss: 0.6135 - accuracy: 0.6624 - precision: 0.6249 - recall: 0.8126 - auc: 0.7242 - val_loss: 0.6641 - val_accuracy: 0.6244 - val_precision: 0.6061 - val_recall: 0.7107 - val_auc: 0.6866\n",
            "Epoch 2/20\n",
            "150/150 [==============================] - 116s 773ms/step - loss: 0.5635 - accuracy: 0.7057 - precision: 0.6749 - recall: 0.7936 - auc: 0.7775 - val_loss: 0.6480 - val_accuracy: 0.6548 - val_precision: 0.6488 - val_recall: 0.6751 - val_auc: 0.7035\n",
            "Epoch 3/20\n",
            "150/150 [==============================] - 116s 775ms/step - loss: 0.5429 - accuracy: 0.7296 - precision: 0.7102 - recall: 0.7758 - auc: 0.7980 - val_loss: 0.6610 - val_accuracy: 0.6548 - val_precision: 0.6488 - val_recall: 0.6751 - val_auc: 0.7092\n",
            "Epoch 4/20\n",
            "150/150 [==============================] - 115s 769ms/step - loss: 0.5279 - accuracy: 0.7435 - precision: 0.7273 - recall: 0.7792 - auc: 0.8142 - val_loss: 0.6795 - val_accuracy: 0.6548 - val_precision: 0.6517 - val_recall: 0.6650 - val_auc: 0.7054\n",
            "Epoch 5/20\n",
            "150/150 [==============================] - 115s 768ms/step - loss: 0.5057 - accuracy: 0.7531 - precision: 0.7394 - recall: 0.7819 - auc: 0.8295 - val_loss: 0.6813 - val_accuracy: 0.6142 - val_precision: 0.6077 - val_recall: 0.6447 - val_auc: 0.6913\n",
            "Epoch 6/20\n",
            "150/150 [==============================] - 115s 767ms/step - loss: 0.5022 - accuracy: 0.7547 - precision: 0.7441 - recall: 0.7765 - auc: 0.8334 - val_loss: 0.6225 - val_accuracy: 0.6599 - val_precision: 0.6522 - val_recall: 0.6853 - val_auc: 0.7102\n",
            "Epoch 7/20\n",
            "150/150 [==============================] - 115s 768ms/step - loss: 0.4891 - accuracy: 0.7629 - precision: 0.7548 - recall: 0.7788 - auc: 0.8427 - val_loss: 0.6588 - val_accuracy: 0.6548 - val_precision: 0.6488 - val_recall: 0.6751 - val_auc: 0.7119\n",
            "Epoch 8/20\n",
            "150/150 [==============================] - 114s 759ms/step - loss: 0.4722 - accuracy: 0.7722 - precision: 0.7631 - recall: 0.7894 - auc: 0.8548 - val_loss: 0.6827 - val_accuracy: 0.6650 - val_precision: 0.6617 - val_recall: 0.6751 - val_auc: 0.7326\n",
            "Epoch 9/20\n",
            "150/150 [==============================] - 116s 775ms/step - loss: 0.4645 - accuracy: 0.7826 - precision: 0.7771 - recall: 0.7926 - auc: 0.8598 - val_loss: 0.6668 - val_accuracy: 0.6675 - val_precision: 0.6650 - val_recall: 0.6751 - val_auc: 0.7288\n",
            "Epoch 10/20\n",
            "150/150 [==============================] - 115s 767ms/step - loss: 0.4542 - accuracy: 0.7864 - precision: 0.7765 - recall: 0.8043 - auc: 0.8655 - val_loss: 0.6798 - val_accuracy: 0.6599 - val_precision: 0.6522 - val_recall: 0.6853 - val_auc: 0.7099\n",
            "Epoch 11/20\n",
            "150/150 [==============================] - 115s 766ms/step - loss: 0.4396 - accuracy: 0.7949 - precision: 0.7874 - recall: 0.8078 - auc: 0.8764 - val_loss: 0.7075 - val_accuracy: 0.6878 - val_precision: 0.6796 - val_recall: 0.7107 - val_auc: 0.7237\n",
            "Epoch 12/20\n",
            "150/150 [==============================] - 115s 767ms/step - loss: 0.4307 - accuracy: 0.7999 - precision: 0.7919 - recall: 0.8135 - auc: 0.8810 - val_loss: 0.6917 - val_accuracy: 0.6574 - val_precision: 0.6550 - val_recall: 0.6650 - val_auc: 0.7124\n",
            "Epoch 13/20\n",
            "150/150 [==============================] - 114s 758ms/step - loss: 0.4207 - accuracy: 0.7992 - precision: 0.7923 - recall: 0.8112 - auc: 0.8865 - val_loss: 0.7584 - val_accuracy: 0.6853 - val_precision: 0.6816 - val_recall: 0.6954 - val_auc: 0.7166\n",
            "Epoch 14/20\n",
            "150/150 [==============================] - 114s 759ms/step - loss: 0.4054 - accuracy: 0.8122 - precision: 0.8063 - recall: 0.8218 - auc: 0.8950 - val_loss: 0.7334 - val_accuracy: 0.6802 - val_precision: 0.6766 - val_recall: 0.6904 - val_auc: 0.7201\n",
            "Epoch 15/20\n",
            "150/150 [==============================] - 115s 768ms/step - loss: 0.4034 - accuracy: 0.8094 - precision: 0.8035 - recall: 0.8191 - auc: 0.8959 - val_loss: 0.7492 - val_accuracy: 0.6726 - val_precision: 0.6683 - val_recall: 0.6853 - val_auc: 0.7227\n",
            "Epoch 16/20\n",
            "150/150 [==============================] - 115s 768ms/step - loss: 0.3945 - accuracy: 0.8147 - precision: 0.8107 - recall: 0.8212 - auc: 0.9013 - val_loss: 0.7512 - val_accuracy: 0.6675 - val_precision: 0.6667 - val_recall: 0.6701 - val_auc: 0.7034\n",
            "Epoch 17/20\n",
            "150/150 [==============================] - 115s 766ms/step - loss: 0.3829 - accuracy: 0.8229 - precision: 0.8191 - recall: 0.8287 - auc: 0.9067 - val_loss: 0.7212 - val_accuracy: 0.6497 - val_precision: 0.6482 - val_recall: 0.6548 - val_auc: 0.7075\n",
            "Epoch 18/20\n",
            "150/150 [==============================] - 115s 768ms/step - loss: 0.3771 - accuracy: 0.8264 - precision: 0.8228 - recall: 0.8321 - auc: 0.9094 - val_loss: 0.7710 - val_accuracy: 0.7056 - val_precision: 0.7035 - val_recall: 0.7107 - val_auc: 0.7389\n",
            "Epoch 19/20\n",
            "150/150 [==============================] - 115s 766ms/step - loss: 0.3684 - accuracy: 0.8295 - precision: 0.8253 - recall: 0.8358 - auc: 0.9141 - val_loss: 0.7069 - val_accuracy: 0.6878 - val_precision: 0.6850 - val_recall: 0.6954 - val_auc: 0.7271\n",
            "Epoch 20/20\n",
            "150/150 [==============================] - 115s 768ms/step - loss: 0.3577 - accuracy: 0.8342 - precision: 0.8307 - recall: 0.8394 - auc: 0.9193 - val_loss: 0.7323 - val_accuracy: 0.6827 - val_precision: 0.6818 - val_recall: 0.6853 - val_auc: 0.7408\n",
            "Saving model...\n",
            "Plotting train and validation accuracy and loss for model MobileNetV2\n"
          ]
        },
        {
          "output_type": "display_data",
          "data": {
            "text/plain": [
              "<Figure size 864x288 with 2 Axes>"
            ],
            "image/png": "[encoded data removed]"
          },
          "metadata": {
            "needs_background": "light"
          }
        },
        {
          "output_type": "stream",
          "name": "stdout",
          "text": [
            "7/7 [==============================] - 5s 637ms/step\n",
            "[0.6501356959342957, 0.7361809015274048, 0.7326732873916626, 0.7437185645103455, 0.8069618940353394]\n"
          ]
        },
        {
          "output_type": "execute_result",
          "data": {
            "text/plain": [
              "'\\nfrom sklearn.metrics import confusion_matrix\\nimport seaborn as sns\\n\\nY_pred = model.predict(X_test)\\nY_pred_classes = np.argmax(Y_pred,axis = 1) \\nY_true = np.argmax(y_test,axis = 1) \\n\\nconfusion_mtx = confusion_matrix(Y_true, Y_pred_classes) \\n\\nf,ax = plt.subplots(figsize=(8, 8))\\nsns.heatmap(confusion_mtx, annot=True, linewidths=0.01,cmap=\"OrRd\",linecolor=\"black\", fmt= \\'.1f\\',ax=ax)\\nplt.xlabel(\"Predicted Label\")\\nplt.ylabel(\"True Label\")\\nplt.title(\"Confusion Matrix\")\\nplt.show()\\n'"
            ],
            "application/vnd.google.colaboratory.intrinsic+json": {
              "type": "string"
            }
          },
          "metadata": {},
          "execution_count": 188
        }
      ]
    },
    {
      "cell_type": "code",
      "source": [
        "loss, accuracy, precision, recall, auc = model.evaluate(test_dataset_from_data_generator, verbose = 0)\n",
        "print(\"loss, accuracy, precision, recall,auc\")\n",
        "print(loss, accuracy, precision, recall,auc)"
      ],
      "metadata": {
        "colab": {
          "base_uri": "https://localhost:8080/"
        },
        "id": "2TqdakPxyL0G",
        "outputId": "8221f83a-ccbf-47c6-e1ee-d692b531d348"
      },
      "execution_count": 187,
      "outputs": [
        {
          "output_type": "stream",
          "name": "stdout",
          "text": [
            "loss, accuracy, precision, recall,auc\n",
            "0.7159170508384705 0.733668327331543 0.733668327331543 0.733668327331543 0.7952072024345398\n"
          ]
        }
      ]
    },
    {
      "cell_type": "code",
      "source": [
        "num_classes = 2\n",
        "model = Sequential([\n",
        "     ResNet152(input_shape=(50,50,3),weights=\"imagenet\",include_top=False), \n",
        "     GlobalAveragePooling2D(),\n",
        "     #Dropout(.5),\n",
        "     #Dense(256, activation='relu'),#, kernel_regularizer=keras.regularizers.l1(l=0.1)),\n",
        "     #Dropout(.5),\n",
        "     Dense(num_classes, activation='sigmoid',name='preds'),\n",
        "])\n",
        "model.layers[0].trainable= False\n",
        "# show model summary\n",
        "model.summary()\n",
        "\n",
        "batch_size = 64\n",
        "epochs = 20\n",
        "image_processing_train_path = '/content/image_processing/train'\n",
        "image_processing_validation_path = '/content/image_processing/val'\n",
        "image_processing_test_path = '/content/image_processing/test'\n",
        "\n",
        "train_dataset_from_data_generator = train_datagen.flow_from_directory(image_processing_train_path,\n",
        "                                                                     target_size = (image_size, image_size),\n",
        "                                                                     class_mode = 'categorical',\n",
        "                                                                     batch_size = batch_size,\n",
        "                                                                     color_mode = 'rgb',\n",
        "                                                                     shuffle = True,\n",
        "                                                                     seed = random_state\n",
        "                                                                    )\n",
        "validation_dataset_from_data_generator = val_datagen.flow_from_directory(image_processing_validation_path,\n",
        "                                                                 target_size = (image_size, image_size),\n",
        "                                                                 class_mode = 'categorical',\n",
        "                                                                 batch_size = batch_size,\n",
        "                                                                 color_mode = 'rgb',\n",
        "                                                                 shuffle = True,\n",
        "                                                                 seed = random_state\n",
        "                                                                )\n",
        "test_dataset_from_data_generator = test_datagen.flow_from_directory(image_processing_test_path,\n",
        "                                                                   target_size = (image_size, image_size),\n",
        "                                                                   batch_size = batch_size,\n",
        "                                                                   class_mode = 'categorical',\n",
        "                                                                   color_mode = 'rgb',\n",
        "                                                                   shuffle = False,\n",
        "                                                                   seed = random_state\n",
        "                                                                  )\n",
        "model.compile(optimizer='sgd',\n",
        "             loss=keras.losses.categorical_crossentropy,\n",
        "             metrics=['accuracy'])\n",
        "history = model.fit(train_dataset_from_data_generator,\n",
        "                    epochs = epochs,\n",
        "                    steps_per_epoch = len(train_dataset_from_data_generator),\n",
        "                    validation_data = validation_dataset_from_data_generator,\n",
        "                    validation_steps = len(validation_dataset_from_data_generator),\n",
        "                    verbose = 1\n",
        "                   )\n",
        "# Model save\n",
        "print(\"Saving model...\")\n",
        "tf.keras.backend.clear_session()\n",
        "gc.collect() \n",
        "model.save('breast_cancer_detection_' + model_name + '.h5')\n",
        "\n",
        "# Plot train and val accuracy and loss\n",
        "print(f\"Plotting train and validation accuracy and loss for model {model_name}\")\n",
        "plot_model_accuracy_and_loss(history = history, model_name = model_name)\n",
        "\n",
        "# Model Predict, transform logits to probabilities\n",
        "step_size_test = np.ceil(test_dataset_from_data_generator.n / test_dataset_from_data_generator.batch_size)\n",
        "test_dataset_from_data_generator.reset()\n",
        "pred_logits = model.predict(test_dataset_from_data_generator, steps = step_size_test, verbose = 1)\n",
        "probas_sigmoid = tf.sigmoid(pred_logits)\n",
        "probas_sigmoid = probas_sigmoid.numpy().flatten() * 100\n",
        "predictions_binary = [1 if x > 50.0 else 0 for x in probas_sigmoid]\n",
        "test_loss, test_accuracy = model.evaluate(test_dataset_from_data_generator, verbose = 0)\n",
        "print(test_loss, test_accuracy)"
      ],
      "metadata": {
        "colab": {
          "base_uri": "https://localhost:8080/",
          "height": 779
        },
        "id": "qT0X9T-NsjfI",
        "outputId": "c01687e3-eea0-4890-9334-015522fde207"
      },
      "execution_count": 183,
      "outputs": [
        {
          "output_type": "stream",
          "name": "stdout",
          "text": [
            "Model: \"sequential_11\"\n",
            "_________________________________________________________________\n",
            " Layer (type)                Output Shape              Param #   \n",
            "=================================================================\n",
            " resnet152 (Functional)      (None, 2, 2, 2048)        58370944  \n",
            "                                                                 \n",
            " global_average_pooling2d_11  (None, 2048)             0         \n",
            "  (GlobalAveragePooling2D)                                       \n",
            "                                                                 \n",
            " preds (Dense)               (None, 2)                 4098      \n",
            "                                                                 \n",
            "=================================================================\n",
            "Total params: 58,375,042\n",
            "Trainable params: 4,098\n",
            "Non-trainable params: 58,370,944\n",
            "_________________________________________________________________\n",
            "Found 4782 images belonging to 2 classes.\n",
            "Found 197 images belonging to 2 classes.\n",
            "Found 199 images belonging to 2 classes.\n",
            "Epoch 1/20\n",
            "75/75 [==============================] - 188s 2s/step - loss: 2.8228 - accuracy: 0.5067 - val_loss: 1.7569 - val_accuracy: 0.5076\n",
            "Epoch 2/20\n",
            "17/75 [=====>........................] - ETA: 2:06 - loss: 3.3054 - accuracy: 0.4752"
          ]
        },
        {
          "output_type": "error",
          "ename": "KeyboardInterrupt",
          "evalue": "ignored",
          "traceback": [
            "\u001b[0;31m---------------------------------------------------------------------------\u001b[0m",
            "\u001b[0;31mKeyboardInterrupt\u001b[0m                         Traceback (most recent call last)",
            "\u001b[0;32m<ipython-input-183-80265c94d236>\u001b[0m in \u001b[0;36m<module>\u001b[0;34m\u001b[0m\n\u001b[1;32m     50\u001b[0m                     \u001b[0mvalidation_data\u001b[0m \u001b[0;34m=\u001b[0m \u001b[0mvalidation_dataset_from_data_generator\u001b[0m\u001b[0;34m,\u001b[0m\u001b[0;34m\u001b[0m\u001b[0;34m\u001b[0m\u001b[0m\n\u001b[1;32m     51\u001b[0m                     \u001b[0mvalidation_steps\u001b[0m \u001b[0;34m=\u001b[0m \u001b[0mlen\u001b[0m\u001b[0;34m(\u001b[0m\u001b[0mvalidation_dataset_from_data_generator\u001b[0m\u001b[0;34m)\u001b[0m\u001b[0;34m,\u001b[0m\u001b[0;34m\u001b[0m\u001b[0;34m\u001b[0m\u001b[0m\n\u001b[0;32m---> 52\u001b[0;31m                     \u001b[0mverbose\u001b[0m \u001b[0;34m=\u001b[0m \u001b[0;36m1\u001b[0m\u001b[0;34m\u001b[0m\u001b[0;34m\u001b[0m\u001b[0m\n\u001b[0m\u001b[1;32m     53\u001b[0m                    )\n\u001b[1;32m     54\u001b[0m \u001b[0;31m# Model save\u001b[0m\u001b[0;34m\u001b[0m\u001b[0;34m\u001b[0m\u001b[0;34m\u001b[0m\u001b[0m\n",
            "\u001b[0;32m/usr/local/lib/python3.7/dist-packages/keras/utils/traceback_utils.py\u001b[0m in \u001b[0;36merror_handler\u001b[0;34m(*args, **kwargs)\u001b[0m\n\u001b[1;32m     62\u001b[0m     \u001b[0mfiltered_tb\u001b[0m \u001b[0;34m=\u001b[0m \u001b[0;32mNone\u001b[0m\u001b[0;34m\u001b[0m\u001b[0;34m\u001b[0m\u001b[0m\n\u001b[1;32m     63\u001b[0m     \u001b[0;32mtry\u001b[0m\u001b[0;34m:\u001b[0m\u001b[0;34m\u001b[0m\u001b[0;34m\u001b[0m\u001b[0m\n\u001b[0;32m---> 64\u001b[0;31m       \u001b[0;32mreturn\u001b[0m \u001b[0mfn\u001b[0m\u001b[0;34m(\u001b[0m\u001b[0;34m*\u001b[0m\u001b[0margs\u001b[0m\u001b[0;34m,\u001b[0m \u001b[0;34m**\u001b[0m\u001b[0mkwargs\u001b[0m\u001b[0;34m)\u001b[0m\u001b[0;34m\u001b[0m\u001b[0;34m\u001b[0m\u001b[0m\n\u001b[0m\u001b[1;32m     65\u001b[0m     \u001b[0;32mexcept\u001b[0m \u001b[0mException\u001b[0m \u001b[0;32mas\u001b[0m \u001b[0me\u001b[0m\u001b[0;34m:\u001b[0m  \u001b[0;31m# pylint: disable=broad-except\u001b[0m\u001b[0;34m\u001b[0m\u001b[0;34m\u001b[0m\u001b[0m\n\u001b[1;32m     66\u001b[0m       \u001b[0mfiltered_tb\u001b[0m \u001b[0;34m=\u001b[0m \u001b[0m_process_traceback_frames\u001b[0m\u001b[0;34m(\u001b[0m\u001b[0me\u001b[0m\u001b[0;34m.\u001b[0m\u001b[0m__traceback__\u001b[0m\u001b[0;34m)\u001b[0m\u001b[0;34m\u001b[0m\u001b[0;34m\u001b[0m\u001b[0m\n",
            "\u001b[0;32m/usr/local/lib/python3.7/dist-packages/keras/engine/training.py\u001b[0m in \u001b[0;36mfit\u001b[0;34m(self, x, y, batch_size, epochs, verbose, callbacks, validation_split, validation_data, shuffle, class_weight, sample_weight, initial_epoch, steps_per_epoch, validation_steps, validation_batch_size, validation_freq, max_queue_size, workers, use_multiprocessing)\u001b[0m\n\u001b[1;32m   1407\u001b[0m                 _r=1):\n\u001b[1;32m   1408\u001b[0m               \u001b[0mcallbacks\u001b[0m\u001b[0;34m.\u001b[0m\u001b[0mon_train_batch_begin\u001b[0m\u001b[0;34m(\u001b[0m\u001b[0mstep\u001b[0m\u001b[0;34m)\u001b[0m\u001b[0;34m\u001b[0m\u001b[0;34m\u001b[0m\u001b[0m\n\u001b[0;32m-> 1409\u001b[0;31m               \u001b[0mtmp_logs\u001b[0m \u001b[0;34m=\u001b[0m \u001b[0mself\u001b[0m\u001b[0;34m.\u001b[0m\u001b[0mtrain_function\u001b[0m\u001b[0;34m(\u001b[0m\u001b[0miterator\u001b[0m\u001b[0;34m)\u001b[0m\u001b[0;34m\u001b[0m\u001b[0;34m\u001b[0m\u001b[0m\n\u001b[0m\u001b[1;32m   1410\u001b[0m               \u001b[0;32mif\u001b[0m \u001b[0mdata_handler\u001b[0m\u001b[0;34m.\u001b[0m\u001b[0mshould_sync\u001b[0m\u001b[0;34m:\u001b[0m\u001b[0;34m\u001b[0m\u001b[0;34m\u001b[0m\u001b[0m\n\u001b[1;32m   1411\u001b[0m                 \u001b[0mcontext\u001b[0m\u001b[0;34m.\u001b[0m\u001b[0masync_wait\u001b[0m\u001b[0;34m(\u001b[0m\u001b[0;34m)\u001b[0m\u001b[0;34m\u001b[0m\u001b[0;34m\u001b[0m\u001b[0m\n",
            "\u001b[0;32m/usr/local/lib/python3.7/dist-packages/tensorflow/python/util/traceback_utils.py\u001b[0m in \u001b[0;36merror_handler\u001b[0;34m(*args, **kwargs)\u001b[0m\n\u001b[1;32m    148\u001b[0m     \u001b[0mfiltered_tb\u001b[0m \u001b[0;34m=\u001b[0m \u001b[0;32mNone\u001b[0m\u001b[0;34m\u001b[0m\u001b[0;34m\u001b[0m\u001b[0m\n\u001b[1;32m    149\u001b[0m     \u001b[0;32mtry\u001b[0m\u001b[0;34m:\u001b[0m\u001b[0;34m\u001b[0m\u001b[0;34m\u001b[0m\u001b[0m\n\u001b[0;32m--> 150\u001b[0;31m       \u001b[0;32mreturn\u001b[0m \u001b[0mfn\u001b[0m\u001b[0;34m(\u001b[0m\u001b[0;34m*\u001b[0m\u001b[0margs\u001b[0m\u001b[0;34m,\u001b[0m \u001b[0;34m**\u001b[0m\u001b[0mkwargs\u001b[0m\u001b[0;34m)\u001b[0m\u001b[0;34m\u001b[0m\u001b[0;34m\u001b[0m\u001b[0m\n\u001b[0m\u001b[1;32m    151\u001b[0m     \u001b[0;32mexcept\u001b[0m \u001b[0mException\u001b[0m \u001b[0;32mas\u001b[0m \u001b[0me\u001b[0m\u001b[0;34m:\u001b[0m\u001b[0;34m\u001b[0m\u001b[0;34m\u001b[0m\u001b[0m\n\u001b[1;32m    152\u001b[0m       \u001b[0mfiltered_tb\u001b[0m \u001b[0;34m=\u001b[0m \u001b[0m_process_traceback_frames\u001b[0m\u001b[0;34m(\u001b[0m\u001b[0me\u001b[0m\u001b[0;34m.\u001b[0m\u001b[0m__traceback__\u001b[0m\u001b[0;34m)\u001b[0m\u001b[0;34m\u001b[0m\u001b[0;34m\u001b[0m\u001b[0m\n",
            "\u001b[0;32m/usr/local/lib/python3.7/dist-packages/tensorflow/python/eager/def_function.py\u001b[0m in \u001b[0;36m__call__\u001b[0;34m(self, *args, **kwds)\u001b[0m\n\u001b[1;32m    913\u001b[0m \u001b[0;34m\u001b[0m\u001b[0m\n\u001b[1;32m    914\u001b[0m       \u001b[0;32mwith\u001b[0m \u001b[0mOptionalXlaContext\u001b[0m\u001b[0;34m(\u001b[0m\u001b[0mself\u001b[0m\u001b[0;34m.\u001b[0m\u001b[0m_jit_compile\u001b[0m\u001b[0;34m)\u001b[0m\u001b[0;34m:\u001b[0m\u001b[0;34m\u001b[0m\u001b[0;34m\u001b[0m\u001b[0m\n\u001b[0;32m--> 915\u001b[0;31m         \u001b[0mresult\u001b[0m \u001b[0;34m=\u001b[0m \u001b[0mself\u001b[0m\u001b[0;34m.\u001b[0m\u001b[0m_call\u001b[0m\u001b[0;34m(\u001b[0m\u001b[0;34m*\u001b[0m\u001b[0margs\u001b[0m\u001b[0;34m,\u001b[0m \u001b[0;34m**\u001b[0m\u001b[0mkwds\u001b[0m\u001b[0;34m)\u001b[0m\u001b[0;34m\u001b[0m\u001b[0;34m\u001b[0m\u001b[0m\n\u001b[0m\u001b[1;32m    916\u001b[0m \u001b[0;34m\u001b[0m\u001b[0m\n\u001b[1;32m    917\u001b[0m       \u001b[0mnew_tracing_count\u001b[0m \u001b[0;34m=\u001b[0m \u001b[0mself\u001b[0m\u001b[0;34m.\u001b[0m\u001b[0mexperimental_get_tracing_count\u001b[0m\u001b[0;34m(\u001b[0m\u001b[0;34m)\u001b[0m\u001b[0;34m\u001b[0m\u001b[0;34m\u001b[0m\u001b[0m\n",
            "\u001b[0;32m/usr/local/lib/python3.7/dist-packages/tensorflow/python/eager/def_function.py\u001b[0m in \u001b[0;36m_call\u001b[0;34m(self, *args, **kwds)\u001b[0m\n\u001b[1;32m    945\u001b[0m       \u001b[0;31m# In this case we have created variables on the first call, so we run the\u001b[0m\u001b[0;34m\u001b[0m\u001b[0;34m\u001b[0m\u001b[0;34m\u001b[0m\u001b[0m\n\u001b[1;32m    946\u001b[0m       \u001b[0;31m# defunned version which is guaranteed to never create variables.\u001b[0m\u001b[0;34m\u001b[0m\u001b[0;34m\u001b[0m\u001b[0;34m\u001b[0m\u001b[0m\n\u001b[0;32m--> 947\u001b[0;31m       \u001b[0;32mreturn\u001b[0m \u001b[0mself\u001b[0m\u001b[0;34m.\u001b[0m\u001b[0m_stateless_fn\u001b[0m\u001b[0;34m(\u001b[0m\u001b[0;34m*\u001b[0m\u001b[0margs\u001b[0m\u001b[0;34m,\u001b[0m \u001b[0;34m**\u001b[0m\u001b[0mkwds\u001b[0m\u001b[0;34m)\u001b[0m  \u001b[0;31m# pylint: disable=not-callable\u001b[0m\u001b[0;34m\u001b[0m\u001b[0;34m\u001b[0m\u001b[0m\n\u001b[0m\u001b[1;32m    948\u001b[0m     \u001b[0;32melif\u001b[0m \u001b[0mself\u001b[0m\u001b[0;34m.\u001b[0m\u001b[0m_stateful_fn\u001b[0m \u001b[0;32mis\u001b[0m \u001b[0;32mnot\u001b[0m \u001b[0;32mNone\u001b[0m\u001b[0;34m:\u001b[0m\u001b[0;34m\u001b[0m\u001b[0;34m\u001b[0m\u001b[0m\n\u001b[1;32m    949\u001b[0m       \u001b[0;31m# Release the lock early so that multiple threads can perform the call\u001b[0m\u001b[0;34m\u001b[0m\u001b[0;34m\u001b[0m\u001b[0;34m\u001b[0m\u001b[0m\n",
            "\u001b[0;32m/usr/local/lib/python3.7/dist-packages/tensorflow/python/eager/function.py\u001b[0m in \u001b[0;36m__call__\u001b[0;34m(self, *args, **kwargs)\u001b[0m\n\u001b[1;32m   2452\u001b[0m        filtered_flat_args) = self._maybe_define_function(args, kwargs)\n\u001b[1;32m   2453\u001b[0m     return graph_function._call_flat(\n\u001b[0;32m-> 2454\u001b[0;31m         filtered_flat_args, captured_inputs=graph_function.captured_inputs)  # pylint: disable=protected-access\n\u001b[0m\u001b[1;32m   2455\u001b[0m \u001b[0;34m\u001b[0m\u001b[0m\n\u001b[1;32m   2456\u001b[0m   \u001b[0;34m@\u001b[0m\u001b[0mproperty\u001b[0m\u001b[0;34m\u001b[0m\u001b[0;34m\u001b[0m\u001b[0m\n",
            "\u001b[0;32m/usr/local/lib/python3.7/dist-packages/tensorflow/python/eager/function.py\u001b[0m in \u001b[0;36m_call_flat\u001b[0;34m(self, args, captured_inputs, cancellation_manager)\u001b[0m\n\u001b[1;32m   1859\u001b[0m       \u001b[0;31m# No tape is watching; skip to running the function.\u001b[0m\u001b[0;34m\u001b[0m\u001b[0;34m\u001b[0m\u001b[0;34m\u001b[0m\u001b[0m\n\u001b[1;32m   1860\u001b[0m       return self._build_call_outputs(self._inference_function.call(\n\u001b[0;32m-> 1861\u001b[0;31m           ctx, args, cancellation_manager=cancellation_manager))\n\u001b[0m\u001b[1;32m   1862\u001b[0m     forward_backward = self._select_forward_and_backward_functions(\n\u001b[1;32m   1863\u001b[0m         \u001b[0margs\u001b[0m\u001b[0;34m,\u001b[0m\u001b[0;34m\u001b[0m\u001b[0;34m\u001b[0m\u001b[0m\n",
            "\u001b[0;32m/usr/local/lib/python3.7/dist-packages/tensorflow/python/eager/function.py\u001b[0m in \u001b[0;36mcall\u001b[0;34m(self, ctx, args, cancellation_manager)\u001b[0m\n\u001b[1;32m    500\u001b[0m               \u001b[0minputs\u001b[0m\u001b[0;34m=\u001b[0m\u001b[0margs\u001b[0m\u001b[0;34m,\u001b[0m\u001b[0;34m\u001b[0m\u001b[0;34m\u001b[0m\u001b[0m\n\u001b[1;32m    501\u001b[0m               \u001b[0mattrs\u001b[0m\u001b[0;34m=\u001b[0m\u001b[0mattrs\u001b[0m\u001b[0;34m,\u001b[0m\u001b[0;34m\u001b[0m\u001b[0;34m\u001b[0m\u001b[0m\n\u001b[0;32m--> 502\u001b[0;31m               ctx=ctx)\n\u001b[0m\u001b[1;32m    503\u001b[0m         \u001b[0;32melse\u001b[0m\u001b[0;34m:\u001b[0m\u001b[0;34m\u001b[0m\u001b[0;34m\u001b[0m\u001b[0m\n\u001b[1;32m    504\u001b[0m           outputs = execute.execute_with_cancellation(\n",
            "\u001b[0;32m/usr/local/lib/python3.7/dist-packages/tensorflow/python/eager/execute.py\u001b[0m in \u001b[0;36mquick_execute\u001b[0;34m(op_name, num_outputs, inputs, attrs, ctx, name)\u001b[0m\n\u001b[1;32m     53\u001b[0m     \u001b[0mctx\u001b[0m\u001b[0;34m.\u001b[0m\u001b[0mensure_initialized\u001b[0m\u001b[0;34m(\u001b[0m\u001b[0;34m)\u001b[0m\u001b[0;34m\u001b[0m\u001b[0;34m\u001b[0m\u001b[0m\n\u001b[1;32m     54\u001b[0m     tensors = pywrap_tfe.TFE_Py_Execute(ctx._handle, device_name, op_name,\n\u001b[0;32m---> 55\u001b[0;31m                                         inputs, attrs, num_outputs)\n\u001b[0m\u001b[1;32m     56\u001b[0m   \u001b[0;32mexcept\u001b[0m \u001b[0mcore\u001b[0m\u001b[0;34m.\u001b[0m\u001b[0m_NotOkStatusException\u001b[0m \u001b[0;32mas\u001b[0m \u001b[0me\u001b[0m\u001b[0;34m:\u001b[0m\u001b[0;34m\u001b[0m\u001b[0;34m\u001b[0m\u001b[0m\n\u001b[1;32m     57\u001b[0m     \u001b[0;32mif\u001b[0m \u001b[0mname\u001b[0m \u001b[0;32mis\u001b[0m \u001b[0;32mnot\u001b[0m \u001b[0;32mNone\u001b[0m\u001b[0;34m:\u001b[0m\u001b[0;34m\u001b[0m\u001b[0;34m\u001b[0m\u001b[0m\n",
            "\u001b[0;31mKeyboardInterrupt\u001b[0m: "
          ]
        }
      ]
    },
    {
      "cell_type": "code",
      "source": [],
      "metadata": {
        "id": "Fz9Va7LQvGcr"
      },
      "execution_count": null,
      "outputs": []
    },
    {
      "cell_type": "code",
      "source": [],
      "metadata": {
        "id": "7rUj3RnMvGgY"
      },
      "execution_count": null,
      "outputs": []
    },
    {
      "cell_type": "code",
      "source": [],
      "metadata": {
        "id": "6FXA26JGvGiS"
      },
      "execution_count": null,
      "outputs": []
    },
    {
      "cell_type": "code",
      "source": [],
      "metadata": {
        "id": "oRD0_UYBvGns"
      },
      "execution_count": null,
      "outputs": []
    },
    {
      "cell_type": "code",
      "source": [
        "model_cnn_5 = tf.keras.Sequential([\n",
        "    tf.keras.layers.Conv2D(128, (3,3), padding='same', activation=tf.nn.relu,\n",
        "                           input_shape=(50, 50, 3)),\n",
        "    tf.keras.layers.MaxPooling2D((2, 2), strides=2),\n",
        "    tf.keras.layers.Dropout(.5),\n",
        "\n",
        "    tf.keras.layers.Conv2D(64, (4,4), padding='same', activation=tf.nn.relu),\n",
        "    tf.keras.layers.MaxPooling2D((3, 3), strides=2),\n",
        "    tf.keras.layers.Dropout(.5),\n",
        "\n",
        "    tf.keras.layers.Conv2D(32, (5,5), padding='same', activation=tf.nn.relu),\n",
        "    tf.keras.layers.MaxPooling2D((4, 4), strides=2),\n",
        "    tf.keras.layers.Dropout(.5),\n",
        "\n",
        "    tf.keras.layers.Flatten(),\n",
        "\n",
        "    tf.keras.layers.Dense(128, activation=tf.nn.relu),\n",
        "    tf.keras.layers.Dropout(.5),\n",
        "\n",
        "    tf.keras.layers.Dense(1, activation= None)\n",
        "])"
      ],
      "metadata": {
        "id": "pHqBK3J4l0lr"
      },
      "execution_count": null,
      "outputs": []
    },
    {
      "cell_type": "code",
      "source": [
        "model_cnn_5.summary()"
      ],
      "metadata": {
        "colab": {
          "base_uri": "https://localhost:8080/"
        },
        "id": "ENHVynzTl_TW",
        "outputId": "72c703f7-6661-4e7e-e909-d152d8d7f5ee"
      },
      "execution_count": null,
      "outputs": [
        {
          "output_type": "stream",
          "name": "stdout",
          "text": [
            "Model: \"sequential\"\n",
            "_________________________________________________________________\n",
            " Layer (type)                Output Shape              Param #   \n",
            "=================================================================\n",
            " conv2d (Conv2D)             (None, 50, 50, 16)        448       \n",
            "                                                                 \n",
            " max_pooling2d (MaxPooling2D  (None, 25, 25, 16)       0         \n",
            " )                                                               \n",
            "                                                                 \n",
            " dropout (Dropout)           (None, 25, 25, 16)        0         \n",
            "                                                                 \n",
            " conv2d_1 (Conv2D)           (None, 25, 25, 32)        8224      \n",
            "                                                                 \n",
            " max_pooling2d_1 (MaxPooling  (None, 12, 12, 32)       0         \n",
            " 2D)                                                             \n",
            "                                                                 \n",
            " dropout_1 (Dropout)         (None, 12, 12, 32)        0         \n",
            "                                                                 \n",
            " conv2d_2 (Conv2D)           (None, 12, 12, 64)        51264     \n",
            "                                                                 \n",
            " max_pooling2d_2 (MaxPooling  (None, 6, 6, 64)         0         \n",
            " 2D)                                                             \n",
            "                                                                 \n",
            " dropout_2 (Dropout)         (None, 6, 6, 64)          0         \n",
            "                                                                 \n",
            " flatten (Flatten)           (None, 2304)              0         \n",
            "                                                                 \n",
            " dense (Dense)               (None, 128)               295040    \n",
            "                                                                 \n",
            " dropout_3 (Dropout)         (None, 128)               0         \n",
            "                                                                 \n",
            " dense_1 (Dense)             (None, 1)                 129       \n",
            "                                                                 \n",
            "=================================================================\n",
            "Total params: 355,105\n",
            "Trainable params: 355,105\n",
            "Non-trainable params: 0\n",
            "_________________________________________________________________\n"
          ]
        }
      ]
    },
    {
      "cell_type": "code",
      "source": [
        "tf.keras.utils.plot_model(model_cnn_5)"
      ],
      "metadata": {
        "colab": {
          "base_uri": "https://localhost:8080/",
          "height": 1000
        },
        "id": "T-Fi4VlvmCpb",
        "outputId": "89562121-6b7f-4356-a757-def95ae9cd94"
      },
      "execution_count": null,
      "outputs": [
        {
          "output_type": "execute_result",
          "data": {
            "image/png": "[encoded data removed]",
            "text/plain": [
              "<IPython.core.display.Image object>"
            ]
          },
          "metadata": {},
          "execution_count": 43
        }
      ]
    },
    {
      "cell_type": "code",
      "source": [
        "'''\n",
        "pretrained_model = build_pretained_model(model_name = model_name)\n",
        "pretrained_model.trainable = False\n",
        "        \n",
        "# Plug the pre-trained model to custom model\n",
        "print(f\"Plugging in the pretainined model for {model_name} to custom model\")\n",
        "try:\n",
        "    del model\n",
        "except:\n",
        "    None\n",
        "input_shape = (image_size, image_size, 3)\n",
        "inputs = tf.keras.Input(input_shape)\n",
        "m2 = tf.keras.layers.GlobalAveragePooling2D()(pretrained_model(inputs))\n",
        "m2 = tf.keras.layers.Dropout(dropout_rate)(m2)\n",
        "m2 = tf.keras.layers.Dense(512, activation = 'relu')(m2)\n",
        "m2 = tf.keras.layers.BatchNormalization()(m2)\n",
        "m2 = tf.keras.layers.Dropout(dropout_rate)(m2)\n",
        "m2 = tf.keras.layers.Dense(256, activation = 'relu')(m2)\n",
        "m2 = tf.keras.layers.BatchNormalization()(m2)\n",
        "m2 = tf.keras.layers.Dropout(dropout_rate)(m2)\n",
        "m2 = tf.keras.layers.Flatten()(m2)\n",
        "m2 = tf.keras.layers.Dense(2, activation = 'softmax')(m2)\n",
        "model = tf.keras.Model(inputs = inputs, outputs = m2)\n",
        "tf.keras.utils.plot_model(model)\n",
        "'''"
      ],
      "metadata": {
        "colab": {
          "base_uri": "https://localhost:8080/",
          "height": 144
        },
        "id": "Y2LlqfPtgG2f",
        "outputId": "c81df241-abbd-4e3f-c829-39eba5a47698"
      },
      "execution_count": null,
      "outputs": [
        {
          "output_type": "execute_result",
          "data": {
            "text/plain": [
              "'\\npretrained_model = build_pretained_model(model_name = model_name)\\npretrained_model.trainable = False\\n        \\n# Plug the pre-trained model to custom model\\nprint(f\"Plugging in the pretainined model for {model_name} to custom model\")\\ntry:\\n    del model\\nexcept:\\n    None\\ninput_shape = (image_size, image_size, 3)\\ninputs = tf.keras.Input(input_shape)\\nm2 = tf.keras.layers.GlobalAveragePooling2D()(pretrained_model(inputs))\\nm2 = tf.keras.layers.Dropout(dropout_rate)(m2)\\nm2 = tf.keras.layers.Dense(512, activation = \\'relu\\')(m2)\\nm2 = tf.keras.layers.BatchNormalization()(m2)\\nm2 = tf.keras.layers.Dropout(dropout_rate)(m2)\\nm2 = tf.keras.layers.Dense(256, activation = \\'relu\\')(m2)\\nm2 = tf.keras.layers.BatchNormalization()(m2)\\nm2 = tf.keras.layers.Dropout(dropout_rate)(m2)\\nm2 = tf.keras.layers.Flatten()(m2)\\nm2 = tf.keras.layers.Dense(2, activation = \\'softmax\\')(m2)\\nmodel = tf.keras.Model(inputs = inputs, outputs = m2)\\ntf.keras.utils.plot_model(model)\\n'"
            ],
            "application/vnd.google.colaboratory.intrinsic+json": {
              "type": "string"
            }
          },
          "metadata": {},
          "execution_count": 44
        }
      ]
    },
    {
      "cell_type": "code",
      "source": [
        "image_processing_train_path = '/content/image_processing/train'\n",
        "image_processing_validation_path = '/content/image_processing/val'\n",
        "image_processing_test_path = '/content/image_processing/test'"
      ],
      "metadata": {
        "id": "WMziw8LBhgBQ"
      },
      "execution_count": null,
      "outputs": []
    },
    {
      "cell_type": "code",
      "source": [
        "def plot_model_accuracy_and_loss(history, model_name):\n",
        "   \"\"\"\n",
        "   This method plots model training and validation accuracies.\n",
        "   \"\"\"\n",
        "   tf.keras.backend.clear_session()\n",
        "\n",
        "   hist = history.history\n",
        "   x_arr = np.arange(len(hist['loss'])) + 1\n",
        "        \n",
        "   fig = plt.figure(figsize=(12, 4))\n",
        "   ax = fig.add_subplot(1, 2, 1)\n",
        "   ax.plot(x_arr, hist['loss'], '-o', label = 'Train loss')\n",
        "   ax.plot(x_arr, hist['val_loss'], '--<', label = 'Validation loss')\n",
        "   ax.legend(fontsize=15)\n",
        "   ax.set_xlabel('Epoch', size = 15)\n",
        "   ax.set_ylabel('Loss', size = 15)\n",
        "\n",
        "   ax = fig.add_subplot(1, 2, 2)\n",
        "   ax.plot(x_arr, hist['accuracy'], '-o', label = 'Train acc.')\n",
        "   ax.plot(x_arr, hist['val_accuracy'], '--<', label = 'Validation acc.')\n",
        "   ax.legend(fontsize = 15)\n",
        "   ax.set_xlabel('Epoch', size = 15)\n",
        "   ax.set_ylabel('Accuracy', size = 15)\n",
        "   ax.set_ylim(0,1)\n",
        "   plt.title(f\"Training and validation loss and accuracies for model : {model_name}\")\n",
        "   plt.show(block = False)"
      ],
      "metadata": {
        "id": "Trd2ptW-jJmk"
      },
      "execution_count": null,
      "outputs": []
    },
    {
      "cell_type": "code",
      "source": [
        "random_state = 1234"
      ],
      "metadata": {
        "id": "ikoj2vbvpD-u"
      },
      "execution_count": null,
      "outputs": []
    },
    {
      "cell_type": "code",
      "source": [
        "batch_size = 16\n",
        "epoch = 20\n",
        "train_dataset_from_data_generator = train_datagen.flow_from_directory(image_processing_train_path,\n",
        "                                                                     target_size = (image_size, image_size),\n",
        "                                                                     class_mode = 'binary',\n",
        "                                                                     batch_size = batch_size,\n",
        "                                                                     color_mode = 'rgb',\n",
        "                                                                     shuffle = True,\n",
        "                                                                     seed = random_state\n",
        "                                                                    )\n",
        "validation_dataset_from_data_generator = val_datagen.flow_from_directory(image_processing_validation_path,\n",
        "                                                                 target_size = (image_size, image_size),\n",
        "                                                                 class_mode = 'binary',\n",
        "                                                                 batch_size = batch_size,\n",
        "                                                                 color_mode = 'rgb',\n",
        "                                                                 shuffle = True,\n",
        "                                                                 seed = random_state\n",
        "                                                                )\n",
        "test_dataset_from_data_generator = test_datagen.flow_from_directory(image_processing_test_path,\n",
        "                                                                   target_size = (image_size, image_size),\n",
        "                                                                   batch_size = batch_size,\n",
        "                                                                   class_mode = 'binary',\n",
        "                                                                   color_mode = 'rgb',\n",
        "                                                                   shuffle = False,\n",
        "                                                                   seed = random_state\n",
        "                                                                  )\n",
        "        \n",
        "tf.random.set_seed(random_state)\n",
        "np.random.seed(random_state)\n",
        "# Model compile\n",
        "print(\"Compiling the model...\")\n",
        "model_cnn_5.compile(optimizer = tf.keras.optimizers.Adam(learning_rate = lr_val),\n",
        "              loss = tf.keras.losses.BinaryCrossentropy(from_logits = True),\n",
        "              metrics = ['accuracy']) \n",
        "\n",
        "# Model fit\n",
        "print(\"Model fit...\")\n",
        "history = model_cnn_5.fit(train_dataset_from_data_generator,\n",
        "                    epochs = epochs,\n",
        "                    steps_per_epoch = len(train_dataset_from_data_generator),\n",
        "                    validation_data = validation_dataset_from_data_generator,\n",
        "                    validation_steps = len(validation_dataset_from_data_generator),\n",
        "                    verbose = 1\n",
        "                   )\n",
        "\n",
        "# Model save\n",
        "print(\"Saving model...\")\n",
        "tf.keras.backend.clear_session()\n",
        "gc.collect()\n",
        "model_cnn_5.save('breast_cancer_detection_' + model_name + '.h5')\n",
        "\n",
        "# Plot train and val accuracy and loss\n",
        "print(f\"Plotting train and validation accuracy and loss for model {model_name}\")\n",
        "plot_model_accuracy_and_loss(history = history, model_name = model_name)\n",
        "\n",
        "# Model Predict, transform logits to probabilities\n",
        "step_size_test = np.ceil(test_dataset_from_data_generator.n / test_dataset_from_data_generator.batch_size)\n",
        "test_dataset_from_data_generator.reset()\n",
        "pred_logits = model_cnn_5.predict(test_dataset_from_data_generator, steps = step_size_test, verbose = 1)\n",
        "probas_sigmoid = tf.sigmoid(pred_logits)\n",
        "probas_sigmoid = probas_sigmoid.numpy().flatten() * 100\n",
        "predictions_binary = [1 if x > 50.0 else 0 for x in probas_sigmoid]\n",
        "test_loss, test_accuracy = model_cnn_5.evaluate(test_dataset_from_data_generator, verbose = 0)\n",
        "print(test_loss, test_accuracy)"
      ],
      "metadata": {
        "colab": {
          "base_uri": "https://localhost:8080/",
          "height": 822
        },
        "id": "PIbByCKtgGH-",
        "outputId": "f6d60645-b4c8-4050-df89-a27b5c026a85"
      },
      "execution_count": null,
      "outputs": [
        {
          "output_type": "stream",
          "name": "stdout",
          "text": [
            "Found 797 images belonging to 2 classes.\n",
            "Found 197 images belonging to 2 classes.\n",
            "Found 199 images belonging to 2 classes.\n",
            "Compiling the model...\n",
            "Model fit...\n",
            "Epoch 1/10\n",
            "50/50 [==============================] - 20s 380ms/step - loss: 0.5899 - accuracy: 0.6851 - val_loss: 0.6114 - val_accuracy: 0.7310\n",
            "Epoch 2/10\n",
            "50/50 [==============================] - 19s 374ms/step - loss: 0.5638 - accuracy: 0.7139 - val_loss: 0.5991 - val_accuracy: 0.7208\n",
            "Epoch 3/10\n",
            "50/50 [==============================] - 19s 376ms/step - loss: 0.5614 - accuracy: 0.7089 - val_loss: 0.6052 - val_accuracy: 0.7259\n",
            "Epoch 4/10\n",
            "50/50 [==============================] - 19s 373ms/step - loss: 0.5667 - accuracy: 0.7139 - val_loss: 0.6063 - val_accuracy: 0.7208\n",
            "Epoch 5/10\n",
            "50/50 [==============================] - 18s 370ms/step - loss: 0.5829 - accuracy: 0.7089 - val_loss: 0.6284 - val_accuracy: 0.7005\n",
            "Epoch 6/10\n",
            "50/50 [==============================] - 19s 372ms/step - loss: 0.5571 - accuracy: 0.7001 - val_loss: 0.5947 - val_accuracy: 0.7259\n",
            "Epoch 7/10\n",
            "50/50 [==============================] - 19s 373ms/step - loss: 0.5627 - accuracy: 0.6939 - val_loss: 0.6332 - val_accuracy: 0.7360\n",
            "Epoch 8/10\n",
            "50/50 [==============================] - 19s 371ms/step - loss: 0.5508 - accuracy: 0.6964 - val_loss: 0.6609 - val_accuracy: 0.6904\n",
            "Epoch 9/10\n",
            "50/50 [==============================] - 18s 370ms/step - loss: 0.5682 - accuracy: 0.7164 - val_loss: 0.6201 - val_accuracy: 0.7157\n",
            "Epoch 10/10\n",
            "50/50 [==============================] - 19s 373ms/step - loss: 0.5404 - accuracy: 0.7139 - val_loss: 0.6059 - val_accuracy: 0.7208\n",
            "Saving model...\n",
            "Plotting train and validation accuracy and loss for model ResNet50\n"
          ]
        },
        {
          "output_type": "display_data",
          "data": {
            "text/plain": [
              "<Figure size 864x288 with 2 Axes>"
            ],
            "image/png": "[encoded data removed]"
          },
          "metadata": {
            "needs_background": "light"
          }
        },
        {
          "output_type": "stream",
          "name": "stdout",
          "text": [
            "13/13 [==============================] - 1s 72ms/step\n",
            "0.6039144396781921 0.7437185645103455\n"
          ]
        }
      ]
    },
    {
      "cell_type": "code",
      "source": [],
      "metadata": {
        "id": "3ZfEp2W-gGA7"
      },
      "execution_count": null,
      "outputs": []
    },
    {
      "cell_type": "code",
      "source": [
        "sample_size = 80000\n",
        "sample_size = 40000\n",
        "#batch_size = 256\n",
        "batch_size = 128\n",
        "epochs = 30\n",
        "lr_val = 0.01\n",
        "\n",
        "image_size = 50\n",
        "#number_of_splits = 8\n",
        "number_of_splits = 8\n",
        "run_mode = ['interim_test', 'final_test']\n",
        "\n",
        "# Transfer learning model list\n",
        "transfer_learning_model_list = ['VGG16', \n",
        "                                'VGG19', \n",
        "                                'DenseNet201', \n",
        "                                'InceptionV3', \n",
        "                                'ResNet50', \n",
        "                                'EfficientNetB7', \n",
        "                                'MobileNet', \n",
        "                                'Xception'\n",
        "                               ]\n",
        "learning_rate_list = [.01, .001, .0001, .00001]\n",
        "optimizer_list = ['sgd', 'adam']\n",
        "dropout_list = [.2, .4, .6]\n",
        "kernel_size_list = [(3,3), (4,4), (5,5)]\n",
        "dense_layer_node_list = [512, 256, 128]\n",
        "fully_conneted_layer_list = [1, 2, 3]\n",
        "epoch_list = [5, 10, 15, 20]"
      ],
      "metadata": {
        "id": "kSQVGMh1cPTb"
      },
      "execution_count": null,
      "outputs": []
    },
    {
      "cell_type": "code",
      "source": [
        "\n",
        "\n",
        "# Stores each model and kfold specific train and validation accuracies \n",
        "# and losses for each epoch\n",
        "temp_df_model_kpi = pd.DataFrame()\n",
        "# Consolidates the above results across all model and kfolds.\n",
        "consolidated_df_model_kpi = pd.DataFrame()\n",
        "\n",
        "# Holds model and kfold specific actual, prediction %, perdiction binary value\n",
        "# along with test loss and accuracy.\n",
        "temp_df_acttual_vs_pred_bin_pred_pct = pd.DataFrame()\n",
        "# Consolidates the above result for each model and kfold.\n",
        "df_actual_vs_pred_bin_pred_pct = pd.DataFrame()\n",
        "\n",
        "df_kfold_ensemble_stats = pd.DataFrame()\n",
        "\n",
        "for model_name in transfer_learning_model_list:\n",
        "\n",
        "    temp_df_model_kpi = pd.DataFrame()\n",
        "    temp_df_acttual_vs_pred_bin_pred_pct = pd.DataFrame()\n",
        "    for kfold, (train_indices, validation_indices) in enumerate(StratifiedKFold(n_splits =  number_of_splits, \n",
        "                                                                                shuffle = True, \n",
        "                                                                                random_state = random_state\n",
        "                                                                               ).split(data_proc.df_train_original['label'].values.tolist(), \n",
        "                                                                                       data_proc.df_train_original['label'].values.tolist()\n",
        "                                                                                      )):\n",
        "        print(f\"Model : {model_name}, k-fold : {kfold + 1}, length of train data : {len(train_indices)}, length of validation data : {len(validation_indices)}\")\n",
        "        data_proc.split_data_based_on_indices(train_indices = train_indices, validation_indices = validation_indices)\n",
        "\n",
        "        train_dataset_from_data_generator = train_datagen.flow_from_directory(image_processing_train_path,\n",
        "                                                                     target_size = (image_size, image_size),\n",
        "                                                                     class_mode = 'binary',\n",
        "                                                                     batch_size = batch_size,\n",
        "                                                                     color_mode = 'rgb',\n",
        "                                                                     shuffle = True,\n",
        "                                                                     seed = random_state\n",
        "                                                                    )\n",
        "        validation_dataset_from_data_generator = val_datagen.flow_from_directory(image_processing_validation_path,\n",
        "                                                                 target_size = (image_size, image_size),\n",
        "                                                                 class_mode = 'binary',\n",
        "                                                                 batch_size = batch_size,\n",
        "                                                                 color_mode = 'rgb',\n",
        "                                                                 shuffle = True,\n",
        "                                                                 seed = random_state\n",
        "                                                                )\n",
        "        test_dataset_from_data_generator = test_datagen.flow_from_directory(image_processing_test_path,\n",
        "                                                                   target_size = (image_size, image_size),\n",
        "                                                                   batch_size = batch_size,\n",
        "                                                                   class_mode = 'binary',\n",
        "                                                                   color_mode = 'rgb',\n",
        "                                                                   shuffle = False,\n",
        "                                                                   seed = random_state\n",
        "                                                                  )\n",
        "        \n",
        "        tf.random.set_seed(random_state)\n",
        "        np.random.seed(random_state)\n",
        "\n",
        "        # Pre-trained model build\n",
        "        print(f\"Building pretainined model for {model_name}\")\n",
        "        try:\n",
        "            del pretrained_model\n",
        "        except:\n",
        "            None\n",
        "        pretrained_model = model_proc.build_pretained_model(model_name = model_name)\n",
        "        pretrained_model.trainable = False\n",
        "        model_proc.model_summary_and_display_structure(pretrained_model)\n",
        "        \n",
        "        # Plug the pre-trained model to custom model\n",
        "        print(f\"Plugging in the pretainined model for {model_name} to custom model\")\n",
        "        try:\n",
        "            del model\n",
        "        except:\n",
        "            None\n",
        "        input_shape = (image_size, image_size, 3)\n",
        "        inputs = tf.keras.Input(input_shape)\n",
        "        m2 = tf.keras.layers.GlobalAveragePooling2D()(pretrained_model(inputs))\n",
        "        m2 = tf.keras.layers.Dropout(dropout_rate)(m2)\n",
        "        m2 = tf.keras.layers.Dense(512, activation = 'relu')(m2)\n",
        "        m2 = tf.keras.layers.BatchNormalization()(m2)\n",
        "        m2 = tf.keras.layers.Dropout(dropout_rate)(m2)\n",
        "        m2 = tf.keras.layers.Dense(256, activation = 'relu')(m2)\n",
        "        m2 = tf.keras.layers.BatchNormalization()(m2)\n",
        "        m2 = tf.keras.layers.Dropout(dropout_rate)(m2)\n",
        "        m2 = tf.keras.layers.Flatten()(m2)\n",
        "        m2 = tf.keras.layers.Dense(1, activation = None)(m2)\n",
        "        model = tf.keras.Model(inputs = inputs, outputs = m2)\n",
        "        # Model compile\n",
        "        print(\"Compiling the model...\")\n",
        "        model.compile(optimizer = tf.keras.optimizers.Adam(learning_rate = lr_val),\n",
        "                      loss = tf.keras.losses.BinaryCrossentropy(from_logits = True),\n",
        "                      metrics = ['accuracy']) \n",
        "\n",
        "        # Model fit\n",
        "        print(\"Model fit...\")\n",
        "        #es = EarlyStopping(monitor = 'val_loss', mode = 'min', verbose = 1, min_delta = 1)\n",
        "        history = model.fit(train_dataset_from_data_generator,\n",
        "                            epochs = epochs,\n",
        "                            steps_per_epoch = len(train_dataset_from_data_generator),\n",
        "                            validation_data = validation_dataset_from_data_generator,\n",
        "                            validation_steps = len(validation_dataset_from_data_generator),\n",
        "                            verbose = 1\n",
        "                           )\n",
        "\n",
        "        # Model save\n",
        "        print(\"Saving model...\")\n",
        "        tf.keras.backend.clear_session()\n",
        "        gc.collect()\n",
        "        model.save('tumor_detection_' + model_name + '_k' + str(kfold + 1) + '.h5')\n",
        "        #tf.saved_model.save(model, os.getcwd())\n",
        "        saved_model_names_list.append('tumor_detection_' + model_name + '_k' + str(kfold + 1))\n",
        "        \n",
        "        # Append the final train and validation accuracy and loss.\n",
        "        print(f\"Storing train and validation accuracy and loss for model {model_name}, fold {kfold + 1}\")\n",
        "        temp_df_model_kpi = pd.DataFrame(history.history)\n",
        "        temp_df_model_kpi['model'] = model_name\n",
        "        temp_df_model_kpi['kfold'] = kfold + 1\n",
        "        temp_df_model_kpi['epoch'] = range(1, epochs + 1)\n",
        "        temp_df_model_kpi = temp_df_model_kpi[['model', \n",
        "                                               'kfold', \n",
        "                                               'epoch', \n",
        "                                               'accuracy', \n",
        "                                               'loss', \n",
        "                                               'val_accuracy', \n",
        "                                               'val_loss'\n",
        "                                               ]]\n",
        "        # Consolidating training and validation accuracies in single data frame \n",
        "        # along with model name, epoch, kfold number.\n",
        "        consolidated_df_model_kpi = pd.concat([temp_df_model_kpi, consolidated_df_model_kpi], axis = 0)\n",
        "        \n",
        "        # Plot train and val accuracy and loss\n",
        "        print(f\"Plotting train and validation accuracy and loss for model {model_name}, fold {kfold + 1}\")\n",
        "        model_proc.plot_model_accuracy_and_loss(history = history, model_name = model_name)\n",
        "\n",
        "        # Model Predict, transform logits to probabilities\n",
        "        step_size_test = np.ceil(test_dataset_from_data_generator.n / test_dataset_from_data_generator.batch_size)\n",
        "        test_dataset_from_data_generator.reset()\n",
        "        pred_logits = model.predict(test_dataset_from_data_generator, steps = step_size_test, verbose = 1)\n",
        "        probas_sigmoid = tf.sigmoid(pred_logits)\n",
        "        probas_sigmoid = probas_sigmoid.numpy().flatten() * 100\n",
        "        predictions_binary = [1 if x > 50.0 else 0 for x in probas_sigmoid]\n",
        "        test_loss, test_accuracy = model.evaluate(test_dataset_from_data_generator, verbose = 0)\n",
        "\n",
        "        temp_df_actual_vs_pred_bin_pred_pct = pd.DataFrame({\"model\"         : model_name, \n",
        "                                                            \"kfold\"         : kfold + 1, \n",
        "                                                            \"actual\"        : data_proc.y_test, \n",
        "                                                            \"pred_pct\"      : probas_sigmoid, \n",
        "                                                            \"pred_bin\"      : predictions_binary,\n",
        "                                                            \"test_loss\"     : test_loss,\n",
        "                                                            \"test_accuracy\" : test_accuracy\n",
        "                                                           }\n",
        "                                                          )\n",
        "        # Assign the index value of the index position\n",
        "        temp_df_actual_vs_pred_bin_pred_pct['output_pos'] = temp_df_actual_vs_pred_bin_pred_pct.groupby(['model','kfold']).cumcount() + 1\n",
        "        df_actual_vs_pred_bin_pred_pct = pd.concat([temp_df_actual_vs_pred_bin_pred_pct, \n",
        "                                                    df_actual_vs_pred_bin_pred_pct\n",
        "                                                   ], \n",
        "                                                   axis = 0)\n",
        "    \n",
        "    # Summary stats across all folds for a model\n",
        "    model_proc.display_model_stats_across_all_spilts(model_name, \n",
        "                                                     consolidated_df_model_kpi, \n",
        "                                                     df_actual_vs_pred_bin_pred_pct\n",
        "                                                    )\n",
        "    \n",
        "    # voting across model, kfold\n",
        "    print(f\"Calling ensemble_across_model_kfolds for model {model_name}\")\n",
        "    temp_df_kfold_ensemble_stats = model_proc.ensemble_across_model_kfolds(df_actual_vs_pred_bin_pred_pct[df_actual_vs_pred_bin_pred_pct.model == model_name])\n",
        "\n",
        "    # Appending the result back\n",
        "    df_kfold_ensemble_stats = pd.concat([temp_df_kfold_ensemble_stats, \n",
        "                                         df_kfold_ensemble_stats\n",
        "                                        ],\n",
        "                                        axis = 0)\n",
        "\n",
        "# voting across model, kfold\n",
        "print(f\"Calling ensemble_across_models\")\n",
        "df_ensemble_stats = model_proc.ensemble_across_models(df_kfold_ensemble_stats)\n"
      ],
      "metadata": {
        "id": "3GOPzKQyRQHj"
      },
      "execution_count": null,
      "outputs": []
    },
    {
      "cell_type": "code",
      "source": [],
      "metadata": {
        "id": "xewdeHiRRQEU"
      },
      "execution_count": null,
      "outputs": []
    },
    {
      "cell_type": "code",
      "source": [],
      "metadata": {
        "id": "v6i5PR-BRQBj"
      },
      "execution_count": null,
      "outputs": []
    },
    {
      "cell_type": "code",
      "source": [],
      "metadata": {
        "id": "IeqCdWpoRPuj"
      },
      "execution_count": null,
      "outputs": []
    }
  ]
}