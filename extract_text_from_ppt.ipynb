{
  "nbformat": 4,
  "nbformat_minor": 0,
  "metadata": {
    "colab": {
      "provenance": [],
      "authorship_tag": "ABX9TyO6vva1jCDgVhp0l0Mod9GY",
      "include_colab_link": true
    },
    "kernelspec": {
      "name": "python3",
      "display_name": "Python 3"
    },
    "language_info": {
      "name": "python"
    }
  },
  "cells": [
    {
      "cell_type": "markdown",
      "metadata": {
        "id": "view-in-github",
        "colab_type": "text"
      },
      "source": [
        "<a href=\"https://colab.research.google.com/github/srilamaiti/ml_works/blob/main/extract_text_from_ppt.ipynb\" target=\"_parent\"><img src=\"https://colab.research.google.com/assets/colab-badge.svg\" alt=\"Open In Colab\"/></a>"
      ]
    },
    {
      "cell_type": "code",
      "execution_count": 4,
      "metadata": {
        "colab": {
          "base_uri": "https://localhost:8080/"
        },
        "id": "q4ySuatqPvgb",
        "outputId": "63406e01-2a7f-40c1-f417-c7564e19f30b"
      },
      "outputs": [
        {
          "output_type": "stream",
          "name": "stdout",
          "text": [
            "Requirement already satisfied: python-pptx in /usr/local/lib/python3.10/dist-packages (0.6.23)\n",
            "Requirement already satisfied: lxml>=3.1.0 in /usr/local/lib/python3.10/dist-packages (from python-pptx) (4.9.4)\n",
            "Requirement already satisfied: Pillow>=3.3.2 in /usr/local/lib/python3.10/dist-packages (from python-pptx) (9.4.0)\n",
            "Requirement already satisfied: XlsxWriter>=0.5.7 in /usr/local/lib/python3.10/dist-packages (from python-pptx) (3.2.0)\n",
            "Collecting python-docx\n",
            "  Downloading python_docx-1.1.2-py3-none-any.whl (244 kB)\n",
            "\u001b[2K     \u001b[90m━━━━━━━━━━━━━━━━━━━━━━━━━━━━━━━━━━━━━━━━\u001b[0m \u001b[32m244.3/244.3 kB\u001b[0m \u001b[31m4.8 MB/s\u001b[0m eta \u001b[36m0:00:00\u001b[0m\n",
            "\u001b[?25hRequirement already satisfied: lxml>=3.1.0 in /usr/local/lib/python3.10/dist-packages (from python-docx) (4.9.4)\n",
            "Requirement already satisfied: typing-extensions>=4.9.0 in /usr/local/lib/python3.10/dist-packages (from python-docx) (4.11.0)\n",
            "Installing collected packages: python-docx\n",
            "Successfully installed python-docx-1.1.2\n"
          ]
        }
      ],
      "source": [
        "!pip install python-pptx\n",
        "!pip install python-docx"
      ]
    },
    {
      "cell_type": "code",
      "source": [
        "import os\n",
        "from pptx import Presentation\n",
        "from pptx.util import Pt\n",
        "from docx.enum.text import WD_ALIGN_PARAGRAPH\n",
        "\n",
        "# Define the working directory\n",
        "working_directory = os.getcwd()"
      ],
      "metadata": {
        "id": "wPqPsi9BRbax"
      },
      "execution_count": 5,
      "outputs": []
    },
    {
      "cell_type": "code",
      "source": [
        "# Create a text file to write the extracted content\n",
        "output_file = \"extracted_text.txt\"\n",
        "\n",
        "# Function to write text into the txt file\n",
        "def write_text_to_file(file, text):\n",
        "    with open(file, \"a\", encoding=\"utf-8\") as f:\n",
        "        f.write(text)"
      ],
      "metadata": {
        "id": "OoWvBwjQRbdR"
      },
      "execution_count": 6,
      "outputs": []
    },
    {
      "cell_type": "code",
      "source": [
        "def extract_text_from_pptx(file):\n",
        "    presentation = Presentation(file)\n",
        "\n",
        "    for slide_num, slide in enumerate(presentation.slides, 1):\n",
        "        slide_text = f\"Slide {slide_num}:\\n\"\n",
        "\n",
        "        for shape in slide.shapes:\n",
        "            if shape.has_text_frame:\n",
        "                if shape.has_text_frame:\n",
        "                    for paragraph in shape.text_frame.paragraphs:\n",
        "                        if paragraph.alignment == WD_ALIGN_PARAGRAPH.CENTER:\n",
        "                            # This is a title\n",
        "                            slide_text += f\"\\nTitle: {paragraph.text}\\n\"\n",
        "                        else:\n",
        "                            # This is regular text\n",
        "                            slide_text += f\" : {paragraph.text}\\n\"\n",
        "\n",
        "        slide_text += \"\\n\"  # Add a separator between slides\n",
        "        write_text_to_file(output_file, slide_text)"
      ],
      "metadata": {
        "id": "8jeSkoraRbgA"
      },
      "execution_count": 7,
      "outputs": []
    },
    {
      "cell_type": "code",
      "source": [
        "def main():\n",
        "    # Delete the output file if it already exists\n",
        "    if os.path.exists(output_file):\n",
        "        os.remove(output_file)\n",
        "\n",
        "    # Get a list of .pptx files in the working directory\n",
        "    pptx_files = [f for f in os.listdir(working_directory) if f.endswith(\".pptx\")]\n",
        "\n",
        "    for pptx_file in pptx_files:\n",
        "        file_path = os.path.join(working_directory, pptx_file)\n",
        "        extract_text_from_pptx(file_path)\n",
        "\n",
        "if __name__ == \"__main__\":\n",
        "    main()"
      ],
      "metadata": {
        "id": "ebC02fpLR6Zl"
      },
      "execution_count": 8,
      "outputs": []
    },
    {
      "cell_type": "code",
      "source": [],
      "metadata": {
        "id": "WPIWvc6wRbip"
      },
      "execution_count": null,
      "outputs": []
    },
    {
      "cell_type": "code",
      "source": [],
      "metadata": {
        "id": "PUbcf9aHRbll"
      },
      "execution_count": null,
      "outputs": []
    },
    {
      "cell_type": "code",
      "source": [],
      "metadata": {
        "id": "RYLCFWgzRboV"
      },
      "execution_count": null,
      "outputs": []
    },
    {
      "cell_type": "code",
      "source": [],
      "metadata": {
        "id": "5bGPzREZRbrG"
      },
      "execution_count": null,
      "outputs": []
    },
    {
      "cell_type": "code",
      "source": [],
      "metadata": {
        "id": "oOoOKoyjRbuD"
      },
      "execution_count": null,
      "outputs": []
    },
    {
      "cell_type": "code",
      "source": [],
      "metadata": {
        "id": "i4LkA4wHRbw5"
      },
      "execution_count": null,
      "outputs": []
    },
    {
      "cell_type": "code",
      "source": [],
      "metadata": {
        "id": "4-3xuvHkRb0K"
      },
      "execution_count": null,
      "outputs": []
    }
  ]
}