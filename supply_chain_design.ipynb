{
  "nbformat": 4,
  "nbformat_minor": 0,
  "metadata": {
    "colab": {
      "provenance": [],
      "authorship_tag": "ABX9TyOkUJefbDnQgbaC7WkK5JKL",
      "include_colab_link": true
    },
    "kernelspec": {
      "name": "python3",
      "display_name": "Python 3"
    },
    "language_info": {
      "name": "python"
    }
  },
  "cells": [
    {
      "cell_type": "markdown",
      "metadata": {
        "id": "view-in-github",
        "colab_type": "text"
      },
      "source": [
        "<a href=\"https://colab.research.google.com/github/srilamaiti/ml_works/blob/main/supply_chain_design.ipynb\" target=\"_parent\"><img src=\"https://colab.research.google.com/assets/colab-badge.svg\" alt=\"Open In Colab\"/></a>"
      ]
    },
    {
      "cell_type": "code",
      "execution_count": 1,
      "metadata": {
        "colab": {
          "base_uri": "https://localhost:8080/"
        },
        "id": "Tc_tesPtdRQQ",
        "outputId": "9af92bdc-cf84-43cb-cc6e-be9b17ffba85"
      },
      "outputs": [
        {
          "output_type": "stream",
          "name": "stdout",
          "text": [
            "Collecting ortools\n",
            "  Downloading ortools-9.6.2534-cp310-cp310-manylinux_2_17_x86_64.manylinux2014_x86_64.whl (16.4 MB)\n",
            "\u001b[2K     \u001b[90m━━━━━━━━━━━━━━━━━━━━━━━━━━━━━━━━━━━━━━━━\u001b[0m \u001b[32m16.4/16.4 MB\u001b[0m \u001b[31m42.6 MB/s\u001b[0m eta \u001b[36m0:00:00\u001b[0m\n",
            "\u001b[?25hRequirement already satisfied: absl-py>=0.13 in /usr/local/lib/python3.10/dist-packages (from ortools) (1.4.0)\n",
            "Requirement already satisfied: numpy>=1.13.3 in /usr/local/lib/python3.10/dist-packages (from ortools) (1.22.4)\n",
            "Collecting protobuf>=4.21.12 (from ortools)\n",
            "  Downloading protobuf-4.23.3-cp37-abi3-manylinux2014_x86_64.whl (304 kB)\n",
            "\u001b[2K     \u001b[90m━━━━━━━━━━━━━━━━━━━━━━━━━━━━━━━━━━━━━━\u001b[0m \u001b[32m304.5/304.5 kB\u001b[0m \u001b[31m27.5 MB/s\u001b[0m eta \u001b[36m0:00:00\u001b[0m\n",
            "\u001b[?25hRequirement already satisfied: scipy>=1.10.0 in /usr/local/lib/python3.10/dist-packages (from ortools) (1.10.1)\n",
            "Installing collected packages: protobuf, ortools\n",
            "  Attempting uninstall: protobuf\n",
            "    Found existing installation: protobuf 3.20.3\n",
            "    Uninstalling protobuf-3.20.3:\n",
            "      Successfully uninstalled protobuf-3.20.3\n",
            "Successfully installed ortools-9.6.2534 protobuf-4.23.3\n"
          ]
        }
      ],
      "source": [
        "!pip install ortools"
      ]
    },
    {
      "cell_type": "code",
      "source": [
        "from ortools.linear_solver import pywraplp"
      ],
      "metadata": {
        "id": "G3dL3LjqdS-L"
      },
      "execution_count": 2,
      "outputs": []
    },
    {
      "cell_type": "code",
      "source": [
        "def main():\n",
        "#shipping rates per mt, direct delivery and delivery through hub\n",
        "    to_hub = [[0.5,99999],\n",
        "    [0.5,0.3],\n",
        "    [1,0.5],\n",
        "    [0.2,0.2]\n",
        "    ];\n",
        "\n",
        "    factory = ['Liverpool', 'Brighton'];\n",
        "    whs = ['Newcastle', 'Birmingham', 'London', 'Exeter'];\n",
        "    locations = factory + whs\n",
        "\n",
        "    to_cust = [[1,2,99999,1,99999,99999],\n",
        "    [99999,99999,1.5,0.5,1.5,99999],\n",
        "    [1.5,99999,0.5,0.5,2,0.2],\n",
        "    [2,99999,1.5,1,99999,1.5],\n",
        "    [99999,99999,99999,0.5,0.5,0.5],\n",
        "    [1,99999,1,99999,1.5,1.5]\n",
        "    ];\n",
        "\n",
        "#customers demand\n",
        "    demand = [50000, 10000, 40000, 35000, 60000, 20000];\n",
        "\n",
        "#terminal throughput\n",
        "    transit = [70000, 50000, 100000, 40000];\n",
        "\n",
        "    solver = pywraplp.Solver('Linear_test', pywraplp.Solver.GLOP_LINEAR_PROGRAMMING)\n",
        "\n",
        "#set variables\n",
        "    hub = [[0 for x in range(len(to_hub[0]))] for y in range(len(to_hub))];\n",
        "    cust = [[0 for x in range(len(to_cust[0]))] for y in range(len(to_cust))];\n",
        "\n",
        "    for i in range(len(to_hub)):\n",
        "        for j in range(len(to_hub[0])):\n",
        "            hub[i][j] = solver.NumVar(0, solver.infinity(), 'Hub')\n",
        "\n",
        "    for i in range(len(to_cust)):\n",
        "        for j in range(len(to_cust[0])):\n",
        "            cust[i][j] = solver.NumVar(0, solver.infinity(), 'Customer')\n",
        "\n",
        "\n",
        "#set objective function\n",
        "    objective = solver.Objective()\n",
        "    for i in range(0, len(to_hub)):\n",
        "        for j in range(0, len(to_hub[0])):\n",
        "            objective.SetCoefficient(hub[i][j], to_hub[i][j])\n",
        "    for i in range(0, len(to_cust)):\n",
        "        for j in range(0, len(to_cust[0])):\n",
        "            objective.SetCoefficient(cust[i][j], to_cust[i][j])\n",
        "    objective.SetMinimization()\n",
        "\n",
        "#create constraints\n",
        "    #production not higher than capacity of factory in Liverpool\n",
        "    constraint1 = solver.Constraint(0, 150000)\n",
        "    for i in range(len(hub)):\n",
        "        constraint1.SetCoefficient(hub[i][0],1)\n",
        "    for j in range(len(cust)):\n",
        "        constraint1.SetCoefficient(cust[i][0],1)\n",
        "\n",
        "    #production not higher than capacity of factory in Brighton\n",
        "    constraint2 = solver.Constraint(0, 200000)\n",
        "    for i in range(len(hub)):\n",
        "        constraint2.SetCoefficient(hub[i][1],1)\n",
        "    for j in range(len(cust)):\n",
        "        constraint2.SetCoefficient(cust[i][1],1)\n",
        "\n",
        "    #customers demand respected\n",
        "    constraint3 = [0]*len(demand)\n",
        "    for i in range(len(demand)):\n",
        "        constraint3[i] = solver.Constraint(demand[i], solver.infinity())\n",
        "        for j in range(len(to_cust[0])):\n",
        "            constraint3[i].SetCoefficient(cust[i][j],1)\n",
        "\n",
        "    #terminals throughput respected\n",
        "    constraint4 = [0]*len(transit)\n",
        "    for i in range(len(transit)):\n",
        "        constraint4[i] = solver.Constraint(0, transit[i])\n",
        "        for j in range(len(hub[0])):\n",
        "            constraint4[i].SetCoefficient(hub[i][j],1)\n",
        "\n",
        "    #terminal in, terminal out\n",
        "    constraint5 = [0]*len(transit)\n",
        "    for i in range(len(transit)):\n",
        "        constraint5[i] = solver.Constraint(0,0)\n",
        "        for j in range(len(hub[0])):\n",
        "            constraint5[i].SetCoefficient(hub[i][j],1)\n",
        "        for t in range(len(cust)):\n",
        "            constraint5[i].SetCoefficient(cust[t][i+2],-1)\n",
        "\n",
        "    solver.Solve()\n",
        "\n",
        "    for i in range(len(cust)):\n",
        "        print('*********************')\n",
        "        for j in range(len(cust[0])):\n",
        "            print('From ' + locations[i] + ' ' + 'to Customer' + str(j+1) + ' ' +  str(cust[j][i].solution_value()))\n",
        "\n",
        "    for i in range(len(hub)):\n",
        "        print('*********************')\n",
        "        for j in range(len(hub[0])):\n",
        "            print('From ' + factory[j] + ' ' + 'to Hub ' + whs[i] + ' ' +  str(hub[i][j].solution_value()))\n",
        "    print('*********************')\n",
        "    print('Total cost: ' + str(solver.Objective().Value()))\n",
        "\n",
        "if __name__ == '__main__':\n",
        "    main()"
      ],
      "metadata": {
        "colab": {
          "base_uri": "https://localhost:8080/"
        },
        "id": "VyMOaDWsdTA2",
        "outputId": "e31e0335-05d5-4a32-d92b-a090c8f3df36"
      },
      "execution_count": 4,
      "outputs": [
        {
          "output_type": "stream",
          "name": "stdout",
          "text": [
            "*********************\n",
            "From Liverpool to Customer1 50000.0\n",
            "From Liverpool to Customer2 0.0\n",
            "From Liverpool to Customer3 0.0\n",
            "From Liverpool to Customer4 0.0\n",
            "From Liverpool to Customer5 0.0\n",
            "From Liverpool to Customer6 20000.0\n",
            "*********************\n",
            "From Brighton to Customer1 0.0\n",
            "From Brighton to Customer2 0.0\n",
            "From Brighton to Customer3 0.0\n",
            "From Brighton to Customer4 0.0\n",
            "From Brighton to Customer5 0.0\n",
            "From Brighton to Customer6 0.0\n",
            "*********************\n",
            "From Newcastle to Customer1 0.0\n",
            "From Newcastle to Customer2 0.0\n",
            "From Newcastle to Customer3 0.0\n",
            "From Newcastle to Customer4 0.0\n",
            "From Newcastle to Customer5 0.0\n",
            "From Newcastle to Customer6 0.0\n",
            "*********************\n",
            "From Birmingham to Customer1 0.0\n",
            "From Birmingham to Customer2 10000.0\n",
            "From Birmingham to Customer3 0.0\n",
            "From Birmingham to Customer4 35000.0\n",
            "From Birmingham to Customer5 5000.0\n",
            "From Birmingham to Customer6 0.0\n",
            "*********************\n",
            "From London to Customer1 0.0\n",
            "From London to Customer2 0.0\n",
            "From London to Customer3 0.0\n",
            "From London to Customer4 0.0\n",
            "From London to Customer5 55000.0\n",
            "From London to Customer6 0.0\n",
            "*********************\n",
            "From Exeter to Customer1 0.0\n",
            "From Exeter to Customer2 0.0\n",
            "From Exeter to Customer3 40000.0\n",
            "From Exeter to Customer4 0.0\n",
            "From Exeter to Customer5 0.0\n",
            "From Exeter to Customer6 0.0\n",
            "*********************\n",
            "From Liverpool to Hub Newcastle 0.0\n",
            "From Brighton to Hub Newcastle 0.0\n",
            "*********************\n",
            "From Liverpool to Hub Birmingham 0.0\n",
            "From Brighton to Hub Birmingham 50000.0\n",
            "*********************\n",
            "From Liverpool to Hub London 0.0\n",
            "From Brighton to Hub London 55000.0\n",
            "*********************\n",
            "From Liverpool to Hub Exeter 0.0\n",
            "From Brighton to Hub Exeter 40000.0\n",
            "*********************\n",
            "Total cost: 198500.0\n"
          ]
        }
      ]
    },
    {
      "cell_type": "code",
      "source": [],
      "metadata": {
        "id": "KclYXZYZdTDL"
      },
      "execution_count": null,
      "outputs": []
    },
    {
      "cell_type": "code",
      "source": [],
      "metadata": {
        "id": "TrxRg4vYdTGJ"
      },
      "execution_count": null,
      "outputs": []
    }
  ]
}