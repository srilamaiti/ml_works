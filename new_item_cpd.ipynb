{
  "nbformat": 4,
  "nbformat_minor": 0,
  "metadata": {
    "colab": {
      "private_outputs": true,
      "provenance": [],
      "authorship_tag": "ABX9TyMVCJ4GZzl9N8qSN7QN670a",
      "include_colab_link": true
    },
    "kernelspec": {
      "name": "python3",
      "display_name": "Python 3"
    },
    "language_info": {
      "name": "python"
    }
  },
  "cells": [
    {
      "cell_type": "markdown",
      "metadata": {
        "id": "view-in-github",
        "colab_type": "text"
      },
      "source": [
        "<a href=\"https://colab.research.google.com/github/srilamaiti/ml_works/blob/main/new_item_cpd.ipynb\" target=\"_parent\"><img src=\"https://colab.research.google.com/assets/colab-badge.svg\" alt=\"Open In Colab\"/></a>"
      ]
    },
    {
      "cell_type": "code",
      "execution_count": null,
      "metadata": {
        "id": "CBtoz4X8PAtL"
      },
      "outputs": [],
      "source": [
        "!pip install ruptures"
      ]
    },
    {
      "cell_type": "code",
      "source": [
        "import pandas as pd\n",
        "import numpy as np\n",
        "import datetime\n",
        "import ruptures as rpt\n",
        "import matplotlib.pyplot as plt"
      ],
      "metadata": {
        "id": "7wPXJ_ldRWMU"
      },
      "execution_count": null,
      "outputs": []
    },
    {
      "cell_type": "code",
      "source": [
        "df = pd.read_csv('cpd_1.csv')\n",
        "df.columns = [col.lower() for col in df.columns]\n",
        "df['txn_dte'] = pd.to_datetime(df['txn_dte'])\n",
        "df.set_index('txn_dte', inplace = True)\n",
        "#Convert the time series values to a numpy 1D array\n",
        "points = np.array(df['gross_amt'])\n",
        "df"
      ],
      "metadata": {
        "id": "kHyLmiZNSv1R"
      },
      "execution_count": null,
      "outputs": []
    },
    {
      "cell_type": "code",
      "source": [
        "df.columns"
      ],
      "metadata": {
        "id": "D4sZSpufSv49"
      },
      "execution_count": null,
      "outputs": []
    },
    {
      "cell_type": "code",
      "source": [
        "df['gross_amt'].plot()"
      ],
      "metadata": {
        "id": "j92smbMAVIeI"
      },
      "execution_count": null,
      "outputs": []
    },
    {
      "cell_type": "code",
      "source": [
        "df.index"
      ],
      "metadata": {
        "id": "urYo1uA4VVQ9"
      },
      "execution_count": null,
      "outputs": []
    },
    {
      "cell_type": "code",
      "source": [
        "df_agg = df.reset_index().groupby(['store_id', 'consumer_selling_cd', 'txn_dte']).agg({'gross_amt' : np.sum}).reset_index()\n",
        "df_agg['txn_dte'] = df_agg['txn_dte'].dt.strftime('%Y-%m-%d')\n",
        "df_agg"
      ],
      "metadata": {
        "id": "BhL47FYwwZIv"
      },
      "execution_count": null,
      "outputs": []
    },
    {
      "cell_type": "code",
      "source": [
        "from datetime import datetime\n",
        "from datetime import timedelta\n",
        "max_date = datetime.strptime(df_agg.txn_dte.max(), '%Y-%m-%d')\n",
        "min_date = datetime.strptime(df_agg.txn_dte.min(), '%Y-%m-%d')\n",
        "date_range = pd.date_range(max_date - timedelta(days=365), max_date, freq = 'd')\n",
        "date_range"
      ],
      "metadata": {
        "id": "5qz997tqw90h"
      },
      "execution_count": null,
      "outputs": []
    },
    {
      "cell_type": "code",
      "source": [
        "driver_df = pd.DataFrame()\n",
        "temp_list = []\n",
        "for dt in date_range:\n",
        "    for e in df_agg[['store_id', 'consumer_selling_cd', 'txn_dte']].drop_duplicates().values.tolist():\n",
        "        temp_list.append((e[0], e[1], dt.strftime(\"%Y-%m-%d\")))\n",
        "driver_df = pd.DataFrame(temp_list, columns = ['store_id', 'consumer_selling_cd', 'txn_dte'])\n",
        "driver_df"
      ],
      "metadata": {
        "id": "dRwF3C10xq5i"
      },
      "execution_count": null,
      "outputs": []
    },
    {
      "cell_type": "code",
      "source": [
        "df_agg = pd.merge(driver_df, df_agg, how = 'left', on = ['store_id', 'consumer_selling_cd', 'txn_dte']).fillna(0).set_index('txn_dte')\n",
        "points = np.array(df_agg['gross_amt'])"
      ],
      "metadata": {
        "id": "4r6Rbomwk-fh"
      },
      "execution_count": null,
      "outputs": []
    },
    {
      "cell_type": "code",
      "source": [
        "df_agg['gross_amt'].plot(figsize=(20,5))"
      ],
      "metadata": {
        "id": "9Hs-GXvAiw3Q"
      },
      "execution_count": null,
      "outputs": []
    },
    {
      "cell_type": "code",
      "source": [
        "#RUPTURES PACKAGE\n",
        "#Changepoint detection with the Pelt search method\n",
        "model_rbf=\"rbf\"\n",
        "algo_pelt = rpt.Pelt(model=model_rbf).fit(points)\n",
        "result_pelt = algo_pelt.predict(pen=10)\n",
        "rpt.display(points, result_pelt, figsize=(10, 6))\n",
        "plt.title('Change Point Detection: Pelt Search Method')\n",
        "plt.show()"
      ],
      "metadata": {
        "id": "HpknSpqDTiQh"
      },
      "execution_count": null,
      "outputs": []
    },
    {
      "cell_type": "code",
      "source": [
        "#Changepoint detection with the Binary Segmentation search method\n",
        "model_bin_seg = \"l2\"  \n",
        "algo_bin_seg = rpt.Binseg(model=model_bin_seg).fit(points)\n",
        "result_bin_seg = algo_bin_seg.predict(n_bkps=1)\n",
        "# show results\n",
        "rpt.show.display(points, result_bin_seg, figsize=(10, 6))\n",
        "plt.title('Change Point Detection: Binary Segmentation Search Method')\n",
        "plt.show()"
      ],
      "metadata": {
        "id": "LrGbjJxKTiUM"
      },
      "execution_count": null,
      "outputs": []
    },
    {
      "cell_type": "code",
      "source": [
        "#Changepoint detection with window-based search method\n",
        "model_wb = \"l2\"  \n",
        "algo_wb = rpt.Window(width=40, model=model_wb).fit(points)\n",
        "model_wb = algo_wb.predict(n_bkps=1)\n",
        "rpt.show.display(points, model_wb, figsize=(10, 6))\n",
        "plt.title('Change Point Detection: Window-Based Search Method')\n",
        "plt.show()"
      ],
      "metadata": {
        "id": "BdPLrCd0Sv8B"
      },
      "execution_count": null,
      "outputs": []
    },
    {
      "cell_type": "code",
      "source": [
        "#Changepoint detection with dynamic programming search method\n",
        "model_dyn_prog = \"l1\"  \n",
        "algo_dyn_prog = rpt.Dynp(model=model_dyn_prog, min_size=3, jump=5).fit(points)\n",
        "res_dyn_prog = algo_dyn_prog.predict(n_bkps=1)\n",
        "rpt.show.display(points, res_dyn_prog, figsize=(10, 6))\n",
        "plt.title('Change Point Detection: Dynamic Programming Search Method')\n",
        "plt.show()"
      ],
      "metadata": {
        "id": "dVFkvQthSv_V"
      },
      "execution_count": null,
      "outputs": []
    },
    {
      "cell_type": "code",
      "source": [],
      "metadata": {
        "id": "GCtO0dLbSwCl"
      },
      "execution_count": null,
      "outputs": []
    },
    {
      "cell_type": "code",
      "source": [],
      "metadata": {
        "id": "3-pYEapUSwF2"
      },
      "execution_count": null,
      "outputs": []
    }
  ]
}