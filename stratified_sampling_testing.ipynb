{
  "nbformat": 4,
  "nbformat_minor": 0,
  "metadata": {
    "colab": {
      "provenance": [],
      "authorship_tag": "ABX9TyPBdNO3IlwNXfRAa1ib19w3",
      "include_colab_link": true
    },
    "kernelspec": {
      "name": "python3",
      "display_name": "Python 3"
    },
    "language_info": {
      "name": "python"
    }
  },
  "cells": [
    {
      "cell_type": "markdown",
      "metadata": {
        "id": "view-in-github",
        "colab_type": "text"
      },
      "source": [
        "<a href=\"https://colab.research.google.com/github/srilamaiti/ml_works/blob/main/stratified_sampling_testing.ipynb\" target=\"_parent\"><img src=\"https://colab.research.google.com/assets/colab-badge.svg\" alt=\"Open In Colab\"/></a>"
      ]
    },
    {
      "cell_type": "code",
      "execution_count": 22,
      "metadata": {
        "id": "eaMSKhbzwrim"
      },
      "outputs": [],
      "source": [
        "import numpy as np\n",
        "from sklearn.model_selection import StratifiedKFold\n",
        "from sklearn.model_selection import StratifiedShuffleSplit"
      ]
    },
    {
      "cell_type": "code",
      "source": [
        "X = np.array([[1, 2], [3, 4], [5, 6], [7, 8], [9, 10], [11, 12], [13, 14], [15, 16], [17, 18], [19, 20]])\n",
        "y = np.array([0, 1, 0, 1, 0, 1, 0, 1, 0, 1])\n",
        "X"
      ],
      "metadata": {
        "colab": {
          "base_uri": "https://localhost:8080/"
        },
        "id": "Wct5UdFfKVJp",
        "outputId": "f6fe9847-095e-45f6-b3b3-7697ec462917"
      },
      "execution_count": 27,
      "outputs": [
        {
          "output_type": "execute_result",
          "data": {
            "text/plain": [
              "array([[ 1,  2],\n",
              "       [ 3,  4],\n",
              "       [ 5,  6],\n",
              "       [ 7,  8],\n",
              "       [ 9, 10],\n",
              "       [11, 12],\n",
              "       [13, 14],\n",
              "       [15, 16],\n",
              "       [17, 18],\n",
              "       [19, 20]])"
            ]
          },
          "metadata": {},
          "execution_count": 27
        }
      ]
    },
    {
      "cell_type": "code",
      "source": [
        "skf = StratifiedKFold(n_splits = 4, random_state = 1234, shuffle = True)\n",
        "skf.get_n_splits(X, y)\n",
        "\n",
        "print(skf)\n",
        "for k_fold, (train_index, test_index) in enumerate(skf.split(X, y)):\n",
        "    print(f\"k fold : {k_fold + 1}\")\n",
        "    print(\"TRAIN:\", train_index, \"TEST:\", test_index)\n",
        "    X_train, X_test = X[train_index], X[test_index]\n",
        "    y_train, y_test = y[train_index], y[test_index]\n",
        "    print(\"X_train\")\n",
        "    print(X_train)\n",
        "    print(\"y_train\")\n",
        "    print(y_train)\n",
        "    print(\"X_test\")\n",
        "    print(X_test)\n",
        "    print(\"y_test\")\n",
        "    print(y_test)\n",
        "    print(\"**********************************************\")\n",
        "    print(\"**********************************************\")\n",
        "    print()\n",
        "    print()"
      ],
      "metadata": {
        "colab": {
          "base_uri": "https://localhost:8080/"
        },
        "id": "Zbp5iwLkxUWC",
        "outputId": "de4ef17f-4abd-4b80-c55c-0f8053023fd3"
      },
      "execution_count": 21,
      "outputs": [
        {
          "output_type": "stream",
          "name": "stdout",
          "text": [
            "StratifiedKFold(n_splits=4, random_state=1234, shuffle=True)\n",
            "k fold : 1\n",
            "TRAIN: [0 1 3 5 6 8 9] TEST: [2 4 7]\n",
            "X_train\n",
            "[[ 1  2]\n",
            " [ 3  4]\n",
            " [ 7  8]\n",
            " [11 12]\n",
            " [13 14]\n",
            " [17 18]\n",
            " [19 20]]\n",
            "y_train\n",
            "[0 1 1 1 0 0 1]\n",
            "X_test\n",
            "[[ 5  6]\n",
            " [ 9 10]\n",
            " [15 16]]\n",
            "y_test\n",
            "[0 0 1]\n",
            "**********************************************\n",
            "**********************************************\n",
            "\n",
            "\n",
            "k fold : 2\n",
            "TRAIN: [0 1 2 4 7 8 9] TEST: [3 5 6]\n",
            "X_train\n",
            "[[ 1  2]\n",
            " [ 3  4]\n",
            " [ 5  6]\n",
            " [ 9 10]\n",
            " [15 16]\n",
            " [17 18]\n",
            " [19 20]]\n",
            "y_train\n",
            "[0 1 0 0 1 0 1]\n",
            "X_test\n",
            "[[ 7  8]\n",
            " [11 12]\n",
            " [13 14]]\n",
            "y_test\n",
            "[1 1 0]\n",
            "**********************************************\n",
            "**********************************************\n",
            "\n",
            "\n",
            "k fold : 3\n",
            "TRAIN: [0 2 3 4 5 6 7 9] TEST: [1 8]\n",
            "X_train\n",
            "[[ 1  2]\n",
            " [ 5  6]\n",
            " [ 7  8]\n",
            " [ 9 10]\n",
            " [11 12]\n",
            " [13 14]\n",
            " [15 16]\n",
            " [19 20]]\n",
            "y_train\n",
            "[0 0 1 0 1 0 1 1]\n",
            "X_test\n",
            "[[ 3  4]\n",
            " [17 18]]\n",
            "y_test\n",
            "[1 0]\n",
            "**********************************************\n",
            "**********************************************\n",
            "\n",
            "\n",
            "k fold : 4\n",
            "TRAIN: [1 2 3 4 5 6 7 8] TEST: [0 9]\n",
            "X_train\n",
            "[[ 3  4]\n",
            " [ 5  6]\n",
            " [ 7  8]\n",
            " [ 9 10]\n",
            " [11 12]\n",
            " [13 14]\n",
            " [15 16]\n",
            " [17 18]]\n",
            "y_train\n",
            "[1 0 1 0 1 0 1 0]\n",
            "X_test\n",
            "[[ 1  2]\n",
            " [19 20]]\n",
            "y_test\n",
            "[0 1]\n",
            "**********************************************\n",
            "**********************************************\n",
            "\n",
            "\n"
          ]
        }
      ]
    },
    {
      "cell_type": "code",
      "source": [
        "sss = StratifiedShuffleSplit(n_splits=5, test_size=0.2, random_state=0)\n",
        "sss"
      ],
      "metadata": {
        "colab": {
          "base_uri": "https://localhost:8080/"
        },
        "id": "CpgPCG4JKgSV",
        "outputId": "08e2dbec-d63f-4f44-dbc0-6f5cd42d2551"
      },
      "execution_count": 28,
      "outputs": [
        {
          "output_type": "execute_result",
          "data": {
            "text/plain": [
              "StratifiedShuffleSplit(n_splits=5, random_state=0, test_size=0.2,\n",
              "            train_size=None)"
            ]
          },
          "metadata": {},
          "execution_count": 28
        }
      ]
    },
    {
      "cell_type": "code",
      "source": [
        "xtrain, xtest = list(sss.split(X, y))[0]"
      ],
      "metadata": {
        "id": "TwRfAKd1KppZ"
      },
      "execution_count": 29,
      "outputs": []
    },
    {
      "cell_type": "code",
      "source": [
        "xtrain, xtest"
      ],
      "metadata": {
        "colab": {
          "base_uri": "https://localhost:8080/"
        },
        "id": "mtWm3o1KKv-2",
        "outputId": "95af409b-3922-45f5-a791-04cbc7851457"
      },
      "execution_count": 30,
      "outputs": [
        {
          "output_type": "execute_result",
          "data": {
            "text/plain": [
              "(array([0, 3, 6, 9, 4, 1, 2, 5]), array([8, 7]))"
            ]
          },
          "metadata": {},
          "execution_count": 30
        }
      ]
    },
    {
      "cell_type": "code",
      "source": [
        "sss = StratifiedShuffleSplit(n_splits=5, test_size=0.2, random_state=0)\n",
        "sss"
      ],
      "metadata": {
        "colab": {
          "base_uri": "https://localhost:8080/"
        },
        "id": "NjtGih65LFI3",
        "outputId": "bc283389-98fc-4134-ec3d-59050fa01b69"
      },
      "execution_count": 31,
      "outputs": [
        {
          "output_type": "execute_result",
          "data": {
            "text/plain": [
              "StratifiedShuffleSplit(n_splits=5, random_state=0, test_size=0.2,\n",
              "            train_size=None)"
            ]
          },
          "metadata": {},
          "execution_count": 31
        }
      ]
    },
    {
      "cell_type": "code",
      "source": [
        "xtrain, xtest = list(sss.split(X, y))[0]\n",
        "xtrain, xtest"
      ],
      "metadata": {
        "colab": {
          "base_uri": "https://localhost:8080/"
        },
        "id": "VHIi8O3VLHbg",
        "outputId": "6675f65a-c7ca-4723-d8d0-b077be3f1f13"
      },
      "execution_count": 33,
      "outputs": [
        {
          "output_type": "execute_result",
          "data": {
            "text/plain": [
              "(array([0, 3, 6, 9, 4, 1, 2, 5]), array([8, 7]))"
            ]
          },
          "metadata": {},
          "execution_count": 33
        }
      ]
    },
    {
      "cell_type": "code",
      "source": [
        "for k in range(0,9):\n",
        "    sss = StratifiedShuffleSplit(n_splits=5, test_size=0.2, random_state=k)\n",
        "    xtrain, xtest = list(sss.split(X, y))[0]\n",
        "    print(k,xtrain, xtest)"
      ],
      "metadata": {
        "colab": {
          "base_uri": "https://localhost:8080/"
        },
        "id": "Kn2jXmOCLOGx",
        "outputId": "c3a0a16a-d11f-492c-ffe5-2b9a657184e6"
      },
      "execution_count": 35,
      "outputs": [
        {
          "output_type": "stream",
          "name": "stdout",
          "text": [
            "0 [0 3 6 9 4 1 2 5] [8 7]\n",
            "1 [8 9 5 0 1 2 7 4] [3 6]\n",
            "2 [1 9 3 4 5 6 8 2] [0 7]\n",
            "3 [9 6 5 8 7 2 0 3] [4 1]\n",
            "4 [5 9 8 0 7 3 2 6] [1 4]\n",
            "5 [5 0 7 2 8 4 9 3] [1 6]\n",
            "6 [9 6 7 0 1 3 2 8] [5 4]\n",
            "7 [2 3 9 5 4 6 0 1] [7 8]\n",
            "8 [1 0 2 4 9 7 3 8] [5 6]\n"
          ]
        }
      ]
    },
    {
      "cell_type": "code",
      "source": [
        "splits = 5\n",
        "from sklearn.utils import shuffle\n",
        "tx = range(100)\n",
        "ty = shuffle([0] * 50 + [1] * 50)\n",
        "\n",
        "print(list(tx), ty)\n",
        "from sklearn.model_selection import StratifiedShuffleSplit, StratifiedKFold\n",
        "from sklearn import datasets\n",
        "\n",
        "stratKfold = StratifiedKFold(n_splits=splits, shuffle=True, random_state=42)\n",
        "shufflesplit = StratifiedShuffleSplit(n_splits=splits, random_state=42, test_size=2)\n",
        "\n",
        "print(\"stratKFold\")\n",
        "for train_index, test_index in stratKfold.split(tx, ty):\n",
        "    print(\"TRAIN:\", train_index, \"TEST:\", test_index)\n",
        "    print(\"*********************\")\n",
        "\n",
        "print(\"Shuffle Split\")\n",
        "for train_index, test_index in shufflesplit.split(tx, ty):\n",
        "    print(\"TRAIN:\", train_index, \"TEST:\", test_index)\n",
        "    print(\"*********************\")"
      ],
      "metadata": {
        "colab": {
          "base_uri": "https://localhost:8080/"
        },
        "id": "_kGAYvNVMBA2",
        "outputId": "ef27fdc8-b0d3-4884-8faa-6c14d15dbda7"
      },
      "execution_count": 48,
      "outputs": [
        {
          "output_type": "stream",
          "name": "stdout",
          "text": [
            "[0, 1, 2, 3, 4, 5, 6, 7, 8, 9, 10, 11, 12, 13, 14, 15, 16, 17, 18, 19, 20, 21, 22, 23, 24, 25, 26, 27, 28, 29, 30, 31, 32, 33, 34, 35, 36, 37, 38, 39, 40, 41, 42, 43, 44, 45, 46, 47, 48, 49, 50, 51, 52, 53, 54, 55, 56, 57, 58, 59, 60, 61, 62, 63, 64, 65, 66, 67, 68, 69, 70, 71, 72, 73, 74, 75, 76, 77, 78, 79, 80, 81, 82, 83, 84, 85, 86, 87, 88, 89, 90, 91, 92, 93, 94, 95, 96, 97, 98, 99] [0, 1, 0, 1, 0, 1, 1, 0, 0, 1, 0, 1, 0, 0, 0, 0, 0, 1, 0, 0, 0, 1, 0, 0, 1, 1, 0, 1, 0, 0, 1, 1, 1, 1, 0, 0, 0, 1, 0, 0, 0, 1, 0, 1, 1, 1, 1, 1, 0, 0, 1, 1, 0, 0, 1, 0, 0, 0, 0, 0, 1, 1, 0, 0, 1, 0, 1, 0, 1, 1, 1, 1, 0, 1, 1, 1, 1, 0, 1, 1, 0, 0, 1, 1, 0, 1, 1, 1, 0, 0, 0, 1, 0, 1, 0, 1, 1, 1, 0, 1]\n",
            "stratKFold\n",
            "TRAIN: [ 0  1  2  3  4  6  7  8  9 10 11 12 13 14 15 16 17 19 21 24 26 27 28 29\n",
            " 30 31 32 33 34 36 38 39 40 41 43 44 45 46 47 48 49 50 51 52 54 55 56 57\n",
            " 59 60 61 63 64 65 67 68 69 70 71 72 73 74 76 77 79 80 81 82 83 84 85 87\n",
            " 88 90 92 93 94 95 97 98] TEST: [ 5 18 20 22 23 25 35 37 42 53 58 62 66 75 78 86 89 91 96 99]\n",
            "*********************\n",
            "TRAIN: [ 1  2  3  4  5  6  7  9 10 11 12 13 14 17 18 19 20 21 22 23 25 26 28 29\n",
            " 30 31 32 33 35 37 38 39 40 41 42 43 45 46 47 48 49 50 51 52 53 55 57 58\n",
            " 59 61 62 63 64 65 66 67 68 70 72 73 74 75 76 78 79 80 84 85 86 87 88 89\n",
            " 90 91 93 94 96 97 98 99] TEST: [ 0  8 15 16 24 27 34 36 44 54 56 60 69 71 77 81 82 83 92 95]\n",
            "*********************\n",
            "TRAIN: [ 0  2  3  4  5  6  7  8  9 10 11 14 15 16 18 19 20 21 22 23 24 25 26 27\n",
            " 28 29 30 31 32 34 35 36 37 39 40 42 43 44 45 48 51 52 53 54 56 57 58 60\n",
            " 61 62 63 64 65 66 68 69 70 71 72 74 75 76 77 78 79 81 82 83 84 85 86 87\n",
            " 89 90 91 92 95 96 98 99] TEST: [ 1 12 13 17 33 38 41 46 47 49 50 55 59 67 73 80 88 93 94 97]\n",
            "*********************\n",
            "TRAIN: [ 0  1  5  6  7  8  9 10 12 13 15 16 17 18 20 21 22 23 24 25 26 27 28 29\n",
            " 31 33 34 35 36 37 38 41 42 44 46 47 48 49 50 51 53 54 55 56 58 59 60 61\n",
            " 62 63 64 66 67 69 70 71 72 73 75 76 77 78 80 81 82 83 84 86 87 88 89 90\n",
            " 91 92 93 94 95 96 97 99] TEST: [ 2  3  4 11 14 19 30 32 39 40 43 45 52 57 65 68 74 79 85 98]\n",
            "*********************\n",
            "TRAIN: [ 0  1  2  3  4  5  8 11 12 13 14 15 16 17 18 19 20 22 23 24 25 27 30 32\n",
            " 33 34 35 36 37 38 39 40 41 42 43 44 45 46 47 49 50 52 53 54 55 56 57 58\n",
            " 59 60 62 65 66 67 68 69 71 73 74 75 77 78 79 80 81 82 83 85 86 88 89 91\n",
            " 92 93 94 95 96 97 98 99] TEST: [ 6  7  9 10 21 26 28 29 31 48 51 61 63 64 70 72 76 84 87 90]\n",
            "*********************\n",
            "Shuffle Split\n",
            "TRAIN: [43 62 25 21 12 15 76  0 93 90 91 77 96 52 95 41 69 53 80 27 78 54  1 59\n",
            "  6 34 92 71 33 51 50  3 13 83 82 75 37 11 56 30 19 47 23 85 68 94 44 70\n",
            " 72 74 26 31 32 18 65  4 58 29 46 35 39 66 60 10 89  5 73 79 38  7 57 88\n",
            " 14 87 20 55 81  9 64 98 84 99 40 22 17  2  8 61 86 48 49 16 28 63 45 36\n",
            " 42 97] TEST: [24 67]\n",
            "*********************\n",
            "TRAIN: [27 18 76 87 86 50 85 16 40 68 65  9 95 73 43 54 98 13 22 75 49 28 24 77\n",
            " 63 60 41 80 20  8 45 89 61 97 21 81 53 15 47 66 59 84 69 44 62  6  1 29\n",
            " 64 71 46  7 96 70 55 10 52 12 94 36 34 67 99 82 83 33 17 78  4 39 88  2\n",
            "  3 42 48 57 51 58 38 35  0 93 32 31 92 30 90 74 14 19 25 79 26 23 72  5\n",
            " 91 11] TEST: [56 37]\n",
            "*********************\n",
            "TRAIN: [91 69 36 45 92 17 60 93 27 46 18 28 89 25 42 56  9 41 12 39 43  4 48 19\n",
            " 53 59 75 83 81 24 10 70 23 78 86 21 67 33 34 80 32 57 94 14 76 16 11 61\n",
            "  3 50  1 66 90  5  2 95  8 13 71 55 35 72 37  0 82 88 85 68 29 54 22 51\n",
            " 44 98 64 40  6 15 87 77 26 38 73 47 96 62 49 31 65 20 79 74 99 63 58  7\n",
            " 30 52] TEST: [84 97]\n",
            "*********************\n",
            "TRAIN: [99 55 77 59 50 16 31 48  7 67 15 60  3 19 71 96 56 87 92 47 25 20 45 79\n",
            " 94 44 74 34 65 17 49 30 12  0 33 40 46  1  2 23 64  9  8 68 24 88  4 21\n",
            " 26 61 18 54  6 75 11 37 10 80 53 52 42 81 62  5 32 86 39 36 78 51 35 98\n",
            " 66 14 91 57 95 41 38 82 89 72 83 76 69 28 97 70 27 93 58 85 22 13 84 73\n",
            " 63 90] TEST: [43 29]\n",
            "*********************\n",
            "TRAIN: [ 5 82 18  8 42 11 81 63 14 87  1 83 91 49 62 32 75 44 64  4 15 38 26 69\n",
            " 65 23 41 27 77  2 47 25 37 20 89 19 58 73 33 68  0 96 90 61 59 94 55 50\n",
            " 21 24 85 86 95 40 57 16 66 54 98 70 22 29 10 67 99 71 56 74 28 80 84 78\n",
            " 88 31 30 43 39 93 79 53 36 46 52  9 51 76  6 45 35 97 34  7 13 17 72 12\n",
            " 48  3] TEST: [92 60]\n",
            "*********************\n"
          ]
        }
      ]
    },
    {
      "cell_type": "code",
      "source": [
        "tx.index([train_index])"
      ],
      "metadata": {
        "colab": {
          "base_uri": "https://localhost:8080/",
          "height": 166
        },
        "id": "0pZegdvyOPmo",
        "outputId": "ba92dc53-59f0-4a59-8c78-bf8ac857eb16"
      },
      "execution_count": 45,
      "outputs": [
        {
          "output_type": "error",
          "ename": "ValueError",
          "evalue": "ignored",
          "traceback": [
            "\u001b[0;31m---------------------------------------------------------------------------\u001b[0m",
            "\u001b[0;31mValueError\u001b[0m                                Traceback (most recent call last)",
            "\u001b[0;32m<ipython-input-45-3a60d0d12d0d>\u001b[0m in \u001b[0;36m<module>\u001b[0;34m\u001b[0m\n\u001b[0;32m----> 1\u001b[0;31m \u001b[0mtx\u001b[0m\u001b[0;34m.\u001b[0m\u001b[0mindex\u001b[0m\u001b[0;34m(\u001b[0m\u001b[0;34m[\u001b[0m\u001b[0mtrain_index\u001b[0m\u001b[0;34m]\u001b[0m\u001b[0;34m)\u001b[0m\u001b[0;34m\u001b[0m\u001b[0;34m\u001b[0m\u001b[0m\n\u001b[0m",
            "\u001b[0;31mValueError\u001b[0m: sequence.index(x): x not in sequence"
          ]
        }
      ]
    }
  ]
}