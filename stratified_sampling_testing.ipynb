{
  "nbformat": 4,
  "nbformat_minor": 0,
  "metadata": {
    "colab": {
      "provenance": [],
      "authorship_tag": "ABX9TyMhxmHyXJm6tqoDu4VFJnre",
      "include_colab_link": true
    },
    "kernelspec": {
      "name": "python3",
      "display_name": "Python 3"
    },
    "language_info": {
      "name": "python"
    }
  },
  "cells": [
    {
      "cell_type": "markdown",
      "metadata": {
        "id": "view-in-github",
        "colab_type": "text"
      },
      "source": [
        "<a href=\"https://colab.research.google.com/github/srilamaiti/ml_works/blob/main/stratified_sampling_testing.ipynb\" target=\"_parent\"><img src=\"https://colab.research.google.com/assets/colab-badge.svg\" alt=\"Open In Colab\"/></a>"
      ]
    },
    {
      "cell_type": "code",
      "execution_count": 22,
      "metadata": {
        "id": "eaMSKhbzwrim"
      },
      "outputs": [],
      "source": [
        "import numpy as np\n",
        "from sklearn.model_selection import StratifiedKFold\n",
        "from sklearn.model_selection import StratifiedShuffleSplit"
      ]
    },
    {
      "cell_type": "code",
      "source": [
        "X = np.array([[1, 2], [3, 4], [5, 6], [7, 8], [9, 10], [11, 12], [13, 14], [15, 16], [17, 18], [19, 20]])\n",
        "y = np.array([0, 1, 0, 1, 0, 1, 0, 1, 0, 1])\n",
        "X"
      ],
      "metadata": {
        "colab": {
          "base_uri": "https://localhost:8080/"
        },
        "id": "Wct5UdFfKVJp",
        "outputId": "f6fe9847-095e-45f6-b3b3-7697ec462917"
      },
      "execution_count": 27,
      "outputs": [
        {
          "output_type": "execute_result",
          "data": {
            "text/plain": [
              "array([[ 1,  2],\n",
              "       [ 3,  4],\n",
              "       [ 5,  6],\n",
              "       [ 7,  8],\n",
              "       [ 9, 10],\n",
              "       [11, 12],\n",
              "       [13, 14],\n",
              "       [15, 16],\n",
              "       [17, 18],\n",
              "       [19, 20]])"
            ]
          },
          "metadata": {},
          "execution_count": 27
        }
      ]
    },
    {
      "cell_type": "code",
      "source": [
        "skf = StratifiedKFold(n_splits = 4, random_state = 1234, shuffle = True)\n",
        "skf.get_n_splits(X, y)\n",
        "\n",
        "print(skf)\n",
        "for k_fold, (train_index, test_index) in enumerate(skf.split(X, y)):\n",
        "    print(f\"k fold : {k_fold + 1}\")\n",
        "    print(\"TRAIN:\", train_index, \"TEST:\", test_index)\n",
        "    X_train, X_test = X[train_index], X[test_index]\n",
        "    y_train, y_test = y[train_index], y[test_index]\n",
        "    print(\"X_train\")\n",
        "    print(X_train)\n",
        "    print(\"y_train\")\n",
        "    print(y_train)\n",
        "    print(\"X_test\")\n",
        "    print(X_test)\n",
        "    print(\"y_test\")\n",
        "    print(y_test)\n",
        "    print(\"**********************************************\")\n",
        "    print(\"**********************************************\")\n",
        "    print()\n",
        "    print()"
      ],
      "metadata": {
        "colab": {
          "base_uri": "https://localhost:8080/"
        },
        "id": "Zbp5iwLkxUWC",
        "outputId": "de4ef17f-4abd-4b80-c55c-0f8053023fd3"
      },
      "execution_count": 21,
      "outputs": [
        {
          "output_type": "stream",
          "name": "stdout",
          "text": [
            "StratifiedKFold(n_splits=4, random_state=1234, shuffle=True)\n",
            "k fold : 1\n",
            "TRAIN: [0 1 3 5 6 8 9] TEST: [2 4 7]\n",
            "X_train\n",
            "[[ 1  2]\n",
            " [ 3  4]\n",
            " [ 7  8]\n",
            " [11 12]\n",
            " [13 14]\n",
            " [17 18]\n",
            " [19 20]]\n",
            "y_train\n",
            "[0 1 1 1 0 0 1]\n",
            "X_test\n",
            "[[ 5  6]\n",
            " [ 9 10]\n",
            " [15 16]]\n",
            "y_test\n",
            "[0 0 1]\n",
            "**********************************************\n",
            "**********************************************\n",
            "\n",
            "\n",
            "k fold : 2\n",
            "TRAIN: [0 1 2 4 7 8 9] TEST: [3 5 6]\n",
            "X_train\n",
            "[[ 1  2]\n",
            " [ 3  4]\n",
            " [ 5  6]\n",
            " [ 9 10]\n",
            " [15 16]\n",
            " [17 18]\n",
            " [19 20]]\n",
            "y_train\n",
            "[0 1 0 0 1 0 1]\n",
            "X_test\n",
            "[[ 7  8]\n",
            " [11 12]\n",
            " [13 14]]\n",
            "y_test\n",
            "[1 1 0]\n",
            "**********************************************\n",
            "**********************************************\n",
            "\n",
            "\n",
            "k fold : 3\n",
            "TRAIN: [0 2 3 4 5 6 7 9] TEST: [1 8]\n",
            "X_train\n",
            "[[ 1  2]\n",
            " [ 5  6]\n",
            " [ 7  8]\n",
            " [ 9 10]\n",
            " [11 12]\n",
            " [13 14]\n",
            " [15 16]\n",
            " [19 20]]\n",
            "y_train\n",
            "[0 0 1 0 1 0 1 1]\n",
            "X_test\n",
            "[[ 3  4]\n",
            " [17 18]]\n",
            "y_test\n",
            "[1 0]\n",
            "**********************************************\n",
            "**********************************************\n",
            "\n",
            "\n",
            "k fold : 4\n",
            "TRAIN: [1 2 3 4 5 6 7 8] TEST: [0 9]\n",
            "X_train\n",
            "[[ 3  4]\n",
            " [ 5  6]\n",
            " [ 7  8]\n",
            " [ 9 10]\n",
            " [11 12]\n",
            " [13 14]\n",
            " [15 16]\n",
            " [17 18]]\n",
            "y_train\n",
            "[1 0 1 0 1 0 1 0]\n",
            "X_test\n",
            "[[ 1  2]\n",
            " [19 20]]\n",
            "y_test\n",
            "[0 1]\n",
            "**********************************************\n",
            "**********************************************\n",
            "\n",
            "\n"
          ]
        }
      ]
    },
    {
      "cell_type": "code",
      "source": [
        "sss = StratifiedShuffleSplit(n_splits=5, test_size=0.2, random_state=0)\n",
        "sss"
      ],
      "metadata": {
        "colab": {
          "base_uri": "https://localhost:8080/"
        },
        "id": "CpgPCG4JKgSV",
        "outputId": "08e2dbec-d63f-4f44-dbc0-6f5cd42d2551"
      },
      "execution_count": 28,
      "outputs": [
        {
          "output_type": "execute_result",
          "data": {
            "text/plain": [
              "StratifiedShuffleSplit(n_splits=5, random_state=0, test_size=0.2,\n",
              "            train_size=None)"
            ]
          },
          "metadata": {},
          "execution_count": 28
        }
      ]
    },
    {
      "cell_type": "code",
      "source": [
        "xtrain, xtest = list(sss.split(X, y))[0]"
      ],
      "metadata": {
        "id": "TwRfAKd1KppZ"
      },
      "execution_count": 29,
      "outputs": []
    },
    {
      "cell_type": "code",
      "source": [
        "xtrain, xtest"
      ],
      "metadata": {
        "colab": {
          "base_uri": "https://localhost:8080/"
        },
        "id": "mtWm3o1KKv-2",
        "outputId": "95af409b-3922-45f5-a791-04cbc7851457"
      },
      "execution_count": 30,
      "outputs": [
        {
          "output_type": "execute_result",
          "data": {
            "text/plain": [
              "(array([0, 3, 6, 9, 4, 1, 2, 5]), array([8, 7]))"
            ]
          },
          "metadata": {},
          "execution_count": 30
        }
      ]
    },
    {
      "cell_type": "code",
      "source": [
        "sss = StratifiedShuffleSplit(n_splits=5, test_size=0.2, random_state=0)\n",
        "sss"
      ],
      "metadata": {
        "colab": {
          "base_uri": "https://localhost:8080/"
        },
        "id": "NjtGih65LFI3",
        "outputId": "bc283389-98fc-4134-ec3d-59050fa01b69"
      },
      "execution_count": 31,
      "outputs": [
        {
          "output_type": "execute_result",
          "data": {
            "text/plain": [
              "StratifiedShuffleSplit(n_splits=5, random_state=0, test_size=0.2,\n",
              "            train_size=None)"
            ]
          },
          "metadata": {},
          "execution_count": 31
        }
      ]
    },
    {
      "cell_type": "code",
      "source": [
        "xtrain, xtest = list(sss.split(X, y))[0]\n",
        "xtrain, xtest"
      ],
      "metadata": {
        "colab": {
          "base_uri": "https://localhost:8080/"
        },
        "id": "VHIi8O3VLHbg",
        "outputId": "6675f65a-c7ca-4723-d8d0-b077be3f1f13"
      },
      "execution_count": 33,
      "outputs": [
        {
          "output_type": "execute_result",
          "data": {
            "text/plain": [
              "(array([0, 3, 6, 9, 4, 1, 2, 5]), array([8, 7]))"
            ]
          },
          "metadata": {},
          "execution_count": 33
        }
      ]
    },
    {
      "cell_type": "code",
      "source": [
        "for k in range(0,9):\n",
        "    sss = StratifiedShuffleSplit(n_splits=5, test_size=0.2, random_state=k)\n",
        "    xtrain, xtest = list(sss.split(X, y))[0]\n",
        "    print(k,xtrain, xtest)"
      ],
      "metadata": {
        "colab": {
          "base_uri": "https://localhost:8080/"
        },
        "id": "Kn2jXmOCLOGx",
        "outputId": "c3a0a16a-d11f-492c-ffe5-2b9a657184e6"
      },
      "execution_count": 35,
      "outputs": [
        {
          "output_type": "stream",
          "name": "stdout",
          "text": [
            "0 [0 3 6 9 4 1 2 5] [8 7]\n",
            "1 [8 9 5 0 1 2 7 4] [3 6]\n",
            "2 [1 9 3 4 5 6 8 2] [0 7]\n",
            "3 [9 6 5 8 7 2 0 3] [4 1]\n",
            "4 [5 9 8 0 7 3 2 6] [1 4]\n",
            "5 [5 0 7 2 8 4 9 3] [1 6]\n",
            "6 [9 6 7 0 1 3 2 8] [5 4]\n",
            "7 [2 3 9 5 4 6 0 1] [7 8]\n",
            "8 [1 0 2 4 9 7 3 8] [5 6]\n"
          ]
        }
      ]
    },
    {
      "cell_type": "code",
      "source": [
        "splits = 5\n",
        "\n",
        "tx = range(10)\n",
        "ty = [0] * 5 + [1] * 5\n",
        "\n",
        "from sklearn.model_selection import StratifiedShuffleSplit, StratifiedKFold\n",
        "from sklearn import datasets\n",
        "\n",
        "stratKfold = StratifiedKFold(n_splits=splits, shuffle=True, random_state=42)\n",
        "shufflesplit = StratifiedShuffleSplit(n_splits=splits, random_state=42, test_size=2)\n",
        "\n",
        "print(\"stratKFold\")\n",
        "for train_index, test_index in stratKfold.split(tx, ty):\n",
        "    print(\"TRAIN:\", train_index, \"TEST:\", test_index)\n",
        "\n",
        "print(\"Shuffle Split\")\n",
        "for train_index, test_index in shufflesplit.split(tx, ty):\n",
        "    print(\"TRAIN:\", train_index, \"TEST:\", test_index)"
      ],
      "metadata": {
        "colab": {
          "base_uri": "https://localhost:8080/"
        },
        "id": "_kGAYvNVMBA2",
        "outputId": "702c581b-4230-4db7-ab1f-2803c19747c0"
      },
      "execution_count": 36,
      "outputs": [
        {
          "output_type": "stream",
          "name": "stdout",
          "text": [
            "stratKFold\n",
            "TRAIN: [0 1 2 4 5 6 7 9] TEST: [3 8]\n",
            "TRAIN: [1 2 3 4 5 7 8 9] TEST: [0 6]\n",
            "TRAIN: [0 1 3 4 5 6 8 9] TEST: [2 7]\n",
            "TRAIN: [0 1 2 3 6 7 8 9] TEST: [4 5]\n",
            "TRAIN: [0 2 3 4 5 6 7 8] TEST: [1 9]\n",
            "Shuffle Split\n",
            "TRAIN: [8 4 1 0 6 5 7 2] TEST: [3 9]\n",
            "TRAIN: [7 0 3 9 4 5 1 6] TEST: [8 2]\n",
            "TRAIN: [1 2 5 6 4 8 9 0] TEST: [3 7]\n",
            "TRAIN: [4 6 7 8 3 5 1 2] TEST: [9 0]\n",
            "TRAIN: [7 2 6 5 4 3 0 9] TEST: [1 8]\n"
          ]
        }
      ]
    }
  ]
}