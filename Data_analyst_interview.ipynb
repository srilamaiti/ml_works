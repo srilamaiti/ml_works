{
  "cells": [
    {
      "cell_type": "markdown",
      "metadata": {
        "id": "view-in-github",
        "colab_type": "text"
      },
      "source": [
        "<a href=\"https://colab.research.google.com/github/srilamaiti/ml_works/blob/main/Data_analyst_interview.ipynb\" target=\"_parent\"><img src=\"https://colab.research.google.com/assets/colab-badge.svg\" alt=\"Open In Colab\"/></a>"
      ]
    },
    {
      "cell_type": "markdown",
      "metadata": {
        "id": "aLnNZc0IvUn3"
      },
      "source": [
        "#Data Analyst Interview Notebook"
      ]
    },
    {
      "cell_type": "markdown",
      "metadata": {
        "id": "G26Ao7nQvahf"
      },
      "source": [
        "## Introduction\n",
        "\n",
        "This notebook is designed to simulate real-world data that you could see from our technology. \n",
        "\n",
        "It is designed to test your proficiency with Python and Pandas, and your ability to find and present insights.\n",
        "\n",
        "This data is confidential; we expect you to not share this data with anyone. And we expect you to not get any external assistance.\n",
        "\n",
        "\n",
        "\n",
        "---\n",
        "\n",
        "\n",
        "You have been hired by Wiliot and are working with a US retail customer on a pilot deployment.  They are using our technology to track their merchandise throughout their supply chain.  The flow of their supply is:\n",
        "\n",
        "*   **DC 1:**  Orders are filled and palletized.\n",
        "*   **Truck:** Pallets travel from the DC 1 to DC 2 via semi-truck.\n",
        "*   **DC 2:**  Pallets are unloaded, and additional merchandise may be added.  They are then reloaded onto a new truck.\n",
        "*   **Truck:** Pallets travel from DC 2 to the Store.\n",
        "*   **Store:** Pallets are unloaded, cases are removed, and stocked, and the empty cases are left behind the building awaiting pickup. \n",
        "\n",
        "Your job is to dig into the data and find compelling insights to show the value fo the technology and help move the contract from a pilot into a full scaled deployment. \n",
        "\n",
        "\n",
        "\n",
        "---\n",
        "\n",
        "Each section has defined questions along with point values to help you prioritize your time.  \n",
        "\n",
        "In addition to the defined questions, the overall notebook and code presentation will be evaluated, and you will be awarded up to 10 points based on the clarity, cleaniness, and efficiency of the code.\n",
        "\n",
        "\n",
        "SCORING:\n",
        "* Part 1: 8 Points\n",
        "* Part 2: 12 Points\n",
        "* Part 3: 20 points\n",
        "* Code Quality: 10 points\n",
        "* Part 4: BONUS: Up to 15 points.\n"
      ]
    },
    {
      "cell_type": "markdown",
      "metadata": {
        "id": "QLGYgyeQwO00"
      },
      "source": [
        "## Part 0: Imports\n",
        "\n",
        "Import necessary packages and "
      ]
    },
    {
      "cell_type": "code",
      "execution_count": 61,
      "metadata": {
        "id": "dOSZ-z9degpC"
      },
      "outputs": [],
      "source": [
        "import pandas as pd\n",
        "import numpy as np\n",
        "import matplotlib.pyplot as plt\n",
        "import plotly.express as px\n",
        "import copy\n",
        "import seaborn as sns\n",
        "import datetime\n",
        "#Please add any additional imports here\n"
      ]
    },
    {
      "cell_type": "code",
      "execution_count": 2,
      "metadata": {
        "id": "Z9do6pjrwo6-"
      },
      "outputs": [],
      "source": [
        "# Import Dataset\n",
        "\n",
        "df = pd.read_excel('tote_shipment.xlsx')"
      ]
    },
    {
      "cell_type": "code",
      "execution_count": 3,
      "metadata": {
        "id": "LotwU7O6wzrg",
        "colab": {
          "base_uri": "https://localhost:8080/",
          "height": 356
        },
        "outputId": "2d54ee24-429a-4fb7-e4ad-ec337297866a"
      },
      "outputs": [
        {
          "output_type": "execute_result",
          "data": {
            "text/plain": [
              "  asset_type  asset_id                           tag_id  Site  \\\n",
              "0       tote       102  (01)00850027865010(21)0082T0932  DC 1   \n",
              "1       tote       102  (01)00850027865010(21)0082T0932  DC 1   \n",
              "2       tote       102  (01)00850027865010(21)0082T0932  DC 1   \n",
              "3       tote       102  (01)00850027865010(21)0082T0932  DC 1   \n",
              "4       tote       102  (01)00850027865010(21)0082T0932  DC 1   \n",
              "\n",
              "                  Zone     device_id                time_est       lat  \\\n",
              "0  pallet_assembly_DC1  F96E864E4F18 2022-08-02 11:57:38.044  47.79158   \n",
              "1  pallet_assembly_DC1  F96E864E4F18 2022-08-02 12:00:57.803  47.79158   \n",
              "2  pallet_assembly_DC1  F96E864E4F18 2022-08-02 12:06:46.752  47.79158   \n",
              "3  pallet_assembly_DC1  F96E864E4F18 2022-08-02 12:08:19.072  47.79158   \n",
              "4  pallet_assembly_DC1  F96E864E4F18 2022-08-02 12:09:58.231  47.79158   \n",
              "\n",
              "        lng  Temperature_C  Temperature_F  \n",
              "0 -65.68902           22.5           72.5  \n",
              "1 -65.68902           22.5           72.5  \n",
              "2 -65.68902           22.5           72.5  \n",
              "3 -65.68902           22.5           72.5  \n",
              "4 -65.68902           22.5           72.5  "
            ],
            "text/html": [
              "\n",
              "  <div id=\"df-3db9681c-8450-477e-801a-2a8cde6dd1b3\">\n",
              "    <div class=\"colab-df-container\">\n",
              "      <div>\n",
              "<style scoped>\n",
              "    .dataframe tbody tr th:only-of-type {\n",
              "        vertical-align: middle;\n",
              "    }\n",
              "\n",
              "    .dataframe tbody tr th {\n",
              "        vertical-align: top;\n",
              "    }\n",
              "\n",
              "    .dataframe thead th {\n",
              "        text-align: right;\n",
              "    }\n",
              "</style>\n",
              "<table border=\"1\" class=\"dataframe\">\n",
              "  <thead>\n",
              "    <tr style=\"text-align: right;\">\n",
              "      <th></th>\n",
              "      <th>asset_type</th>\n",
              "      <th>asset_id</th>\n",
              "      <th>tag_id</th>\n",
              "      <th>Site</th>\n",
              "      <th>Zone</th>\n",
              "      <th>device_id</th>\n",
              "      <th>time_est</th>\n",
              "      <th>lat</th>\n",
              "      <th>lng</th>\n",
              "      <th>Temperature_C</th>\n",
              "      <th>Temperature_F</th>\n",
              "    </tr>\n",
              "  </thead>\n",
              "  <tbody>\n",
              "    <tr>\n",
              "      <th>0</th>\n",
              "      <td>tote</td>\n",
              "      <td>102</td>\n",
              "      <td>(01)00850027865010(21)0082T0932</td>\n",
              "      <td>DC 1</td>\n",
              "      <td>pallet_assembly_DC1</td>\n",
              "      <td>F96E864E4F18</td>\n",
              "      <td>2022-08-02 11:57:38.044</td>\n",
              "      <td>47.79158</td>\n",
              "      <td>-65.68902</td>\n",
              "      <td>22.5</td>\n",
              "      <td>72.5</td>\n",
              "    </tr>\n",
              "    <tr>\n",
              "      <th>1</th>\n",
              "      <td>tote</td>\n",
              "      <td>102</td>\n",
              "      <td>(01)00850027865010(21)0082T0932</td>\n",
              "      <td>DC 1</td>\n",
              "      <td>pallet_assembly_DC1</td>\n",
              "      <td>F96E864E4F18</td>\n",
              "      <td>2022-08-02 12:00:57.803</td>\n",
              "      <td>47.79158</td>\n",
              "      <td>-65.68902</td>\n",
              "      <td>22.5</td>\n",
              "      <td>72.5</td>\n",
              "    </tr>\n",
              "    <tr>\n",
              "      <th>2</th>\n",
              "      <td>tote</td>\n",
              "      <td>102</td>\n",
              "      <td>(01)00850027865010(21)0082T0932</td>\n",
              "      <td>DC 1</td>\n",
              "      <td>pallet_assembly_DC1</td>\n",
              "      <td>F96E864E4F18</td>\n",
              "      <td>2022-08-02 12:06:46.752</td>\n",
              "      <td>47.79158</td>\n",
              "      <td>-65.68902</td>\n",
              "      <td>22.5</td>\n",
              "      <td>72.5</td>\n",
              "    </tr>\n",
              "    <tr>\n",
              "      <th>3</th>\n",
              "      <td>tote</td>\n",
              "      <td>102</td>\n",
              "      <td>(01)00850027865010(21)0082T0932</td>\n",
              "      <td>DC 1</td>\n",
              "      <td>pallet_assembly_DC1</td>\n",
              "      <td>F96E864E4F18</td>\n",
              "      <td>2022-08-02 12:08:19.072</td>\n",
              "      <td>47.79158</td>\n",
              "      <td>-65.68902</td>\n",
              "      <td>22.5</td>\n",
              "      <td>72.5</td>\n",
              "    </tr>\n",
              "    <tr>\n",
              "      <th>4</th>\n",
              "      <td>tote</td>\n",
              "      <td>102</td>\n",
              "      <td>(01)00850027865010(21)0082T0932</td>\n",
              "      <td>DC 1</td>\n",
              "      <td>pallet_assembly_DC1</td>\n",
              "      <td>F96E864E4F18</td>\n",
              "      <td>2022-08-02 12:09:58.231</td>\n",
              "      <td>47.79158</td>\n",
              "      <td>-65.68902</td>\n",
              "      <td>22.5</td>\n",
              "      <td>72.5</td>\n",
              "    </tr>\n",
              "  </tbody>\n",
              "</table>\n",
              "</div>\n",
              "      <button class=\"colab-df-convert\" onclick=\"convertToInteractive('df-3db9681c-8450-477e-801a-2a8cde6dd1b3')\"\n",
              "              title=\"Convert this dataframe to an interactive table.\"\n",
              "              style=\"display:none;\">\n",
              "        \n",
              "  <svg xmlns=\"http://www.w3.org/2000/svg\" height=\"24px\"viewBox=\"0 0 24 24\"\n",
              "       width=\"24px\">\n",
              "    <path d=\"M0 0h24v24H0V0z\" fill=\"none\"/>\n",
              "    <path d=\"M18.56 5.44l.94 2.06.94-2.06 2.06-.94-2.06-.94-.94-2.06-.94 2.06-2.06.94zm-11 1L8.5 8.5l.94-2.06 2.06-.94-2.06-.94L8.5 2.5l-.94 2.06-2.06.94zm10 10l.94 2.06.94-2.06 2.06-.94-2.06-.94-.94-2.06-.94 2.06-2.06.94z\"/><path d=\"M17.41 7.96l-1.37-1.37c-.4-.4-.92-.59-1.43-.59-.52 0-1.04.2-1.43.59L10.3 9.45l-7.72 7.72c-.78.78-.78 2.05 0 2.83L4 21.41c.39.39.9.59 1.41.59.51 0 1.02-.2 1.41-.59l7.78-7.78 2.81-2.81c.8-.78.8-2.07 0-2.86zM5.41 20L4 18.59l7.72-7.72 1.47 1.35L5.41 20z\"/>\n",
              "  </svg>\n",
              "      </button>\n",
              "      \n",
              "  <style>\n",
              "    .colab-df-container {\n",
              "      display:flex;\n",
              "      flex-wrap:wrap;\n",
              "      gap: 12px;\n",
              "    }\n",
              "\n",
              "    .colab-df-convert {\n",
              "      background-color: #E8F0FE;\n",
              "      border: none;\n",
              "      border-radius: 50%;\n",
              "      cursor: pointer;\n",
              "      display: none;\n",
              "      fill: #1967D2;\n",
              "      height: 32px;\n",
              "      padding: 0 0 0 0;\n",
              "      width: 32px;\n",
              "    }\n",
              "\n",
              "    .colab-df-convert:hover {\n",
              "      background-color: #E2EBFA;\n",
              "      box-shadow: 0px 1px 2px rgba(60, 64, 67, 0.3), 0px 1px 3px 1px rgba(60, 64, 67, 0.15);\n",
              "      fill: #174EA6;\n",
              "    }\n",
              "\n",
              "    [theme=dark] .colab-df-convert {\n",
              "      background-color: #3B4455;\n",
              "      fill: #D2E3FC;\n",
              "    }\n",
              "\n",
              "    [theme=dark] .colab-df-convert:hover {\n",
              "      background-color: #434B5C;\n",
              "      box-shadow: 0px 1px 3px 1px rgba(0, 0, 0, 0.15);\n",
              "      filter: drop-shadow(0px 1px 2px rgba(0, 0, 0, 0.3));\n",
              "      fill: #FFFFFF;\n",
              "    }\n",
              "  </style>\n",
              "\n",
              "      <script>\n",
              "        const buttonEl =\n",
              "          document.querySelector('#df-3db9681c-8450-477e-801a-2a8cde6dd1b3 button.colab-df-convert');\n",
              "        buttonEl.style.display =\n",
              "          google.colab.kernel.accessAllowed ? 'block' : 'none';\n",
              "\n",
              "        async function convertToInteractive(key) {\n",
              "          const element = document.querySelector('#df-3db9681c-8450-477e-801a-2a8cde6dd1b3');\n",
              "          const dataTable =\n",
              "            await google.colab.kernel.invokeFunction('convertToInteractive',\n",
              "                                                     [key], {});\n",
              "          if (!dataTable) return;\n",
              "\n",
              "          const docLinkHtml = 'Like what you see? Visit the ' +\n",
              "            '<a target=\"_blank\" href=https://colab.research.google.com/notebooks/data_table.ipynb>data table notebook</a>'\n",
              "            + ' to learn more about interactive tables.';\n",
              "          element.innerHTML = '';\n",
              "          dataTable['output_type'] = 'display_data';\n",
              "          await google.colab.output.renderOutput(dataTable, element);\n",
              "          const docLink = document.createElement('div');\n",
              "          docLink.innerHTML = docLinkHtml;\n",
              "          element.appendChild(docLink);\n",
              "        }\n",
              "      </script>\n",
              "    </div>\n",
              "  </div>\n",
              "  "
            ]
          },
          "metadata": {},
          "execution_count": 3
        }
      ],
      "source": [
        "#Look at the first few columns of the dataset\n",
        "df.head()"
      ]
    },
    {
      "cell_type": "code",
      "source": [
        "# per asset id, there are two tag id s\n",
        "df[['asset_id',  'tag_id']].drop_duplicates()"
      ],
      "metadata": {
        "colab": {
          "base_uri": "https://localhost:8080/",
          "height": 1000
        },
        "id": "qABWyHi4IJoJ",
        "outputId": "1d0e072d-8772-4f1c-e3ab-1f61245db7cc"
      },
      "execution_count": 10,
      "outputs": [
        {
          "output_type": "execute_result",
          "data": {
            "text/plain": [
              "        asset_id                           tag_id\n",
              "0            102  (01)00850027865010(21)0082T0932\n",
              "69           102  (01)00850027865010(21)0082T0329\n",
              "8205         145  (01)00850027865010(21)0082T0458\n",
              "8215         145  (01)00850027865010(21)0082T0609\n",
              "12261        149  (01)00850027865010(21)0082T0261\n",
              "12262        149  (01)00850027865010(21)0082T0260\n",
              "18610        159  (01)00850027865010(21)0082T0197\n",
              "18611        159  (01)00850027865010(21)0082T0196\n",
              "25218        167  (01)00850027865010(21)0082T0575\n",
              "25223        167  (01)00850027865010(21)0082T0574\n",
              "31993        170  (01)00850027865010(21)0082T0005\n",
              "31994        170  (01)00850027865010(21)0082T0236\n",
              "38568        181  (01)00850027865010(21)0082T1177\n",
              "42063        182  (01)00850027865010(21)0082T0843\n",
              "42067        182  (01)00850027865010(21)0082T0407\n",
              "47931          2  (01)00850027865010(21)0082T0219\n",
              "47953          2  (01)00850027865010(21)0082T0670\n",
              "54700        200  (01)00850027865010(21)0082T0653\n",
              "54701        200  (01)00850027865010(21)0082T0186\n",
              "62830        205  (01)00850027865010(21)0082T1137\n",
              "62831        205  (01)00850027865010(21)0082T1136\n",
              "67950         37  (01)00850027865010(21)0082T0953\n",
              "67957         37  (01)00850027865010(21)0082T0017\n",
              "80791         52  (01)00850027865010(21)0082T0685\n",
              "80792         52  (01)00850027865010(21)0082T1101\n",
              "87610         58  (01)00850027865010(21)0082T0040\n",
              "87614         58  (01)00850027865010(21)0082T0495\n",
              "96445         59  (01)00850027865010(21)0082T0525\n",
              "96451         59  (01)00850027865010(21)0082T0485\n",
              "105277        62  (01)00850027865010(21)0082T0193\n",
              "105278        62  (01)00850027865010(21)0082T0194\n",
              "117099        70  (01)00850027865010(21)0082T0415\n",
              "121755        84  (01)00850027865010(21)0082T0117\n",
              "121761        84  (01)00850027865010(21)0082T1188"
            ],
            "text/html": [
              "\n",
              "  <div id=\"df-f8718ddb-35f3-4f34-bf34-b52dabb9b20c\">\n",
              "    <div class=\"colab-df-container\">\n",
              "      <div>\n",
              "<style scoped>\n",
              "    .dataframe tbody tr th:only-of-type {\n",
              "        vertical-align: middle;\n",
              "    }\n",
              "\n",
              "    .dataframe tbody tr th {\n",
              "        vertical-align: top;\n",
              "    }\n",
              "\n",
              "    .dataframe thead th {\n",
              "        text-align: right;\n",
              "    }\n",
              "</style>\n",
              "<table border=\"1\" class=\"dataframe\">\n",
              "  <thead>\n",
              "    <tr style=\"text-align: right;\">\n",
              "      <th></th>\n",
              "      <th>asset_id</th>\n",
              "      <th>tag_id</th>\n",
              "    </tr>\n",
              "  </thead>\n",
              "  <tbody>\n",
              "    <tr>\n",
              "      <th>0</th>\n",
              "      <td>102</td>\n",
              "      <td>(01)00850027865010(21)0082T0932</td>\n",
              "    </tr>\n",
              "    <tr>\n",
              "      <th>69</th>\n",
              "      <td>102</td>\n",
              "      <td>(01)00850027865010(21)0082T0329</td>\n",
              "    </tr>\n",
              "    <tr>\n",
              "      <th>8205</th>\n",
              "      <td>145</td>\n",
              "      <td>(01)00850027865010(21)0082T0458</td>\n",
              "    </tr>\n",
              "    <tr>\n",
              "      <th>8215</th>\n",
              "      <td>145</td>\n",
              "      <td>(01)00850027865010(21)0082T0609</td>\n",
              "    </tr>\n",
              "    <tr>\n",
              "      <th>12261</th>\n",
              "      <td>149</td>\n",
              "      <td>(01)00850027865010(21)0082T0261</td>\n",
              "    </tr>\n",
              "    <tr>\n",
              "      <th>12262</th>\n",
              "      <td>149</td>\n",
              "      <td>(01)00850027865010(21)0082T0260</td>\n",
              "    </tr>\n",
              "    <tr>\n",
              "      <th>18610</th>\n",
              "      <td>159</td>\n",
              "      <td>(01)00850027865010(21)0082T0197</td>\n",
              "    </tr>\n",
              "    <tr>\n",
              "      <th>18611</th>\n",
              "      <td>159</td>\n",
              "      <td>(01)00850027865010(21)0082T0196</td>\n",
              "    </tr>\n",
              "    <tr>\n",
              "      <th>25218</th>\n",
              "      <td>167</td>\n",
              "      <td>(01)00850027865010(21)0082T0575</td>\n",
              "    </tr>\n",
              "    <tr>\n",
              "      <th>25223</th>\n",
              "      <td>167</td>\n",
              "      <td>(01)00850027865010(21)0082T0574</td>\n",
              "    </tr>\n",
              "    <tr>\n",
              "      <th>31993</th>\n",
              "      <td>170</td>\n",
              "      <td>(01)00850027865010(21)0082T0005</td>\n",
              "    </tr>\n",
              "    <tr>\n",
              "      <th>31994</th>\n",
              "      <td>170</td>\n",
              "      <td>(01)00850027865010(21)0082T0236</td>\n",
              "    </tr>\n",
              "    <tr>\n",
              "      <th>38568</th>\n",
              "      <td>181</td>\n",
              "      <td>(01)00850027865010(21)0082T1177</td>\n",
              "    </tr>\n",
              "    <tr>\n",
              "      <th>42063</th>\n",
              "      <td>182</td>\n",
              "      <td>(01)00850027865010(21)0082T0843</td>\n",
              "    </tr>\n",
              "    <tr>\n",
              "      <th>42067</th>\n",
              "      <td>182</td>\n",
              "      <td>(01)00850027865010(21)0082T0407</td>\n",
              "    </tr>\n",
              "    <tr>\n",
              "      <th>47931</th>\n",
              "      <td>2</td>\n",
              "      <td>(01)00850027865010(21)0082T0219</td>\n",
              "    </tr>\n",
              "    <tr>\n",
              "      <th>47953</th>\n",
              "      <td>2</td>\n",
              "      <td>(01)00850027865010(21)0082T0670</td>\n",
              "    </tr>\n",
              "    <tr>\n",
              "      <th>54700</th>\n",
              "      <td>200</td>\n",
              "      <td>(01)00850027865010(21)0082T0653</td>\n",
              "    </tr>\n",
              "    <tr>\n",
              "      <th>54701</th>\n",
              "      <td>200</td>\n",
              "      <td>(01)00850027865010(21)0082T0186</td>\n",
              "    </tr>\n",
              "    <tr>\n",
              "      <th>62830</th>\n",
              "      <td>205</td>\n",
              "      <td>(01)00850027865010(21)0082T1137</td>\n",
              "    </tr>\n",
              "    <tr>\n",
              "      <th>62831</th>\n",
              "      <td>205</td>\n",
              "      <td>(01)00850027865010(21)0082T1136</td>\n",
              "    </tr>\n",
              "    <tr>\n",
              "      <th>67950</th>\n",
              "      <td>37</td>\n",
              "      <td>(01)00850027865010(21)0082T0953</td>\n",
              "    </tr>\n",
              "    <tr>\n",
              "      <th>67957</th>\n",
              "      <td>37</td>\n",
              "      <td>(01)00850027865010(21)0082T0017</td>\n",
              "    </tr>\n",
              "    <tr>\n",
              "      <th>80791</th>\n",
              "      <td>52</td>\n",
              "      <td>(01)00850027865010(21)0082T0685</td>\n",
              "    </tr>\n",
              "    <tr>\n",
              "      <th>80792</th>\n",
              "      <td>52</td>\n",
              "      <td>(01)00850027865010(21)0082T1101</td>\n",
              "    </tr>\n",
              "    <tr>\n",
              "      <th>87610</th>\n",
              "      <td>58</td>\n",
              "      <td>(01)00850027865010(21)0082T0040</td>\n",
              "    </tr>\n",
              "    <tr>\n",
              "      <th>87614</th>\n",
              "      <td>58</td>\n",
              "      <td>(01)00850027865010(21)0082T0495</td>\n",
              "    </tr>\n",
              "    <tr>\n",
              "      <th>96445</th>\n",
              "      <td>59</td>\n",
              "      <td>(01)00850027865010(21)0082T0525</td>\n",
              "    </tr>\n",
              "    <tr>\n",
              "      <th>96451</th>\n",
              "      <td>59</td>\n",
              "      <td>(01)00850027865010(21)0082T0485</td>\n",
              "    </tr>\n",
              "    <tr>\n",
              "      <th>105277</th>\n",
              "      <td>62</td>\n",
              "      <td>(01)00850027865010(21)0082T0193</td>\n",
              "    </tr>\n",
              "    <tr>\n",
              "      <th>105278</th>\n",
              "      <td>62</td>\n",
              "      <td>(01)00850027865010(21)0082T0194</td>\n",
              "    </tr>\n",
              "    <tr>\n",
              "      <th>117099</th>\n",
              "      <td>70</td>\n",
              "      <td>(01)00850027865010(21)0082T0415</td>\n",
              "    </tr>\n",
              "    <tr>\n",
              "      <th>121755</th>\n",
              "      <td>84</td>\n",
              "      <td>(01)00850027865010(21)0082T0117</td>\n",
              "    </tr>\n",
              "    <tr>\n",
              "      <th>121761</th>\n",
              "      <td>84</td>\n",
              "      <td>(01)00850027865010(21)0082T1188</td>\n",
              "    </tr>\n",
              "  </tbody>\n",
              "</table>\n",
              "</div>\n",
              "      <button class=\"colab-df-convert\" onclick=\"convertToInteractive('df-f8718ddb-35f3-4f34-bf34-b52dabb9b20c')\"\n",
              "              title=\"Convert this dataframe to an interactive table.\"\n",
              "              style=\"display:none;\">\n",
              "        \n",
              "  <svg xmlns=\"http://www.w3.org/2000/svg\" height=\"24px\"viewBox=\"0 0 24 24\"\n",
              "       width=\"24px\">\n",
              "    <path d=\"M0 0h24v24H0V0z\" fill=\"none\"/>\n",
              "    <path d=\"M18.56 5.44l.94 2.06.94-2.06 2.06-.94-2.06-.94-.94-2.06-.94 2.06-2.06.94zm-11 1L8.5 8.5l.94-2.06 2.06-.94-2.06-.94L8.5 2.5l-.94 2.06-2.06.94zm10 10l.94 2.06.94-2.06 2.06-.94-2.06-.94-.94-2.06-.94 2.06-2.06.94z\"/><path d=\"M17.41 7.96l-1.37-1.37c-.4-.4-.92-.59-1.43-.59-.52 0-1.04.2-1.43.59L10.3 9.45l-7.72 7.72c-.78.78-.78 2.05 0 2.83L4 21.41c.39.39.9.59 1.41.59.51 0 1.02-.2 1.41-.59l7.78-7.78 2.81-2.81c.8-.78.8-2.07 0-2.86zM5.41 20L4 18.59l7.72-7.72 1.47 1.35L5.41 20z\"/>\n",
              "  </svg>\n",
              "      </button>\n",
              "      \n",
              "  <style>\n",
              "    .colab-df-container {\n",
              "      display:flex;\n",
              "      flex-wrap:wrap;\n",
              "      gap: 12px;\n",
              "    }\n",
              "\n",
              "    .colab-df-convert {\n",
              "      background-color: #E8F0FE;\n",
              "      border: none;\n",
              "      border-radius: 50%;\n",
              "      cursor: pointer;\n",
              "      display: none;\n",
              "      fill: #1967D2;\n",
              "      height: 32px;\n",
              "      padding: 0 0 0 0;\n",
              "      width: 32px;\n",
              "    }\n",
              "\n",
              "    .colab-df-convert:hover {\n",
              "      background-color: #E2EBFA;\n",
              "      box-shadow: 0px 1px 2px rgba(60, 64, 67, 0.3), 0px 1px 3px 1px rgba(60, 64, 67, 0.15);\n",
              "      fill: #174EA6;\n",
              "    }\n",
              "\n",
              "    [theme=dark] .colab-df-convert {\n",
              "      background-color: #3B4455;\n",
              "      fill: #D2E3FC;\n",
              "    }\n",
              "\n",
              "    [theme=dark] .colab-df-convert:hover {\n",
              "      background-color: #434B5C;\n",
              "      box-shadow: 0px 1px 3px 1px rgba(0, 0, 0, 0.15);\n",
              "      filter: drop-shadow(0px 1px 2px rgba(0, 0, 0, 0.3));\n",
              "      fill: #FFFFFF;\n",
              "    }\n",
              "  </style>\n",
              "\n",
              "      <script>\n",
              "        const buttonEl =\n",
              "          document.querySelector('#df-f8718ddb-35f3-4f34-bf34-b52dabb9b20c button.colab-df-convert');\n",
              "        buttonEl.style.display =\n",
              "          google.colab.kernel.accessAllowed ? 'block' : 'none';\n",
              "\n",
              "        async function convertToInteractive(key) {\n",
              "          const element = document.querySelector('#df-f8718ddb-35f3-4f34-bf34-b52dabb9b20c');\n",
              "          const dataTable =\n",
              "            await google.colab.kernel.invokeFunction('convertToInteractive',\n",
              "                                                     [key], {});\n",
              "          if (!dataTable) return;\n",
              "\n",
              "          const docLinkHtml = 'Like what you see? Visit the ' +\n",
              "            '<a target=\"_blank\" href=https://colab.research.google.com/notebooks/data_table.ipynb>data table notebook</a>'\n",
              "            + ' to learn more about interactive tables.';\n",
              "          element.innerHTML = '';\n",
              "          dataTable['output_type'] = 'display_data';\n",
              "          await google.colab.output.renderOutput(dataTable, element);\n",
              "          const docLink = document.createElement('div');\n",
              "          docLink.innerHTML = docLinkHtml;\n",
              "          element.appendChild(docLink);\n",
              "        }\n",
              "      </script>\n",
              "    </div>\n",
              "  </div>\n",
              "  "
            ]
          },
          "metadata": {},
          "execution_count": 10
        }
      ]
    },
    {
      "cell_type": "code",
      "source": [
        "# asset id : zone = 1 : many\n",
        "df[df.asset_id == 102]['Zone'].drop_duplicates()"
      ],
      "metadata": {
        "colab": {
          "base_uri": "https://localhost:8080/"
        },
        "id": "vWR12vFYKLLX",
        "outputId": "3ccc007c-9d31-4ea1-d08e-1d500bb20c99"
      },
      "execution_count": 23,
      "outputs": [
        {
          "output_type": "execute_result",
          "data": {
            "text/plain": [
              "0       pallet_assembly_DC1\n",
              "6             Forklift1_DC1\n",
              "62              staging_DC1\n",
              "67            Forklift3_DC1\n",
              "84           dock_doors_DC1\n",
              "126         PhoneKit2Bridge\n",
              "127         PhoneKit1Bridge\n",
              "144             PhoneKit2GW\n",
              "1204         dock_doors_DC2\n",
              "1473            PhoneKit1GW\n",
              "1535        receiving_Store\n",
              "1544       store_back_Store\n",
              "1753      store_front_Store\n",
              "2037    point_of_sale_Store\n",
              "Name: Zone, dtype: object"
            ]
          },
          "metadata": {},
          "execution_count": 23
        }
      ]
    },
    {
      "cell_type": "code",
      "source": [
        "# asset id : tag id = 1: 2\n",
        "df[df.asset_id == 102][['tag_id']].drop_duplicates()"
      ],
      "metadata": {
        "colab": {
          "base_uri": "https://localhost:8080/",
          "height": 112
        },
        "id": "TQhtzrZ2JAqU",
        "outputId": "26f50aec-d1b2-4393-8c14-71e1d4688a15"
      },
      "execution_count": 13,
      "outputs": [
        {
          "output_type": "execute_result",
          "data": {
            "text/plain": [
              "                             tag_id\n",
              "0   (01)00850027865010(21)0082T0932\n",
              "69  (01)00850027865010(21)0082T0329"
            ],
            "text/html": [
              "\n",
              "  <div id=\"df-8d53703b-de3e-42ec-a5fb-197b31037783\">\n",
              "    <div class=\"colab-df-container\">\n",
              "      <div>\n",
              "<style scoped>\n",
              "    .dataframe tbody tr th:only-of-type {\n",
              "        vertical-align: middle;\n",
              "    }\n",
              "\n",
              "    .dataframe tbody tr th {\n",
              "        vertical-align: top;\n",
              "    }\n",
              "\n",
              "    .dataframe thead th {\n",
              "        text-align: right;\n",
              "    }\n",
              "</style>\n",
              "<table border=\"1\" class=\"dataframe\">\n",
              "  <thead>\n",
              "    <tr style=\"text-align: right;\">\n",
              "      <th></th>\n",
              "      <th>tag_id</th>\n",
              "    </tr>\n",
              "  </thead>\n",
              "  <tbody>\n",
              "    <tr>\n",
              "      <th>0</th>\n",
              "      <td>(01)00850027865010(21)0082T0932</td>\n",
              "    </tr>\n",
              "    <tr>\n",
              "      <th>69</th>\n",
              "      <td>(01)00850027865010(21)0082T0329</td>\n",
              "    </tr>\n",
              "  </tbody>\n",
              "</table>\n",
              "</div>\n",
              "      <button class=\"colab-df-convert\" onclick=\"convertToInteractive('df-8d53703b-de3e-42ec-a5fb-197b31037783')\"\n",
              "              title=\"Convert this dataframe to an interactive table.\"\n",
              "              style=\"display:none;\">\n",
              "        \n",
              "  <svg xmlns=\"http://www.w3.org/2000/svg\" height=\"24px\"viewBox=\"0 0 24 24\"\n",
              "       width=\"24px\">\n",
              "    <path d=\"M0 0h24v24H0V0z\" fill=\"none\"/>\n",
              "    <path d=\"M18.56 5.44l.94 2.06.94-2.06 2.06-.94-2.06-.94-.94-2.06-.94 2.06-2.06.94zm-11 1L8.5 8.5l.94-2.06 2.06-.94-2.06-.94L8.5 2.5l-.94 2.06-2.06.94zm10 10l.94 2.06.94-2.06 2.06-.94-2.06-.94-.94-2.06-.94 2.06-2.06.94z\"/><path d=\"M17.41 7.96l-1.37-1.37c-.4-.4-.92-.59-1.43-.59-.52 0-1.04.2-1.43.59L10.3 9.45l-7.72 7.72c-.78.78-.78 2.05 0 2.83L4 21.41c.39.39.9.59 1.41.59.51 0 1.02-.2 1.41-.59l7.78-7.78 2.81-2.81c.8-.78.8-2.07 0-2.86zM5.41 20L4 18.59l7.72-7.72 1.47 1.35L5.41 20z\"/>\n",
              "  </svg>\n",
              "      </button>\n",
              "      \n",
              "  <style>\n",
              "    .colab-df-container {\n",
              "      display:flex;\n",
              "      flex-wrap:wrap;\n",
              "      gap: 12px;\n",
              "    }\n",
              "\n",
              "    .colab-df-convert {\n",
              "      background-color: #E8F0FE;\n",
              "      border: none;\n",
              "      border-radius: 50%;\n",
              "      cursor: pointer;\n",
              "      display: none;\n",
              "      fill: #1967D2;\n",
              "      height: 32px;\n",
              "      padding: 0 0 0 0;\n",
              "      width: 32px;\n",
              "    }\n",
              "\n",
              "    .colab-df-convert:hover {\n",
              "      background-color: #E2EBFA;\n",
              "      box-shadow: 0px 1px 2px rgba(60, 64, 67, 0.3), 0px 1px 3px 1px rgba(60, 64, 67, 0.15);\n",
              "      fill: #174EA6;\n",
              "    }\n",
              "\n",
              "    [theme=dark] .colab-df-convert {\n",
              "      background-color: #3B4455;\n",
              "      fill: #D2E3FC;\n",
              "    }\n",
              "\n",
              "    [theme=dark] .colab-df-convert:hover {\n",
              "      background-color: #434B5C;\n",
              "      box-shadow: 0px 1px 3px 1px rgba(0, 0, 0, 0.15);\n",
              "      filter: drop-shadow(0px 1px 2px rgba(0, 0, 0, 0.3));\n",
              "      fill: #FFFFFF;\n",
              "    }\n",
              "  </style>\n",
              "\n",
              "      <script>\n",
              "        const buttonEl =\n",
              "          document.querySelector('#df-8d53703b-de3e-42ec-a5fb-197b31037783 button.colab-df-convert');\n",
              "        buttonEl.style.display =\n",
              "          google.colab.kernel.accessAllowed ? 'block' : 'none';\n",
              "\n",
              "        async function convertToInteractive(key) {\n",
              "          const element = document.querySelector('#df-8d53703b-de3e-42ec-a5fb-197b31037783');\n",
              "          const dataTable =\n",
              "            await google.colab.kernel.invokeFunction('convertToInteractive',\n",
              "                                                     [key], {});\n",
              "          if (!dataTable) return;\n",
              "\n",
              "          const docLinkHtml = 'Like what you see? Visit the ' +\n",
              "            '<a target=\"_blank\" href=https://colab.research.google.com/notebooks/data_table.ipynb>data table notebook</a>'\n",
              "            + ' to learn more about interactive tables.';\n",
              "          element.innerHTML = '';\n",
              "          dataTable['output_type'] = 'display_data';\n",
              "          await google.colab.output.renderOutput(dataTable, element);\n",
              "          const docLink = document.createElement('div');\n",
              "          docLink.innerHTML = docLinkHtml;\n",
              "          element.appendChild(docLink);\n",
              "        }\n",
              "      </script>\n",
              "    </div>\n",
              "  </div>\n",
              "  "
            ]
          },
          "metadata": {},
          "execution_count": 13
        }
      ]
    },
    {
      "cell_type": "code",
      "source": [
        "df[df.tag_id == '(01)00850027865010(21)0082T0932']['Zone'].drop_duplicates()"
      ],
      "metadata": {
        "colab": {
          "base_uri": "https://localhost:8080/"
        },
        "id": "3UGAoxMzLAVK",
        "outputId": "770d3790-43da-4be6-dbc6-9d324940b46c"
      },
      "execution_count": 26,
      "outputs": [
        {
          "output_type": "execute_result",
          "data": {
            "text/plain": [
              "0       pallet_assembly_DC1\n",
              "6             Forklift1_DC1\n",
              "62              staging_DC1\n",
              "67            Forklift3_DC1\n",
              "84           dock_doors_DC1\n",
              "126         PhoneKit2Bridge\n",
              "133         PhoneKit1Bridge\n",
              "144             PhoneKit2GW\n",
              "1204         dock_doors_DC2\n",
              "1473            PhoneKit1GW\n",
              "1536        receiving_Store\n",
              "1544       store_back_Store\n",
              "1753      store_front_Store\n",
              "Name: Zone, dtype: object"
            ]
          },
          "metadata": {},
          "execution_count": 26
        }
      ]
    },
    {
      "cell_type": "code",
      "source": [
        "df[df.tag_id == '(01)00850027865010(21)0082T0329']['Zone'].drop_duplicates()"
      ],
      "metadata": {
        "colab": {
          "base_uri": "https://localhost:8080/"
        },
        "id": "7iESt8guLUnI",
        "outputId": "4b5202d5-98a5-403b-d88e-0ef967e4b156"
      },
      "execution_count": 27,
      "outputs": [
        {
          "output_type": "execute_result",
          "data": {
            "text/plain": [
              "69              staging_DC1\n",
              "127         PhoneKit1Bridge\n",
              "131         PhoneKit2Bridge\n",
              "197             PhoneKit2GW\n",
              "1535        receiving_Store\n",
              "1646       store_back_Store\n",
              "1754      store_front_Store\n",
              "2037    point_of_sale_Store\n",
              "Name: Zone, dtype: object"
            ]
          },
          "metadata": {},
          "execution_count": 27
        }
      ]
    },
    {
      "cell_type": "code",
      "source": [
        "# asset id : device id = 1: many\n",
        "df[df.asset_id == 102][['device_id']].drop_duplicates()"
      ],
      "metadata": {
        "colab": {
          "base_uri": "https://localhost:8080/",
          "height": 958
        },
        "id": "wMtS0TWFIuua",
        "outputId": "c84c8291-f1db-4f25-f5c5-fbdd330243d0"
      },
      "execution_count": 12,
      "outputs": [
        {
          "output_type": "execute_result",
          "data": {
            "text/plain": [
              "             device_id\n",
              "0         F96E864E4F18\n",
              "5         7436A2B82DC1\n",
              "6         E2F5A528ABFC\n",
              "62        770B915B6470\n",
              "65        4841FD2819D9\n",
              "67        6EEDDB0D6881\n",
              "69        758ECEA02EA7\n",
              "70        99A61D1647F7\n",
              "84        0B2FD04933B5\n",
              "107       36BA90E8F876\n",
              "125       EC5B0499234F\n",
              "126       69F24D678C1C\n",
              "127       747F99C09A08\n",
              "144   5B2B2FDFD70A2202\n",
              "1204      379663A695EF\n",
              "1208      9AC4A4154B28\n",
              "1210      2FC8DD79125D\n",
              "1473  38A44056604C8F70\n",
              "1535      AC8DEAE6FD79\n",
              "1536      DC4FBAED57C9\n",
              "1544      58DB59BDCE08\n",
              "1663      F2F715EFF03F\n",
              "1753      6AF833197EE3\n",
              "1754      26AB1C9A2E41\n",
              "1755      C8C08D22E0B1\n",
              "1761      11977BD156C6\n",
              "1764      C7FA15BE7D1B\n",
              "2037      EEEB01ADE266\n",
              "2162      F57AA72F5B15"
            ],
            "text/html": [
              "\n",
              "  <div id=\"df-6ca040f4-49f8-42d6-b1e3-254070fd4565\">\n",
              "    <div class=\"colab-df-container\">\n",
              "      <div>\n",
              "<style scoped>\n",
              "    .dataframe tbody tr th:only-of-type {\n",
              "        vertical-align: middle;\n",
              "    }\n",
              "\n",
              "    .dataframe tbody tr th {\n",
              "        vertical-align: top;\n",
              "    }\n",
              "\n",
              "    .dataframe thead th {\n",
              "        text-align: right;\n",
              "    }\n",
              "</style>\n",
              "<table border=\"1\" class=\"dataframe\">\n",
              "  <thead>\n",
              "    <tr style=\"text-align: right;\">\n",
              "      <th></th>\n",
              "      <th>device_id</th>\n",
              "    </tr>\n",
              "  </thead>\n",
              "  <tbody>\n",
              "    <tr>\n",
              "      <th>0</th>\n",
              "      <td>F96E864E4F18</td>\n",
              "    </tr>\n",
              "    <tr>\n",
              "      <th>5</th>\n",
              "      <td>7436A2B82DC1</td>\n",
              "    </tr>\n",
              "    <tr>\n",
              "      <th>6</th>\n",
              "      <td>E2F5A528ABFC</td>\n",
              "    </tr>\n",
              "    <tr>\n",
              "      <th>62</th>\n",
              "      <td>770B915B6470</td>\n",
              "    </tr>\n",
              "    <tr>\n",
              "      <th>65</th>\n",
              "      <td>4841FD2819D9</td>\n",
              "    </tr>\n",
              "    <tr>\n",
              "      <th>67</th>\n",
              "      <td>6EEDDB0D6881</td>\n",
              "    </tr>\n",
              "    <tr>\n",
              "      <th>69</th>\n",
              "      <td>758ECEA02EA7</td>\n",
              "    </tr>\n",
              "    <tr>\n",
              "      <th>70</th>\n",
              "      <td>99A61D1647F7</td>\n",
              "    </tr>\n",
              "    <tr>\n",
              "      <th>84</th>\n",
              "      <td>0B2FD04933B5</td>\n",
              "    </tr>\n",
              "    <tr>\n",
              "      <th>107</th>\n",
              "      <td>36BA90E8F876</td>\n",
              "    </tr>\n",
              "    <tr>\n",
              "      <th>125</th>\n",
              "      <td>EC5B0499234F</td>\n",
              "    </tr>\n",
              "    <tr>\n",
              "      <th>126</th>\n",
              "      <td>69F24D678C1C</td>\n",
              "    </tr>\n",
              "    <tr>\n",
              "      <th>127</th>\n",
              "      <td>747F99C09A08</td>\n",
              "    </tr>\n",
              "    <tr>\n",
              "      <th>144</th>\n",
              "      <td>5B2B2FDFD70A2202</td>\n",
              "    </tr>\n",
              "    <tr>\n",
              "      <th>1204</th>\n",
              "      <td>379663A695EF</td>\n",
              "    </tr>\n",
              "    <tr>\n",
              "      <th>1208</th>\n",
              "      <td>9AC4A4154B28</td>\n",
              "    </tr>\n",
              "    <tr>\n",
              "      <th>1210</th>\n",
              "      <td>2FC8DD79125D</td>\n",
              "    </tr>\n",
              "    <tr>\n",
              "      <th>1473</th>\n",
              "      <td>38A44056604C8F70</td>\n",
              "    </tr>\n",
              "    <tr>\n",
              "      <th>1535</th>\n",
              "      <td>AC8DEAE6FD79</td>\n",
              "    </tr>\n",
              "    <tr>\n",
              "      <th>1536</th>\n",
              "      <td>DC4FBAED57C9</td>\n",
              "    </tr>\n",
              "    <tr>\n",
              "      <th>1544</th>\n",
              "      <td>58DB59BDCE08</td>\n",
              "    </tr>\n",
              "    <tr>\n",
              "      <th>1663</th>\n",
              "      <td>F2F715EFF03F</td>\n",
              "    </tr>\n",
              "    <tr>\n",
              "      <th>1753</th>\n",
              "      <td>6AF833197EE3</td>\n",
              "    </tr>\n",
              "    <tr>\n",
              "      <th>1754</th>\n",
              "      <td>26AB1C9A2E41</td>\n",
              "    </tr>\n",
              "    <tr>\n",
              "      <th>1755</th>\n",
              "      <td>C8C08D22E0B1</td>\n",
              "    </tr>\n",
              "    <tr>\n",
              "      <th>1761</th>\n",
              "      <td>11977BD156C6</td>\n",
              "    </tr>\n",
              "    <tr>\n",
              "      <th>1764</th>\n",
              "      <td>C7FA15BE7D1B</td>\n",
              "    </tr>\n",
              "    <tr>\n",
              "      <th>2037</th>\n",
              "      <td>EEEB01ADE266</td>\n",
              "    </tr>\n",
              "    <tr>\n",
              "      <th>2162</th>\n",
              "      <td>F57AA72F5B15</td>\n",
              "    </tr>\n",
              "  </tbody>\n",
              "</table>\n",
              "</div>\n",
              "      <button class=\"colab-df-convert\" onclick=\"convertToInteractive('df-6ca040f4-49f8-42d6-b1e3-254070fd4565')\"\n",
              "              title=\"Convert this dataframe to an interactive table.\"\n",
              "              style=\"display:none;\">\n",
              "        \n",
              "  <svg xmlns=\"http://www.w3.org/2000/svg\" height=\"24px\"viewBox=\"0 0 24 24\"\n",
              "       width=\"24px\">\n",
              "    <path d=\"M0 0h24v24H0V0z\" fill=\"none\"/>\n",
              "    <path d=\"M18.56 5.44l.94 2.06.94-2.06 2.06-.94-2.06-.94-.94-2.06-.94 2.06-2.06.94zm-11 1L8.5 8.5l.94-2.06 2.06-.94-2.06-.94L8.5 2.5l-.94 2.06-2.06.94zm10 10l.94 2.06.94-2.06 2.06-.94-2.06-.94-.94-2.06-.94 2.06-2.06.94z\"/><path d=\"M17.41 7.96l-1.37-1.37c-.4-.4-.92-.59-1.43-.59-.52 0-1.04.2-1.43.59L10.3 9.45l-7.72 7.72c-.78.78-.78 2.05 0 2.83L4 21.41c.39.39.9.59 1.41.59.51 0 1.02-.2 1.41-.59l7.78-7.78 2.81-2.81c.8-.78.8-2.07 0-2.86zM5.41 20L4 18.59l7.72-7.72 1.47 1.35L5.41 20z\"/>\n",
              "  </svg>\n",
              "      </button>\n",
              "      \n",
              "  <style>\n",
              "    .colab-df-container {\n",
              "      display:flex;\n",
              "      flex-wrap:wrap;\n",
              "      gap: 12px;\n",
              "    }\n",
              "\n",
              "    .colab-df-convert {\n",
              "      background-color: #E8F0FE;\n",
              "      border: none;\n",
              "      border-radius: 50%;\n",
              "      cursor: pointer;\n",
              "      display: none;\n",
              "      fill: #1967D2;\n",
              "      height: 32px;\n",
              "      padding: 0 0 0 0;\n",
              "      width: 32px;\n",
              "    }\n",
              "\n",
              "    .colab-df-convert:hover {\n",
              "      background-color: #E2EBFA;\n",
              "      box-shadow: 0px 1px 2px rgba(60, 64, 67, 0.3), 0px 1px 3px 1px rgba(60, 64, 67, 0.15);\n",
              "      fill: #174EA6;\n",
              "    }\n",
              "\n",
              "    [theme=dark] .colab-df-convert {\n",
              "      background-color: #3B4455;\n",
              "      fill: #D2E3FC;\n",
              "    }\n",
              "\n",
              "    [theme=dark] .colab-df-convert:hover {\n",
              "      background-color: #434B5C;\n",
              "      box-shadow: 0px 1px 3px 1px rgba(0, 0, 0, 0.15);\n",
              "      filter: drop-shadow(0px 1px 2px rgba(0, 0, 0, 0.3));\n",
              "      fill: #FFFFFF;\n",
              "    }\n",
              "  </style>\n",
              "\n",
              "      <script>\n",
              "        const buttonEl =\n",
              "          document.querySelector('#df-6ca040f4-49f8-42d6-b1e3-254070fd4565 button.colab-df-convert');\n",
              "        buttonEl.style.display =\n",
              "          google.colab.kernel.accessAllowed ? 'block' : 'none';\n",
              "\n",
              "        async function convertToInteractive(key) {\n",
              "          const element = document.querySelector('#df-6ca040f4-49f8-42d6-b1e3-254070fd4565');\n",
              "          const dataTable =\n",
              "            await google.colab.kernel.invokeFunction('convertToInteractive',\n",
              "                                                     [key], {});\n",
              "          if (!dataTable) return;\n",
              "\n",
              "          const docLinkHtml = 'Like what you see? Visit the ' +\n",
              "            '<a target=\"_blank\" href=https://colab.research.google.com/notebooks/data_table.ipynb>data table notebook</a>'\n",
              "            + ' to learn more about interactive tables.';\n",
              "          element.innerHTML = '';\n",
              "          dataTable['output_type'] = 'display_data';\n",
              "          await google.colab.output.renderOutput(dataTable, element);\n",
              "          const docLink = document.createElement('div');\n",
              "          docLink.innerHTML = docLinkHtml;\n",
              "          element.appendChild(docLink);\n",
              "        }\n",
              "      </script>\n",
              "    </div>\n",
              "  </div>\n",
              "  "
            ]
          },
          "metadata": {},
          "execution_count": 12
        }
      ]
    },
    {
      "cell_type": "code",
      "source": [
        "df[(df.asset_id == 102) & (df.device_id=='F96E864E4F18')]['tag_id'].drop_duplicates()"
      ],
      "metadata": {
        "colab": {
          "base_uri": "https://localhost:8080/"
        },
        "id": "GcrhvJixJL9x",
        "outputId": "5237b902-b506-42a5-fb34-af97f85b26a0"
      },
      "execution_count": 19,
      "outputs": [
        {
          "output_type": "execute_result",
          "data": {
            "text/plain": [
              "0    (01)00850027865010(21)0082T0932\n",
              "Name: tag_id, dtype: object"
            ]
          },
          "metadata": {},
          "execution_count": 19
        }
      ]
    },
    {
      "cell_type": "markdown",
      "metadata": {
        "id": "ilure2qpw4lT"
      },
      "source": [
        "### Dataset Overview\n",
        "\n",
        "* Site:  A large space that could contain multiple readers. Ex: DC 1.\n",
        "* Zone:  Point of interest. These represent areas in which repeaters are installed. These can be thought of as sub-zones.  Ex: Dock Doors.\n",
        "* Asset ID: The unique ID of the asset.\n",
        "* Asset Type: The type of thing that is detected (ie tote).\n",
        "* Device ID: The unique gateway reader ID that detected the device in the zone (there can be multiple in one zone).\n",
        "* Time est: The time in EST.\n",
        "* Lon: Longituge\n",
        "* Lat: Latitude\n",
        "* Temperature_C / F: Temperature in Celsius, Fahrentheit"
      ]
    },
    {
      "cell_type": "markdown",
      "metadata": {
        "id": "0PcG1lJdwopq"
      },
      "source": [
        "## PART 1: Data Overview"
      ]
    },
    {
      "cell_type": "markdown",
      "metadata": {
        "id": "tLLUIhxZ0wvF"
      },
      "source": [
        "### Question 1:\n",
        "\n",
        "* How many unique cases were we tracking throughout this pilot. (1 pt) **18**"
      ]
    },
    {
      "cell_type": "code",
      "execution_count": 4,
      "metadata": {
        "id": "PDMC6O4h0uqD",
        "colab": {
          "base_uri": "https://localhost:8080/"
        },
        "outputId": "a6538e2c-4e02-49e9-8409-4578206b69a5"
      },
      "outputs": [
        {
          "output_type": "execute_result",
          "data": {
            "text/plain": [
              "18"
            ]
          },
          "metadata": {},
          "execution_count": 4
        }
      ],
      "source": [
        "# YOUR CODE HERE:\n",
        "len(df['asset_id'].drop_duplicates())"
      ]
    },
    {
      "cell_type": "markdown",
      "source": [
        "What are the unique zones we could see (1 pt)"
      ],
      "metadata": {
        "id": "ZD3oBFybHmHw"
      }
    },
    {
      "cell_type": "code",
      "source": [
        "df['Zone'].drop_duplicates().values.tolist()"
      ],
      "metadata": {
        "colab": {
          "base_uri": "https://localhost:8080/"
        },
        "id": "W5UvG1SwOaxl",
        "outputId": "b50cacea-18a0-4ac8-c6f1-bcc4813a5d22"
      },
      "execution_count": 5,
      "outputs": [
        {
          "output_type": "execute_result",
          "data": {
            "text/plain": [
              "['pallet_assembly_DC1',\n",
              " 'Forklift1_DC1',\n",
              " 'staging_DC1',\n",
              " 'Forklift3_DC1',\n",
              " 'dock_doors_DC1',\n",
              " 'PhoneKit2Bridge',\n",
              " 'PhoneKit1Bridge',\n",
              " 'PhoneKit2GW',\n",
              " 'dock_doors_DC2',\n",
              " 'PhoneKit1GW',\n",
              " 'receiving_Store',\n",
              " 'store_back_Store',\n",
              " 'store_front_Store',\n",
              " 'point_of_sale_Store',\n",
              " 'staging_DC2']"
            ]
          },
          "metadata": {},
          "execution_count": 5
        }
      ]
    },
    {
      "cell_type": "code",
      "source": [
        "len(df['Zone'].drop_duplicates().values.tolist())"
      ],
      "metadata": {
        "colab": {
          "base_uri": "https://localhost:8080/"
        },
        "id": "3yGk0_HmPQS3",
        "outputId": "40f2fb6a-9b0d-49f3-bfd5-4b48c87402ee"
      },
      "execution_count": 13,
      "outputs": [
        {
          "output_type": "execute_result",
          "data": {
            "text/plain": [
              "15"
            ]
          },
          "metadata": {},
          "execution_count": 13
        }
      ]
    },
    {
      "cell_type": "markdown",
      "source": [
        "* How many POI's are in each Zone. (2 pts) "
      ],
      "metadata": {
        "id": "Z4uecIDTHh6f"
      }
    },
    {
      "cell_type": "code",
      "source": [
        "df.groupby(['Zone'])['asset_id'].value_counts()"
      ],
      "metadata": {
        "colab": {
          "base_uri": "https://localhost:8080/"
        },
        "id": "ACqVy3iWG9i7",
        "outputId": "59469ded-bee0-4ab2-ad2b-be1953385678"
      },
      "execution_count": 6,
      "outputs": [
        {
          "output_type": "execute_result",
          "data": {
            "text/plain": [
              "Zone               asset_id\n",
              "Forklift1_DC1      200          5\n",
              "                   37           4\n",
              "                   52           3\n",
              "                   84           3\n",
              "                   149          3\n",
              "                               ..\n",
              "store_front_Store  70          92\n",
              "                   62          85\n",
              "                   37          47\n",
              "                   167         19\n",
              "                   181         18\n",
              "Name: asset_id, Length: 236, dtype: int64"
            ]
          },
          "metadata": {},
          "execution_count": 6
        }
      ]
    },
    {
      "cell_type": "markdown",
      "metadata": {
        "id": "5SaHgmjN1sfO"
      },
      "source": [
        "### Question 2:\n",
        "\n",
        "* What is the temperature range we see?  (1pt) **Temperature_C ranges between 19 degc to 44 deg c**\n",
        "\n",
        "* Where is temperature the highest and lowest (1pt) **Highest temparature of Temperature_C is 44 deg c and lowest temparature is 19 deg c**"
      ]
    },
    {
      "cell_type": "code",
      "execution_count": 14,
      "metadata": {
        "id": "Yv6mfo8K1_uD",
        "colab": {
          "base_uri": "https://localhost:8080/"
        },
        "outputId": "f2c7867b-5f72-40ff-ca1a-1178769ece87"
      },
      "outputs": [
        {
          "output_type": "execute_result",
          "data": {
            "text/plain": [
              "count    130061.000000\n",
              "mean         25.874445\n",
              "std           2.795208\n",
              "min          19.000000\n",
              "25%          24.000000\n",
              "50%          25.000000\n",
              "75%          27.500000\n",
              "max          44.000000\n",
              "Name: Temperature_C, dtype: float64"
            ]
          },
          "metadata": {},
          "execution_count": 14
        }
      ],
      "source": [
        "# YOUR CODE HERE:\n",
        "df['Temperature_C'].describe()"
      ]
    },
    {
      "cell_type": "markdown",
      "metadata": {
        "id": "83ZytoZ02Oih"
      },
      "source": [
        "## Part 2: The Journey of a Case"
      ]
    },
    {
      "cell_type": "markdown",
      "metadata": {
        "id": "LT32Svy42BR8"
      },
      "source": [
        "### Question 3:\n",
        "\n",
        "* Create a visualization that shows where a case was at over time at the zone or POI level. Imagine that this would be included in your presentation to the customer. (Non techical audience) (3 pts)"
      ]
    },
    {
      "cell_type": "code",
      "execution_count": 71,
      "metadata": {
        "id": "dVuYYJMB2t_I",
        "colab": {
          "base_uri": "https://localhost:8080/",
          "height": 519
        },
        "outputId": "5b8dde0a-b8da-43f8-872e-fb49184f83c5"
      },
      "outputs": [
        {
          "output_type": "execute_result",
          "data": {
            "text/plain": [
              "                   Zone                min_time                max_time  \\\n",
              "0         Forklift1_DC1 2022-08-02 10:14:54.326 2022-08-02 13:43:52.244   \n",
              "1         Forklift3_DC1 2022-08-02 11:40:55.665 2022-08-02 14:13:28.137   \n",
              "2       PhoneKit1Bridge 2022-08-02 13:45:19.896 2022-08-04 08:37:59.164   \n",
              "3           PhoneKit1GW 2022-08-03 13:45:25.721 2022-08-04 06:07:57.096   \n",
              "4       PhoneKit2Bridge 2022-08-02 13:47:42.876 2022-08-04 08:35:02.201   \n",
              "5           PhoneKit2GW 2022-08-02 13:49:15.897 2022-08-04 08:34:20.755   \n",
              "6        dock_doors_DC1 2022-08-02 10:20:43.706 2022-08-02 13:58:03.180   \n",
              "7        dock_doors_DC2 2022-08-02 23:30:22.224 2022-08-04 03:46:27.100   \n",
              "8   pallet_assembly_DC1 2022-08-02 10:15:38.860 2022-08-02 13:51:21.013   \n",
              "9   point_of_sale_Store 2022-08-04 10:32:54.928 2022-08-05 08:45:22.306   \n",
              "10      receiving_Store 2022-08-04 08:35:16.191 2022-08-05 13:28:29.966   \n",
              "11          staging_DC1 2022-08-02 10:17:23.366 2022-08-02 13:58:04.030   \n",
              "12          staging_DC2 2022-08-02 23:30:24.468 2022-08-04 03:46:49.908   \n",
              "13     store_back_Store 2022-08-04 08:35:20.926 2022-08-05 13:28:25.330   \n",
              "14    store_front_Store 2022-08-04 08:36:25.443 2022-08-05 13:22:27.897   \n",
              "\n",
              "    time_spent  \n",
              "0      12538.0  \n",
              "1       9152.0  \n",
              "2     154359.0  \n",
              "3      58951.0  \n",
              "4     154039.0  \n",
              "5     153905.0  \n",
              "6      13039.0  \n",
              "7     101765.0  \n",
              "8      12942.0  \n",
              "9      79947.0  \n",
              "10    103994.0  \n",
              "11     13241.0  \n",
              "12    101785.0  \n",
              "13    103984.0  \n",
              "14    103562.0  "
            ],
            "text/html": [
              "\n",
              "  <div id=\"df-76365c70-b2b4-4bcc-9630-f23d1006baa0\">\n",
              "    <div class=\"colab-df-container\">\n",
              "      <div>\n",
              "<style scoped>\n",
              "    .dataframe tbody tr th:only-of-type {\n",
              "        vertical-align: middle;\n",
              "    }\n",
              "\n",
              "    .dataframe tbody tr th {\n",
              "        vertical-align: top;\n",
              "    }\n",
              "\n",
              "    .dataframe thead th {\n",
              "        text-align: right;\n",
              "    }\n",
              "</style>\n",
              "<table border=\"1\" class=\"dataframe\">\n",
              "  <thead>\n",
              "    <tr style=\"text-align: right;\">\n",
              "      <th></th>\n",
              "      <th>Zone</th>\n",
              "      <th>min_time</th>\n",
              "      <th>max_time</th>\n",
              "      <th>time_spent</th>\n",
              "    </tr>\n",
              "  </thead>\n",
              "  <tbody>\n",
              "    <tr>\n",
              "      <th>0</th>\n",
              "      <td>Forklift1_DC1</td>\n",
              "      <td>2022-08-02 10:14:54.326</td>\n",
              "      <td>2022-08-02 13:43:52.244</td>\n",
              "      <td>12538.0</td>\n",
              "    </tr>\n",
              "    <tr>\n",
              "      <th>1</th>\n",
              "      <td>Forklift3_DC1</td>\n",
              "      <td>2022-08-02 11:40:55.665</td>\n",
              "      <td>2022-08-02 14:13:28.137</td>\n",
              "      <td>9152.0</td>\n",
              "    </tr>\n",
              "    <tr>\n",
              "      <th>2</th>\n",
              "      <td>PhoneKit1Bridge</td>\n",
              "      <td>2022-08-02 13:45:19.896</td>\n",
              "      <td>2022-08-04 08:37:59.164</td>\n",
              "      <td>154359.0</td>\n",
              "    </tr>\n",
              "    <tr>\n",
              "      <th>3</th>\n",
              "      <td>PhoneKit1GW</td>\n",
              "      <td>2022-08-03 13:45:25.721</td>\n",
              "      <td>2022-08-04 06:07:57.096</td>\n",
              "      <td>58951.0</td>\n",
              "    </tr>\n",
              "    <tr>\n",
              "      <th>4</th>\n",
              "      <td>PhoneKit2Bridge</td>\n",
              "      <td>2022-08-02 13:47:42.876</td>\n",
              "      <td>2022-08-04 08:35:02.201</td>\n",
              "      <td>154039.0</td>\n",
              "    </tr>\n",
              "    <tr>\n",
              "      <th>5</th>\n",
              "      <td>PhoneKit2GW</td>\n",
              "      <td>2022-08-02 13:49:15.897</td>\n",
              "      <td>2022-08-04 08:34:20.755</td>\n",
              "      <td>153905.0</td>\n",
              "    </tr>\n",
              "    <tr>\n",
              "      <th>6</th>\n",
              "      <td>dock_doors_DC1</td>\n",
              "      <td>2022-08-02 10:20:43.706</td>\n",
              "      <td>2022-08-02 13:58:03.180</td>\n",
              "      <td>13039.0</td>\n",
              "    </tr>\n",
              "    <tr>\n",
              "      <th>7</th>\n",
              "      <td>dock_doors_DC2</td>\n",
              "      <td>2022-08-02 23:30:22.224</td>\n",
              "      <td>2022-08-04 03:46:27.100</td>\n",
              "      <td>101765.0</td>\n",
              "    </tr>\n",
              "    <tr>\n",
              "      <th>8</th>\n",
              "      <td>pallet_assembly_DC1</td>\n",
              "      <td>2022-08-02 10:15:38.860</td>\n",
              "      <td>2022-08-02 13:51:21.013</td>\n",
              "      <td>12942.0</td>\n",
              "    </tr>\n",
              "    <tr>\n",
              "      <th>9</th>\n",
              "      <td>point_of_sale_Store</td>\n",
              "      <td>2022-08-04 10:32:54.928</td>\n",
              "      <td>2022-08-05 08:45:22.306</td>\n",
              "      <td>79947.0</td>\n",
              "    </tr>\n",
              "    <tr>\n",
              "      <th>10</th>\n",
              "      <td>receiving_Store</td>\n",
              "      <td>2022-08-04 08:35:16.191</td>\n",
              "      <td>2022-08-05 13:28:29.966</td>\n",
              "      <td>103994.0</td>\n",
              "    </tr>\n",
              "    <tr>\n",
              "      <th>11</th>\n",
              "      <td>staging_DC1</td>\n",
              "      <td>2022-08-02 10:17:23.366</td>\n",
              "      <td>2022-08-02 13:58:04.030</td>\n",
              "      <td>13241.0</td>\n",
              "    </tr>\n",
              "    <tr>\n",
              "      <th>12</th>\n",
              "      <td>staging_DC2</td>\n",
              "      <td>2022-08-02 23:30:24.468</td>\n",
              "      <td>2022-08-04 03:46:49.908</td>\n",
              "      <td>101785.0</td>\n",
              "    </tr>\n",
              "    <tr>\n",
              "      <th>13</th>\n",
              "      <td>store_back_Store</td>\n",
              "      <td>2022-08-04 08:35:20.926</td>\n",
              "      <td>2022-08-05 13:28:25.330</td>\n",
              "      <td>103984.0</td>\n",
              "    </tr>\n",
              "    <tr>\n",
              "      <th>14</th>\n",
              "      <td>store_front_Store</td>\n",
              "      <td>2022-08-04 08:36:25.443</td>\n",
              "      <td>2022-08-05 13:22:27.897</td>\n",
              "      <td>103562.0</td>\n",
              "    </tr>\n",
              "  </tbody>\n",
              "</table>\n",
              "</div>\n",
              "      <button class=\"colab-df-convert\" onclick=\"convertToInteractive('df-76365c70-b2b4-4bcc-9630-f23d1006baa0')\"\n",
              "              title=\"Convert this dataframe to an interactive table.\"\n",
              "              style=\"display:none;\">\n",
              "        \n",
              "  <svg xmlns=\"http://www.w3.org/2000/svg\" height=\"24px\"viewBox=\"0 0 24 24\"\n",
              "       width=\"24px\">\n",
              "    <path d=\"M0 0h24v24H0V0z\" fill=\"none\"/>\n",
              "    <path d=\"M18.56 5.44l.94 2.06.94-2.06 2.06-.94-2.06-.94-.94-2.06-.94 2.06-2.06.94zm-11 1L8.5 8.5l.94-2.06 2.06-.94-2.06-.94L8.5 2.5l-.94 2.06-2.06.94zm10 10l.94 2.06.94-2.06 2.06-.94-2.06-.94-.94-2.06-.94 2.06-2.06.94z\"/><path d=\"M17.41 7.96l-1.37-1.37c-.4-.4-.92-.59-1.43-.59-.52 0-1.04.2-1.43.59L10.3 9.45l-7.72 7.72c-.78.78-.78 2.05 0 2.83L4 21.41c.39.39.9.59 1.41.59.51 0 1.02-.2 1.41-.59l7.78-7.78 2.81-2.81c.8-.78.8-2.07 0-2.86zM5.41 20L4 18.59l7.72-7.72 1.47 1.35L5.41 20z\"/>\n",
              "  </svg>\n",
              "      </button>\n",
              "      \n",
              "  <style>\n",
              "    .colab-df-container {\n",
              "      display:flex;\n",
              "      flex-wrap:wrap;\n",
              "      gap: 12px;\n",
              "    }\n",
              "\n",
              "    .colab-df-convert {\n",
              "      background-color: #E8F0FE;\n",
              "      border: none;\n",
              "      border-radius: 50%;\n",
              "      cursor: pointer;\n",
              "      display: none;\n",
              "      fill: #1967D2;\n",
              "      height: 32px;\n",
              "      padding: 0 0 0 0;\n",
              "      width: 32px;\n",
              "    }\n",
              "\n",
              "    .colab-df-convert:hover {\n",
              "      background-color: #E2EBFA;\n",
              "      box-shadow: 0px 1px 2px rgba(60, 64, 67, 0.3), 0px 1px 3px 1px rgba(60, 64, 67, 0.15);\n",
              "      fill: #174EA6;\n",
              "    }\n",
              "\n",
              "    [theme=dark] .colab-df-convert {\n",
              "      background-color: #3B4455;\n",
              "      fill: #D2E3FC;\n",
              "    }\n",
              "\n",
              "    [theme=dark] .colab-df-convert:hover {\n",
              "      background-color: #434B5C;\n",
              "      box-shadow: 0px 1px 3px 1px rgba(0, 0, 0, 0.15);\n",
              "      filter: drop-shadow(0px 1px 2px rgba(0, 0, 0, 0.3));\n",
              "      fill: #FFFFFF;\n",
              "    }\n",
              "  </style>\n",
              "\n",
              "      <script>\n",
              "        const buttonEl =\n",
              "          document.querySelector('#df-76365c70-b2b4-4bcc-9630-f23d1006baa0 button.colab-df-convert');\n",
              "        buttonEl.style.display =\n",
              "          google.colab.kernel.accessAllowed ? 'block' : 'none';\n",
              "\n",
              "        async function convertToInteractive(key) {\n",
              "          const element = document.querySelector('#df-76365c70-b2b4-4bcc-9630-f23d1006baa0');\n",
              "          const dataTable =\n",
              "            await google.colab.kernel.invokeFunction('convertToInteractive',\n",
              "                                                     [key], {});\n",
              "          if (!dataTable) return;\n",
              "\n",
              "          const docLinkHtml = 'Like what you see? Visit the ' +\n",
              "            '<a target=\"_blank\" href=https://colab.research.google.com/notebooks/data_table.ipynb>data table notebook</a>'\n",
              "            + ' to learn more about interactive tables.';\n",
              "          element.innerHTML = '';\n",
              "          dataTable['output_type'] = 'display_data';\n",
              "          await google.colab.output.renderOutput(dataTable, element);\n",
              "          const docLink = document.createElement('div');\n",
              "          docLink.innerHTML = docLinkHtml;\n",
              "          element.appendChild(docLink);\n",
              "        }\n",
              "      </script>\n",
              "    </div>\n",
              "  </div>\n",
              "  "
            ]
          },
          "metadata": {},
          "execution_count": 71
        }
      ],
      "source": [
        "# YOUR CODE HERE:\n",
        "df_temp = df.groupby(['Zone']).agg({'time_est': [np.min, np.max]}).reset_index()\n",
        "df_temp.columns = ['Zone', 'min_time', 'max_time']\n",
        "df_temp['time_spent'] = df_temp['max_time'] - df_temp['min_time']\n",
        "df_temp['time_spent'] = df_temp['time_spent'].dt.total_seconds().round()\n",
        "df_temp"
      ]
    },
    {
      "cell_type": "code",
      "source": [
        "df_temp.plot.bar(x='Zone', y='time_spent', rot=45)"
      ],
      "metadata": {
        "colab": {
          "base_uri": "https://localhost:8080/",
          "height": 568
        },
        "id": "D4Mpnu9VY-CZ",
        "outputId": "ba81a42e-6de8-420a-96c3-a384c631fd60"
      },
      "execution_count": 75,
      "outputs": [
        {
          "output_type": "execute_result",
          "data": {
            "text/plain": [
              "<Axes: xlabel='Zone'>"
            ]
          },
          "metadata": {},
          "execution_count": 75
        },
        {
          "output_type": "display_data",
          "data": {
            "text/plain": [
              "<Figure size 640x480 with 1 Axes>"
            ],
            "image/png": "[encoded data removed]"
          },
          "metadata": {}
        }
      ]
    },
    {
      "cell_type": "markdown",
      "metadata": {
        "id": "n7nBbEZ42vvP"
      },
      "source": [
        "### Question 4:\n",
        "\n",
        "* Visualize how the temperatue changes over time along its journey.  Imagine that this would be included in your presentation to the customer. (Non techical audience) (4 pts)\n",
        "\n"
      ]
    },
    {
      "cell_type": "code",
      "source": [
        "df.groupby(['device_id'])['asset_id' ].count()"
      ],
      "metadata": {
        "colab": {
          "base_uri": "https://localhost:8080/"
        },
        "id": "21YVpj6BXwDG",
        "outputId": "e280487a-12c6-4726-e8cf-da5126ead52d"
      },
      "execution_count": 63,
      "outputs": [
        {
          "output_type": "execute_result",
          "data": {
            "text/plain": [
              "device_id\n",
              "08D0A74A7C1D         2618\n",
              "0B2FD04933B5           21\n",
              "11977BD156C6         1124\n",
              "26AB1C9A2E41          511\n",
              "2B4DC74C0878           20\n",
              "2FC8DD79125D          124\n",
              "36BA90E8F876           68\n",
              "379663A695EF         1328\n",
              "38A44056604C8F70       89\n",
              "3D8B2BDB8673           21\n",
              "4710E397D1FA           33\n",
              "4841FD2819D9           46\n",
              "4F6D8CFDC0BD            7\n",
              "58DB59BDCE08         8919\n",
              "5B2B2FDFD70A2202      869\n",
              "69F24D678C1C        14604\n",
              "6AF833197EE3          770\n",
              "6EEDDB0D6881           75\n",
              "7436A2B82DC1          118\n",
              "747F99C09A08        14676\n",
              "758ECEA02EA7          156\n",
              "770B915B6470           57\n",
              "7F9A8353E973           43\n",
              "99A61D1647F7          265\n",
              "9AC4A4154B28          102\n",
              "AC8DEAE6FD79        43611\n",
              "BAE5E8CF978C           18\n",
              "C7FA15BE7D1B          149\n",
              "C8C08D22E0B1         1103\n",
              "DC4FBAED57C9        22484\n",
              "E2F5A528ABFC           31\n",
              "E6D3501BACAE           52\n",
              "EC5B0499234F           37\n",
              "EEEB01ADE266           45\n",
              "F2F715EFF03F        15504\n",
              "F57AA72F5B15           22\n",
              "F96E864E4F18          337\n",
              "GW0CDC7EDDDEB8          4\n",
              "Name: asset_id, dtype: int64"
            ]
          },
          "metadata": {},
          "execution_count": 63
        }
      ]
    },
    {
      "cell_type": "code",
      "source": [
        "df[df['device_id'] == 'F96E864E4F18'][['asset_id']].drop_duplicates()"
      ],
      "metadata": {
        "colab": {
          "base_uri": "https://localhost:8080/",
          "height": 519
        },
        "id": "is_gkUBcMGkM",
        "outputId": "131648e6-b833-4915-ff08-c767102e7141"
      },
      "execution_count": 28,
      "outputs": [
        {
          "output_type": "execute_result",
          "data": {
            "text/plain": [
              "        asset_id\n",
              "0            102\n",
              "8205         145\n",
              "25221        167\n",
              "31993        170\n",
              "38568        181\n",
              "42068        182\n",
              "47933          2\n",
              "54701        200\n",
              "62830        205\n",
              "67953         37\n",
              "87610         58\n",
              "96447         59\n",
              "105277        62\n",
              "117100        70\n",
              "121760        84"
            ],
            "text/html": [
              "\n",
              "  <div id=\"df-677cbb70-e04b-49db-8dff-93c91c663fe3\">\n",
              "    <div class=\"colab-df-container\">\n",
              "      <div>\n",
              "<style scoped>\n",
              "    .dataframe tbody tr th:only-of-type {\n",
              "        vertical-align: middle;\n",
              "    }\n",
              "\n",
              "    .dataframe tbody tr th {\n",
              "        vertical-align: top;\n",
              "    }\n",
              "\n",
              "    .dataframe thead th {\n",
              "        text-align: right;\n",
              "    }\n",
              "</style>\n",
              "<table border=\"1\" class=\"dataframe\">\n",
              "  <thead>\n",
              "    <tr style=\"text-align: right;\">\n",
              "      <th></th>\n",
              "      <th>asset_id</th>\n",
              "    </tr>\n",
              "  </thead>\n",
              "  <tbody>\n",
              "    <tr>\n",
              "      <th>0</th>\n",
              "      <td>102</td>\n",
              "    </tr>\n",
              "    <tr>\n",
              "      <th>8205</th>\n",
              "      <td>145</td>\n",
              "    </tr>\n",
              "    <tr>\n",
              "      <th>25221</th>\n",
              "      <td>167</td>\n",
              "    </tr>\n",
              "    <tr>\n",
              "      <th>31993</th>\n",
              "      <td>170</td>\n",
              "    </tr>\n",
              "    <tr>\n",
              "      <th>38568</th>\n",
              "      <td>181</td>\n",
              "    </tr>\n",
              "    <tr>\n",
              "      <th>42068</th>\n",
              "      <td>182</td>\n",
              "    </tr>\n",
              "    <tr>\n",
              "      <th>47933</th>\n",
              "      <td>2</td>\n",
              "    </tr>\n",
              "    <tr>\n",
              "      <th>54701</th>\n",
              "      <td>200</td>\n",
              "    </tr>\n",
              "    <tr>\n",
              "      <th>62830</th>\n",
              "      <td>205</td>\n",
              "    </tr>\n",
              "    <tr>\n",
              "      <th>67953</th>\n",
              "      <td>37</td>\n",
              "    </tr>\n",
              "    <tr>\n",
              "      <th>87610</th>\n",
              "      <td>58</td>\n",
              "    </tr>\n",
              "    <tr>\n",
              "      <th>96447</th>\n",
              "      <td>59</td>\n",
              "    </tr>\n",
              "    <tr>\n",
              "      <th>105277</th>\n",
              "      <td>62</td>\n",
              "    </tr>\n",
              "    <tr>\n",
              "      <th>117100</th>\n",
              "      <td>70</td>\n",
              "    </tr>\n",
              "    <tr>\n",
              "      <th>121760</th>\n",
              "      <td>84</td>\n",
              "    </tr>\n",
              "  </tbody>\n",
              "</table>\n",
              "</div>\n",
              "      <button class=\"colab-df-convert\" onclick=\"convertToInteractive('df-677cbb70-e04b-49db-8dff-93c91c663fe3')\"\n",
              "              title=\"Convert this dataframe to an interactive table.\"\n",
              "              style=\"display:none;\">\n",
              "        \n",
              "  <svg xmlns=\"http://www.w3.org/2000/svg\" height=\"24px\"viewBox=\"0 0 24 24\"\n",
              "       width=\"24px\">\n",
              "    <path d=\"M0 0h24v24H0V0z\" fill=\"none\"/>\n",
              "    <path d=\"M18.56 5.44l.94 2.06.94-2.06 2.06-.94-2.06-.94-.94-2.06-.94 2.06-2.06.94zm-11 1L8.5 8.5l.94-2.06 2.06-.94-2.06-.94L8.5 2.5l-.94 2.06-2.06.94zm10 10l.94 2.06.94-2.06 2.06-.94-2.06-.94-.94-2.06-.94 2.06-2.06.94z\"/><path d=\"M17.41 7.96l-1.37-1.37c-.4-.4-.92-.59-1.43-.59-.52 0-1.04.2-1.43.59L10.3 9.45l-7.72 7.72c-.78.78-.78 2.05 0 2.83L4 21.41c.39.39.9.59 1.41.59.51 0 1.02-.2 1.41-.59l7.78-7.78 2.81-2.81c.8-.78.8-2.07 0-2.86zM5.41 20L4 18.59l7.72-7.72 1.47 1.35L5.41 20z\"/>\n",
              "  </svg>\n",
              "      </button>\n",
              "      \n",
              "  <style>\n",
              "    .colab-df-container {\n",
              "      display:flex;\n",
              "      flex-wrap:wrap;\n",
              "      gap: 12px;\n",
              "    }\n",
              "\n",
              "    .colab-df-convert {\n",
              "      background-color: #E8F0FE;\n",
              "      border: none;\n",
              "      border-radius: 50%;\n",
              "      cursor: pointer;\n",
              "      display: none;\n",
              "      fill: #1967D2;\n",
              "      height: 32px;\n",
              "      padding: 0 0 0 0;\n",
              "      width: 32px;\n",
              "    }\n",
              "\n",
              "    .colab-df-convert:hover {\n",
              "      background-color: #E2EBFA;\n",
              "      box-shadow: 0px 1px 2px rgba(60, 64, 67, 0.3), 0px 1px 3px 1px rgba(60, 64, 67, 0.15);\n",
              "      fill: #174EA6;\n",
              "    }\n",
              "\n",
              "    [theme=dark] .colab-df-convert {\n",
              "      background-color: #3B4455;\n",
              "      fill: #D2E3FC;\n",
              "    }\n",
              "\n",
              "    [theme=dark] .colab-df-convert:hover {\n",
              "      background-color: #434B5C;\n",
              "      box-shadow: 0px 1px 3px 1px rgba(0, 0, 0, 0.15);\n",
              "      filter: drop-shadow(0px 1px 2px rgba(0, 0, 0, 0.3));\n",
              "      fill: #FFFFFF;\n",
              "    }\n",
              "  </style>\n",
              "\n",
              "      <script>\n",
              "        const buttonEl =\n",
              "          document.querySelector('#df-677cbb70-e04b-49db-8dff-93c91c663fe3 button.colab-df-convert');\n",
              "        buttonEl.style.display =\n",
              "          google.colab.kernel.accessAllowed ? 'block' : 'none';\n",
              "\n",
              "        async function convertToInteractive(key) {\n",
              "          const element = document.querySelector('#df-677cbb70-e04b-49db-8dff-93c91c663fe3');\n",
              "          const dataTable =\n",
              "            await google.colab.kernel.invokeFunction('convertToInteractive',\n",
              "                                                     [key], {});\n",
              "          if (!dataTable) return;\n",
              "\n",
              "          const docLinkHtml = 'Like what you see? Visit the ' +\n",
              "            '<a target=\"_blank\" href=https://colab.research.google.com/notebooks/data_table.ipynb>data table notebook</a>'\n",
              "            + ' to learn more about interactive tables.';\n",
              "          element.innerHTML = '';\n",
              "          dataTable['output_type'] = 'display_data';\n",
              "          await google.colab.output.renderOutput(dataTable, element);\n",
              "          const docLink = document.createElement('div');\n",
              "          docLink.innerHTML = docLinkHtml;\n",
              "          element.appendChild(docLink);\n",
              "        }\n",
              "      </script>\n",
              "    </div>\n",
              "  </div>\n",
              "  "
            ]
          },
          "metadata": {},
          "execution_count": 28
        }
      ]
    },
    {
      "cell_type": "code",
      "execution_count": 29,
      "metadata": {
        "id": "rZ6EgZDa3YCv",
        "colab": {
          "base_uri": "https://localhost:8080/",
          "height": 475
        },
        "outputId": "04a4212e-1749-4961-da1e-99cb94367df3"
      },
      "outputs": [
        {
          "output_type": "execute_result",
          "data": {
            "text/plain": [
              "Text(0.5, 1.0, 'Temperature Change over Time')"
            ]
          },
          "metadata": {},
          "execution_count": 29
        },
        {
          "output_type": "display_data",
          "data": {
            "text/plain": [
              "<Figure size 640x480 with 1 Axes>"
            ],
            "image/png": "[encoded data removed]"
          },
          "metadata": {}
        }
      ],
      "source": [
        "# YOUR CODE HERE:\n",
        "df_example = copy.deepcopy(df[(df['device_id'] == 'F96E864E4F18') & (df.asset_id == 102)] )\n",
        "df_example.set_index('time_est', inplace = True)\n",
        "df_example['Temperature_C'].plot()\n",
        "plt.xlabel(\"Time Interval\")\n",
        "plt.ylabel(\"Temperature in Celcious\")\n",
        "plt.title(\"Temperature Change over Time\")"
      ]
    },
    {
      "cell_type": "markdown",
      "metadata": {
        "id": "jq6sZbij4n5g"
      },
      "source": [
        "### Question 5:\n",
        "* Visualize the lon lat data on a map to show how the case traveled.  You may incorporate any other additional information to make this more impactful. Imagine that this would be included in your presentation to the customer. (Non techical audience) (5 pts)\n",
        "\n",
        "**Do not worry if this looks like non-sense on a map.  Ex:  The trip may appear to occur over water or in a forest because this is a toy dataset.**"
      ]
    },
    {
      "cell_type": "code",
      "execution_count": 30,
      "metadata": {
        "id": "S0NrgqkM5a3m",
        "colab": {
          "base_uri": "https://localhost:8080/",
          "height": 542
        },
        "outputId": "81dfcb59-3ad5-411f-c669-77c045caa82b"
      },
      "outputs": [
        {
          "output_type": "display_data",
          "data": {
            "text/html": [
              "<html>\n",
              "<head><meta charset=\"utf-8\" /></head>\n",
              "<body>\n",
              "    <div>            <script src=\"https://cdnjs.cloudflare.com/ajax/libs/mathjax/2.7.5/MathJax.js?config=TeX-AMS-MML_SVG\"></script><script type=\"text/javascript\">if (window.MathJax && window.MathJax.Hub && window.MathJax.Hub.Config) {window.MathJax.Hub.Config({SVG: {font: \"STIX-Web\"}});}</script>                <script type=\"text/javascript\">window.PlotlyConfig = {MathJaxConfig: 'local'};</script>\n",
              "        <script src=\"https://cdn.plot.ly/plotly-2.18.2.min.js\"></script>                <div id=\"e9581926-f6b5-430d-a6d2-d2e431e6e16f\" class=\"plotly-graph-div\" style=\"height:525px; width:100%;\"></div>            <script type=\"text/javascript\">                                    window.PLOTLYENV=window.PLOTLYENV || {};                                    if (document.getElementById(\"e9581926-f6b5-430d-a6d2-d2e431e6e16f\")) {                    Plotly.newPlot(                        \"e9581926-f6b5-430d-a6d2-d2e431e6e16f\",                        [{\"geo\":\"geo\",\"hovertemplate\":\"lat=%{lat}<br>lng=%{lon}<extra></extra>\",\"lat\":[47.7915799999999,47.7915799999999,47.7915799999999,47.7915799999999,47.7915799999999,47.7915799999999,47.7915799999999,47.7915799999999,47.7915799999999,47.7915799999999,47.7915799999999,47.7915799999999,47.7915799999999,47.7915799999999,47.7915799999999,47.7915799999999,47.7915799999999,47.7915799999999,47.7915799999999,47.7915799999999,47.7915799999999,47.7915799999999,47.7915799999999,47.7915799999999,47.7915799999999,47.7915799999999,47.7915799999999,47.7915799999999,47.7915799999999,47.7915799999999,47.7928,47.7929199999999,47.7915799999999,47.7915799999999,47.7915799999999,47.7915799999999,47.7915799999999,47.7915799999999,47.7915799999999,47.7915799999999,47.79293,47.7915799999999,47.7915799999999,47.7915799999999,47.7915799999999,47.7915799999999,47.7929199999999,47.7915799999999,47.7915799999999,47.7915799999999,47.7915799999999,47.7915799999999,47.7915799999999,47.7915799999999],\"legendgroup\":\"\",\"lon\":[-65.68902,-65.68902,-65.68902,-65.68902,-65.68902,-65.68902,-65.68902,-65.68902,-65.68902,-65.68902,-65.68902,-65.68902,-65.68902,-65.68902,-65.68902,-65.68902,-65.68902,-65.68902,-65.68902,-65.68902,-65.68902,-65.68902,-65.68902,-65.68902,-65.68902,-65.68902,-65.68902,-65.68902,-65.68902,-65.68902,-65.68952,-65.6896,-65.68902,-65.68902,-65.68902,-65.68902,-65.68902,-65.68902,-65.68902,-65.68902,-65.6896,-65.68902,-65.68902,-65.68902,-65.68902,-65.68902,-65.6896,-65.68902,-65.68902,-65.68902,-65.68902,-65.68902,-65.68902,-65.68902],\"marker\":{\"color\":\"#636efa\",\"symbol\":\"circle\"},\"mode\":\"markers\",\"name\":\"\",\"showlegend\":false,\"type\":\"scattergeo\"}],                        {\"template\":{\"data\":{\"histogram2dcontour\":[{\"type\":\"histogram2dcontour\",\"colorbar\":{\"outlinewidth\":0,\"ticks\":\"\"},\"colorscale\":[[0.0,\"#0d0887\"],[0.1111111111111111,\"#46039f\"],[0.2222222222222222,\"#7201a8\"],[0.3333333333333333,\"#9c179e\"],[0.4444444444444444,\"#bd3786\"],[0.5555555555555556,\"#d8576b\"],[0.6666666666666666,\"#ed7953\"],[0.7777777777777778,\"#fb9f3a\"],[0.8888888888888888,\"#fdca26\"],[1.0,\"#f0f921\"]]}],\"choropleth\":[{\"type\":\"choropleth\",\"colorbar\":{\"outlinewidth\":0,\"ticks\":\"\"}}],\"histogram2d\":[{\"type\":\"histogram2d\",\"colorbar\":{\"outlinewidth\":0,\"ticks\":\"\"},\"colorscale\":[[0.0,\"#0d0887\"],[0.1111111111111111,\"#46039f\"],[0.2222222222222222,\"#7201a8\"],[0.3333333333333333,\"#9c179e\"],[0.4444444444444444,\"#bd3786\"],[0.5555555555555556,\"#d8576b\"],[0.6666666666666666,\"#ed7953\"],[0.7777777777777778,\"#fb9f3a\"],[0.8888888888888888,\"#fdca26\"],[1.0,\"#f0f921\"]]}],\"heatmap\":[{\"type\":\"heatmap\",\"colorbar\":{\"outlinewidth\":0,\"ticks\":\"\"},\"colorscale\":[[0.0,\"#0d0887\"],[0.1111111111111111,\"#46039f\"],[0.2222222222222222,\"#7201a8\"],[0.3333333333333333,\"#9c179e\"],[0.4444444444444444,\"#bd3786\"],[0.5555555555555556,\"#d8576b\"],[0.6666666666666666,\"#ed7953\"],[0.7777777777777778,\"#fb9f3a\"],[0.8888888888888888,\"#fdca26\"],[1.0,\"#f0f921\"]]}],\"heatmapgl\":[{\"type\":\"heatmapgl\",\"colorbar\":{\"outlinewidth\":0,\"ticks\":\"\"},\"colorscale\":[[0.0,\"#0d0887\"],[0.1111111111111111,\"#46039f\"],[0.2222222222222222,\"#7201a8\"],[0.3333333333333333,\"#9c179e\"],[0.4444444444444444,\"#bd3786\"],[0.5555555555555556,\"#d8576b\"],[0.6666666666666666,\"#ed7953\"],[0.7777777777777778,\"#fb9f3a\"],[0.8888888888888888,\"#fdca26\"],[1.0,\"#f0f921\"]]}],\"contourcarpet\":[{\"type\":\"contourcarpet\",\"colorbar\":{\"outlinewidth\":0,\"ticks\":\"\"}}],\"contour\":[{\"type\":\"contour\",\"colorbar\":{\"outlinewidth\":0,\"ticks\":\"\"},\"colorscale\":[[0.0,\"#0d0887\"],[0.1111111111111111,\"#46039f\"],[0.2222222222222222,\"#7201a8\"],[0.3333333333333333,\"#9c179e\"],[0.4444444444444444,\"#bd3786\"],[0.5555555555555556,\"#d8576b\"],[0.6666666666666666,\"#ed7953\"],[0.7777777777777778,\"#fb9f3a\"],[0.8888888888888888,\"#fdca26\"],[1.0,\"#f0f921\"]]}],\"surface\":[{\"type\":\"surface\",\"colorbar\":{\"outlinewidth\":0,\"ticks\":\"\"},\"colorscale\":[[0.0,\"#0d0887\"],[0.1111111111111111,\"#46039f\"],[0.2222222222222222,\"#7201a8\"],[0.3333333333333333,\"#9c179e\"],[0.4444444444444444,\"#bd3786\"],[0.5555555555555556,\"#d8576b\"],[0.6666666666666666,\"#ed7953\"],[0.7777777777777778,\"#fb9f3a\"],[0.8888888888888888,\"#fdca26\"],[1.0,\"#f0f921\"]]}],\"mesh3d\":[{\"type\":\"mesh3d\",\"colorbar\":{\"outlinewidth\":0,\"ticks\":\"\"}}],\"scatter\":[{\"fillpattern\":{\"fillmode\":\"overlay\",\"size\":10,\"solidity\":0.2},\"type\":\"scatter\"}],\"parcoords\":[{\"type\":\"parcoords\",\"line\":{\"colorbar\":{\"outlinewidth\":0,\"ticks\":\"\"}}}],\"scatterpolargl\":[{\"type\":\"scatterpolargl\",\"marker\":{\"colorbar\":{\"outlinewidth\":0,\"ticks\":\"\"}}}],\"bar\":[{\"error_x\":{\"color\":\"#2a3f5f\"},\"error_y\":{\"color\":\"#2a3f5f\"},\"marker\":{\"line\":{\"color\":\"#E5ECF6\",\"width\":0.5},\"pattern\":{\"fillmode\":\"overlay\",\"size\":10,\"solidity\":0.2}},\"type\":\"bar\"}],\"scattergeo\":[{\"type\":\"scattergeo\",\"marker\":{\"colorbar\":{\"outlinewidth\":0,\"ticks\":\"\"}}}],\"scatterpolar\":[{\"type\":\"scatterpolar\",\"marker\":{\"colorbar\":{\"outlinewidth\":0,\"ticks\":\"\"}}}],\"histogram\":[{\"marker\":{\"pattern\":{\"fillmode\":\"overlay\",\"size\":10,\"solidity\":0.2}},\"type\":\"histogram\"}],\"scattergl\":[{\"type\":\"scattergl\",\"marker\":{\"colorbar\":{\"outlinewidth\":0,\"ticks\":\"\"}}}],\"scatter3d\":[{\"type\":\"scatter3d\",\"line\":{\"colorbar\":{\"outlinewidth\":0,\"ticks\":\"\"}},\"marker\":{\"colorbar\":{\"outlinewidth\":0,\"ticks\":\"\"}}}],\"scattermapbox\":[{\"type\":\"scattermapbox\",\"marker\":{\"colorbar\":{\"outlinewidth\":0,\"ticks\":\"\"}}}],\"scatterternary\":[{\"type\":\"scatterternary\",\"marker\":{\"colorbar\":{\"outlinewidth\":0,\"ticks\":\"\"}}}],\"scattercarpet\":[{\"type\":\"scattercarpet\",\"marker\":{\"colorbar\":{\"outlinewidth\":0,\"ticks\":\"\"}}}],\"carpet\":[{\"aaxis\":{\"endlinecolor\":\"#2a3f5f\",\"gridcolor\":\"white\",\"linecolor\":\"white\",\"minorgridcolor\":\"white\",\"startlinecolor\":\"#2a3f5f\"},\"baxis\":{\"endlinecolor\":\"#2a3f5f\",\"gridcolor\":\"white\",\"linecolor\":\"white\",\"minorgridcolor\":\"white\",\"startlinecolor\":\"#2a3f5f\"},\"type\":\"carpet\"}],\"table\":[{\"cells\":{\"fill\":{\"color\":\"#EBF0F8\"},\"line\":{\"color\":\"white\"}},\"header\":{\"fill\":{\"color\":\"#C8D4E3\"},\"line\":{\"color\":\"white\"}},\"type\":\"table\"}],\"barpolar\":[{\"marker\":{\"line\":{\"color\":\"#E5ECF6\",\"width\":0.5},\"pattern\":{\"fillmode\":\"overlay\",\"size\":10,\"solidity\":0.2}},\"type\":\"barpolar\"}],\"pie\":[{\"automargin\":true,\"type\":\"pie\"}]},\"layout\":{\"autotypenumbers\":\"strict\",\"colorway\":[\"#636efa\",\"#EF553B\",\"#00cc96\",\"#ab63fa\",\"#FFA15A\",\"#19d3f3\",\"#FF6692\",\"#B6E880\",\"#FF97FF\",\"#FECB52\"],\"font\":{\"color\":\"#2a3f5f\"},\"hovermode\":\"closest\",\"hoverlabel\":{\"align\":\"left\"},\"paper_bgcolor\":\"white\",\"plot_bgcolor\":\"#E5ECF6\",\"polar\":{\"bgcolor\":\"#E5ECF6\",\"angularaxis\":{\"gridcolor\":\"white\",\"linecolor\":\"white\",\"ticks\":\"\"},\"radialaxis\":{\"gridcolor\":\"white\",\"linecolor\":\"white\",\"ticks\":\"\"}},\"ternary\":{\"bgcolor\":\"#E5ECF6\",\"aaxis\":{\"gridcolor\":\"white\",\"linecolor\":\"white\",\"ticks\":\"\"},\"baxis\":{\"gridcolor\":\"white\",\"linecolor\":\"white\",\"ticks\":\"\"},\"caxis\":{\"gridcolor\":\"white\",\"linecolor\":\"white\",\"ticks\":\"\"}},\"coloraxis\":{\"colorbar\":{\"outlinewidth\":0,\"ticks\":\"\"}},\"colorscale\":{\"sequential\":[[0.0,\"#0d0887\"],[0.1111111111111111,\"#46039f\"],[0.2222222222222222,\"#7201a8\"],[0.3333333333333333,\"#9c179e\"],[0.4444444444444444,\"#bd3786\"],[0.5555555555555556,\"#d8576b\"],[0.6666666666666666,\"#ed7953\"],[0.7777777777777778,\"#fb9f3a\"],[0.8888888888888888,\"#fdca26\"],[1.0,\"#f0f921\"]],\"sequentialminus\":[[0.0,\"#0d0887\"],[0.1111111111111111,\"#46039f\"],[0.2222222222222222,\"#7201a8\"],[0.3333333333333333,\"#9c179e\"],[0.4444444444444444,\"#bd3786\"],[0.5555555555555556,\"#d8576b\"],[0.6666666666666666,\"#ed7953\"],[0.7777777777777778,\"#fb9f3a\"],[0.8888888888888888,\"#fdca26\"],[1.0,\"#f0f921\"]],\"diverging\":[[0,\"#8e0152\"],[0.1,\"#c51b7d\"],[0.2,\"#de77ae\"],[0.3,\"#f1b6da\"],[0.4,\"#fde0ef\"],[0.5,\"#f7f7f7\"],[0.6,\"#e6f5d0\"],[0.7,\"#b8e186\"],[0.8,\"#7fbc41\"],[0.9,\"#4d9221\"],[1,\"#276419\"]]},\"xaxis\":{\"gridcolor\":\"white\",\"linecolor\":\"white\",\"ticks\":\"\",\"title\":{\"standoff\":15},\"zerolinecolor\":\"white\",\"automargin\":true,\"zerolinewidth\":2},\"yaxis\":{\"gridcolor\":\"white\",\"linecolor\":\"white\",\"ticks\":\"\",\"title\":{\"standoff\":15},\"zerolinecolor\":\"white\",\"automargin\":true,\"zerolinewidth\":2},\"scene\":{\"xaxis\":{\"backgroundcolor\":\"#E5ECF6\",\"gridcolor\":\"white\",\"linecolor\":\"white\",\"showbackground\":true,\"ticks\":\"\",\"zerolinecolor\":\"white\",\"gridwidth\":2},\"yaxis\":{\"backgroundcolor\":\"#E5ECF6\",\"gridcolor\":\"white\",\"linecolor\":\"white\",\"showbackground\":true,\"ticks\":\"\",\"zerolinecolor\":\"white\",\"gridwidth\":2},\"zaxis\":{\"backgroundcolor\":\"#E5ECF6\",\"gridcolor\":\"white\",\"linecolor\":\"white\",\"showbackground\":true,\"ticks\":\"\",\"zerolinecolor\":\"white\",\"gridwidth\":2}},\"shapedefaults\":{\"line\":{\"color\":\"#2a3f5f\"}},\"annotationdefaults\":{\"arrowcolor\":\"#2a3f5f\",\"arrowhead\":0,\"arrowwidth\":1},\"geo\":{\"bgcolor\":\"white\",\"landcolor\":\"#E5ECF6\",\"subunitcolor\":\"white\",\"showland\":true,\"showlakes\":true,\"lakecolor\":\"white\"},\"title\":{\"x\":0.05},\"mapbox\":{\"style\":\"light\"}}},\"geo\":{\"domain\":{\"x\":[0.0,1.0],\"y\":[0.0,1.0]},\"center\":{}},\"legend\":{\"tracegroupgap\":0},\"margin\":{\"t\":60},\"title\":{\"text\":\"State\",\"x\":0.5}},                        {\"responsive\": true}                    ).then(function(){\n",
              "                            \n",
              "var gd = document.getElementById('e9581926-f6b5-430d-a6d2-d2e431e6e16f');\n",
              "var x = new MutationObserver(function (mutations, observer) {{\n",
              "        var display = window.getComputedStyle(gd).display;\n",
              "        if (!display || display === 'none') {{\n",
              "            console.log([gd, 'removed!']);\n",
              "            Plotly.purge(gd);\n",
              "            observer.disconnect();\n",
              "        }}\n",
              "}});\n",
              "\n",
              "// Listen for the removal of the full notebook cells\n",
              "var notebookContainer = gd.closest('#notebook-container');\n",
              "if (notebookContainer) {{\n",
              "    x.observe(notebookContainer, {childList: true});\n",
              "}}\n",
              "\n",
              "// Listen for the clearing of the current output cell\n",
              "var outputEl = gd.closest('.output');\n",
              "if (outputEl) {{\n",
              "    x.observe(outputEl, {childList: true});\n",
              "}}\n",
              "\n",
              "                        })                };                            </script>        </div>\n",
              "</body>\n",
              "</html>"
            ]
          },
          "metadata": {}
        }
      ],
      "source": [
        "# YOUR CODE HERE:\n",
        "fig = px.scatter_geo(df_example, lat = 'lat', lon = 'lng')\n",
        "# setting title for the map\n",
        "fig.update_layout(title = 'State', title_x = 0.5)\n",
        "fig.show()"
      ]
    },
    {
      "cell_type": "markdown",
      "metadata": {
        "id": "V5nvTftA3IrL"
      },
      "source": [
        "# Part 3: Customer Questions\n"
      ]
    },
    {
      "cell_type": "markdown",
      "metadata": {
        "id": "RLBee4li3gZ5"
      },
      "source": [
        "### Question 6:\n",
        "\n",
        "The customer wants to understand the efficieny of ther DC operations.\n",
        "* Based on what you see in the data, (all zones except for STORE), which parts of their operation are most & least \"efficient? (10 pts)\n",
        "\n"
      ]
    },
    {
      "cell_type": "code",
      "execution_count": 77,
      "metadata": {
        "id": "9Ad7Wwa23HzQ",
        "colab": {
          "base_uri": "https://localhost:8080/",
          "height": 425
        },
        "outputId": "c4bad03f-9c22-46ca-b762-14a56fdd0eed"
      },
      "outputs": [
        {
          "output_type": "execute_result",
          "data": {
            "text/plain": [
              "                   Zone                min_time                max_time  \\\n",
              "1         Forklift3_DC1 2022-08-02 11:40:55.665 2022-08-02 14:13:28.137   \n",
              "0         Forklift1_DC1 2022-08-02 10:14:54.326 2022-08-02 13:43:52.244   \n",
              "8   pallet_assembly_DC1 2022-08-02 10:15:38.860 2022-08-02 13:51:21.013   \n",
              "6        dock_doors_DC1 2022-08-02 10:20:43.706 2022-08-02 13:58:03.180   \n",
              "10          staging_DC1 2022-08-02 10:17:23.366 2022-08-02 13:58:04.030   \n",
              "3           PhoneKit1GW 2022-08-03 13:45:25.721 2022-08-04 06:07:57.096   \n",
              "7        dock_doors_DC2 2022-08-02 23:30:22.224 2022-08-04 03:46:27.100   \n",
              "11          staging_DC2 2022-08-02 23:30:24.468 2022-08-04 03:46:49.908   \n",
              "9       receiving_Store 2022-08-04 08:35:16.191 2022-08-05 13:28:29.966   \n",
              "5           PhoneKit2GW 2022-08-02 13:49:15.897 2022-08-04 08:34:20.755   \n",
              "4       PhoneKit2Bridge 2022-08-02 13:47:42.876 2022-08-04 08:35:02.201   \n",
              "2       PhoneKit1Bridge 2022-08-02 13:45:19.896 2022-08-04 08:37:59.164   \n",
              "\n",
              "    time_spent  \n",
              "1       9152.0  \n",
              "0      12538.0  \n",
              "8      12942.0  \n",
              "6      13039.0  \n",
              "10     13241.0  \n",
              "3      58951.0  \n",
              "7     101765.0  \n",
              "11    101785.0  \n",
              "9     103994.0  \n",
              "5     153905.0  \n",
              "4     154039.0  \n",
              "2     154359.0  "
            ],
            "text/html": [
              "\n",
              "  <div id=\"df-897837b3-3db6-4d37-8668-0ab6f45963b2\">\n",
              "    <div class=\"colab-df-container\">\n",
              "      <div>\n",
              "<style scoped>\n",
              "    .dataframe tbody tr th:only-of-type {\n",
              "        vertical-align: middle;\n",
              "    }\n",
              "\n",
              "    .dataframe tbody tr th {\n",
              "        vertical-align: top;\n",
              "    }\n",
              "\n",
              "    .dataframe thead th {\n",
              "        text-align: right;\n",
              "    }\n",
              "</style>\n",
              "<table border=\"1\" class=\"dataframe\">\n",
              "  <thead>\n",
              "    <tr style=\"text-align: right;\">\n",
              "      <th></th>\n",
              "      <th>Zone</th>\n",
              "      <th>min_time</th>\n",
              "      <th>max_time</th>\n",
              "      <th>time_spent</th>\n",
              "    </tr>\n",
              "  </thead>\n",
              "  <tbody>\n",
              "    <tr>\n",
              "      <th>1</th>\n",
              "      <td>Forklift3_DC1</td>\n",
              "      <td>2022-08-02 11:40:55.665</td>\n",
              "      <td>2022-08-02 14:13:28.137</td>\n",
              "      <td>9152.0</td>\n",
              "    </tr>\n",
              "    <tr>\n",
              "      <th>0</th>\n",
              "      <td>Forklift1_DC1</td>\n",
              "      <td>2022-08-02 10:14:54.326</td>\n",
              "      <td>2022-08-02 13:43:52.244</td>\n",
              "      <td>12538.0</td>\n",
              "    </tr>\n",
              "    <tr>\n",
              "      <th>8</th>\n",
              "      <td>pallet_assembly_DC1</td>\n",
              "      <td>2022-08-02 10:15:38.860</td>\n",
              "      <td>2022-08-02 13:51:21.013</td>\n",
              "      <td>12942.0</td>\n",
              "    </tr>\n",
              "    <tr>\n",
              "      <th>6</th>\n",
              "      <td>dock_doors_DC1</td>\n",
              "      <td>2022-08-02 10:20:43.706</td>\n",
              "      <td>2022-08-02 13:58:03.180</td>\n",
              "      <td>13039.0</td>\n",
              "    </tr>\n",
              "    <tr>\n",
              "      <th>10</th>\n",
              "      <td>staging_DC1</td>\n",
              "      <td>2022-08-02 10:17:23.366</td>\n",
              "      <td>2022-08-02 13:58:04.030</td>\n",
              "      <td>13241.0</td>\n",
              "    </tr>\n",
              "    <tr>\n",
              "      <th>3</th>\n",
              "      <td>PhoneKit1GW</td>\n",
              "      <td>2022-08-03 13:45:25.721</td>\n",
              "      <td>2022-08-04 06:07:57.096</td>\n",
              "      <td>58951.0</td>\n",
              "    </tr>\n",
              "    <tr>\n",
              "      <th>7</th>\n",
              "      <td>dock_doors_DC2</td>\n",
              "      <td>2022-08-02 23:30:22.224</td>\n",
              "      <td>2022-08-04 03:46:27.100</td>\n",
              "      <td>101765.0</td>\n",
              "    </tr>\n",
              "    <tr>\n",
              "      <th>11</th>\n",
              "      <td>staging_DC2</td>\n",
              "      <td>2022-08-02 23:30:24.468</td>\n",
              "      <td>2022-08-04 03:46:49.908</td>\n",
              "      <td>101785.0</td>\n",
              "    </tr>\n",
              "    <tr>\n",
              "      <th>9</th>\n",
              "      <td>receiving_Store</td>\n",
              "      <td>2022-08-04 08:35:16.191</td>\n",
              "      <td>2022-08-05 13:28:29.966</td>\n",
              "      <td>103994.0</td>\n",
              "    </tr>\n",
              "    <tr>\n",
              "      <th>5</th>\n",
              "      <td>PhoneKit2GW</td>\n",
              "      <td>2022-08-02 13:49:15.897</td>\n",
              "      <td>2022-08-04 08:34:20.755</td>\n",
              "      <td>153905.0</td>\n",
              "    </tr>\n",
              "    <tr>\n",
              "      <th>4</th>\n",
              "      <td>PhoneKit2Bridge</td>\n",
              "      <td>2022-08-02 13:47:42.876</td>\n",
              "      <td>2022-08-04 08:35:02.201</td>\n",
              "      <td>154039.0</td>\n",
              "    </tr>\n",
              "    <tr>\n",
              "      <th>2</th>\n",
              "      <td>PhoneKit1Bridge</td>\n",
              "      <td>2022-08-02 13:45:19.896</td>\n",
              "      <td>2022-08-04 08:37:59.164</td>\n",
              "      <td>154359.0</td>\n",
              "    </tr>\n",
              "  </tbody>\n",
              "</table>\n",
              "</div>\n",
              "      <button class=\"colab-df-convert\" onclick=\"convertToInteractive('df-897837b3-3db6-4d37-8668-0ab6f45963b2')\"\n",
              "              title=\"Convert this dataframe to an interactive table.\"\n",
              "              style=\"display:none;\">\n",
              "        \n",
              "  <svg xmlns=\"http://www.w3.org/2000/svg\" height=\"24px\"viewBox=\"0 0 24 24\"\n",
              "       width=\"24px\">\n",
              "    <path d=\"M0 0h24v24H0V0z\" fill=\"none\"/>\n",
              "    <path d=\"M18.56 5.44l.94 2.06.94-2.06 2.06-.94-2.06-.94-.94-2.06-.94 2.06-2.06.94zm-11 1L8.5 8.5l.94-2.06 2.06-.94-2.06-.94L8.5 2.5l-.94 2.06-2.06.94zm10 10l.94 2.06.94-2.06 2.06-.94-2.06-.94-.94-2.06-.94 2.06-2.06.94z\"/><path d=\"M17.41 7.96l-1.37-1.37c-.4-.4-.92-.59-1.43-.59-.52 0-1.04.2-1.43.59L10.3 9.45l-7.72 7.72c-.78.78-.78 2.05 0 2.83L4 21.41c.39.39.9.59 1.41.59.51 0 1.02-.2 1.41-.59l7.78-7.78 2.81-2.81c.8-.78.8-2.07 0-2.86zM5.41 20L4 18.59l7.72-7.72 1.47 1.35L5.41 20z\"/>\n",
              "  </svg>\n",
              "      </button>\n",
              "      \n",
              "  <style>\n",
              "    .colab-df-container {\n",
              "      display:flex;\n",
              "      flex-wrap:wrap;\n",
              "      gap: 12px;\n",
              "    }\n",
              "\n",
              "    .colab-df-convert {\n",
              "      background-color: #E8F0FE;\n",
              "      border: none;\n",
              "      border-radius: 50%;\n",
              "      cursor: pointer;\n",
              "      display: none;\n",
              "      fill: #1967D2;\n",
              "      height: 32px;\n",
              "      padding: 0 0 0 0;\n",
              "      width: 32px;\n",
              "    }\n",
              "\n",
              "    .colab-df-convert:hover {\n",
              "      background-color: #E2EBFA;\n",
              "      box-shadow: 0px 1px 2px rgba(60, 64, 67, 0.3), 0px 1px 3px 1px rgba(60, 64, 67, 0.15);\n",
              "      fill: #174EA6;\n",
              "    }\n",
              "\n",
              "    [theme=dark] .colab-df-convert {\n",
              "      background-color: #3B4455;\n",
              "      fill: #D2E3FC;\n",
              "    }\n",
              "\n",
              "    [theme=dark] .colab-df-convert:hover {\n",
              "      background-color: #434B5C;\n",
              "      box-shadow: 0px 1px 3px 1px rgba(0, 0, 0, 0.15);\n",
              "      filter: drop-shadow(0px 1px 2px rgba(0, 0, 0, 0.3));\n",
              "      fill: #FFFFFF;\n",
              "    }\n",
              "  </style>\n",
              "\n",
              "      <script>\n",
              "        const buttonEl =\n",
              "          document.querySelector('#df-897837b3-3db6-4d37-8668-0ab6f45963b2 button.colab-df-convert');\n",
              "        buttonEl.style.display =\n",
              "          google.colab.kernel.accessAllowed ? 'block' : 'none';\n",
              "\n",
              "        async function convertToInteractive(key) {\n",
              "          const element = document.querySelector('#df-897837b3-3db6-4d37-8668-0ab6f45963b2');\n",
              "          const dataTable =\n",
              "            await google.colab.kernel.invokeFunction('convertToInteractive',\n",
              "                                                     [key], {});\n",
              "          if (!dataTable) return;\n",
              "\n",
              "          const docLinkHtml = 'Like what you see? Visit the ' +\n",
              "            '<a target=\"_blank\" href=https://colab.research.google.com/notebooks/data_table.ipynb>data table notebook</a>'\n",
              "            + ' to learn more about interactive tables.';\n",
              "          element.innerHTML = '';\n",
              "          dataTable['output_type'] = 'display_data';\n",
              "          await google.colab.output.renderOutput(dataTable, element);\n",
              "          const docLink = document.createElement('div');\n",
              "          docLink.innerHTML = docLinkHtml;\n",
              "          element.appendChild(docLink);\n",
              "        }\n",
              "      </script>\n",
              "    </div>\n",
              "  </div>\n",
              "  "
            ]
          },
          "metadata": {},
          "execution_count": 77
        }
      ],
      "source": [
        "# YOUR CODE HERE\n",
        "#df_example.reset_index(inplace = True)\n",
        "df_temp_1 = df[~df['Zone'].isin(['store_back_Store','store_front_Store','point_of_sale_Store'])].groupby(['Zone']).agg({'time_est': [np.min, np.max]}).reset_index()\n",
        "df_temp_1.columns = ['Zone', 'min_time', 'max_time']\n",
        "df_temp_1['time_spent'] = df_temp_1['max_time'] - df_temp_1['min_time']\n",
        "df_temp_1['time_spent'] = df_temp_1['time_spent'].dt.total_seconds().round()\n",
        "df_temp_1.sort_values(by=['time_spent'])"
      ]
    },
    {
      "cell_type": "markdown",
      "metadata": {
        "id": "KxsNLU4u4CT9"
      },
      "source": [
        "**Overall, Forklift3_DC1operation is very efficient on average whereas PhoneKit1Bridge and PhoneKit2Bridge are lenghiest operations and spend more than a day.**"
      ]
    },
    {
      "cell_type": "markdown",
      "metadata": {
        "id": "BAR8MQnp4KhD"
      },
      "source": [
        "### Question 7:\n",
        "\n",
        "The customer wants to understand the stocking efficiency in stores.\n",
        "* Based on what you see in the data, how quickly did the store unload and stock the merchandise. (5 pts)\n",
        "* How could this be converted in a KPI that a regional manager could track?  (5 pts)"
      ]
    },
    {
      "cell_type": "code",
      "execution_count": 78,
      "metadata": {
        "id": "6yLtvhHB4ECp",
        "colab": {
          "base_uri": "https://localhost:8080/",
          "height": 143
        },
        "outputId": "f1cea988-7895-4e4e-9877-64669231f060"
      },
      "outputs": [
        {
          "output_type": "execute_result",
          "data": {
            "text/plain": [
              "                  Zone                min_time                max_time  \\\n",
              "0  point_of_sale_Store 2022-08-04 10:32:54.928 2022-08-05 08:45:22.306   \n",
              "2    store_front_Store 2022-08-04 08:36:25.443 2022-08-05 13:22:27.897   \n",
              "1     store_back_Store 2022-08-04 08:35:20.926 2022-08-05 13:28:25.330   \n",
              "\n",
              "   time_spent  \n",
              "0     79947.0  \n",
              "2    103562.0  \n",
              "1    103984.0  "
            ],
            "text/html": [
              "\n",
              "  <div id=\"df-2b45b1f3-8330-40c6-a38c-289259df24be\">\n",
              "    <div class=\"colab-df-container\">\n",
              "      <div>\n",
              "<style scoped>\n",
              "    .dataframe tbody tr th:only-of-type {\n",
              "        vertical-align: middle;\n",
              "    }\n",
              "\n",
              "    .dataframe tbody tr th {\n",
              "        vertical-align: top;\n",
              "    }\n",
              "\n",
              "    .dataframe thead th {\n",
              "        text-align: right;\n",
              "    }\n",
              "</style>\n",
              "<table border=\"1\" class=\"dataframe\">\n",
              "  <thead>\n",
              "    <tr style=\"text-align: right;\">\n",
              "      <th></th>\n",
              "      <th>Zone</th>\n",
              "      <th>min_time</th>\n",
              "      <th>max_time</th>\n",
              "      <th>time_spent</th>\n",
              "    </tr>\n",
              "  </thead>\n",
              "  <tbody>\n",
              "    <tr>\n",
              "      <th>0</th>\n",
              "      <td>point_of_sale_Store</td>\n",
              "      <td>2022-08-04 10:32:54.928</td>\n",
              "      <td>2022-08-05 08:45:22.306</td>\n",
              "      <td>79947.0</td>\n",
              "    </tr>\n",
              "    <tr>\n",
              "      <th>2</th>\n",
              "      <td>store_front_Store</td>\n",
              "      <td>2022-08-04 08:36:25.443</td>\n",
              "      <td>2022-08-05 13:22:27.897</td>\n",
              "      <td>103562.0</td>\n",
              "    </tr>\n",
              "    <tr>\n",
              "      <th>1</th>\n",
              "      <td>store_back_Store</td>\n",
              "      <td>2022-08-04 08:35:20.926</td>\n",
              "      <td>2022-08-05 13:28:25.330</td>\n",
              "      <td>103984.0</td>\n",
              "    </tr>\n",
              "  </tbody>\n",
              "</table>\n",
              "</div>\n",
              "      <button class=\"colab-df-convert\" onclick=\"convertToInteractive('df-2b45b1f3-8330-40c6-a38c-289259df24be')\"\n",
              "              title=\"Convert this dataframe to an interactive table.\"\n",
              "              style=\"display:none;\">\n",
              "        \n",
              "  <svg xmlns=\"http://www.w3.org/2000/svg\" height=\"24px\"viewBox=\"0 0 24 24\"\n",
              "       width=\"24px\">\n",
              "    <path d=\"M0 0h24v24H0V0z\" fill=\"none\"/>\n",
              "    <path d=\"M18.56 5.44l.94 2.06.94-2.06 2.06-.94-2.06-.94-.94-2.06-.94 2.06-2.06.94zm-11 1L8.5 8.5l.94-2.06 2.06-.94-2.06-.94L8.5 2.5l-.94 2.06-2.06.94zm10 10l.94 2.06.94-2.06 2.06-.94-2.06-.94-.94-2.06-.94 2.06-2.06.94z\"/><path d=\"M17.41 7.96l-1.37-1.37c-.4-.4-.92-.59-1.43-.59-.52 0-1.04.2-1.43.59L10.3 9.45l-7.72 7.72c-.78.78-.78 2.05 0 2.83L4 21.41c.39.39.9.59 1.41.59.51 0 1.02-.2 1.41-.59l7.78-7.78 2.81-2.81c.8-.78.8-2.07 0-2.86zM5.41 20L4 18.59l7.72-7.72 1.47 1.35L5.41 20z\"/>\n",
              "  </svg>\n",
              "      </button>\n",
              "      \n",
              "  <style>\n",
              "    .colab-df-container {\n",
              "      display:flex;\n",
              "      flex-wrap:wrap;\n",
              "      gap: 12px;\n",
              "    }\n",
              "\n",
              "    .colab-df-convert {\n",
              "      background-color: #E8F0FE;\n",
              "      border: none;\n",
              "      border-radius: 50%;\n",
              "      cursor: pointer;\n",
              "      display: none;\n",
              "      fill: #1967D2;\n",
              "      height: 32px;\n",
              "      padding: 0 0 0 0;\n",
              "      width: 32px;\n",
              "    }\n",
              "\n",
              "    .colab-df-convert:hover {\n",
              "      background-color: #E2EBFA;\n",
              "      box-shadow: 0px 1px 2px rgba(60, 64, 67, 0.3), 0px 1px 3px 1px rgba(60, 64, 67, 0.15);\n",
              "      fill: #174EA6;\n",
              "    }\n",
              "\n",
              "    [theme=dark] .colab-df-convert {\n",
              "      background-color: #3B4455;\n",
              "      fill: #D2E3FC;\n",
              "    }\n",
              "\n",
              "    [theme=dark] .colab-df-convert:hover {\n",
              "      background-color: #434B5C;\n",
              "      box-shadow: 0px 1px 3px 1px rgba(0, 0, 0, 0.15);\n",
              "      filter: drop-shadow(0px 1px 2px rgba(0, 0, 0, 0.3));\n",
              "      fill: #FFFFFF;\n",
              "    }\n",
              "  </style>\n",
              "\n",
              "      <script>\n",
              "        const buttonEl =\n",
              "          document.querySelector('#df-2b45b1f3-8330-40c6-a38c-289259df24be button.colab-df-convert');\n",
              "        buttonEl.style.display =\n",
              "          google.colab.kernel.accessAllowed ? 'block' : 'none';\n",
              "\n",
              "        async function convertToInteractive(key) {\n",
              "          const element = document.querySelector('#df-2b45b1f3-8330-40c6-a38c-289259df24be');\n",
              "          const dataTable =\n",
              "            await google.colab.kernel.invokeFunction('convertToInteractive',\n",
              "                                                     [key], {});\n",
              "          if (!dataTable) return;\n",
              "\n",
              "          const docLinkHtml = 'Like what you see? Visit the ' +\n",
              "            '<a target=\"_blank\" href=https://colab.research.google.com/notebooks/data_table.ipynb>data table notebook</a>'\n",
              "            + ' to learn more about interactive tables.';\n",
              "          element.innerHTML = '';\n",
              "          dataTable['output_type'] = 'display_data';\n",
              "          await google.colab.output.renderOutput(dataTable, element);\n",
              "          const docLink = document.createElement('div');\n",
              "          docLink.innerHTML = docLinkHtml;\n",
              "          element.appendChild(docLink);\n",
              "        }\n",
              "      </script>\n",
              "    </div>\n",
              "  </div>\n",
              "  "
            ]
          },
          "metadata": {},
          "execution_count": 78
        }
      ],
      "source": [
        "# YOUR CODE HERE\n",
        "df_store = df[df['Zone'].isin(['store_back_Store','store_front_Store','point_of_sale_Store'])]\n",
        "df_store = df_store.groupby(['Zone']).agg({'time_est': [np.min, np.max]}).reset_index()\n",
        "df_store.columns = ['Zone', 'min_time', 'max_time']\n",
        "df_store['time_spent'] = df_store['max_time'] - df_store['min_time']\n",
        "df_store['time_spent'] = df_store['time_spent'].dt.total_seconds().round()\n",
        "df_store.sort_values(by=['time_spent'])"
      ]
    },
    {
      "cell_type": "code",
      "source": [
        "(103984.0 - 79947.0) / 3600"
      ],
      "metadata": {
        "colab": {
          "base_uri": "https://localhost:8080/"
        },
        "id": "i9-hid3Rh1rk",
        "outputId": "07821b1c-f782-4fde-e7d4-3e9b3d15bffb"
      },
      "execution_count": 80,
      "outputs": [
        {
          "output_type": "execute_result",
          "data": {
            "text/plain": [
              "6.676944444444445"
            ]
          },
          "metadata": {},
          "execution_count": 80
        }
      ]
    },
    {
      "cell_type": "markdown",
      "metadata": {
        "id": "FrFLqjpC51rd"
      },
      "source": [
        "To get to the store, it takes 79947 seconds whereas unloading at store takes more time. Time difference in seconds is 24037 seconds (~7 hours).\n",
        "\n",
        "If we can convert the time taken at each step in a measuranble units (hour/30 minutes), it will be helpful for the manager to track."
      ]
    },
    {
      "cell_type": "markdown",
      "metadata": {
        "id": "ni6oJD9dNtSx"
      },
      "source": [
        "### Question 8:\n",
        "\n",
        "Please explain what you would ask for and what you will do with this data, given that you can talk with the following people (no code needed):\n",
        "* a.\tYour implementation/hardware engineer (those who can add functionalities to your product)\n",
        "* b.\tThe customer"
      ]
    },
    {
      "cell_type": "markdown",
      "metadata": {
        "id": "yvD2Dz-WNtSx"
      },
      "source": [
        "YOUR TEXT ANSWER HERE\n",
        "* a. If I can ask for more breakdown/normalize to the data, it will be helpful. Ex. A site has multiple zones and in one zone we can have multiple assets. It will be helpful to add some derived features like time spent in each zone in seconds, average temprature maintained historically etc. If the derived values are beyond historical values, we can trigger alerts. \n",
        "\n",
        "* b. For the customer, I would like to ask them what are the pain points that they have and how we can solve it. Do they want to track the temparature of the units or do they need time taken at each step on average and how it comopares to historical figures, do they fall within the given range or not etc. "
      ]
    },
    {
      "cell_type": "markdown",
      "metadata": {
        "id": "U-xbReWjr-_B"
      },
      "source": [
        "## Part 4: Bonus Insights"
      ]
    },
    {
      "cell_type": "markdown",
      "metadata": {
        "id": "XslflGXnsDAF"
      },
      "source": [
        "### Question 8\n",
        "\n",
        "The customer is open to hearing about additional insights you found in the data above and beyond what they asked for.\n",
        "* Based on what you can see in the data, are there any other interesting insights that the customer may want to hear about? (Up to 15 bonus points) \n",
        "\n"
      ]
    },
    {
      "cell_type": "code",
      "execution_count": null,
      "metadata": {
        "id": "CWpCSu8lsCJL"
      },
      "outputs": [],
      "source": [
        "# YOUR CODE HERE\n"
      ]
    },
    {
      "cell_type": "markdown",
      "metadata": {
        "id": "EbkD8dTBuuj4"
      },
      "source": [
        "1. Customer might be interested to know historically how much time it took at each container type (container carrying fruits/meat etc).\n",
        "2. Customer might be interested to know the time spent on transit.\n",
        "3. Customner might also want to know if we can provide any optimized track for the freight trucks.\n",
        "4. Some checks and balances and comparison on the hostorical data with the current one, to show if it's within or outside the range of historical numbers.\n",
        "5. Based on historical data, customer might want to get an estimated forecast values of how long will it take to perform certian activities at each step. It may depend on day, time, holiday, weather etc.\n",
        "6. Based on historical data, customer will be interested to know what should be the optimized temparature maintained.\n"
      ]
    },
    {
      "cell_type": "code",
      "execution_count": null,
      "metadata": {
        "id": "5XcEA5bvNtSx"
      },
      "outputs": [],
      "source": []
    },
    {
      "cell_type": "code",
      "execution_count": null,
      "metadata": {
        "id": "eM8t9qHxNtSx"
      },
      "outputs": [],
      "source": []
    },
    {
      "cell_type": "code",
      "execution_count": null,
      "metadata": {
        "id": "dvNEQ6L4NtSy"
      },
      "outputs": [],
      "source": []
    }
  ],
  "metadata": {
    "colab": {
      "provenance": [],
      "include_colab_link": true
    },
    "kernelspec": {
      "display_name": "Python 3",
      "language": "python",
      "name": "python3"
    },
    "language_info": {
      "codemirror_mode": {
        "name": "ipython",
        "version": 3
      },
      "file_extension": ".py",
      "mimetype": "text/x-python",
      "name": "python",
      "nbconvert_exporter": "python",
      "pygments_lexer": "ipython3",
      "version": "3.8.8"
    }
  },
  "nbformat": 4,
  "nbformat_minor": 0
}