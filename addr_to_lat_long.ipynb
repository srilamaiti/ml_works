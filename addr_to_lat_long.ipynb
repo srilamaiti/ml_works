{
  "nbformat": 4,
  "nbformat_minor": 0,
  "metadata": {
    "colab": {
      "provenance": [],
      "authorship_tag": "ABX9TyNmOGDs0l0vwmjFnuFQw+jX",
      "include_colab_link": true
    },
    "kernelspec": {
      "name": "python3",
      "display_name": "Python 3"
    },
    "language_info": {
      "name": "python"
    }
  },
  "cells": [
    {
      "cell_type": "markdown",
      "metadata": {
        "id": "view-in-github",
        "colab_type": "text"
      },
      "source": [
        "<a href=\"https://colab.research.google.com/github/srilamaiti/ml_works/blob/main/addr_to_lat_long.ipynb\" target=\"_parent\"><img src=\"https://colab.research.google.com/assets/colab-badge.svg\" alt=\"Open In Colab\"/></a>"
      ]
    },
    {
      "cell_type": "code",
      "execution_count": 11,
      "metadata": {
        "colab": {
          "base_uri": "https://localhost:8080/"
        },
        "id": "gR0Q6UlBFHNg",
        "outputId": "c763f64b-5654-4076-fd14-983e99a6398d"
      },
      "outputs": [
        {
          "output_type": "stream",
          "name": "stdout",
          "text": [
            "Requirement already satisfied: geopandas in /usr/local/lib/python3.10/dist-packages (0.13.2)\n",
            "Requirement already satisfied: fiona>=1.8.19 in /usr/local/lib/python3.10/dist-packages (from geopandas) (1.9.6)\n",
            "Requirement already satisfied: packaging in /usr/local/lib/python3.10/dist-packages (from geopandas) (24.0)\n",
            "Requirement already satisfied: pandas>=1.1.0 in /usr/local/lib/python3.10/dist-packages (from geopandas) (2.0.3)\n",
            "Requirement already satisfied: pyproj>=3.0.1 in /usr/local/lib/python3.10/dist-packages (from geopandas) (3.6.1)\n",
            "Requirement already satisfied: shapely>=1.7.1 in /usr/local/lib/python3.10/dist-packages (from geopandas) (2.0.4)\n",
            "Requirement already satisfied: attrs>=19.2.0 in /usr/local/lib/python3.10/dist-packages (from fiona>=1.8.19->geopandas) (23.2.0)\n",
            "Requirement already satisfied: certifi in /usr/local/lib/python3.10/dist-packages (from fiona>=1.8.19->geopandas) (2024.2.2)\n",
            "Requirement already satisfied: click~=8.0 in /usr/local/lib/python3.10/dist-packages (from fiona>=1.8.19->geopandas) (8.1.7)\n",
            "Requirement already satisfied: click-plugins>=1.0 in /usr/local/lib/python3.10/dist-packages (from fiona>=1.8.19->geopandas) (1.1.1)\n",
            "Requirement already satisfied: cligj>=0.5 in /usr/local/lib/python3.10/dist-packages (from fiona>=1.8.19->geopandas) (0.7.2)\n",
            "Requirement already satisfied: six in /usr/local/lib/python3.10/dist-packages (from fiona>=1.8.19->geopandas) (1.16.0)\n",
            "Requirement already satisfied: python-dateutil>=2.8.2 in /usr/local/lib/python3.10/dist-packages (from pandas>=1.1.0->geopandas) (2.8.2)\n",
            "Requirement already satisfied: pytz>=2020.1 in /usr/local/lib/python3.10/dist-packages (from pandas>=1.1.0->geopandas) (2023.4)\n",
            "Requirement already satisfied: tzdata>=2022.1 in /usr/local/lib/python3.10/dist-packages (from pandas>=1.1.0->geopandas) (2024.1)\n",
            "Requirement already satisfied: numpy>=1.21.0 in /usr/local/lib/python3.10/dist-packages (from pandas>=1.1.0->geopandas) (1.25.2)\n",
            "Requirement already satisfied: geopy in /usr/local/lib/python3.10/dist-packages (2.3.0)\n",
            "Requirement already satisfied: geographiclib<3,>=1.52 in /usr/local/lib/python3.10/dist-packages (from geopy) (2.0)\n"
          ]
        }
      ],
      "source": [
        "!pip install geopandas\n",
        "!pip install geopy"
      ]
    },
    {
      "cell_type": "code",
      "source": [
        "from geopy.geocoders import Nominatim\n",
        "\n",
        "address='5 Schouten Cres Markham ON Canada'\n",
        "geolocator = Nominatim(user_agent=\"Your_Name\")\n",
        "location = geolocator.geocode(address)\n",
        "print(location.address)\n",
        "print((location.latitude, location.longitude))"
      ],
      "metadata": {
        "colab": {
          "base_uri": "https://localhost:8080/"
        },
        "id": "qqFddRQAXT1V",
        "outputId": "822613a3-5b6b-41f7-b086-d467587a92c0"
      },
      "execution_count": 20,
      "outputs": [
        {
          "output_type": "stream",
          "name": "stdout",
          "text": [
            "5, Schouten Crescent, Vinegar Hill, Markham, York Region, Golden Horseshoe, Ontario, L3P 1K7, Canada\n",
            "(43.86694176666667, -79.25511944444445)\n"
          ]
        }
      ]
    },
    {
      "cell_type": "code",
      "source": [
        "from geopy.geocoders import Nominatim\n",
        "geolocator = Nominatim(user_agent=\"my_user_agent\")\n",
        "city =\"Markham\"\n",
        "country =\"CA\"\n",
        "loc = geolocator.geocode(city+','+ country)\n",
        "print(\"latitude is :-\" ,loc.latitude,\"\\nlongtitude is:-\" ,loc.longitude)"
      ],
      "metadata": {
        "colab": {
          "base_uri": "https://localhost:8080/"
        },
        "id": "I1j5y7BkXFfM",
        "outputId": "485046c3-03ef-4d4c-afed-e4f6bf3342f0"
      },
      "execution_count": 12,
      "outputs": [
        {
          "output_type": "stream",
          "name": "stdout",
          "text": [
            "latitude is :- 43.8563707 \n",
            "longtitude is:- -79.3376825\n"
          ]
        }
      ]
    },
    {
      "cell_type": "code",
      "source": [
        "from geopy.geocoders import Nominatim\n",
        "Address = \"14335 Wynhollow Downs Ln Charlotte NC 28277\"\n",
        "geolocator = Nominatim(user_agent=\"addr_test\")\n",
        "location = geolocator.geocode(Address, namedetails=True)\n",
        "print((location.latitude, location.longitude))"
      ],
      "metadata": {
        "colab": {
          "base_uri": "https://localhost:8080/"
        },
        "id": "ILoSj-6BGMZa",
        "outputId": "c761de5d-d2b4-4a5e-fc2c-dbcd4f80657b"
      },
      "execution_count": 8,
      "outputs": [
        {
          "output_type": "stream",
          "name": "stdout",
          "text": [
            "(35.05245975, -80.8670430743641)\n"
          ]
        }
      ]
    },
    {
      "cell_type": "code",
      "source": [
        "# importing geopy library and Nominatim class\n",
        "from geopy.geocoders import Nominatim\n",
        "\n",
        "# calling the Nominatim tool and create Nominatim class\n",
        "loc = Nominatim(user_agent=\"Geopy Library\")\n",
        "\n",
        "# entering the location name\n",
        "getLoc = loc.geocode(\"İzmir\")\n",
        "\n",
        "# printing address\n",
        "print(getLoc.address)\n",
        "\n",
        "# printing latitude and longitude\n",
        "print(\"Latitude = \", getLoc.latitude, \"\\n\")\n",
        "print(\"Longitude = \", getLoc.longitude)"
      ],
      "metadata": {
        "colab": {
          "base_uri": "https://localhost:8080/"
        },
        "id": "OzJGAslMFLn2",
        "outputId": "19c39f1e-1ca9-4f8d-f3e3-ccd9fcbae0bc"
      },
      "execution_count": 5,
      "outputs": [
        {
          "output_type": "stream",
          "name": "stdout",
          "text": [
            "İzmir, Konak, İzmir, Ege Bölgesi, 35240, Türkiye\n",
            "Latitude =  38.4237433 \n",
            "\n",
            "Longitude =  27.1428019\n"
          ]
        }
      ]
    }
  ]
}