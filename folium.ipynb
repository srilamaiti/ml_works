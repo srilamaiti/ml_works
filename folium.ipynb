{
  "nbformat": 4,
  "nbformat_minor": 0,
  "metadata": {
    "colab": {
      "provenance": [],
      "authorship_tag": "ABX9TyOWfhzfKV0raJdCO6k2HNWU",
      "include_colab_link": true
    },
    "kernelspec": {
      "name": "python3",
      "display_name": "Python 3"
    },
    "language_info": {
      "name": "python"
    }
  },
  "cells": [
    {
      "cell_type": "markdown",
      "metadata": {
        "id": "view-in-github",
        "colab_type": "text"
      },
      "source": [
        "<a href=\"https://colab.research.google.com/github/srilamaiti/ml_works/blob/main/folium.ipynb\" target=\"_parent\"><img src=\"https://colab.research.google.com/assets/colab-badge.svg\" alt=\"Open In Colab\"/></a>"
      ]
    },
    {
      "cell_type": "code",
      "execution_count": 1,
      "metadata": {
        "colab": {
          "base_uri": "https://localhost:8080/"
        },
        "id": "-Sh4Ewh_cKJK",
        "outputId": "6230d2be-2d52-4679-f956-0d8d9733e21e"
      },
      "outputs": [
        {
          "output_type": "stream",
          "name": "stdout",
          "text": [
            "Requirement already satisfied: folium in /usr/local/lib/python3.10/dist-packages (0.14.0)\n",
            "Requirement already satisfied: branca>=0.6.0 in /usr/local/lib/python3.10/dist-packages (from folium) (0.6.0)\n",
            "Requirement already satisfied: jinja2>=2.9 in /usr/local/lib/python3.10/dist-packages (from folium) (3.1.2)\n",
            "Requirement already satisfied: numpy in /usr/local/lib/python3.10/dist-packages (from folium) (1.22.4)\n",
            "Requirement already satisfied: requests in /usr/local/lib/python3.10/dist-packages (from folium) (2.27.1)\n",
            "Requirement already satisfied: MarkupSafe>=2.0 in /usr/local/lib/python3.10/dist-packages (from jinja2>=2.9->folium) (2.1.3)\n",
            "Requirement already satisfied: urllib3<1.27,>=1.21.1 in /usr/local/lib/python3.10/dist-packages (from requests->folium) (1.26.16)\n",
            "Requirement already satisfied: certifi>=2017.4.17 in /usr/local/lib/python3.10/dist-packages (from requests->folium) (2023.5.7)\n",
            "Requirement already satisfied: charset-normalizer~=2.0.0 in /usr/local/lib/python3.10/dist-packages (from requests->folium) (2.0.12)\n",
            "Requirement already satisfied: idna<4,>=2.5 in /usr/local/lib/python3.10/dist-packages (from requests->folium) (3.4)\n"
          ]
        }
      ],
      "source": [
        "!pip install folium"
      ]
    },
    {
      "cell_type": "code",
      "source": [
        "import folium\n",
        "\n",
        "# set the center of the map to the USA\n",
        "center_location = [39.8283, -98.5795]\n",
        "# set the initial zoom level\n",
        "zoom_level = 4\n",
        "\n",
        "# create a map object\n",
        "map = folium.Map(location=center_location, zoom_start=zoom_level)\n",
        "\n",
        "# add a marker for the hub\n",
        "hub_location = [41.8781, -87.6298]\n",
        "folium.Marker(location=hub_location, icon=folium.Icon(color='blue')).add_to(map)\n",
        "\n",
        "# add markers for the spokes\n",
        "spoke_locations = [[37.7749, -122.4194], [34.0522, -118.2437], [29.7604, -95.3698], [40.7128, -74.0060]]\n",
        "for location in spoke_locations:\n",
        "    folium.Marker(location=location, icon=folium.Icon(color='red')).add_to(map)\n",
        "\n",
        "# add lines connecting the hub to the spokes\n",
        "for location in spoke_locations:\n",
        "    folium.PolyLine(locations=[hub_location, location], color='black').add_to(map)\n",
        "\n",
        "# save the map to an HTML file\n",
        "map.save('hub_spoke_map.html')"
      ],
      "metadata": {
        "id": "X1pSkMkRcTH9"
      },
      "execution_count": 2,
      "outputs": []
    },
    {
      "cell_type": "code",
      "source": [
        "import folium\n",
        "import pandas as pd\n",
        "\n",
        "# create the data for hubs and spokes\n",
        "data = {'Type': ['Hub', 'Hub', 'Spoke', 'Spoke', 'Spoke', 'Spoke', 'Spoke', 'Spoke', 'Spoke', 'Spoke', 'Spoke', 'Spoke', 'Spoke', 'Spoke', 'Spoke'],\n",
        "        'Latitude': [30.8781, 40.7749, 34.0522, 29.7604, 40.7128, 41.8781, 37.7749, 34.0522, 29.7604, 47.6062, 45.5231, 43.6532, 39.7392, 38.9072, 32.7767],\n",
        "        'Longitude': [-87.6298, -122.4194, -118.2437, -95.3698, -74.0060, -87.6298, -122.4194, -118.2437, -95.3698, -122.3321, -122.6765, -79.3832, -104.9903, -77.0369, -96.7970]}\n",
        "\n",
        "# create a DataFrame from the data\n",
        "df = pd.DataFrame(data)\n",
        "\n",
        "# set the center of the map to the USA\n",
        "center_location = [39.8283, -98.5795]\n",
        "# set the initial zoom level\n",
        "zoom_level = 4"
      ],
      "metadata": {
        "id": "j7CX_JJlcTOG"
      },
      "execution_count": 3,
      "outputs": []
    },
    {
      "cell_type": "code",
      "source": [],
      "metadata": {
        "id": "9jZUsknMcTTJ"
      },
      "execution_count": null,
      "outputs": []
    },
    {
      "cell_type": "code",
      "source": [],
      "metadata": {
        "id": "OF1Q5kKicTXc"
      },
      "execution_count": null,
      "outputs": []
    }
  ]
}