{
  "nbformat": 4,
  "nbformat_minor": 0,
  "metadata": {
    "colab": {
      "provenance": [],
      "authorship_tag": "ABX9TyN+1Mhmgx8RLrTM7l4At88x",
      "include_colab_link": true
    },
    "kernelspec": {
      "name": "python3",
      "display_name": "Python 3"
    },
    "language_info": {
      "name": "python"
    }
  },
  "cells": [
    {
      "cell_type": "markdown",
      "metadata": {
        "id": "view-in-github",
        "colab_type": "text"
      },
      "source": [
        "<a href=\"https://colab.research.google.com/github/srilamaiti/ml_works/blob/main/pulp_car_profit_maximization.ipynb\" target=\"_parent\"><img src=\"https://colab.research.google.com/assets/colab-badge.svg\" alt=\"Open In Colab\"/></a>"
      ]
    },
    {
      "cell_type": "code",
      "execution_count": 1,
      "metadata": {
        "colab": {
          "base_uri": "https://localhost:8080/"
        },
        "id": "f-RPuwTFgWfV",
        "outputId": "cc07ebf3-21be-4257-debc-d2a7c708564a"
      },
      "outputs": [
        {
          "output_type": "stream",
          "name": "stdout",
          "text": [
            "Looking in indexes: https://pypi.org/simple, https://us-python.pkg.dev/colab-wheels/public/simple/\n",
            "Collecting pulp\n",
            "  Downloading PuLP-2.7.0-py3-none-any.whl (14.3 MB)\n",
            "\u001b[K     |████████████████████████████████| 14.3 MB 18.3 MB/s \n",
            "\u001b[?25hInstalling collected packages: pulp\n",
            "Successfully installed pulp-2.7.0\n"
          ]
        }
      ],
      "source": [
        "!pip install pulp"
      ]
    },
    {
      "cell_type": "code",
      "source": [
        "from pulp import *"
      ],
      "metadata": {
        "id": "XxxfzmeTgZ1r"
      },
      "execution_count": 2,
      "outputs": []
    },
    {
      "cell_type": "markdown",
      "source": [
        "Linear Programming\n",
        "Linear Programming is used to solve Optimization problems given a few constraints. An example problem is below:\n",
        "\n",
        "We have two models of a car, Car A and Car B.\n",
        "Car A gives us a profit of 20k and Car B gives us a profit of 45k\n",
        "The Designer takes 4 days to build Car A and 5 days to build Car B\n",
        "The Engineer takes 3 days to build Car A and 6 days to build Car B\n",
        "The Machine takes 2 days to build Car A and 7 days to build Car B\n",
        "The Designer, Engineer and Machine can all work for 30 days"
      ],
      "metadata": {
        "id": "-CKBCHh6hGKX"
      }
    },
    {
      "cell_type": "code",
      "source": [
        "problem = LpProblem('Car Factory', LpMaximize)"
      ],
      "metadata": {
        "colab": {
          "base_uri": "https://localhost:8080/"
        },
        "id": "a1LigqqngZ4K",
        "outputId": "766b86dd-4f2c-462f-eece-9b795c9011b1"
      },
      "execution_count": 3,
      "outputs": [
        {
          "output_type": "stream",
          "name": "stderr",
          "text": [
            "/usr/local/lib/python3.8/dist-packages/pulp/pulp.py:1352: UserWarning: Spaces are not permitted in the name. Converted to '_'\n",
            "  warnings.warn(\"Spaces are not permitted in the name. Converted to '_'\")\n"
          ]
        }
      ]
    },
    {
      "cell_type": "code",
      "source": [
        "A = LpVariable('Car A', lowBound=0 , cat=LpInteger)\n",
        "B = LpVariable('Car B', lowBound=0 , cat=LpInteger)"
      ],
      "metadata": {
        "id": "iZhWJ7sxgZ7A"
      },
      "execution_count": 4,
      "outputs": []
    },
    {
      "cell_type": "code",
      "source": [
        "#Objective Function\n",
        "problem += 20000*A + 45000*B , 'Objective Function'\n",
        "#Constraints\n",
        "problem += 4*A + 5*B <= 30 , 'Designer Constraint'\n",
        "problem += 3*A + 6*B <=30, 'Engineer Constraint'\n",
        "problem += 2*A + 7*B <=30, 'Machine Constraint'"
      ],
      "metadata": {
        "id": "moRBLR6xgZ-I"
      },
      "execution_count": 5,
      "outputs": []
    },
    {
      "cell_type": "code",
      "source": [
        "print(\"Current Status: \", LpStatus[problem.status])"
      ],
      "metadata": {
        "colab": {
          "base_uri": "https://localhost:8080/"
        },
        "id": "qqFq67rLgaBB",
        "outputId": "96d93dad-afa1-43c9-a9d0-42fef5bffa52"
      },
      "execution_count": 6,
      "outputs": [
        {
          "output_type": "stream",
          "name": "stdout",
          "text": [
            "Current Status:  Not Solved\n"
          ]
        }
      ]
    },
    {
      "cell_type": "code",
      "source": [
        "problem.solve()\n",
        "print(\"Number of Car A Made: \", A.varValue)\n",
        "print(\"Number of Car B Made: \", B.varValue)\n",
        "print(\"Total Profit: \", value(problem.objective))"
      ],
      "metadata": {
        "colab": {
          "base_uri": "https://localhost:8080/"
        },
        "id": "9JSUUmkCgaEH",
        "outputId": "45eca2d5-1381-4319-a42d-b134f6576aaa"
      },
      "execution_count": 7,
      "outputs": [
        {
          "output_type": "stream",
          "name": "stdout",
          "text": [
            "Number of Car A Made:  1.0\n",
            "Number of Car B Made:  4.0\n",
            "Total Profit:  200000.0\n"
          ]
        }
      ]
    },
    {
      "cell_type": "code",
      "source": [
        "print(\"Current Status: \", LpStatus[problem.status])"
      ],
      "metadata": {
        "id": "O5h5YECLgaHj"
      },
      "execution_count": null,
      "outputs": []
    }
  ]
}