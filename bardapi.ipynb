{
  "nbformat": 4,
  "nbformat_minor": 0,
  "metadata": {
    "colab": {
      "provenance": [],
      "authorship_tag": "ABX9TyOXV1QiQLR9Gl97yvWeiH8U",
      "include_colab_link": true
    },
    "kernelspec": {
      "name": "python3",
      "display_name": "Python 3"
    },
    "language_info": {
      "name": "python"
    }
  },
  "cells": [
    {
      "cell_type": "markdown",
      "metadata": {
        "id": "view-in-github",
        "colab_type": "text"
      },
      "source": [
        "<a href=\"https://colab.research.google.com/github/srilamaiti/ml_works/blob/main/bardapi.ipynb\" target=\"_parent\"><img src=\"https://colab.research.google.com/assets/colab-badge.svg\" alt=\"Open In Colab\"/></a>"
      ]
    },
    {
      "cell_type": "code",
      "execution_count": 18,
      "metadata": {
        "id": "XibXTGdzctvQ"
      },
      "outputs": [],
      "source": [
        "!pip install bardapi>=0.1.24"
      ]
    },
    {
      "cell_type": "code",
      "source": [
        "from bardapi import Bard\n",
        "import bardapi\n",
        "import os\n",
        "from bardapi import BardCookies\n",
        "import requests\n",
        "from bardapi.constants import SESSION_HEADERS"
      ],
      "metadata": {
        "id": "UVIXELxfcvAU"
      },
      "execution_count": 28,
      "outputs": []
    },
    {
      "cell_type": "code",
      "source": [
        "bardapi.__version__"
      ],
      "metadata": {
        "colab": {
          "base_uri": "https://localhost:8080/",
          "height": 36
        },
        "id": "ysiKaGmnp11y",
        "outputId": "999e7a0b-6fe2-43c4-d09f-fb7a0e710d6b"
      },
      "execution_count": 22,
      "outputs": [
        {
          "output_type": "execute_result",
          "data": {
            "text/plain": [
              "'0.1.38'"
            ],
            "application/vnd.google.colaboratory.intrinsic+json": {
              "type": "string"
            }
          },
          "metadata": {},
          "execution_count": 22
        }
      ]
    },
    {
      "cell_type": "code",
      "source": [
        "cookie_dict = {\n",
        "    \"__Secure-1PSID\": \"dwgMQVFfLmzC5hf8fmc1aNoSoykiAi_-Daubvd9MFd9YZQ0-NC5zyoqpgHYtG5fPeQqzWQ.\",\n",
        "    \"__Secure-1PSIDTS\": \"sidts-CjEBPVxjSsnZ0emZsDM66ujSUKB3EbI4Tnv0H2g6ZBBkVx4FpXY38wTVmAfWV-I7bkEuEAA\",\n",
        "    \"__Secure-1PSIDCC\": \"ABTWhQHR7CVyj-PaICzV0AeCgflmtVzxcEX0vSwKAIVfh5mT7DIGURcyXgv0ESNtyx_jxObUk7k\"\n",
        "}\n",
        "\n",
        "bard = BardCookies(cookie_dict=cookie_dict)\n",
        "bard"
      ],
      "metadata": {
        "colab": {
          "base_uri": "https://localhost:8080/"
        },
        "id": "J_XYRiARp_7o",
        "outputId": "92fde888-969a-4ea7-813a-4df45aa0cf2a"
      },
      "execution_count": 33,
      "outputs": [
        {
          "output_type": "execute_result",
          "data": {
            "text/plain": [
              "<bardapi.core_cookies.BardCookies at 0x78a1c4892b90>"
            ]
          },
          "metadata": {},
          "execution_count": 33
        }
      ]
    },
    {
      "cell_type": "code",
      "source": [
        "product_desc = \"DRAWER LINER SET 50224\"\n",
        "input_text = f\"classify {product_desc}\"\n",
        "print(bard.get_answer(input_text))"
      ],
      "metadata": {
        "colab": {
          "base_uri": "https://localhost:8080/"
        },
        "id": "TIlmfgbmcvJ8",
        "outputId": "c200777d-92cb-4c0a-dd2a-aff5506cb9b3"
      },
      "execution_count": 37,
      "outputs": [
        {
          "output_type": "stream",
          "name": "stdout",
          "text": [
            "{'content': \" **Here's a classification of DRAWER LINER SET 50224, based on the information available:**\\n\\n**Category:** Home Furnishings\\n**Subcategory:** Storage and Organization\\n**Specific Product:** Drawer Liner\\n**Brand (likely):** Unknown, as the number 50224 doesn't correspond to a common brand's product code.\\n**Material (likely):** Unknown, but common materials for drawer liners include:\\n    - Non-slip rubber\\n    - EVA foam\\n    - Felt\\n    - Vinyl\\n    - Fabric\\n**Function:** To protect drawer surfaces from scratches, scuffs, and spills, as well as to provide a non-slip surface for items stored within the drawer.\\n**Common Uses:**\\n    - Kitchen drawers for storing utensils, cookware, and other kitchen items\\n    - Bathroom drawers for storing toiletries and personal care items\\n    - Bedroom drawers for storing clothing, accessories, and other personal items\\n    - Office drawers for storing stationery, files, and other office supplies\\n**Additional Information:**\\n    - The specific dimensions, color, and features of DRAWER LINER SET 50224 would require more information, ideally from a product description or image.\\n\\n**If you have any further details about the product, such as a brand name, material, or dimensions, I can provide a more accurate classification.**\\n\", 'conversation_id': 'c_dbdf6768d8d80795', 'response_id': 'r_1b8cc044b10c8123', 'factuality_queries': None, 'text_query': ['How do you measure drawer liners?', 4], 'choices': [{'id': 'rc_f45804ef8cc61389', 'content': [\" **Here's a classification of DRAWER LINER SET 50224, based on the information available:**\\n\\n**Category:** Home Furnishings\\n**Subcategory:** Storage and Organization\\n**Specific Product:** Drawer Liner\\n**Brand (likely):** Unknown, as the number 50224 doesn't correspond to a common brand's product code.\\n**Material (likely):** Unknown, but common materials for drawer liners include:\\n    - Non-slip rubber\\n    - EVA foam\\n    - Felt\\n    - Vinyl\\n    - Fabric\\n**Function:** To protect drawer surfaces from scratches, scuffs, and spills, as well as to provide a non-slip surface for items stored within the drawer.\\n**Common Uses:**\\n    - Kitchen drawers for storing utensils, cookware, and other kitchen items\\n    - Bathroom drawers for storing toiletries and personal care items\\n    - Bedroom drawers for storing clothing, accessories, and other personal items\\n    - Office drawers for storing stationery, files, and other office supplies\\n**Additional Information:**\\n    - The specific dimensions, color, and features of DRAWER LINER SET 50224 would require more information, ideally from a product description or image.\\n\\n**If you have any further details about the product, such as a brand name, material, or dimensions, I can provide a more accurate classification.**\\n\"]}], 'links': [], 'images': [], 'program_lang': None, 'code': None, 'status_code': 200}\n"
          ]
        }
      ]
    },
    {
      "cell_type": "code",
      "source": [],
      "metadata": {
        "id": "uffagnnxcvM3"
      },
      "execution_count": null,
      "outputs": []
    },
    {
      "cell_type": "code",
      "source": [],
      "metadata": {
        "id": "Yct3L7T-czUH"
      },
      "execution_count": null,
      "outputs": []
    }
  ]
}