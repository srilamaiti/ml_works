{
  "nbformat": 4,
  "nbformat_minor": 0,
  "metadata": {
    "colab": {
      "provenance": []
    },
    "kernelspec": {
      "name": "python3",
      "display_name": "Python 3"
    },
    "language_info": {
      "name": "python"
    },
    "gpuClass": "standard",
    "widgets": {
      "application/vnd.jupyter.widget-state+json": {
        "2ac2a85557594f08a921b254e1098b06": {
          "model_module": "@jupyter-widgets/controls",
          "model_name": "HBoxModel",
          "model_module_version": "1.5.0",
          "state": {
            "_dom_classes": [],
            "_model_module": "@jupyter-widgets/controls",
            "_model_module_version": "1.5.0",
            "_model_name": "HBoxModel",
            "_view_count": null,
            "_view_module": "@jupyter-widgets/controls",
            "_view_module_version": "1.5.0",
            "_view_name": "HBoxView",
            "box_style": "",
            "children": [
              "IPY_MODEL_b6522927fbf64ac4ba6679006e011e56",
              "IPY_MODEL_8e9b4a8f588640a7b81336c39af1def9",
              "IPY_MODEL_580128f7b88c462c80057938111392c5"
            ],
            "layout": "IPY_MODEL_3356a1d7bf2b4e4aa218a4f92415717a"
          }
        },
        "b6522927fbf64ac4ba6679006e011e56": {
          "model_module": "@jupyter-widgets/controls",
          "model_name": "HTMLModel",
          "model_module_version": "1.5.0",
          "state": {
            "_dom_classes": [],
            "_model_module": "@jupyter-widgets/controls",
            "_model_module_version": "1.5.0",
            "_model_name": "HTMLModel",
            "_view_count": null,
            "_view_module": "@jupyter-widgets/controls",
            "_view_module_version": "1.5.0",
            "_view_name": "HTMLView",
            "description": "",
            "description_tooltip": null,
            "layout": "IPY_MODEL_0653f8d04f51402b972b8b2b60eb045c",
            "placeholder": "​",
            "style": "IPY_MODEL_54192892ff524708beab3fefc9c24e31",
            "value": "Downloading (…)solve/main/vocab.txt: "
          }
        },
        "8e9b4a8f588640a7b81336c39af1def9": {
          "model_module": "@jupyter-widgets/controls",
          "model_name": "FloatProgressModel",
          "model_module_version": "1.5.0",
          "state": {
            "_dom_classes": [],
            "_model_module": "@jupyter-widgets/controls",
            "_model_module_version": "1.5.0",
            "_model_name": "FloatProgressModel",
            "_view_count": null,
            "_view_module": "@jupyter-widgets/controls",
            "_view_module_version": "1.5.0",
            "_view_name": "ProgressView",
            "bar_style": "success",
            "description": "",
            "description_tooltip": null,
            "layout": "IPY_MODEL_34ba800f79b74b658bf806f568a3e976",
            "max": 1,
            "min": 0,
            "orientation": "horizontal",
            "style": "IPY_MODEL_85779db88a974ca4a14c16c64cdae5c3",
            "value": 1
          }
        },
        "580128f7b88c462c80057938111392c5": {
          "model_module": "@jupyter-widgets/controls",
          "model_name": "HTMLModel",
          "model_module_version": "1.5.0",
          "state": {
            "_dom_classes": [],
            "_model_module": "@jupyter-widgets/controls",
            "_model_module_version": "1.5.0",
            "_model_name": "HTMLModel",
            "_view_count": null,
            "_view_module": "@jupyter-widgets/controls",
            "_view_module_version": "1.5.0",
            "_view_name": "HTMLView",
            "description": "",
            "description_tooltip": null,
            "layout": "IPY_MODEL_40411ade91eb4fd4af2a1643f4f137c8",
            "placeholder": "​",
            "style": "IPY_MODEL_f6b3b94e504148ada1d91886417f563e",
            "value": " 232k/? [00:00&lt;00:00, 2.02MB/s]"
          }
        },
        "3356a1d7bf2b4e4aa218a4f92415717a": {
          "model_module": "@jupyter-widgets/base",
          "model_name": "LayoutModel",
          "model_module_version": "1.2.0",
          "state": {
            "_model_module": "@jupyter-widgets/base",
            "_model_module_version": "1.2.0",
            "_model_name": "LayoutModel",
            "_view_count": null,
            "_view_module": "@jupyter-widgets/base",
            "_view_module_version": "1.2.0",
            "_view_name": "LayoutView",
            "align_content": null,
            "align_items": null,
            "align_self": null,
            "border": null,
            "bottom": null,
            "display": null,
            "flex": null,
            "flex_flow": null,
            "grid_area": null,
            "grid_auto_columns": null,
            "grid_auto_flow": null,
            "grid_auto_rows": null,
            "grid_column": null,
            "grid_gap": null,
            "grid_row": null,
            "grid_template_areas": null,
            "grid_template_columns": null,
            "grid_template_rows": null,
            "height": null,
            "justify_content": null,
            "justify_items": null,
            "left": null,
            "margin": null,
            "max_height": null,
            "max_width": null,
            "min_height": null,
            "min_width": null,
            "object_fit": null,
            "object_position": null,
            "order": null,
            "overflow": null,
            "overflow_x": null,
            "overflow_y": null,
            "padding": null,
            "right": null,
            "top": null,
            "visibility": null,
            "width": null
          }
        },
        "0653f8d04f51402b972b8b2b60eb045c": {
          "model_module": "@jupyter-widgets/base",
          "model_name": "LayoutModel",
          "model_module_version": "1.2.0",
          "state": {
            "_model_module": "@jupyter-widgets/base",
            "_model_module_version": "1.2.0",
            "_model_name": "LayoutModel",
            "_view_count": null,
            "_view_module": "@jupyter-widgets/base",
            "_view_module_version": "1.2.0",
            "_view_name": "LayoutView",
            "align_content": null,
            "align_items": null,
            "align_self": null,
            "border": null,
            "bottom": null,
            "display": null,
            "flex": null,
            "flex_flow": null,
            "grid_area": null,
            "grid_auto_columns": null,
            "grid_auto_flow": null,
            "grid_auto_rows": null,
            "grid_column": null,
            "grid_gap": null,
            "grid_row": null,
            "grid_template_areas": null,
            "grid_template_columns": null,
            "grid_template_rows": null,
            "height": null,
            "justify_content": null,
            "justify_items": null,
            "left": null,
            "margin": null,
            "max_height": null,
            "max_width": null,
            "min_height": null,
            "min_width": null,
            "object_fit": null,
            "object_position": null,
            "order": null,
            "overflow": null,
            "overflow_x": null,
            "overflow_y": null,
            "padding": null,
            "right": null,
            "top": null,
            "visibility": null,
            "width": null
          }
        },
        "54192892ff524708beab3fefc9c24e31": {
          "model_module": "@jupyter-widgets/controls",
          "model_name": "DescriptionStyleModel",
          "model_module_version": "1.5.0",
          "state": {
            "_model_module": "@jupyter-widgets/controls",
            "_model_module_version": "1.5.0",
            "_model_name": "DescriptionStyleModel",
            "_view_count": null,
            "_view_module": "@jupyter-widgets/base",
            "_view_module_version": "1.2.0",
            "_view_name": "StyleView",
            "description_width": ""
          }
        },
        "34ba800f79b74b658bf806f568a3e976": {
          "model_module": "@jupyter-widgets/base",
          "model_name": "LayoutModel",
          "model_module_version": "1.2.0",
          "state": {
            "_model_module": "@jupyter-widgets/base",
            "_model_module_version": "1.2.0",
            "_model_name": "LayoutModel",
            "_view_count": null,
            "_view_module": "@jupyter-widgets/base",
            "_view_module_version": "1.2.0",
            "_view_name": "LayoutView",
            "align_content": null,
            "align_items": null,
            "align_self": null,
            "border": null,
            "bottom": null,
            "display": null,
            "flex": null,
            "flex_flow": null,
            "grid_area": null,
            "grid_auto_columns": null,
            "grid_auto_flow": null,
            "grid_auto_rows": null,
            "grid_column": null,
            "grid_gap": null,
            "grid_row": null,
            "grid_template_areas": null,
            "grid_template_columns": null,
            "grid_template_rows": null,
            "height": null,
            "justify_content": null,
            "justify_items": null,
            "left": null,
            "margin": null,
            "max_height": null,
            "max_width": null,
            "min_height": null,
            "min_width": null,
            "object_fit": null,
            "object_position": null,
            "order": null,
            "overflow": null,
            "overflow_x": null,
            "overflow_y": null,
            "padding": null,
            "right": null,
            "top": null,
            "visibility": null,
            "width": "20px"
          }
        },
        "85779db88a974ca4a14c16c64cdae5c3": {
          "model_module": "@jupyter-widgets/controls",
          "model_name": "ProgressStyleModel",
          "model_module_version": "1.5.0",
          "state": {
            "_model_module": "@jupyter-widgets/controls",
            "_model_module_version": "1.5.0",
            "_model_name": "ProgressStyleModel",
            "_view_count": null,
            "_view_module": "@jupyter-widgets/base",
            "_view_module_version": "1.2.0",
            "_view_name": "StyleView",
            "bar_color": null,
            "description_width": ""
          }
        },
        "40411ade91eb4fd4af2a1643f4f137c8": {
          "model_module": "@jupyter-widgets/base",
          "model_name": "LayoutModel",
          "model_module_version": "1.2.0",
          "state": {
            "_model_module": "@jupyter-widgets/base",
            "_model_module_version": "1.2.0",
            "_model_name": "LayoutModel",
            "_view_count": null,
            "_view_module": "@jupyter-widgets/base",
            "_view_module_version": "1.2.0",
            "_view_name": "LayoutView",
            "align_content": null,
            "align_items": null,
            "align_self": null,
            "border": null,
            "bottom": null,
            "display": null,
            "flex": null,
            "flex_flow": null,
            "grid_area": null,
            "grid_auto_columns": null,
            "grid_auto_flow": null,
            "grid_auto_rows": null,
            "grid_column": null,
            "grid_gap": null,
            "grid_row": null,
            "grid_template_areas": null,
            "grid_template_columns": null,
            "grid_template_rows": null,
            "height": null,
            "justify_content": null,
            "justify_items": null,
            "left": null,
            "margin": null,
            "max_height": null,
            "max_width": null,
            "min_height": null,
            "min_width": null,
            "object_fit": null,
            "object_position": null,
            "order": null,
            "overflow": null,
            "overflow_x": null,
            "overflow_y": null,
            "padding": null,
            "right": null,
            "top": null,
            "visibility": null,
            "width": null
          }
        },
        "f6b3b94e504148ada1d91886417f563e": {
          "model_module": "@jupyter-widgets/controls",
          "model_name": "DescriptionStyleModel",
          "model_module_version": "1.5.0",
          "state": {
            "_model_module": "@jupyter-widgets/controls",
            "_model_module_version": "1.5.0",
            "_model_name": "DescriptionStyleModel",
            "_view_count": null,
            "_view_module": "@jupyter-widgets/base",
            "_view_module_version": "1.2.0",
            "_view_name": "StyleView",
            "description_width": ""
          }
        },
        "5b33d0abfc43462e9d681f4b5f8b59cb": {
          "model_module": "@jupyter-widgets/controls",
          "model_name": "HBoxModel",
          "model_module_version": "1.5.0",
          "state": {
            "_dom_classes": [],
            "_model_module": "@jupyter-widgets/controls",
            "_model_module_version": "1.5.0",
            "_model_name": "HBoxModel",
            "_view_count": null,
            "_view_module": "@jupyter-widgets/controls",
            "_view_module_version": "1.5.0",
            "_view_name": "HBoxView",
            "box_style": "",
            "children": [
              "IPY_MODEL_0206a17897d84948874d293433b5622e",
              "IPY_MODEL_40e1bd15e9304d408439c2b5a89f27c9",
              "IPY_MODEL_0989ffc13d9745b38e7fb34938b3c0c5"
            ],
            "layout": "IPY_MODEL_5a08be25232e4f27851ff0cee3b5d455"
          }
        },
        "0206a17897d84948874d293433b5622e": {
          "model_module": "@jupyter-widgets/controls",
          "model_name": "HTMLModel",
          "model_module_version": "1.5.0",
          "state": {
            "_dom_classes": [],
            "_model_module": "@jupyter-widgets/controls",
            "_model_module_version": "1.5.0",
            "_model_name": "HTMLModel",
            "_view_count": null,
            "_view_module": "@jupyter-widgets/controls",
            "_view_module_version": "1.5.0",
            "_view_name": "HTMLView",
            "description": "",
            "description_tooltip": null,
            "layout": "IPY_MODEL_61ea389a67044d42a48306fa2fe32686",
            "placeholder": "​",
            "style": "IPY_MODEL_f67210d769dd4fbfb8852be70e7944e8",
            "value": "Downloading (…)okenizer_config.json: 100%"
          }
        },
        "40e1bd15e9304d408439c2b5a89f27c9": {
          "model_module": "@jupyter-widgets/controls",
          "model_name": "FloatProgressModel",
          "model_module_version": "1.5.0",
          "state": {
            "_dom_classes": [],
            "_model_module": "@jupyter-widgets/controls",
            "_model_module_version": "1.5.0",
            "_model_name": "FloatProgressModel",
            "_view_count": null,
            "_view_module": "@jupyter-widgets/controls",
            "_view_module_version": "1.5.0",
            "_view_name": "ProgressView",
            "bar_style": "success",
            "description": "",
            "description_tooltip": null,
            "layout": "IPY_MODEL_ae04cc52d0114318aac9363da55d8a28",
            "max": 28,
            "min": 0,
            "orientation": "horizontal",
            "style": "IPY_MODEL_aa632275abfa47bc9e15130fdcf97f77",
            "value": 28
          }
        },
        "0989ffc13d9745b38e7fb34938b3c0c5": {
          "model_module": "@jupyter-widgets/controls",
          "model_name": "HTMLModel",
          "model_module_version": "1.5.0",
          "state": {
            "_dom_classes": [],
            "_model_module": "@jupyter-widgets/controls",
            "_model_module_version": "1.5.0",
            "_model_name": "HTMLModel",
            "_view_count": null,
            "_view_module": "@jupyter-widgets/controls",
            "_view_module_version": "1.5.0",
            "_view_name": "HTMLView",
            "description": "",
            "description_tooltip": null,
            "layout": "IPY_MODEL_fad7a1270a4545e384ad264f36abb267",
            "placeholder": "​",
            "style": "IPY_MODEL_c1ba36cfe9ff4e9b92799956f682bdbc",
            "value": " 28.0/28.0 [00:00&lt;00:00, 302B/s]"
          }
        },
        "5a08be25232e4f27851ff0cee3b5d455": {
          "model_module": "@jupyter-widgets/base",
          "model_name": "LayoutModel",
          "model_module_version": "1.2.0",
          "state": {
            "_model_module": "@jupyter-widgets/base",
            "_model_module_version": "1.2.0",
            "_model_name": "LayoutModel",
            "_view_count": null,
            "_view_module": "@jupyter-widgets/base",
            "_view_module_version": "1.2.0",
            "_view_name": "LayoutView",
            "align_content": null,
            "align_items": null,
            "align_self": null,
            "border": null,
            "bottom": null,
            "display": null,
            "flex": null,
            "flex_flow": null,
            "grid_area": null,
            "grid_auto_columns": null,
            "grid_auto_flow": null,
            "grid_auto_rows": null,
            "grid_column": null,
            "grid_gap": null,
            "grid_row": null,
            "grid_template_areas": null,
            "grid_template_columns": null,
            "grid_template_rows": null,
            "height": null,
            "justify_content": null,
            "justify_items": null,
            "left": null,
            "margin": null,
            "max_height": null,
            "max_width": null,
            "min_height": null,
            "min_width": null,
            "object_fit": null,
            "object_position": null,
            "order": null,
            "overflow": null,
            "overflow_x": null,
            "overflow_y": null,
            "padding": null,
            "right": null,
            "top": null,
            "visibility": null,
            "width": null
          }
        },
        "61ea389a67044d42a48306fa2fe32686": {
          "model_module": "@jupyter-widgets/base",
          "model_name": "LayoutModel",
          "model_module_version": "1.2.0",
          "state": {
            "_model_module": "@jupyter-widgets/base",
            "_model_module_version": "1.2.0",
            "_model_name": "LayoutModel",
            "_view_count": null,
            "_view_module": "@jupyter-widgets/base",
            "_view_module_version": "1.2.0",
            "_view_name": "LayoutView",
            "align_content": null,
            "align_items": null,
            "align_self": null,
            "border": null,
            "bottom": null,
            "display": null,
            "flex": null,
            "flex_flow": null,
            "grid_area": null,
            "grid_auto_columns": null,
            "grid_auto_flow": null,
            "grid_auto_rows": null,
            "grid_column": null,
            "grid_gap": null,
            "grid_row": null,
            "grid_template_areas": null,
            "grid_template_columns": null,
            "grid_template_rows": null,
            "height": null,
            "justify_content": null,
            "justify_items": null,
            "left": null,
            "margin": null,
            "max_height": null,
            "max_width": null,
            "min_height": null,
            "min_width": null,
            "object_fit": null,
            "object_position": null,
            "order": null,
            "overflow": null,
            "overflow_x": null,
            "overflow_y": null,
            "padding": null,
            "right": null,
            "top": null,
            "visibility": null,
            "width": null
          }
        },
        "f67210d769dd4fbfb8852be70e7944e8": {
          "model_module": "@jupyter-widgets/controls",
          "model_name": "DescriptionStyleModel",
          "model_module_version": "1.5.0",
          "state": {
            "_model_module": "@jupyter-widgets/controls",
            "_model_module_version": "1.5.0",
            "_model_name": "DescriptionStyleModel",
            "_view_count": null,
            "_view_module": "@jupyter-widgets/base",
            "_view_module_version": "1.2.0",
            "_view_name": "StyleView",
            "description_width": ""
          }
        },
        "ae04cc52d0114318aac9363da55d8a28": {
          "model_module": "@jupyter-widgets/base",
          "model_name": "LayoutModel",
          "model_module_version": "1.2.0",
          "state": {
            "_model_module": "@jupyter-widgets/base",
            "_model_module_version": "1.2.0",
            "_model_name": "LayoutModel",
            "_view_count": null,
            "_view_module": "@jupyter-widgets/base",
            "_view_module_version": "1.2.0",
            "_view_name": "LayoutView",
            "align_content": null,
            "align_items": null,
            "align_self": null,
            "border": null,
            "bottom": null,
            "display": null,
            "flex": null,
            "flex_flow": null,
            "grid_area": null,
            "grid_auto_columns": null,
            "grid_auto_flow": null,
            "grid_auto_rows": null,
            "grid_column": null,
            "grid_gap": null,
            "grid_row": null,
            "grid_template_areas": null,
            "grid_template_columns": null,
            "grid_template_rows": null,
            "height": null,
            "justify_content": null,
            "justify_items": null,
            "left": null,
            "margin": null,
            "max_height": null,
            "max_width": null,
            "min_height": null,
            "min_width": null,
            "object_fit": null,
            "object_position": null,
            "order": null,
            "overflow": null,
            "overflow_x": null,
            "overflow_y": null,
            "padding": null,
            "right": null,
            "top": null,
            "visibility": null,
            "width": null
          }
        },
        "aa632275abfa47bc9e15130fdcf97f77": {
          "model_module": "@jupyter-widgets/controls",
          "model_name": "ProgressStyleModel",
          "model_module_version": "1.5.0",
          "state": {
            "_model_module": "@jupyter-widgets/controls",
            "_model_module_version": "1.5.0",
            "_model_name": "ProgressStyleModel",
            "_view_count": null,
            "_view_module": "@jupyter-widgets/base",
            "_view_module_version": "1.2.0",
            "_view_name": "StyleView",
            "bar_color": null,
            "description_width": ""
          }
        },
        "fad7a1270a4545e384ad264f36abb267": {
          "model_module": "@jupyter-widgets/base",
          "model_name": "LayoutModel",
          "model_module_version": "1.2.0",
          "state": {
            "_model_module": "@jupyter-widgets/base",
            "_model_module_version": "1.2.0",
            "_model_name": "LayoutModel",
            "_view_count": null,
            "_view_module": "@jupyter-widgets/base",
            "_view_module_version": "1.2.0",
            "_view_name": "LayoutView",
            "align_content": null,
            "align_items": null,
            "align_self": null,
            "border": null,
            "bottom": null,
            "display": null,
            "flex": null,
            "flex_flow": null,
            "grid_area": null,
            "grid_auto_columns": null,
            "grid_auto_flow": null,
            "grid_auto_rows": null,
            "grid_column": null,
            "grid_gap": null,
            "grid_row": null,
            "grid_template_areas": null,
            "grid_template_columns": null,
            "grid_template_rows": null,
            "height": null,
            "justify_content": null,
            "justify_items": null,
            "left": null,
            "margin": null,
            "max_height": null,
            "max_width": null,
            "min_height": null,
            "min_width": null,
            "object_fit": null,
            "object_position": null,
            "order": null,
            "overflow": null,
            "overflow_x": null,
            "overflow_y": null,
            "padding": null,
            "right": null,
            "top": null,
            "visibility": null,
            "width": null
          }
        },
        "c1ba36cfe9ff4e9b92799956f682bdbc": {
          "model_module": "@jupyter-widgets/controls",
          "model_name": "DescriptionStyleModel",
          "model_module_version": "1.5.0",
          "state": {
            "_model_module": "@jupyter-widgets/controls",
            "_model_module_version": "1.5.0",
            "_model_name": "DescriptionStyleModel",
            "_view_count": null,
            "_view_module": "@jupyter-widgets/base",
            "_view_module_version": "1.2.0",
            "_view_name": "StyleView",
            "description_width": ""
          }
        },
        "cb0f0c494ccc484d813817060a187760": {
          "model_module": "@jupyter-widgets/controls",
          "model_name": "HBoxModel",
          "model_module_version": "1.5.0",
          "state": {
            "_dom_classes": [],
            "_model_module": "@jupyter-widgets/controls",
            "_model_module_version": "1.5.0",
            "_model_name": "HBoxModel",
            "_view_count": null,
            "_view_module": "@jupyter-widgets/controls",
            "_view_module_version": "1.5.0",
            "_view_name": "HBoxView",
            "box_style": "",
            "children": [
              "IPY_MODEL_9fdc313c63a644dfac88aac8087e8813",
              "IPY_MODEL_e898d3e0eb774fbcb219b6c895047ad8",
              "IPY_MODEL_a634dde9171a4ed8a59a7b503b811ca2"
            ],
            "layout": "IPY_MODEL_042f68664af7497e9cf1d16c3f85d517"
          }
        },
        "9fdc313c63a644dfac88aac8087e8813": {
          "model_module": "@jupyter-widgets/controls",
          "model_name": "HTMLModel",
          "model_module_version": "1.5.0",
          "state": {
            "_dom_classes": [],
            "_model_module": "@jupyter-widgets/controls",
            "_model_module_version": "1.5.0",
            "_model_name": "HTMLModel",
            "_view_count": null,
            "_view_module": "@jupyter-widgets/controls",
            "_view_module_version": "1.5.0",
            "_view_name": "HTMLView",
            "description": "",
            "description_tooltip": null,
            "layout": "IPY_MODEL_b7a271881db24ab396835d555f62c654",
            "placeholder": "​",
            "style": "IPY_MODEL_0d748264b1814e31a957f0f638cb5eec",
            "value": "Downloading (…)lve/main/config.json: 100%"
          }
        },
        "e898d3e0eb774fbcb219b6c895047ad8": {
          "model_module": "@jupyter-widgets/controls",
          "model_name": "FloatProgressModel",
          "model_module_version": "1.5.0",
          "state": {
            "_dom_classes": [],
            "_model_module": "@jupyter-widgets/controls",
            "_model_module_version": "1.5.0",
            "_model_name": "FloatProgressModel",
            "_view_count": null,
            "_view_module": "@jupyter-widgets/controls",
            "_view_module_version": "1.5.0",
            "_view_name": "ProgressView",
            "bar_style": "success",
            "description": "",
            "description_tooltip": null,
            "layout": "IPY_MODEL_8ce415dfa2604d3caf21d09eb273dfad",
            "max": 570,
            "min": 0,
            "orientation": "horizontal",
            "style": "IPY_MODEL_dc1d109e4f2f4ef99d73a955989ca2da",
            "value": 570
          }
        },
        "a634dde9171a4ed8a59a7b503b811ca2": {
          "model_module": "@jupyter-widgets/controls",
          "model_name": "HTMLModel",
          "model_module_version": "1.5.0",
          "state": {
            "_dom_classes": [],
            "_model_module": "@jupyter-widgets/controls",
            "_model_module_version": "1.5.0",
            "_model_name": "HTMLModel",
            "_view_count": null,
            "_view_module": "@jupyter-widgets/controls",
            "_view_module_version": "1.5.0",
            "_view_name": "HTMLView",
            "description": "",
            "description_tooltip": null,
            "layout": "IPY_MODEL_301cb3585b5e47a0a6c84ac3be020909",
            "placeholder": "​",
            "style": "IPY_MODEL_c3fb6a9addd244dc8cccc90e88ecefca",
            "value": " 570/570 [00:00&lt;00:00, 17.3kB/s]"
          }
        },
        "042f68664af7497e9cf1d16c3f85d517": {
          "model_module": "@jupyter-widgets/base",
          "model_name": "LayoutModel",
          "model_module_version": "1.2.0",
          "state": {
            "_model_module": "@jupyter-widgets/base",
            "_model_module_version": "1.2.0",
            "_model_name": "LayoutModel",
            "_view_count": null,
            "_view_module": "@jupyter-widgets/base",
            "_view_module_version": "1.2.0",
            "_view_name": "LayoutView",
            "align_content": null,
            "align_items": null,
            "align_self": null,
            "border": null,
            "bottom": null,
            "display": null,
            "flex": null,
            "flex_flow": null,
            "grid_area": null,
            "grid_auto_columns": null,
            "grid_auto_flow": null,
            "grid_auto_rows": null,
            "grid_column": null,
            "grid_gap": null,
            "grid_row": null,
            "grid_template_areas": null,
            "grid_template_columns": null,
            "grid_template_rows": null,
            "height": null,
            "justify_content": null,
            "justify_items": null,
            "left": null,
            "margin": null,
            "max_height": null,
            "max_width": null,
            "min_height": null,
            "min_width": null,
            "object_fit": null,
            "object_position": null,
            "order": null,
            "overflow": null,
            "overflow_x": null,
            "overflow_y": null,
            "padding": null,
            "right": null,
            "top": null,
            "visibility": null,
            "width": null
          }
        },
        "b7a271881db24ab396835d555f62c654": {
          "model_module": "@jupyter-widgets/base",
          "model_name": "LayoutModel",
          "model_module_version": "1.2.0",
          "state": {
            "_model_module": "@jupyter-widgets/base",
            "_model_module_version": "1.2.0",
            "_model_name": "LayoutModel",
            "_view_count": null,
            "_view_module": "@jupyter-widgets/base",
            "_view_module_version": "1.2.0",
            "_view_name": "LayoutView",
            "align_content": null,
            "align_items": null,
            "align_self": null,
            "border": null,
            "bottom": null,
            "display": null,
            "flex": null,
            "flex_flow": null,
            "grid_area": null,
            "grid_auto_columns": null,
            "grid_auto_flow": null,
            "grid_auto_rows": null,
            "grid_column": null,
            "grid_gap": null,
            "grid_row": null,
            "grid_template_areas": null,
            "grid_template_columns": null,
            "grid_template_rows": null,
            "height": null,
            "justify_content": null,
            "justify_items": null,
            "left": null,
            "margin": null,
            "max_height": null,
            "max_width": null,
            "min_height": null,
            "min_width": null,
            "object_fit": null,
            "object_position": null,
            "order": null,
            "overflow": null,
            "overflow_x": null,
            "overflow_y": null,
            "padding": null,
            "right": null,
            "top": null,
            "visibility": null,
            "width": null
          }
        },
        "0d748264b1814e31a957f0f638cb5eec": {
          "model_module": "@jupyter-widgets/controls",
          "model_name": "DescriptionStyleModel",
          "model_module_version": "1.5.0",
          "state": {
            "_model_module": "@jupyter-widgets/controls",
            "_model_module_version": "1.5.0",
            "_model_name": "DescriptionStyleModel",
            "_view_count": null,
            "_view_module": "@jupyter-widgets/base",
            "_view_module_version": "1.2.0",
            "_view_name": "StyleView",
            "description_width": ""
          }
        },
        "8ce415dfa2604d3caf21d09eb273dfad": {
          "model_module": "@jupyter-widgets/base",
          "model_name": "LayoutModel",
          "model_module_version": "1.2.0",
          "state": {
            "_model_module": "@jupyter-widgets/base",
            "_model_module_version": "1.2.0",
            "_model_name": "LayoutModel",
            "_view_count": null,
            "_view_module": "@jupyter-widgets/base",
            "_view_module_version": "1.2.0",
            "_view_name": "LayoutView",
            "align_content": null,
            "align_items": null,
            "align_self": null,
            "border": null,
            "bottom": null,
            "display": null,
            "flex": null,
            "flex_flow": null,
            "grid_area": null,
            "grid_auto_columns": null,
            "grid_auto_flow": null,
            "grid_auto_rows": null,
            "grid_column": null,
            "grid_gap": null,
            "grid_row": null,
            "grid_template_areas": null,
            "grid_template_columns": null,
            "grid_template_rows": null,
            "height": null,
            "justify_content": null,
            "justify_items": null,
            "left": null,
            "margin": null,
            "max_height": null,
            "max_width": null,
            "min_height": null,
            "min_width": null,
            "object_fit": null,
            "object_position": null,
            "order": null,
            "overflow": null,
            "overflow_x": null,
            "overflow_y": null,
            "padding": null,
            "right": null,
            "top": null,
            "visibility": null,
            "width": null
          }
        },
        "dc1d109e4f2f4ef99d73a955989ca2da": {
          "model_module": "@jupyter-widgets/controls",
          "model_name": "ProgressStyleModel",
          "model_module_version": "1.5.0",
          "state": {
            "_model_module": "@jupyter-widgets/controls",
            "_model_module_version": "1.5.0",
            "_model_name": "ProgressStyleModel",
            "_view_count": null,
            "_view_module": "@jupyter-widgets/base",
            "_view_module_version": "1.2.0",
            "_view_name": "StyleView",
            "bar_color": null,
            "description_width": ""
          }
        },
        "301cb3585b5e47a0a6c84ac3be020909": {
          "model_module": "@jupyter-widgets/base",
          "model_name": "LayoutModel",
          "model_module_version": "1.2.0",
          "state": {
            "_model_module": "@jupyter-widgets/base",
            "_model_module_version": "1.2.0",
            "_model_name": "LayoutModel",
            "_view_count": null,
            "_view_module": "@jupyter-widgets/base",
            "_view_module_version": "1.2.0",
            "_view_name": "LayoutView",
            "align_content": null,
            "align_items": null,
            "align_self": null,
            "border": null,
            "bottom": null,
            "display": null,
            "flex": null,
            "flex_flow": null,
            "grid_area": null,
            "grid_auto_columns": null,
            "grid_auto_flow": null,
            "grid_auto_rows": null,
            "grid_column": null,
            "grid_gap": null,
            "grid_row": null,
            "grid_template_areas": null,
            "grid_template_columns": null,
            "grid_template_rows": null,
            "height": null,
            "justify_content": null,
            "justify_items": null,
            "left": null,
            "margin": null,
            "max_height": null,
            "max_width": null,
            "min_height": null,
            "min_width": null,
            "object_fit": null,
            "object_position": null,
            "order": null,
            "overflow": null,
            "overflow_x": null,
            "overflow_y": null,
            "padding": null,
            "right": null,
            "top": null,
            "visibility": null,
            "width": null
          }
        },
        "c3fb6a9addd244dc8cccc90e88ecefca": {
          "model_module": "@jupyter-widgets/controls",
          "model_name": "DescriptionStyleModel",
          "model_module_version": "1.5.0",
          "state": {
            "_model_module": "@jupyter-widgets/controls",
            "_model_module_version": "1.5.0",
            "_model_name": "DescriptionStyleModel",
            "_view_count": null,
            "_view_module": "@jupyter-widgets/base",
            "_view_module_version": "1.2.0",
            "_view_name": "StyleView",
            "description_width": ""
          }
        },
        "74c770f5b78e4f9f8da5285d3508730b": {
          "model_module": "@jupyter-widgets/controls",
          "model_name": "HBoxModel",
          "model_module_version": "1.5.0",
          "state": {
            "_dom_classes": [],
            "_model_module": "@jupyter-widgets/controls",
            "_model_module_version": "1.5.0",
            "_model_name": "HBoxModel",
            "_view_count": null,
            "_view_module": "@jupyter-widgets/controls",
            "_view_module_version": "1.5.0",
            "_view_name": "HBoxView",
            "box_style": "",
            "children": [
              "IPY_MODEL_10366249bab24738a643b2133943db5a",
              "IPY_MODEL_df8d586f8f6741d0974b171584933390",
              "IPY_MODEL_1fe7130583b84aa2b685cd7ad1a1ff1d"
            ],
            "layout": "IPY_MODEL_c3f4008c2b6e4f9daae94fec14645f31"
          }
        },
        "10366249bab24738a643b2133943db5a": {
          "model_module": "@jupyter-widgets/controls",
          "model_name": "HTMLModel",
          "model_module_version": "1.5.0",
          "state": {
            "_dom_classes": [],
            "_model_module": "@jupyter-widgets/controls",
            "_model_module_version": "1.5.0",
            "_model_name": "HTMLModel",
            "_view_count": null,
            "_view_module": "@jupyter-widgets/controls",
            "_view_module_version": "1.5.0",
            "_view_name": "HTMLView",
            "description": "",
            "description_tooltip": null,
            "layout": "IPY_MODEL_9837bfb9ae954cabac7f3aa0af53d29f",
            "placeholder": "​",
            "style": "IPY_MODEL_298254f1d50440e89deea275cd46ac64",
            "value": "Downloading pytorch_model.bin: 100%"
          }
        },
        "df8d586f8f6741d0974b171584933390": {
          "model_module": "@jupyter-widgets/controls",
          "model_name": "FloatProgressModel",
          "model_module_version": "1.5.0",
          "state": {
            "_dom_classes": [],
            "_model_module": "@jupyter-widgets/controls",
            "_model_module_version": "1.5.0",
            "_model_name": "FloatProgressModel",
            "_view_count": null,
            "_view_module": "@jupyter-widgets/controls",
            "_view_module_version": "1.5.0",
            "_view_name": "ProgressView",
            "bar_style": "success",
            "description": "",
            "description_tooltip": null,
            "layout": "IPY_MODEL_2c95c76cabd64b60b2740b7eb378630c",
            "max": 440473133,
            "min": 0,
            "orientation": "horizontal",
            "style": "IPY_MODEL_c5966b754f4c41a8af118ea7385cb897",
            "value": 440473133
          }
        },
        "1fe7130583b84aa2b685cd7ad1a1ff1d": {
          "model_module": "@jupyter-widgets/controls",
          "model_name": "HTMLModel",
          "model_module_version": "1.5.0",
          "state": {
            "_dom_classes": [],
            "_model_module": "@jupyter-widgets/controls",
            "_model_module_version": "1.5.0",
            "_model_name": "HTMLModel",
            "_view_count": null,
            "_view_module": "@jupyter-widgets/controls",
            "_view_module_version": "1.5.0",
            "_view_name": "HTMLView",
            "description": "",
            "description_tooltip": null,
            "layout": "IPY_MODEL_aff50a1becf94bffaf057c41495f7cde",
            "placeholder": "​",
            "style": "IPY_MODEL_e1d7f1002ebc426e911ff547d9879372",
            "value": " 440M/440M [00:04&lt;00:00, 76.2MB/s]"
          }
        },
        "c3f4008c2b6e4f9daae94fec14645f31": {
          "model_module": "@jupyter-widgets/base",
          "model_name": "LayoutModel",
          "model_module_version": "1.2.0",
          "state": {
            "_model_module": "@jupyter-widgets/base",
            "_model_module_version": "1.2.0",
            "_model_name": "LayoutModel",
            "_view_count": null,
            "_view_module": "@jupyter-widgets/base",
            "_view_module_version": "1.2.0",
            "_view_name": "LayoutView",
            "align_content": null,
            "align_items": null,
            "align_self": null,
            "border": null,
            "bottom": null,
            "display": null,
            "flex": null,
            "flex_flow": null,
            "grid_area": null,
            "grid_auto_columns": null,
            "grid_auto_flow": null,
            "grid_auto_rows": null,
            "grid_column": null,
            "grid_gap": null,
            "grid_row": null,
            "grid_template_areas": null,
            "grid_template_columns": null,
            "grid_template_rows": null,
            "height": null,
            "justify_content": null,
            "justify_items": null,
            "left": null,
            "margin": null,
            "max_height": null,
            "max_width": null,
            "min_height": null,
            "min_width": null,
            "object_fit": null,
            "object_position": null,
            "order": null,
            "overflow": null,
            "overflow_x": null,
            "overflow_y": null,
            "padding": null,
            "right": null,
            "top": null,
            "visibility": null,
            "width": null
          }
        },
        "9837bfb9ae954cabac7f3aa0af53d29f": {
          "model_module": "@jupyter-widgets/base",
          "model_name": "LayoutModel",
          "model_module_version": "1.2.0",
          "state": {
            "_model_module": "@jupyter-widgets/base",
            "_model_module_version": "1.2.0",
            "_model_name": "LayoutModel",
            "_view_count": null,
            "_view_module": "@jupyter-widgets/base",
            "_view_module_version": "1.2.0",
            "_view_name": "LayoutView",
            "align_content": null,
            "align_items": null,
            "align_self": null,
            "border": null,
            "bottom": null,
            "display": null,
            "flex": null,
            "flex_flow": null,
            "grid_area": null,
            "grid_auto_columns": null,
            "grid_auto_flow": null,
            "grid_auto_rows": null,
            "grid_column": null,
            "grid_gap": null,
            "grid_row": null,
            "grid_template_areas": null,
            "grid_template_columns": null,
            "grid_template_rows": null,
            "height": null,
            "justify_content": null,
            "justify_items": null,
            "left": null,
            "margin": null,
            "max_height": null,
            "max_width": null,
            "min_height": null,
            "min_width": null,
            "object_fit": null,
            "object_position": null,
            "order": null,
            "overflow": null,
            "overflow_x": null,
            "overflow_y": null,
            "padding": null,
            "right": null,
            "top": null,
            "visibility": null,
            "width": null
          }
        },
        "298254f1d50440e89deea275cd46ac64": {
          "model_module": "@jupyter-widgets/controls",
          "model_name": "DescriptionStyleModel",
          "model_module_version": "1.5.0",
          "state": {
            "_model_module": "@jupyter-widgets/controls",
            "_model_module_version": "1.5.0",
            "_model_name": "DescriptionStyleModel",
            "_view_count": null,
            "_view_module": "@jupyter-widgets/base",
            "_view_module_version": "1.2.0",
            "_view_name": "StyleView",
            "description_width": ""
          }
        },
        "2c95c76cabd64b60b2740b7eb378630c": {
          "model_module": "@jupyter-widgets/base",
          "model_name": "LayoutModel",
          "model_module_version": "1.2.0",
          "state": {
            "_model_module": "@jupyter-widgets/base",
            "_model_module_version": "1.2.0",
            "_model_name": "LayoutModel",
            "_view_count": null,
            "_view_module": "@jupyter-widgets/base",
            "_view_module_version": "1.2.0",
            "_view_name": "LayoutView",
            "align_content": null,
            "align_items": null,
            "align_self": null,
            "border": null,
            "bottom": null,
            "display": null,
            "flex": null,
            "flex_flow": null,
            "grid_area": null,
            "grid_auto_columns": null,
            "grid_auto_flow": null,
            "grid_auto_rows": null,
            "grid_column": null,
            "grid_gap": null,
            "grid_row": null,
            "grid_template_areas": null,
            "grid_template_columns": null,
            "grid_template_rows": null,
            "height": null,
            "justify_content": null,
            "justify_items": null,
            "left": null,
            "margin": null,
            "max_height": null,
            "max_width": null,
            "min_height": null,
            "min_width": null,
            "object_fit": null,
            "object_position": null,
            "order": null,
            "overflow": null,
            "overflow_x": null,
            "overflow_y": null,
            "padding": null,
            "right": null,
            "top": null,
            "visibility": null,
            "width": null
          }
        },
        "c5966b754f4c41a8af118ea7385cb897": {
          "model_module": "@jupyter-widgets/controls",
          "model_name": "ProgressStyleModel",
          "model_module_version": "1.5.0",
          "state": {
            "_model_module": "@jupyter-widgets/controls",
            "_model_module_version": "1.5.0",
            "_model_name": "ProgressStyleModel",
            "_view_count": null,
            "_view_module": "@jupyter-widgets/base",
            "_view_module_version": "1.2.0",
            "_view_name": "StyleView",
            "bar_color": null,
            "description_width": ""
          }
        },
        "aff50a1becf94bffaf057c41495f7cde": {
          "model_module": "@jupyter-widgets/base",
          "model_name": "LayoutModel",
          "model_module_version": "1.2.0",
          "state": {
            "_model_module": "@jupyter-widgets/base",
            "_model_module_version": "1.2.0",
            "_model_name": "LayoutModel",
            "_view_count": null,
            "_view_module": "@jupyter-widgets/base",
            "_view_module_version": "1.2.0",
            "_view_name": "LayoutView",
            "align_content": null,
            "align_items": null,
            "align_self": null,
            "border": null,
            "bottom": null,
            "display": null,
            "flex": null,
            "flex_flow": null,
            "grid_area": null,
            "grid_auto_columns": null,
            "grid_auto_flow": null,
            "grid_auto_rows": null,
            "grid_column": null,
            "grid_gap": null,
            "grid_row": null,
            "grid_template_areas": null,
            "grid_template_columns": null,
            "grid_template_rows": null,
            "height": null,
            "justify_content": null,
            "justify_items": null,
            "left": null,
            "margin": null,
            "max_height": null,
            "max_width": null,
            "min_height": null,
            "min_width": null,
            "object_fit": null,
            "object_position": null,
            "order": null,
            "overflow": null,
            "overflow_x": null,
            "overflow_y": null,
            "padding": null,
            "right": null,
            "top": null,
            "visibility": null,
            "width": null
          }
        },
        "e1d7f1002ebc426e911ff547d9879372": {
          "model_module": "@jupyter-widgets/controls",
          "model_name": "DescriptionStyleModel",
          "model_module_version": "1.5.0",
          "state": {
            "_model_module": "@jupyter-widgets/controls",
            "_model_module_version": "1.5.0",
            "_model_name": "DescriptionStyleModel",
            "_view_count": null,
            "_view_module": "@jupyter-widgets/base",
            "_view_module_version": "1.2.0",
            "_view_name": "StyleView",
            "description_width": ""
          }
        }
      }
    }
  },
  "cells": [
    {
      "cell_type": "markdown",
      "source": [
        "https://mccormickml.com/2019/05/14/BERT-word-embeddings-tutorial/"
      ],
      "metadata": {
        "id": "NsSfGQpTXrzg"
      }
    },
    {
      "cell_type": "code",
      "execution_count": 1,
      "metadata": {
        "colab": {
          "base_uri": "https://localhost:8080/"
        },
        "id": "AN7MkJTtzbcr",
        "outputId": "5d699a67-3b91-4ef6-a11f-2bcbdcc9c4b9"
      },
      "outputs": [
        {
          "output_type": "stream",
          "name": "stdout",
          "text": [
            "Looking in indexes: https://pypi.org/simple, https://us-python.pkg.dev/colab-wheels/public/simple/\n",
            "Collecting transformers\n",
            "  Downloading transformers-4.27.4-py3-none-any.whl (6.8 MB)\n",
            "\u001b[2K     \u001b[90m━━━━━━━━━━━━━━━━━━━━━━━━━━━━━━━━━━━━━━━━\u001b[0m \u001b[32m6.8/6.8 MB\u001b[0m \u001b[31m28.9 MB/s\u001b[0m eta \u001b[36m0:00:00\u001b[0m\n",
            "\u001b[?25hRequirement already satisfied: regex!=2019.12.17 in /usr/local/lib/python3.9/dist-packages (from transformers) (2022.10.31)\n",
            "Requirement already satisfied: filelock in /usr/local/lib/python3.9/dist-packages (from transformers) (3.10.7)\n",
            "Collecting huggingface-hub<1.0,>=0.11.0\n",
            "  Downloading huggingface_hub-0.13.3-py3-none-any.whl (199 kB)\n",
            "\u001b[2K     \u001b[90m━━━━━━━━━━━━━━━━━━━━━━━━━━━━━━━━━━━━━━━\u001b[0m \u001b[32m199.8/199.8 KB\u001b[0m \u001b[31m9.9 MB/s\u001b[0m eta \u001b[36m0:00:00\u001b[0m\n",
            "\u001b[?25hRequirement already satisfied: pyyaml>=5.1 in /usr/local/lib/python3.9/dist-packages (from transformers) (6.0)\n",
            "Collecting tokenizers!=0.11.3,<0.14,>=0.11.1\n",
            "  Downloading tokenizers-0.13.3-cp39-cp39-manylinux_2_17_x86_64.manylinux2014_x86_64.whl (7.8 MB)\n",
            "\u001b[2K     \u001b[90m━━━━━━━━━━━━━━━━━━━━━━━━━━━━━━━━━━━━━━━━\u001b[0m \u001b[32m7.8/7.8 MB\u001b[0m \u001b[31m17.2 MB/s\u001b[0m eta \u001b[36m0:00:00\u001b[0m\n",
            "\u001b[?25hRequirement already satisfied: numpy>=1.17 in /usr/local/lib/python3.9/dist-packages (from transformers) (1.22.4)\n",
            "Requirement already satisfied: tqdm>=4.27 in /usr/local/lib/python3.9/dist-packages (from transformers) (4.65.0)\n",
            "Requirement already satisfied: packaging>=20.0 in /usr/local/lib/python3.9/dist-packages (from transformers) (23.0)\n",
            "Requirement already satisfied: requests in /usr/local/lib/python3.9/dist-packages (from transformers) (2.27.1)\n",
            "Requirement already satisfied: typing-extensions>=3.7.4.3 in /usr/local/lib/python3.9/dist-packages (from huggingface-hub<1.0,>=0.11.0->transformers) (4.5.0)\n",
            "Requirement already satisfied: urllib3<1.27,>=1.21.1 in /usr/local/lib/python3.9/dist-packages (from requests->transformers) (1.26.15)\n",
            "Requirement already satisfied: idna<4,>=2.5 in /usr/local/lib/python3.9/dist-packages (from requests->transformers) (3.4)\n",
            "Requirement already satisfied: certifi>=2017.4.17 in /usr/local/lib/python3.9/dist-packages (from requests->transformers) (2022.12.7)\n",
            "Requirement already satisfied: charset-normalizer~=2.0.0 in /usr/local/lib/python3.9/dist-packages (from requests->transformers) (2.0.12)\n",
            "Installing collected packages: tokenizers, huggingface-hub, transformers\n",
            "Successfully installed huggingface-hub-0.13.3 tokenizers-0.13.3 transformers-4.27.4\n"
          ]
        }
      ],
      "source": [
        "!pip install transformers"
      ]
    },
    {
      "cell_type": "code",
      "source": [
        "import torch\n",
        "from transformers import BertTokenizer, BertModel\n",
        "\n",
        "# OPTIONAL: if you want to have more information on what's happening, activate the logger as follows\n",
        "import logging\n",
        "#logging.basicConfig(level=logging.INFO)\n",
        "\n",
        "import matplotlib.pyplot as plt\n",
        "%matplotlib inline\n",
        "\n",
        "# Load pre-trained model tokenizer (vocabulary)\n",
        "tokenizer = BertTokenizer.from_pretrained('bert-base-uncased')\n"
      ],
      "metadata": {
        "colab": {
          "base_uri": "https://localhost:8080/",
          "height": 113,
          "referenced_widgets": [
            "2ac2a85557594f08a921b254e1098b06",
            "b6522927fbf64ac4ba6679006e011e56",
            "8e9b4a8f588640a7b81336c39af1def9",
            "580128f7b88c462c80057938111392c5",
            "3356a1d7bf2b4e4aa218a4f92415717a",
            "0653f8d04f51402b972b8b2b60eb045c",
            "54192892ff524708beab3fefc9c24e31",
            "34ba800f79b74b658bf806f568a3e976",
            "85779db88a974ca4a14c16c64cdae5c3",
            "40411ade91eb4fd4af2a1643f4f137c8",
            "f6b3b94e504148ada1d91886417f563e",
            "5b33d0abfc43462e9d681f4b5f8b59cb",
            "0206a17897d84948874d293433b5622e",
            "40e1bd15e9304d408439c2b5a89f27c9",
            "0989ffc13d9745b38e7fb34938b3c0c5",
            "5a08be25232e4f27851ff0cee3b5d455",
            "61ea389a67044d42a48306fa2fe32686",
            "f67210d769dd4fbfb8852be70e7944e8",
            "ae04cc52d0114318aac9363da55d8a28",
            "aa632275abfa47bc9e15130fdcf97f77",
            "fad7a1270a4545e384ad264f36abb267",
            "c1ba36cfe9ff4e9b92799956f682bdbc",
            "cb0f0c494ccc484d813817060a187760",
            "9fdc313c63a644dfac88aac8087e8813",
            "e898d3e0eb774fbcb219b6c895047ad8",
            "a634dde9171a4ed8a59a7b503b811ca2",
            "042f68664af7497e9cf1d16c3f85d517",
            "b7a271881db24ab396835d555f62c654",
            "0d748264b1814e31a957f0f638cb5eec",
            "8ce415dfa2604d3caf21d09eb273dfad",
            "dc1d109e4f2f4ef99d73a955989ca2da",
            "301cb3585b5e47a0a6c84ac3be020909",
            "c3fb6a9addd244dc8cccc90e88ecefca"
          ]
        },
        "id": "PavlrUOKzrfO",
        "outputId": "fd043dce-a7ae-475d-c58b-3478748b3c62"
      },
      "execution_count": 3,
      "outputs": [
        {
          "output_type": "display_data",
          "data": {
            "text/plain": [
              "Downloading (…)solve/main/vocab.txt: 0.00B [00:00, ?B/s]"
            ],
            "application/vnd.jupyter.widget-view+json": {
              "version_major": 2,
              "version_minor": 0,
              "model_id": "2ac2a85557594f08a921b254e1098b06"
            }
          },
          "metadata": {}
        },
        {
          "output_type": "display_data",
          "data": {
            "text/plain": [
              "Downloading (…)okenizer_config.json:   0%|          | 0.00/28.0 [00:00<?, ?B/s]"
            ],
            "application/vnd.jupyter.widget-view+json": {
              "version_major": 2,
              "version_minor": 0,
              "model_id": "5b33d0abfc43462e9d681f4b5f8b59cb"
            }
          },
          "metadata": {}
        },
        {
          "output_type": "display_data",
          "data": {
            "text/plain": [
              "Downloading (…)lve/main/config.json:   0%|          | 0.00/570 [00:00<?, ?B/s]"
            ],
            "application/vnd.jupyter.widget-view+json": {
              "version_major": 2,
              "version_minor": 0,
              "model_id": "cb0f0c494ccc484d813817060a187760"
            }
          },
          "metadata": {}
        }
      ]
    },
    {
      "cell_type": "markdown",
      "source": [
        "Because BERT is a pretrained model that expects input data in a specific format, we will need:\n",
        "\n",
        "A special token, [SEP], to mark the end of a sentence, or the separation between two sentences\n",
        "A special token, [CLS], at the beginning of our text. This token is used for classification tasks, but BERT expects it no matter what your application is.\n",
        "Tokens that conform with the fixed vocabulary used in BERT\n",
        "The Token IDs for the tokens, from BERT’s tokenizer\n",
        "Mask IDs to indicate which elements in the sequence are tokens and which are padding elements\n",
        "Segment IDs used to distinguish different sentences\n",
        "Positional Embeddings used to show token position within the sequence"
      ],
      "metadata": {
        "id": "CuTVVKgizytk"
      }
    },
    {
      "cell_type": "markdown",
      "source": [
        "2.1. Special Tokens\n",
        "BERT can take as input either one or two sentences, and uses the special token [SEP] to differentiate them. The [CLS] token always appears at the start of the text, and is specific to classification tasks.\n",
        "\n",
        "Both tokens are always required, however, even if we only have one sentence, and even if we are not using BERT for classification. That’s how BERT was pre-trained, and so that’s what BERT expects to see.\n",
        "\n",
        "2 Sentence Input:\n",
        "\n",
        "[CLS] The man went to the store. [SEP] He bought a gallon of milk.\n",
        "\n",
        "1 Sentence Input:\n",
        "\n",
        "[CLS] The man went to the store. [SEP]\n",
        "\n",
        "2.2. Tokenization\n",
        "BERT provides its own tokenizer, which we imported above. Let’s see how it handles the below sentence."
      ],
      "metadata": {
        "id": "sYpDK5nD0BA3"
      }
    },
    {
      "cell_type": "code",
      "source": [
        "text = \"Here is the sentence I want embeddings for.\"\n",
        "marked_text = \"[CLS] \" + text + \" [SEP]\"\n",
        "\n",
        "# Tokenize our sentence with the BERT tokenizer.\n",
        "tokenized_text = tokenizer.tokenize(marked_text)\n",
        "\n",
        "# Print out the tokens.\n",
        "print (tokenized_text)"
      ],
      "metadata": {
        "colab": {
          "base_uri": "https://localhost:8080/"
        },
        "id": "42zlRziM0C_E",
        "outputId": "2e59629d-764b-4238-83f4-1357fa2056a8"
      },
      "execution_count": 4,
      "outputs": [
        {
          "output_type": "stream",
          "name": "stdout",
          "text": [
            "['[CLS]', 'here', 'is', 'the', 'sentence', 'i', 'want', 'em', '##bed', '##ding', '##s', 'for', '.', '[SEP]']\n"
          ]
        }
      ]
    },
    {
      "cell_type": "markdown",
      "source": [
        "The original word has been split into smaller subwords and characters. The two hash signs preceding some of these subwords are just our tokenizer’s way to denote that this subword or character is part of a larger word and preceded by another subword. So, for example, the ‘##bed’ token is separate from the ‘bed’ token; the first is used whenever the subword ‘bed’ occurs within a larger word and the second is used explicitly for when the standalone token ‘thing you sleep on’ occurs.\n",
        "\n",
        "Why does it look this way? This is because the BERT tokenizer was created with a WordPiece model. This model greedily creates a fixed-size vocabulary of individual characters, subwords, and words that best fits our language data. Since the vocabulary limit size of our BERT tokenizer model is 30,000, the WordPiece model generated a vocabulary that contains all English characters plus the ~30,000 most common words and subwords found in the English language corpus the model is trained on. This vocabulary contains four things:\n",
        "\n",
        "Whole words\n",
        "Subwords occuring at the front of a word or in isolation (“em” as in “embeddings” is assigned the same vector as the standalone sequence of characters “em” as in “go get em” )\n",
        "Subwords not at the front of a word, which are preceded by ‘##’ to denote this case\n",
        "Individual characters\n",
        "To tokenize a word under this model, the tokenizer first checks if the whole word is in the vocabulary. If not, it tries to break the word into the largest possible subwords contained in the vocabulary, and as a last resort will decompose the word into individual characters. Note that because of this, we can always represent a word as, at the very least, the collection of its individual characters.\n",
        "\n",
        "As a result, rather than assigning out of vocabulary words to a catch-all token like ‘OOV’ or ‘UNK,’ words that are not in the vocabulary are decomposed into subword and character tokens that we can then generate embeddings for.\n",
        "\n",
        "So, rather than assigning “embeddings” and every other out of vocabulary word to an overloaded unknown vocabulary token, we split it into subword tokens [‘em’, ‘##bed’, ‘##ding’, ‘##s’] that will retain some of the contextual meaning of the original word. We can even average these subword embedding vectors to generate an approximate vector for the original word.\n",
        "\n",
        "(For more information about WordPiece, see the original paper and further disucssion in Google’s Neural Machine Translation System.)\n",
        "\n",
        "Here are some examples of the tokens contained in our vocabulary. Tokens beginning with two hashes are subwords or individual characters.\n",
        "\n"
      ],
      "metadata": {
        "id": "R5r0m83g0NhY"
      }
    },
    {
      "cell_type": "code",
      "source": [
        "list(tokenizer.vocab.keys())[5000:5020]"
      ],
      "metadata": {
        "colab": {
          "base_uri": "https://localhost:8080/"
        },
        "id": "Zu269uJ00T8b",
        "outputId": "d0e2dac1-fbb1-4011-8951-56988b2b78d3"
      },
      "execution_count": 5,
      "outputs": [
        {
          "output_type": "execute_result",
          "data": {
            "text/plain": [
              "['knight',\n",
              " 'lap',\n",
              " 'survey',\n",
              " 'ma',\n",
              " '##ow',\n",
              " 'noise',\n",
              " 'billy',\n",
              " '##ium',\n",
              " 'shooting',\n",
              " 'guide',\n",
              " 'bedroom',\n",
              " 'priest',\n",
              " 'resistance',\n",
              " 'motor',\n",
              " 'homes',\n",
              " 'sounded',\n",
              " 'giant',\n",
              " '##mer',\n",
              " '150',\n",
              " 'scenes']"
            ]
          },
          "metadata": {},
          "execution_count": 5
        }
      ]
    },
    {
      "cell_type": "markdown",
      "source": [
        "After breaking the text into tokens, we then have to convert the sentence from a list of strings to a list of vocabulary indeces.\n",
        "\n",
        "From here on, we’ll use the below example sentence, which contains two instances of the word “bank” with different meanings."
      ],
      "metadata": {
        "id": "WXN-Kdz5-OnD"
      }
    },
    {
      "cell_type": "code",
      "source": [
        "# Define a new example sentence with multiple meanings of the word \"bank\"\n",
        "text = \"After stealing money from the bank vault, the bank robber was seen \" \\\n",
        "       \"fishing on the Mississippi river bank.\"\n",
        "\n",
        "# Add the special tokens.\n",
        "marked_text = \"[CLS] \" + text + \" [SEP]\"\n",
        "\n",
        "# Split the sentence into tokens.\n",
        "tokenized_text = tokenizer.tokenize(marked_text)\n",
        "\n",
        "# Map the token strings to their vocabulary indeces.\n",
        "indexed_tokens = tokenizer.convert_tokens_to_ids(tokenized_text)\n",
        "\n",
        "# Display the words with their indeces.\n",
        "for tup in zip(tokenized_text, indexed_tokens):\n",
        "    print('{:<12} {:>6,}'.format(tup[0], tup[1]))\n"
      ],
      "metadata": {
        "colab": {
          "base_uri": "https://localhost:8080/"
        },
        "id": "SgL-AJI_zgzv",
        "outputId": "54653a70-06a6-4434-e3c3-892ebb520b94"
      },
      "execution_count": 6,
      "outputs": [
        {
          "output_type": "stream",
          "name": "stdout",
          "text": [
            "[CLS]           101\n",
            "after         2,044\n",
            "stealing     11,065\n",
            "money         2,769\n",
            "from          2,013\n",
            "the           1,996\n",
            "bank          2,924\n",
            "vault        11,632\n",
            ",             1,010\n",
            "the           1,996\n",
            "bank          2,924\n",
            "robber       27,307\n",
            "was           2,001\n",
            "seen          2,464\n",
            "fishing       5,645\n",
            "on            2,006\n",
            "the           1,996\n",
            "mississippi   5,900\n",
            "river         2,314\n",
            "bank          2,924\n",
            ".             1,012\n",
            "[SEP]           102\n"
          ]
        }
      ]
    },
    {
      "cell_type": "markdown",
      "source": [
        "Segment ID\n",
        "BERT is trained on and expects sentence pairs, using 1s and 0s to distinguish between the two sentences. That is, for each token in “tokenized_text,” we must specify which sentence it belongs to: sentence 0 (a series of 0s) or sentence 1 (a series of 1s). For our purposes, single-sentence inputs only require a series of 1s, so we will create a vector of 1s for each token in our input sentence.\n",
        "\n",
        "If you want to process two sentences, assign each word in the first sentence plus the ‘[SEP]’ token a 0, and all tokens of the second sentence a 1."
      ],
      "metadata": {
        "id": "fg-fMAcABTLq"
      }
    },
    {
      "cell_type": "code",
      "source": [
        "# Mark each of the 22 tokens as belonging to sentence \"1\".\n",
        "segments_ids = [1] * len(tokenized_text)\n",
        "\n",
        "print (segments_ids)"
      ],
      "metadata": {
        "colab": {
          "base_uri": "https://localhost:8080/"
        },
        "id": "1CV42S8oBVkQ",
        "outputId": "a6add6ec-5b1e-4bc7-85d4-aaddd66c69ae"
      },
      "execution_count": 7,
      "outputs": [
        {
          "output_type": "stream",
          "name": "stdout",
          "text": [
            "[1, 1, 1, 1, 1, 1, 1, 1, 1, 1, 1, 1, 1, 1, 1, 1, 1, 1, 1, 1, 1, 1]\n"
          ]
        }
      ]
    },
    {
      "cell_type": "markdown",
      "source": [
        "Extracting Embeddings\n",
        "**Running BERT on our text**\n",
        "Next we need to convert our data to torch tensors and call the BERT model. The BERT PyTorch interface requires that the data be in torch tensors rather than Python lists, so we convert the lists here - this does not change the shape or the data."
      ],
      "metadata": {
        "id": "BXnQTXUZBaXh"
      }
    },
    {
      "cell_type": "code",
      "source": [
        "# Convert inputs to PyTorch tensors\n",
        "tokens_tensor = torch.tensor([indexed_tokens])\n",
        "segments_tensors = torch.tensor([segments_ids])\n",
        "tokens_tensor"
      ],
      "metadata": {
        "colab": {
          "base_uri": "https://localhost:8080/"
        },
        "id": "XFkWxM3KBdNE",
        "outputId": "9f35d32e-e59a-47a5-ca17-5311e4d6f700"
      },
      "execution_count": 9,
      "outputs": [
        {
          "output_type": "execute_result",
          "data": {
            "text/plain": [
              "tensor([[  101,  2044, 11065,  2769,  2013,  1996,  2924, 11632,  1010,  1996,\n",
              "          2924, 27307,  2001,  2464,  5645,  2006,  1996,  5900,  2314,  2924,\n",
              "          1012,   102]])"
            ]
          },
          "metadata": {},
          "execution_count": 9
        }
      ]
    },
    {
      "cell_type": "code",
      "source": [
        "segments_tensors"
      ],
      "metadata": {
        "colab": {
          "base_uri": "https://localhost:8080/"
        },
        "id": "6xiobhb7zg2w",
        "outputId": "b868d6db-054d-4704-e9ee-607d4ccc9cff"
      },
      "execution_count": 10,
      "outputs": [
        {
          "output_type": "execute_result",
          "data": {
            "text/plain": [
              "tensor([[1, 1, 1, 1, 1, 1, 1, 1, 1, 1, 1, 1, 1, 1, 1, 1, 1, 1, 1, 1, 1, 1]])"
            ]
          },
          "metadata": {},
          "execution_count": 10
        }
      ]
    },
    {
      "cell_type": "markdown",
      "source": [
        "Calling from_pretrained will fetch the model from the internet. When we load the bert-base-uncased, we see the definition of the model printed in the logging. The model is a deep neural network with 12 layers! Explaining the layers and their functions is outside the scope of this post, and you can skip over this output for now.\n",
        "\n",
        "model.eval() puts our model in evaluation mode as opposed to training mode. In this case, evaluation mode turns off dropout regularization which is used in training."
      ],
      "metadata": {
        "id": "757qvEtXCnEp"
      }
    },
    {
      "cell_type": "code",
      "source": [
        "# Load pre-trained model (weights)\n",
        "model = BertModel.from_pretrained('bert-base-uncased',\n",
        "                                  output_hidden_states = True, # Whether the model returns all hidden-states.\n",
        "                                  )\n",
        "\n",
        "# Put the model in \"evaluation\" mode, meaning feed-forward operation.\n",
        "model.eval()"
      ],
      "metadata": {
        "colab": {
          "base_uri": "https://localhost:8080/",
          "height": 833,
          "referenced_widgets": [
            "74c770f5b78e4f9f8da5285d3508730b",
            "10366249bab24738a643b2133943db5a",
            "df8d586f8f6741d0974b171584933390",
            "1fe7130583b84aa2b685cd7ad1a1ff1d",
            "c3f4008c2b6e4f9daae94fec14645f31",
            "9837bfb9ae954cabac7f3aa0af53d29f",
            "298254f1d50440e89deea275cd46ac64",
            "2c95c76cabd64b60b2740b7eb378630c",
            "c5966b754f4c41a8af118ea7385cb897",
            "aff50a1becf94bffaf057c41495f7cde",
            "e1d7f1002ebc426e911ff547d9879372"
          ]
        },
        "id": "NmWZZJDJCqDU",
        "outputId": "3c982476-c713-4ceb-d460-8de1186bcfd9"
      },
      "execution_count": 11,
      "outputs": [
        {
          "output_type": "display_data",
          "data": {
            "text/plain": [
              "Downloading pytorch_model.bin:   0%|          | 0.00/440M [00:00<?, ?B/s]"
            ],
            "application/vnd.jupyter.widget-view+json": {
              "version_major": 2,
              "version_minor": 0,
              "model_id": "74c770f5b78e4f9f8da5285d3508730b"
            }
          },
          "metadata": {}
        },
        {
          "output_type": "stream",
          "name": "stderr",
          "text": [
            "Some weights of the model checkpoint at bert-base-uncased were not used when initializing BertModel: ['cls.seq_relationship.weight', 'cls.predictions.transform.LayerNorm.weight', 'cls.predictions.transform.dense.bias', 'cls.predictions.bias', 'cls.predictions.transform.dense.weight', 'cls.predictions.decoder.weight', 'cls.predictions.transform.LayerNorm.bias', 'cls.seq_relationship.bias']\n",
            "- This IS expected if you are initializing BertModel from the checkpoint of a model trained on another task or with another architecture (e.g. initializing a BertForSequenceClassification model from a BertForPreTraining model).\n",
            "- This IS NOT expected if you are initializing BertModel from the checkpoint of a model that you expect to be exactly identical (initializing a BertForSequenceClassification model from a BertForSequenceClassification model).\n"
          ]
        },
        {
          "output_type": "execute_result",
          "data": {
            "text/plain": [
              "BertModel(\n",
              "  (embeddings): BertEmbeddings(\n",
              "    (word_embeddings): Embedding(30522, 768, padding_idx=0)\n",
              "    (position_embeddings): Embedding(512, 768)\n",
              "    (token_type_embeddings): Embedding(2, 768)\n",
              "    (LayerNorm): LayerNorm((768,), eps=1e-12, elementwise_affine=True)\n",
              "    (dropout): Dropout(p=0.1, inplace=False)\n",
              "  )\n",
              "  (encoder): BertEncoder(\n",
              "    (layer): ModuleList(\n",
              "      (0-11): 12 x BertLayer(\n",
              "        (attention): BertAttention(\n",
              "          (self): BertSelfAttention(\n",
              "            (query): Linear(in_features=768, out_features=768, bias=True)\n",
              "            (key): Linear(in_features=768, out_features=768, bias=True)\n",
              "            (value): Linear(in_features=768, out_features=768, bias=True)\n",
              "            (dropout): Dropout(p=0.1, inplace=False)\n",
              "          )\n",
              "          (output): BertSelfOutput(\n",
              "            (dense): Linear(in_features=768, out_features=768, bias=True)\n",
              "            (LayerNorm): LayerNorm((768,), eps=1e-12, elementwise_affine=True)\n",
              "            (dropout): Dropout(p=0.1, inplace=False)\n",
              "          )\n",
              "        )\n",
              "        (intermediate): BertIntermediate(\n",
              "          (dense): Linear(in_features=768, out_features=3072, bias=True)\n",
              "          (intermediate_act_fn): GELUActivation()\n",
              "        )\n",
              "        (output): BertOutput(\n",
              "          (dense): Linear(in_features=3072, out_features=768, bias=True)\n",
              "          (LayerNorm): LayerNorm((768,), eps=1e-12, elementwise_affine=True)\n",
              "          (dropout): Dropout(p=0.1, inplace=False)\n",
              "        )\n",
              "      )\n",
              "    )\n",
              "  )\n",
              "  (pooler): BertPooler(\n",
              "    (dense): Linear(in_features=768, out_features=768, bias=True)\n",
              "    (activation): Tanh()\n",
              "  )\n",
              ")"
            ]
          },
          "metadata": {},
          "execution_count": 11
        }
      ]
    },
    {
      "cell_type": "markdown",
      "source": [
        "Next, let’s evaluate BERT on our example text, and fetch the hidden states of the network!\n",
        "\n",
        "Side note: torch.no_grad tells PyTorch not to construct the compute graph during this forward pass (since we won’t be running backprop here)–this just reduces memory consumption and speeds things up a little."
      ],
      "metadata": {
        "id": "CRH1Q5QmDQ0b"
      }
    },
    {
      "cell_type": "code",
      "source": [
        "# Run the text through BERT, and collect all of the hidden states produced\n",
        "# from all 12 layers. \n",
        "with torch.no_grad():\n",
        "\n",
        "    outputs = model(tokens_tensor, segments_tensors)\n",
        "    print(outputs)\n",
        "    # Evaluating the model will return a different number of objects based on \n",
        "    # how it's  configured in the `from_pretrained` call earlier. In this case, \n",
        "    # becase we set `output_hidden_states = True`, the third item will be the \n",
        "    # hidden states from all layers. See the documentation for more details:\n",
        "    # https://huggingface.co/transformers/model_doc/bert.html#bertmodel\n",
        "    hidden_states = outputs[2]"
      ],
      "metadata": {
        "colab": {
          "base_uri": "https://localhost:8080/"
        },
        "id": "jJcWW1jNDTrz",
        "outputId": "b82d2561-cab0-4f25-88e7-8a69611dd1ea"
      },
      "execution_count": 13,
      "outputs": [
        {
          "output_type": "stream",
          "name": "stdout",
          "text": [
            "BaseModelOutputWithPoolingAndCrossAttentions(last_hidden_state=tensor([[[-0.4964, -0.1831, -0.5231,  ..., -0.1902,  0.3738,  0.3964],\n",
            "         [-0.1323, -0.2762, -0.3495,  ..., -0.4567,  0.3786, -0.1096],\n",
            "         [-0.3626, -0.4002,  0.0676,  ..., -0.3207, -0.2709, -0.3004],\n",
            "         ...,\n",
            "         [ 0.2961, -0.2856, -0.0382,  ..., -0.6056, -0.5163,  0.2005],\n",
            "         [ 0.4878, -0.0909, -0.2358,  ..., -0.0017, -0.5945, -0.2431],\n",
            "         [-0.2517, -0.3519, -0.4688,  ...,  0.2500,  0.0336, -0.2627]]]), pooler_output=tensor([[-0.6031, -0.3342, -0.7174,  0.3347,  0.5145, -0.1722,  0.4502,  0.2768,\n",
            "         -0.3769, -0.9998, -0.3657,  0.7535,  0.9817, -0.0192,  0.7959, -0.3459,\n",
            "         -0.1338, -0.3026,  0.1097,  0.5836,  0.5736,  0.9999,  0.1798,  0.1845,\n",
            "          0.2250,  0.9109, -0.5653,  0.8616,  0.8994,  0.7423, -0.2525,  0.0394,\n",
            "         -0.9894, -0.1331, -0.7763, -0.9826,  0.2223, -0.6115,  0.1941,  0.0177,\n",
            "         -0.7634,  0.2312,  0.9999, -0.7000,  0.4623, -0.2202, -1.0000,  0.1908,\n",
            "         -0.8150,  0.6483,  0.5878,  0.8198,  0.1014,  0.3185,  0.3963, -0.3216,\n",
            "         -0.1701,  0.0588, -0.1544, -0.4987, -0.5284,  0.1228, -0.4823, -0.7788,\n",
            "          0.6954,  0.0891, -0.0855, -0.1500,  0.0390, -0.0760,  0.6154,  0.2662,\n",
            "         -0.0129, -0.7253,  0.1352,  0.2921, -0.5613,  1.0000,  0.1536, -0.9681,\n",
            "          0.7166,  0.2600,  0.4519,  0.5470, -0.2798, -1.0000,  0.3419, -0.2645,\n",
            "         -0.9863,  0.1263,  0.5249, -0.2000,  0.5980,  0.4752, -0.2355, -0.4808,\n",
            "         -0.3786, -0.7284, -0.0909,  0.0124, -0.0689, -0.2531, -0.1324, -0.2361,\n",
            "          0.1732, -0.3216, -0.0188,  0.2302, -0.3221,  0.4996,  0.4346, -0.1935,\n",
            "          0.2968, -0.9292,  0.5326, -0.3695, -0.9876, -0.4770, -0.9902,  0.6349,\n",
            "         -0.1863, -0.2612,  0.9123, -0.1930,  0.3110,  0.0803, -0.7598, -1.0000,\n",
            "          0.0292, -0.0628, -0.1086, -0.2135, -0.9671, -0.9521,  0.3334,  0.8675,\n",
            "          0.2254,  0.9995, -0.2908,  0.9420,  0.0336, -0.4542,  0.4123, -0.4455,\n",
            "          0.4558, -0.4442, -0.0685,  0.3043,  0.0575,  0.1843, -0.6577, -0.3121,\n",
            "         -0.1069, -0.7729, -0.2328,  0.9032, -0.4681, -0.5580,  0.3359, -0.1644,\n",
            "         -0.1572,  0.6441,  0.2810,  0.2651,  0.1532,  0.4485, -0.5299,  0.2616,\n",
            "         -0.7412, -0.0347,  0.2560, -0.2659, -0.6092, -0.9868, -0.2346,  0.4682,\n",
            "          0.9771,  0.5646,  0.2360,  0.4567, -0.2170,  0.1420, -0.9554,  0.9832,\n",
            "         -0.0935,  0.2621, -0.7901,  0.5758, -0.7642, -0.5362,  0.6374, -0.3891,\n",
            "         -0.6368, -0.0045, -0.2658, -0.1721, -0.7466,  0.4832, -0.3128, -0.2640,\n",
            "          0.0435,  0.8879,  0.5961,  0.2972,  0.0742,  0.3041, -0.7367, -0.2117,\n",
            "         -0.0500,  0.0825,  0.0273,  0.9870, -0.5612, -0.0353, -0.8011, -0.9833,\n",
            "         -0.1874, -0.7143,  0.0476, -0.4776,  0.4406, -0.7087, -0.3319,  0.1035,\n",
            "         -0.2959, -0.6915,  0.2840, -0.5485,  0.3292, -0.3018,  0.8687,  0.7867,\n",
            "         -0.5158, -0.2411,  0.9175, -0.7601, -0.6967, -0.0763, -0.1411,  0.6739,\n",
            "         -0.6006,  0.9645,  0.6723,  0.3451, -0.9112, -0.6897, -0.3042, -0.0059,\n",
            "         -0.0918, -0.6402,  0.5602,  0.3850,  0.2737,  0.7868, -0.4155,  0.8343,\n",
            "         -0.9288, -0.9377, -0.9803,  0.1936, -0.9873,  0.7978,  0.1702,  0.6547,\n",
            "         -0.3664, -0.3837, -0.9602,  0.2690,  0.0832,  0.8077, -0.5984, -0.5181,\n",
            "         -0.4783, -0.9236, -0.0773, -0.0542,  0.1906,  0.0659, -0.8882,  0.3529,\n",
            "          0.5142,  0.4257, -0.8504,  0.9686,  1.0000,  0.9745,  0.7975,  0.3701,\n",
            "         -0.9993, -0.9159,  0.9999, -0.9649, -1.0000, -0.8484, -0.5494,  0.2254,\n",
            "         -1.0000, -0.0892,  0.0449, -0.8989,  0.2432,  0.9673,  0.7904, -1.0000,\n",
            "          0.8539,  0.8224, -0.5027,  0.8026, -0.2741,  0.9723,  0.3954,  0.5613,\n",
            "         -0.2778,  0.4943, -0.7842, -0.5614, -0.4786, -0.7206,  0.9944, -0.0361,\n",
            "         -0.2827, -0.8623,  0.6206, -0.0204, -0.2777, -0.9243, -0.2374,  0.5576,\n",
            "          0.4833,  0.1621,  0.2181, -0.4744,  0.1432, -0.0688, -0.3646,  0.5594,\n",
            "         -0.8221, -0.1388,  0.5845, -0.0662,  0.0617, -0.9573,  0.9249, -0.4059,\n",
            "          0.5819,  1.0000,  0.8847, -0.6462,  0.4425,  0.1442,  0.2397,  1.0000,\n",
            "          0.3757, -0.9790, -0.5021,  0.5227, -0.4537, -0.4564,  0.9975, -0.1468,\n",
            "         -0.4530, -0.2211,  0.9849, -0.9892,  0.9874, -0.6354, -0.9533,  0.9617,\n",
            "          0.9100, -0.3272, -0.5809,  0.1221,  0.2137,  0.1775, -0.6459,  0.5595,\n",
            "          0.3555,  0.0030,  0.7183,  0.1490, -0.4345,  0.2424, -0.5088,  0.0014,\n",
            "          0.9025,  0.3578, -0.0445, -0.0357, -0.2723, -0.8130, -0.9344,  0.4227,\n",
            "          1.0000, -0.1721,  0.8243,  0.0665,  0.0115, -0.1497,  0.4186,  0.3168,\n",
            "         -0.3061, -0.5515,  0.7428, -0.7339, -0.9949,  0.1418,  0.0288,  0.1303,\n",
            "          0.9994,  0.6172,  0.1452,  0.4381,  0.9631, -0.0898, -0.1024,  0.3720,\n",
            "          0.9655, -0.2082,  0.4160,  0.2856, -0.4470, -0.0806, -0.5101, -0.1494,\n",
            "         -0.8861,  0.3496, -0.9617,  0.9112,  0.9032,  0.4198,  0.1110,  0.5989,\n",
            "          1.0000, -0.9781,  0.0478,  0.8043, -0.0370, -0.9994, -0.4571, -0.3764,\n",
            "         -0.0341, -0.3013,  0.0021,  0.1011, -0.9597,  0.1910,  0.7922, -0.5135,\n",
            "         -0.9862,  0.0285,  0.4023,  0.2365, -0.9728, -0.3717, -0.4726,  0.2997,\n",
            "         -0.0355, -0.9264,  0.3197, -0.3812,  0.3245, -0.1921,  0.4575,  0.3563,\n",
            "          0.9515, -0.8870, -0.3251, -0.1148, -0.6957,  0.4810, -0.2975, -0.7607,\n",
            "         -0.1648,  1.0000, -0.4754,  0.5410,  0.3828,  0.1635, -0.2463,  0.1942,\n",
            "          0.8299,  0.1894,  0.0876, -0.6173,  0.7333, -0.2475,  0.3843,  0.7312,\n",
            "         -0.0760,  0.6759,  0.7408,  0.1733,  0.0710,  0.0930,  0.9232, -0.0188,\n",
            "         -0.2704, -0.3332, -0.0659, -0.3261,  0.7431,  1.0000,  0.1622,  0.5590,\n",
            "         -0.9939, -0.7758, -0.7434,  1.0000,  0.8649, -0.6865,  0.5643,  0.4938,\n",
            "         -0.2507, -0.0745, -0.1468, -0.2566,  0.2531,  0.0162,  0.9603, -0.5751,\n",
            "         -0.9828, -0.4233,  0.3365, -0.9327,  0.9997, -0.5279, -0.2036, -0.2868,\n",
            "         -0.4147, -0.9348, -0.0477, -0.9812, -0.1836,  0.1210,  0.9609,  0.2963,\n",
            "         -0.4743, -0.7886,  0.8539,  0.4805, -0.8080, -0.9297,  0.9734, -0.8989,\n",
            "          0.3318,  1.0000,  0.4983,  0.0046,  0.1519, -0.2174,  0.3163, -0.3975,\n",
            "          0.5479, -0.9144, -0.0836, -0.1866,  0.3943, -0.1005, -0.9010,  0.5822,\n",
            "          0.0541, -0.4141, -0.4825, -0.0623,  0.3400,  0.6302, -0.1646, -0.0293,\n",
            "          0.1773,  0.0035, -0.7814, -0.2836, -0.3813, -0.9999,  0.5009, -1.0000,\n",
            "          0.6917, -0.3492, -0.2238,  0.7105,  0.8107,  0.7481, -0.4549, -0.4793,\n",
            "          0.7201,  0.6103, -0.1528, -0.2139, -0.4457,  0.2485,  0.0196,  0.1607,\n",
            "         -0.3812,  0.5145, -0.2807,  1.0000,  0.0829, -0.3200, -0.5929,  0.2053,\n",
            "         -0.2679,  1.0000, -0.2241, -0.9651,  0.1681, -0.5537, -0.5055,  0.4764,\n",
            "         -0.0439, -0.7710, -0.8442,  0.7623,  0.3223, -0.5828,  0.5065, -0.2420,\n",
            "         -0.2434, -0.0287,  0.8268,  0.9844,  0.8406,  0.3518, -0.9611, -0.3503,\n",
            "          0.9309,  0.1013, -0.1565, -0.0012,  1.0000,  0.4139, -0.7002,  0.0942,\n",
            "         -0.8437, -0.2698, -0.7333,  0.2633,  0.0600,  0.9015, -0.2510,  0.9170,\n",
            "         -0.7876, -0.0735, -0.5044,  0.2206,  0.2786, -0.8753, -0.9837, -0.9885,\n",
            "          0.5545, -0.2806, -0.0823,  0.3698,  0.1557,  0.2687,  0.4354, -1.0000,\n",
            "          0.9126,  0.3169,  0.7036,  0.9720,  0.4816,  0.6401,  0.3309, -0.9813,\n",
            "         -0.6150, -0.3007, -0.1601,  0.3913,  0.3273,  0.6264,  0.2662, -0.3612,\n",
            "         -0.6613, -0.3084, -0.9703, -0.9852,  0.3886,  0.0251, -0.3822,  0.9373,\n",
            "         -0.0961,  0.0824,  0.4406, -0.5929,  0.1701,  0.6097,  0.1687, -0.0525,\n",
            "          0.5533,  0.8141,  0.7725,  0.9789, -0.7193,  0.2995, -0.5652,  0.3757,\n",
            "          0.9063, -0.9190,  0.0740,  0.3566, -0.1535,  0.1921, -0.1948, -0.4410,\n",
            "          0.9270, -0.0852,  0.3333, -0.2275,  0.1727, -0.3694, -0.1233, -0.7592,\n",
            "         -0.5162,  0.4856, -0.1530,  0.8161,  0.7259, -0.0103, -0.4483, -0.1682,\n",
            "          0.0424, -0.8891,  0.2156, -0.0442,  0.6451,  0.3764, -0.4232,  0.9787,\n",
            "         -0.0989, -0.3853, -0.3173, -0.5348,  0.5307, -0.6883, -0.3786, -0.4665,\n",
            "          0.7207,  0.3239,  0.9999, -0.5526, -0.4825, -0.3439, -0.3580,  0.1069,\n",
            "         -0.2620, -1.0000,  0.2673, -0.3037,  0.4706, -0.6132,  0.8511, -0.4910,\n",
            "         -0.7231, -0.1092,  0.5412,  0.5265, -0.4635, -0.2461,  0.4946, -0.3469,\n",
            "          0.9149,  0.5902, -0.1862,  0.7004,  0.5465, -0.2839, -0.5723,  0.6648]]), hidden_states=(tensor([[[ 0.1686, -0.2858, -0.3261,  ..., -0.0276,  0.0383,  0.1640],\n",
            "         [ 0.2329,  0.1390,  0.2979,  ..., -0.0655,  0.8885,  0.5109],\n",
            "         [ 0.2257, -0.7165, -0.7255,  ...,  0.4844,  0.6030, -0.0957],\n",
            "         ...,\n",
            "         [-0.0374, -0.6155, -1.4419,  ...,  0.0793, -0.0811, -0.3802],\n",
            "         [-0.0228,  0.4207, -0.3288,  ...,  0.4464,  0.5178,  0.5501],\n",
            "         [-0.2350,  0.1566, -0.0462,  ..., -0.4206,  0.3074, -0.2288]]]), tensor([[[ 0.0522,  0.0595, -0.2179,  ...,  0.2280, -0.0712,  0.0148],\n",
            "         [ 0.3819,  0.1475,  0.2414,  ...,  0.3397,  0.7607,  0.4999],\n",
            "         [ 0.1705, -0.6168, -0.7296,  ...,  0.8631,  0.6274, -0.3727],\n",
            "         ...,\n",
            "         [ 0.6982, -0.4554, -1.7845,  ...,  0.3308,  0.0710, -0.5187],\n",
            "         [-0.0905,  0.1862, -0.4437,  ...,  0.2244,  0.1810,  0.3740],\n",
            "         [-0.0825,  0.0466, -0.1526,  ..., -0.2033,  0.3370, -0.1767]]]), tensor([[[-0.0357, -0.2022, -0.4103,  ...,  0.2511,  0.0586, -0.0547],\n",
            "         [ 0.1430,  0.0747,  0.0595,  ..., -0.2914,  0.1733,  0.4265],\n",
            "         [ 0.5752, -1.2385, -0.5650,  ...,  0.8995,  0.4652, -0.8080],\n",
            "         ...,\n",
            "         [ 0.9157, -0.4118, -1.6042,  ...,  0.1454,  0.1699, -0.2230],\n",
            "         [-0.1816,  0.0099,  0.0370,  ..., -0.2178,  0.0481,  0.3477],\n",
            "         [-0.1524, -0.1068, -0.0868,  ..., -0.1369,  0.2633, -0.3754]]]), tensor([[[-0.0183, -0.3853, -0.1600,  ...,  0.2446,  0.2160,  0.0633],\n",
            "         [ 0.7727, -0.3786,  0.6677,  ..., -0.2014,  0.0094,  0.6461],\n",
            "         [ 0.8822, -0.7807, -0.6305,  ...,  0.5223,  0.3687, -0.9875],\n",
            "         ...,\n",
            "         [ 0.9788, -0.0669, -1.6344,  ...,  0.0341,  0.0437, -0.1636],\n",
            "         [-0.4724, -0.0258,  0.3107,  ..., -0.2553, -0.1049,  0.0897],\n",
            "         [-0.0816, -0.1028,  0.0947,  ...,  0.0091,  0.0649, -0.0646]]]), tensor([[[ 0.0207, -0.3990, -0.8255,  ...,  0.3448,  0.0951,  0.3650],\n",
            "         [ 0.5667, -0.7513,  0.0695,  ..., -0.1052, -0.1700,  0.4333],\n",
            "         [ 0.7095, -0.2044, -0.1709,  ...,  0.7092,  0.0542, -1.0380],\n",
            "         ...,\n",
            "         [ 1.3519,  0.3352, -1.3555,  ...,  0.1676, -0.2817,  0.1042],\n",
            "         [-0.2488,  0.1044, -0.1778,  ..., -0.2713, -0.2643,  0.2310],\n",
            "         [-0.0266, -0.0469,  0.0053,  ...,  0.0085,  0.0417, -0.0486]]]), tensor([[[-0.3443, -0.6315, -0.6647,  ...,  0.0050,  0.1167,  0.3614],\n",
            "         [ 0.8173, -0.9999, -0.1752,  ..., -0.4932, -0.2556,  0.2038],\n",
            "         [ 0.8973, -0.2652, -0.6559,  ...,  0.5725,  0.4178, -0.6356],\n",
            "         ...,\n",
            "         [ 1.5582,  0.4479, -1.2054,  ...,  0.2052, -0.5083,  0.3994],\n",
            "         [-0.1898,  0.0898, -0.2766,  ..., -0.3044, -0.4370,  0.4248],\n",
            "         [-0.0264, -0.0364,  0.0304,  ...,  0.0160,  0.0067, -0.0486]]]), tensor([[[-2.3737e-01, -9.9507e-01, -4.5364e-01,  ..., -2.1456e-01,\n",
            "           3.5440e-01,  2.5447e-01],\n",
            "         [ 5.7495e-01, -9.1262e-01, -2.3175e-01,  ..., -1.8444e-01,\n",
            "          -1.8389e-01,  1.3615e-01],\n",
            "         [ 2.5019e-01, -5.6334e-01, -7.0052e-01,  ...,  2.0830e-01,\n",
            "           6.6902e-01,  5.5973e-02],\n",
            "         ...,\n",
            "         [ 1.5415e+00,  3.5863e-03, -1.0563e+00,  ...,  6.0117e-02,\n",
            "          -3.6085e-01,  5.3853e-01],\n",
            "         [-5.8238e-01,  8.6806e-02, -4.4414e-01,  ..., -8.1630e-01,\n",
            "          -4.2633e-01,  4.1039e-01],\n",
            "         [ 1.3974e-02, -5.6850e-02, -4.0641e-03,  ...,  7.8743e-05,\n",
            "          -1.4510e-02, -4.7457e-02]]]), tensor([[[-1.5213e-01, -9.7455e-01, -5.6574e-01,  ..., -6.0024e-01,\n",
            "           3.0606e-01,  3.6930e-01],\n",
            "         [ 2.7012e-01, -5.4540e-01,  1.6654e-02,  ...,  6.2674e-02,\n",
            "           2.6824e-01,  3.4129e-02],\n",
            "         [-4.1255e-01, -6.4567e-01, -2.0088e-01,  ...,  2.3458e-01,\n",
            "           1.4713e-01,  4.0929e-03],\n",
            "         ...,\n",
            "         [ 1.3217e+00, -6.6627e-02, -8.1355e-01,  ..., -3.9645e-01,\n",
            "          -5.2719e-01,  2.0277e-01],\n",
            "         [-5.6073e-01, -4.5253e-01, -5.8201e-01,  ..., -1.4335e+00,\n",
            "           2.8755e-01,  5.9470e-01],\n",
            "         [ 6.2813e-05, -2.2453e-02, -2.1868e-02,  ..., -1.4897e-02,\n",
            "           2.8922e-03, -4.3436e-02]]]), tensor([[[ 0.0967, -0.8567, -0.5056,  ..., -0.4204,  0.1267,  0.3225],\n",
            "         [-0.0109, -0.2976,  0.2986,  ..., -0.3344,  0.2755, -0.1571],\n",
            "         [-0.6171, -0.4909, -0.1630,  ..., -0.3340,  0.4452, -0.2641],\n",
            "         ...,\n",
            "         [ 0.9738,  0.0119, -0.6562,  ..., -0.3114, -0.1033,  0.1980],\n",
            "         [-0.8265, -0.4334, -0.7586,  ..., -1.2721,  0.0482,  0.3751],\n",
            "         [ 0.0196,  0.0017,  0.0323,  ..., -0.0348, -0.0410, -0.0743]]]), tensor([[[-0.3495, -0.7788, -0.7701,  ..., -0.0715,  0.2350,  0.1686],\n",
            "         [-0.2694, -0.3884, -0.3181,  ..., -0.7334,  0.0196, -0.4148],\n",
            "         [-0.5444, -0.3546, -0.2131,  ..., -0.5306,  0.2799, -0.3587],\n",
            "         ...,\n",
            "         [ 0.6356,  0.0980, -0.2775,  ..., -0.6243, -0.2620,  0.1343],\n",
            "         [-0.4167,  0.1132, -0.4761,  ..., -0.5415, -0.1268,  0.0483],\n",
            "         [-0.0671, -0.0451,  0.0232,  ..., -0.0718, -0.0020, -0.0556]]]), tensor([[[-0.9560, -1.0372, -0.8875,  ...,  0.0905, -0.3867,  0.3258],\n",
            "         [-0.3215, -1.1213, -0.2349,  ..., -0.5940,  0.1851, -0.5076],\n",
            "         [-0.4795, -1.0745, -0.1744,  ..., -0.5026,  0.1293, -0.1963],\n",
            "         ...,\n",
            "         [ 0.2736, -0.4021, -0.1525,  ..., -0.7099, -0.7498, -0.0066],\n",
            "         [-0.0142,  0.0187, -0.0490,  ..., -0.0197, -0.0281,  0.0165],\n",
            "         [-0.5765, -0.5547, -0.2122,  ...,  0.2610, -0.4111, -0.1223]]]), tensor([[[-0.6121, -0.6371, -0.8917,  ...,  0.1026, -0.2241,  0.3330],\n",
            "         [-0.2817, -0.6142, -0.4499,  ..., -0.7273,  0.0304, -0.5106],\n",
            "         [-0.4519, -0.2628, -0.1917,  ..., -0.5405, -0.2146, -0.2140],\n",
            "         ...,\n",
            "         [ 0.3213, -0.2997, -0.0471,  ..., -0.8094, -0.7861, -0.0618],\n",
            "         [ 0.0430,  0.0219, -0.0214,  ...,  0.0196, -0.0353,  0.0072],\n",
            "         [-0.0599, -0.6397, -0.6008,  ...,  0.4218, -0.5170, -0.1616]]]), tensor([[[-0.4964, -0.1831, -0.5231,  ..., -0.1902,  0.3738,  0.3964],\n",
            "         [-0.1323, -0.2762, -0.3495,  ..., -0.4567,  0.3786, -0.1096],\n",
            "         [-0.3626, -0.4002,  0.0676,  ..., -0.3207, -0.2709, -0.3004],\n",
            "         ...,\n",
            "         [ 0.2961, -0.2856, -0.0382,  ..., -0.6056, -0.5163,  0.2005],\n",
            "         [ 0.4878, -0.0909, -0.2358,  ..., -0.0017, -0.5945, -0.2431],\n",
            "         [-0.2517, -0.3519, -0.4688,  ...,  0.2500,  0.0336, -0.2627]]])), past_key_values=None, attentions=None, cross_attentions=None)\n"
          ]
        }
      ]
    },
    {
      "cell_type": "markdown",
      "source": [
        "Understanding the Output\n",
        "The full set of hidden states for this model, stored in the object hidden_states, is a little dizzying. This object has four dimensions, in the following order:\n",
        "\n",
        "The layer number (13 layers)\n",
        "The batch number (1 sentence)\n",
        "The word / token number (22 tokens in our sentence)\n",
        "The hidden unit / feature number (768 features)\n",
        "\n",
        "Wait, 13 layers? Doesn’t BERT only have 12? It’s 13 because the first element is the input embeddings, the rest is the outputs of each of BERT’s 12 layers.\n",
        "\n",
        "That’s 219,648 unique values just to represent our one sentence!\n",
        "\n",
        "The second dimension, the batch size, is used when submitting multiple sentences to the model at once; here, though, we just have one example sentence."
      ],
      "metadata": {
        "id": "hYz7YH1tDmsh"
      }
    },
    {
      "cell_type": "code",
      "source": [
        "layer_i, batch_i"
      ],
      "metadata": {
        "colab": {
          "base_uri": "https://localhost:8080/"
        },
        "id": "gtYOuIhdD-WJ",
        "outputId": "c535beb4-2915-418e-b743-3c0ed980e9e9"
      },
      "execution_count": 15,
      "outputs": [
        {
          "output_type": "execute_result",
          "data": {
            "text/plain": [
              "(0, 0)"
            ]
          },
          "metadata": {},
          "execution_count": 15
        }
      ]
    },
    {
      "cell_type": "code",
      "source": [
        "print (\"Number of layers:\", len(hidden_states), \"  (initial embeddings + 12 BERT layers)\")\n",
        "layer_i = 0\n",
        "\n",
        "print (\"Number of batches:\", len(hidden_states[layer_i]))\n",
        "batch_i = 0\n",
        "\n",
        "print (\"Number of tokens:\", len(hidden_states[layer_i][batch_i]))\n",
        "token_i = 0\n",
        "\n",
        "print (\"Number of hidden units:\", len(hidden_states[layer_i][batch_i][token_i]))"
      ],
      "metadata": {
        "colab": {
          "base_uri": "https://localhost:8080/"
        },
        "id": "mF8kL8hvzg5b",
        "outputId": "4cb6a899-6c7d-4e60-9d7d-19958b1ed918"
      },
      "execution_count": 14,
      "outputs": [
        {
          "output_type": "stream",
          "name": "stdout",
          "text": [
            "Number of layers: 13   (initial embeddings + 12 BERT layers)\n",
            "Number of batches: 1\n",
            "Number of tokens: 22\n",
            "Number of hidden units: 768\n"
          ]
        }
      ]
    },
    {
      "cell_type": "markdown",
      "source": [
        "Let’s take a quick look at the range of values for a given layer and token.\n",
        "\n",
        "You’ll find that the range is fairly similar for all layers and tokens, with the majority of values falling between [-2, 2], and a small smattering of values around -10."
      ],
      "metadata": {
        "id": "IhAnehqXEL7g"
      }
    },
    {
      "cell_type": "code",
      "source": [
        "# For the 5th token in our sentence, select its feature values from layer 5.\n",
        "token_i = 5\n",
        "layer_i = 5\n",
        "vec = hidden_states[layer_i][batch_i][token_i]\n",
        "\n",
        "# Plot the values as a histogram to show their distribution.\n",
        "plt.figure(figsize=(10,10))\n",
        "plt.hist(vec, bins=200)\n",
        "plt.show()"
      ],
      "metadata": {
        "colab": {
          "base_uri": "https://localhost:8080/",
          "height": 830
        },
        "id": "nKJrTYvpzg8P",
        "outputId": "b3929888-487b-4592-c29b-4489e191a0c1"
      },
      "execution_count": 16,
      "outputs": [
        {
          "output_type": "display_data",
          "data": {
            "text/plain": [
              "<Figure size 1000x1000 with 1 Axes>"
            ],
            "image/png": "[encoded data removed]"
          },
          "metadata": {}
        }
      ]
    },
    {
      "cell_type": "markdown",
      "source": [
        "Grouping the values by layer makes sense for the model, but for our purposes we want it grouped by token.\n",
        "\n",
        "Current dimensions:\n",
        "\n",
        "[# layers, # batches, # tokens, # features]\n",
        "\n",
        "Desired dimensions:\n",
        "\n",
        "[# tokens, # layers, # features]\n",
        "\n",
        "Luckily, PyTorch includes the permute function for easily rearranging the dimensions of a tensor.\n",
        "\n",
        "However, the first dimension is currently a Python list!"
      ],
      "metadata": {
        "id": "D7sRc6rXN6zy"
      }
    },
    {
      "cell_type": "code",
      "source": [
        "# `hidden_states` is a Python list.\n",
        "print('      Type of hidden_states: ', type(hidden_states))\n",
        "\n",
        "# Each layer in the list is a torch tensor.\n",
        "print('Tensor shape for each layer: ', hidden_states[0].size())"
      ],
      "metadata": {
        "colab": {
          "base_uri": "https://localhost:8080/"
        },
        "id": "tWRP9vNwN99S",
        "outputId": "971fa093-cde9-4166-fe09-24ff3e1e770b"
      },
      "execution_count": 17,
      "outputs": [
        {
          "output_type": "stream",
          "name": "stdout",
          "text": [
            "      Type of hidden_states:  <class 'tuple'>\n",
            "Tensor shape for each layer:  torch.Size([1, 22, 768])\n"
          ]
        }
      ]
    },
    {
      "cell_type": "code",
      "source": [
        "# Concatenate the tensors for all layers. We use `stack` here to\n",
        "# create a new dimension in the tensor.\n",
        "token_embeddings = torch.stack(hidden_states, dim=0)\n",
        "\n",
        "token_embeddings.size()"
      ],
      "metadata": {
        "colab": {
          "base_uri": "https://localhost:8080/"
        },
        "id": "q7R3cRSuzg-4",
        "outputId": "0b94a832-c728-4e98-d997-7c89de3c91df"
      },
      "execution_count": 18,
      "outputs": [
        {
          "output_type": "execute_result",
          "data": {
            "text/plain": [
              "torch.Size([13, 1, 22, 768])"
            ]
          },
          "metadata": {},
          "execution_count": 18
        }
      ]
    },
    {
      "cell_type": "code",
      "source": [
        "# Remove dimension 1, the \"batches\".\n",
        "token_embeddings = torch.squeeze(token_embeddings, dim=1)\n",
        "\n",
        "token_embeddings.size()"
      ],
      "metadata": {
        "colab": {
          "base_uri": "https://localhost:8080/"
        },
        "id": "PBOkDbzJzhCO",
        "outputId": "0e055eaa-13af-4741-860a-a7fd801e99da"
      },
      "execution_count": 19,
      "outputs": [
        {
          "output_type": "execute_result",
          "data": {
            "text/plain": [
              "torch.Size([13, 22, 768])"
            ]
          },
          "metadata": {},
          "execution_count": 19
        }
      ]
    },
    {
      "cell_type": "code",
      "source": [
        "# Swap dimensions 0 and 1.\n",
        "token_embeddings = token_embeddings.permute(1,0,2)\n",
        "\n",
        "token_embeddings.size()"
      ],
      "metadata": {
        "colab": {
          "base_uri": "https://localhost:8080/"
        },
        "id": "OHEcIyyKzhFM",
        "outputId": "3d2b8197-9a78-47fe-d516-8ae6650bb382"
      },
      "execution_count": 20,
      "outputs": [
        {
          "output_type": "execute_result",
          "data": {
            "text/plain": [
              "torch.Size([22, 13, 768])"
            ]
          },
          "metadata": {},
          "execution_count": 20
        }
      ]
    },
    {
      "cell_type": "markdown",
      "source": [
        "Creating word and sentence vectors from hidden states\n",
        "Now, what do we do with these hidden states? We would like to get individual vectors for each of our tokens, or perhaps a single vector representation of the whole sentence, but for each token of our input we have 13 separate vectors each of length 768.\n",
        "\n",
        "In order to get the individual vectors we will need to combine some of the layer vectors…but which layer or combination of layers provides the best representation?\n",
        "\n",
        "Unfortunately, there’s no single easy answer… Let’s try a couple reasonable approaches, though. Afterwards, I’ll point you to some helpful resources which look into this question further.\n",
        "\n",
        "Word Vectors\n",
        "To give you some examples, let’s create word vectors two ways.\n",
        "\n",
        "First, let’s concatenate the last four layers, giving us a single word vector per token. Each vector will have length 4 x 768 = 3,072.\n",
        "\n"
      ],
      "metadata": {
        "id": "XxCg81xrOOkH"
      }
    },
    {
      "cell_type": "code",
      "source": [
        "# Stores the token vectors, with shape [22 x 3,072]\n",
        "token_vecs_cat = []\n",
        "\n",
        "# `token_embeddings` is a [22 x 12 x 768] tensor.\n",
        "\n",
        "# For each token in the sentence...\n",
        "for token in token_embeddings:\n",
        "    \n",
        "    # `token` is a [12 x 768] tensor\n",
        "\n",
        "    # Concatenate the vectors (that is, append them together) from the last \n",
        "    # four layers.\n",
        "    # Each layer vector is 768 values, so `cat_vec` is length 3,072.\n",
        "    cat_vec = torch.cat((token[-1], token[-2], token[-3], token[-4]), dim=0)\n",
        "    \n",
        "    # Use `cat_vec` to represent `token`.\n",
        "    token_vecs_cat.append(cat_vec)\n",
        "\n",
        "print ('Shape is: %d x %d' % (len(token_vecs_cat), len(token_vecs_cat[0])))\n"
      ],
      "metadata": {
        "colab": {
          "base_uri": "https://localhost:8080/"
        },
        "id": "u0_qQq9BREtA",
        "outputId": "fb9efc4b-08fe-411c-b292-7ab59d9d39a2"
      },
      "execution_count": 21,
      "outputs": [
        {
          "output_type": "stream",
          "name": "stdout",
          "text": [
            "Shape is: 22 x 3072\n"
          ]
        }
      ]
    },
    {
      "cell_type": "markdown",
      "source": [
        "As an alternative method, let’s try creating the word vectors by summing together the last four layers."
      ],
      "metadata": {
        "id": "S0WGAHlwRWLY"
      }
    },
    {
      "cell_type": "code",
      "source": [
        "# Stores the token vectors, with shape [22 x 768]\n",
        "token_vecs_sum = []\n",
        "\n",
        "# `token_embeddings` is a [22 x 12 x 768] tensor.\n",
        "\n",
        "# For each token in the sentence...\n",
        "for token in token_embeddings:\n",
        "\n",
        "    # `token` is a [12 x 768] tensor\n",
        "\n",
        "    # Sum the vectors from the last four layers.\n",
        "    sum_vec = torch.sum(token[-4:], dim=0)\n",
        "    \n",
        "    # Use `sum_vec` to represent `token`.\n",
        "    token_vecs_sum.append(sum_vec)\n",
        "\n",
        "print ('Shape is: %d x %d' % (len(token_vecs_sum), len(token_vecs_sum[0])))"
      ],
      "metadata": {
        "colab": {
          "base_uri": "https://localhost:8080/"
        },
        "id": "ErgkKQ1wRSMS",
        "outputId": "01bf2554-e7ec-4f8e-be7c-e7ae273a4f6f"
      },
      "execution_count": 22,
      "outputs": [
        {
          "output_type": "stream",
          "name": "stdout",
          "text": [
            "Shape is: 22 x 768\n"
          ]
        }
      ]
    },
    {
      "cell_type": "markdown",
      "source": [
        "Sentence Vectors\n",
        "To get a single vector for our entire sentence we have multiple application-dependent strategies, but a simple approach is to average the second to last hiden layer of each token producing a single 768 length vector."
      ],
      "metadata": {
        "id": "hBp_haznSFjH"
      }
    },
    {
      "cell_type": "code",
      "source": [
        "# `hidden_states` has shape [13 x 1 x 22 x 768]\n",
        "\n",
        "# `token_vecs` is a tensor with shape [22 x 768]\n",
        "token_vecs = hidden_states[-2][0]\n",
        "\n",
        "# Calculate the average of all 22 token vectors.\n",
        "sentence_embedding = torch.mean(token_vecs, dim=0)"
      ],
      "metadata": {
        "id": "4MWdsrLqSGEz"
      },
      "execution_count": 23,
      "outputs": []
    },
    {
      "cell_type": "code",
      "source": [
        "print (\"Our final sentence embedding vector of shape:\", sentence_embedding.size())"
      ],
      "metadata": {
        "colab": {
          "base_uri": "https://localhost:8080/"
        },
        "id": "1MN4Jk1rSL53",
        "outputId": "208075ec-c741-4bef-867e-57903b1c8fb0"
      },
      "execution_count": 24,
      "outputs": [
        {
          "output_type": "stream",
          "name": "stdout",
          "text": [
            "Our final sentence embedding vector of shape: torch.Size([768])\n"
          ]
        }
      ]
    },
    {
      "cell_type": "markdown",
      "source": [
        "Confirming contextually dependent vectors\n",
        "To confirm that the value of these vectors are in fact contextually dependent, let’s look at the different instances of the word “bank” in our example sentence:\n",
        "\n",
        "“After stealing money from the bank vault, the bank robber was seen fishing on the Mississippi river bank.”\n",
        "\n",
        "Let’s find the index of those three instances of the word “bank” in the example sentence."
      ],
      "metadata": {
        "id": "EnhnJQJ1SRvt"
      }
    },
    {
      "cell_type": "code",
      "source": [
        "for i, token_str in enumerate(tokenized_text):\n",
        "  print (i, token_str)"
      ],
      "metadata": {
        "colab": {
          "base_uri": "https://localhost:8080/"
        },
        "id": "4Wi5zPrNSUum",
        "outputId": "98bb3a3c-c1d6-457a-8822-cec6f9c6003f"
      },
      "execution_count": 25,
      "outputs": [
        {
          "output_type": "stream",
          "name": "stdout",
          "text": [
            "0 [CLS]\n",
            "1 after\n",
            "2 stealing\n",
            "3 money\n",
            "4 from\n",
            "5 the\n",
            "6 bank\n",
            "7 vault\n",
            "8 ,\n",
            "9 the\n",
            "10 bank\n",
            "11 robber\n",
            "12 was\n",
            "13 seen\n",
            "14 fishing\n",
            "15 on\n",
            "16 the\n",
            "17 mississippi\n",
            "18 river\n",
            "19 bank\n",
            "20 .\n",
            "21 [SEP]\n"
          ]
        }
      ]
    },
    {
      "cell_type": "markdown",
      "source": [
        "They are at 6, 10, and 19.\n",
        "\n",
        "For this analysis, we’ll use the word vectors that we created by summing the last four layers.\n",
        "\n",
        "We can try printing out their vectors to compare them."
      ],
      "metadata": {
        "id": "oXERSMpTSbf9"
      }
    },
    {
      "cell_type": "code",
      "source": [
        "print('First 5 vector values for each instance of \"bank\".')\n",
        "print('')\n",
        "print(\"bank vault   \", str(token_vecs_sum[6][:5]))\n",
        "print(\"bank robber  \", str(token_vecs_sum[10][:5]))\n",
        "print(\"river bank   \", str(token_vecs_sum[19][:5]))"
      ],
      "metadata": {
        "colab": {
          "base_uri": "https://localhost:8080/"
        },
        "id": "UqbN6SklScBC",
        "outputId": "5d4924e5-20e4-489c-effb-482f86f09151"
      },
      "execution_count": 26,
      "outputs": [
        {
          "output_type": "stream",
          "name": "stdout",
          "text": [
            "First 5 vector values for each instance of \"bank\".\n",
            "\n",
            "bank vault    tensor([ 3.3596, -2.9805, -1.5421,  0.7065,  2.0031])\n",
            "bank robber   tensor([ 2.7359, -2.5577, -1.3094,  0.6797,  1.6633])\n",
            "river bank    tensor([ 1.5267, -0.8895, -0.5152, -0.9298,  2.8334])\n"
          ]
        }
      ]
    },
    {
      "cell_type": "markdown",
      "source": [
        "We can see that the values differ, but let’s calculate the cosine similarity between the vectors to make a more precise comparison."
      ],
      "metadata": {
        "id": "acpSLj2oSkuY"
      }
    },
    {
      "cell_type": "code",
      "source": [
        "from scipy.spatial.distance import cosine\n",
        "\n",
        "# Calculate the cosine similarity between the word bank \n",
        "# in \"bank robber\" vs \"river bank\" (different meanings).\n",
        "diff_bank = 1 - cosine(token_vecs_sum[10], token_vecs_sum[19])\n",
        "\n",
        "# Calculate the cosine similarity between the word bank\n",
        "# in \"bank robber\" vs \"bank vault\" (same meaning).\n",
        "same_bank = 1 - cosine(token_vecs_sum[10], token_vecs_sum[6])\n",
        "\n",
        "print('Vector similarity for  *similar*  meanings:  %.2f' % same_bank)\n",
        "print('Vector similarity for *different* meanings:  %.2f' % diff_bank)"
      ],
      "metadata": {
        "colab": {
          "base_uri": "https://localhost:8080/"
        },
        "id": "WxdtdvMDSlHQ",
        "outputId": "a6ea418a-8fba-4e13-a241-9ad935796b0b"
      },
      "execution_count": 27,
      "outputs": [
        {
          "output_type": "stream",
          "name": "stdout",
          "text": [
            "Vector similarity for  *similar*  meanings:  0.94\n",
            "Vector similarity for *different* meanings:  0.69\n"
          ]
        }
      ]
    },
    {
      "cell_type": "markdown",
      "source": [
        "Pooling Strategy & Layer Choice\n",
        "Below are a couple additional resources for exploring this topic.\n",
        "\n",
        "BERT Authors\n",
        "\n",
        "The BERT authors tested word-embedding strategies by feeding different vector combinations as input features to a BiLSTM used on a named entity recognition task and observing the resulting F1 scores.\n",
        "\n",
        "![image.png](data:image/png;base64,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)"
      ],
      "metadata": {
        "id": "ILSFCY46SsiB"
      }
    },
    {
      "cell_type": "markdown",
      "source": [
        "While concatenation of the last four layers produced the best results on this specific task, many of the other methods come in a close second and in general it is advisable to test different versions for your specific application: results may vary.\n",
        "\n",
        "This is partially demonstrated by noting that the different layers of BERT encode very different kinds of information, so the appropriate pooling strategy will change depending on the application because different layers encode different kinds of information.\n",
        "\n",
        "Han Xiao’s BERT-as-service\n",
        "\n",
        "Han Xiao created an open-source project named bert-as-service on GitHub which is intended to create word embeddings for your text using BERT. Han experimented with different approaches to combining these embeddings, and shared some conclusions and rationale on the FAQ page of the project.\n",
        "\n",
        "bert-as-service, by default, uses the outputs from the second-to-last layer of the model.\n",
        "\n",
        "I would summarize Han’s perspective by the following:\n",
        "\n",
        "The embeddings start out in the first layer as having no contextual information (i.e., the meaning of the initial ‘bank’ embedding isn’t specific to river bank or financial bank).\n",
        "As the embeddings move deeper into the network, they pick up more and more contextual information with each layer.\n",
        "As you approach the final layer, however, you start picking up information that is specific to BERT’s pre-training tasks (the “Masked Language Model” (MLM) and “Next Sentence Prediction” (NSP)).\n",
        "What we want is embeddings that encode the word meaning well…\n",
        "BERT is motivated to do this, but it is also motivated to encode anything else that would help it determine what a missing word is (MLM), or whether the second sentence came after the first (NSP).\n",
        "The second-to-last layer is what Han settled on as a reasonable sweet-spot.\n"
      ],
      "metadata": {
        "id": "Kk9Y6eGlS9Ke"
      }
    },
    {
      "cell_type": "code",
      "source": [],
      "metadata": {
        "id": "vo9FNZ73S2jn"
      },
      "execution_count": null,
      "outputs": []
    }
  ]
}