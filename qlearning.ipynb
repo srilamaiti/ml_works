{
  "nbformat": 4,
  "nbformat_minor": 0,
  "metadata": {
    "colab": {
      "provenance": [],
      "authorship_tag": "ABX9TyOocoNEpjuZMuWDAF7sjYlA",
      "include_colab_link": true
    },
    "kernelspec": {
      "name": "python3",
      "display_name": "Python 3"
    },
    "language_info": {
      "name": "python"
    }
  },
  "cells": [
    {
      "cell_type": "markdown",
      "metadata": {
        "id": "view-in-github",
        "colab_type": "text"
      },
      "source": [
        "<a href=\"https://colab.research.google.com/github/srilamaiti/ml_works/blob/main/qlearning.ipynb\" target=\"_parent\"><img src=\"https://colab.research.google.com/assets/colab-badge.svg\" alt=\"Open In Colab\"/></a>"
      ]
    },
    {
      "cell_type": "code",
      "execution_count": 1,
      "metadata": {
        "colab": {
          "base_uri": "https://localhost:8080/"
        },
        "id": "y48mUgXXdRP9",
        "outputId": "957a1b30-a7b4-42e3-ef63-084f05359bc4"
      },
      "outputs": [
        {
          "output_type": "stream",
          "name": "stdout",
          "text": [
            "Requirement already satisfied: gym in /usr/local/lib/python3.10/dist-packages (0.25.2)\n",
            "Requirement already satisfied: numpy>=1.18.0 in /usr/local/lib/python3.10/dist-packages (from gym) (1.23.5)\n",
            "Requirement already satisfied: cloudpickle>=1.2.0 in /usr/local/lib/python3.10/dist-packages (from gym) (2.2.1)\n",
            "Requirement already satisfied: gym-notices>=0.0.4 in /usr/local/lib/python3.10/dist-packages (from gym) (0.0.8)\n",
            "Collecting box2d\n",
            "  Using cached Box2D-2.3.2.tar.gz (427 kB)\n",
            "  Preparing metadata (setup.py) ... \u001b[?25l\u001b[?25hdone\n",
            "Building wheels for collected packages: box2d\n",
            "  \u001b[1;31merror\u001b[0m: \u001b[1msubprocess-exited-with-error\u001b[0m\n",
            "  \n",
            "  \u001b[31m×\u001b[0m \u001b[32mpython setup.py bdist_wheel\u001b[0m did not run successfully.\n",
            "  \u001b[31m│\u001b[0m exit code: \u001b[1;36m1\u001b[0m\n",
            "  \u001b[31m╰─>\u001b[0m See above for output.\n",
            "  \n",
            "  \u001b[1;35mnote\u001b[0m: This error originates from a subprocess, and is likely not a problem with pip.\n",
            "  Building wheel for box2d (setup.py) ... \u001b[?25lerror\n",
            "\u001b[31m  ERROR: Failed building wheel for box2d\u001b[0m\u001b[31m\n",
            "\u001b[0m\u001b[?25h  Running setup.py clean for box2d\n",
            "Failed to build box2d\n",
            "\u001b[31mERROR: Could not build wheels for box2d, which is required to install pyproject.toml-based projects\u001b[0m\u001b[31m\n",
            "\u001b[0mRequirement already satisfied: pyvirtualdisplay in /usr/local/lib/python3.10/dist-packages (3.0)\n"
          ]
        }
      ],
      "source": [
        "!pip install gym\n",
        "!pip3 install box2d\n",
        "!pip install pyvirtualdisplay"
      ]
    },
    {
      "cell_type": "code",
      "source": [
        "import gym\n",
        "import matplotlib.pyplot as plt\n",
        "import os\n",
        "import pandas as pd\n",
        "import numpy as np\n",
        "os.environ[\"SDL_VIDEODRIVER\"] = \"dummy\"\n",
        "from IPython.display import clear_output"
      ],
      "metadata": {
        "colab": {
          "base_uri": "https://localhost:8080/"
        },
        "id": "alHgJr1sdTZp",
        "outputId": "8e901da2-5f55-4641-8115-c477d1c1d8c7"
      },
      "execution_count": 4,
      "outputs": [
        {
          "output_type": "stream",
          "name": "stderr",
          "text": [
            "/usr/local/lib/python3.10/dist-packages/ipykernel/ipkernel.py:283: DeprecationWarning: `should_run_async` will not call `transform_cell` automatically in the future. Please pass the result to `transformed_cell` argument and any exception that happen during thetransform in `preprocessing_exc_tuple` in IPython 7.17 and above.\n",
            "  and should_run_async(code)\n"
          ]
        }
      ]
    },
    {
      "cell_type": "code",
      "source": [
        "env = gym.make(\"MountainCar-v0\")\n",
        "print(env.action_space.n)\n",
        "env.reset()\n",
        "%matplotlib inline"
      ],
      "metadata": {
        "colab": {
          "base_uri": "https://localhost:8080/"
        },
        "id": "LNDu6yQ-dTcQ",
        "outputId": "1b93430b-bf35-4b6b-8803-e1516f30491c"
      },
      "execution_count": 9,
      "outputs": [
        {
          "output_type": "stream",
          "name": "stdout",
          "text": [
            "3\n"
          ]
        },
        {
          "output_type": "stream",
          "name": "stderr",
          "text": [
            "/usr/local/lib/python3.10/dist-packages/gym/core.py:317: DeprecationWarning: \u001b[33mWARN: Initializing wrapper in old step API which returns one bool instead of two. It is recommended to set `new_step_api=True` to use new step API. This will be the default behaviour in future.\u001b[0m\n",
            "  deprecation(\n",
            "/usr/local/lib/python3.10/dist-packages/gym/wrappers/step_api_compatibility.py:39: DeprecationWarning: \u001b[33mWARN: Initializing environment in old step API which returns one bool instead of two. It is recommended to set `new_step_api=True` to use new step API. This will be the default behaviour in future.\u001b[0m\n",
            "  deprecation(\n"
          ]
        }
      ]
    },
    {
      "cell_type": "code",
      "source": [
        "print(env.observation_space.high, env.observation_space.low, env.action_space.n)"
      ],
      "metadata": {
        "colab": {
          "base_uri": "https://localhost:8080/"
        },
        "id": "FejXtT9Egw_H",
        "outputId": "aeca671f-b5a7-4347-c695-018b87c8feeb"
      },
      "execution_count": 10,
      "outputs": [
        {
          "output_type": "stream",
          "name": "stdout",
          "text": [
            "[0.6  0.07] [-1.2  -0.07] 3\n"
          ]
        }
      ]
    },
    {
      "cell_type": "code",
      "source": [
        "discrete_observation_space_size = [20] * len(env.observation_space.high)\n",
        "discrete_observation_win_size = (env.observation_space.high - env.observation_space.low) / discrete_observation_space_size"
      ],
      "metadata": {
        "id": "ABXIEuCFhSNU"
      },
      "execution_count": 14,
      "outputs": []
    },
    {
      "cell_type": "code",
      "source": [
        "discrete_observation_space_size, discrete_observation_win_size"
      ],
      "metadata": {
        "colab": {
          "base_uri": "https://localhost:8080/"
        },
        "id": "39GZCz3zh7d7",
        "outputId": "6d730240-f34a-4b46-b60e-a8e355f26e7a"
      },
      "execution_count": 15,
      "outputs": [
        {
          "output_type": "execute_result",
          "data": {
            "text/plain": [
              "([20, 20], array([0.09 , 0.007]))"
            ]
          },
          "metadata": {},
          "execution_count": 15
        }
      ]
    },
    {
      "cell_type": "code",
      "source": [
        "q_table = np.random.uniform(low=-2, high=0, size=(discrete_observation_space_size + [env.action_space.n]))\n",
        "print(q_table)"
      ],
      "metadata": {
        "colab": {
          "base_uri": "https://localhost:8080/"
        },
        "id": "Gb85S2xjjRYu",
        "outputId": "c6480d0d-229e-408a-b090-93d67a0c4a7f"
      },
      "execution_count": 17,
      "outputs": [
        {
          "output_type": "stream",
          "name": "stdout",
          "text": [
            "[[[-0.36425475 -1.97878344 -0.37938556]\n",
            "  [-1.69216064 -0.91098588 -0.90514107]\n",
            "  [-1.00037874 -0.65382228 -1.98194498]\n",
            "  ...\n",
            "  [-0.13656001 -1.72600576 -1.94062929]\n",
            "  [-0.06773165 -0.02536559 -0.56930314]\n",
            "  [-0.17729891 -0.61030904 -0.53062572]]\n",
            "\n",
            " [[-1.78434106 -0.50317378 -0.47492063]\n",
            "  [-0.0118003  -0.84848411 -1.54724566]\n",
            "  [-1.13763746 -1.55846152 -0.15489376]\n",
            "  ...\n",
            "  [-0.42846619 -0.19928026 -0.55466174]\n",
            "  [-0.27640362 -1.81203527 -1.5587498 ]\n",
            "  [-1.16550437 -1.25567326 -1.31411086]]\n",
            "\n",
            " [[-1.69194033 -0.65468184 -1.93450791]\n",
            "  [-1.11197181 -0.51357518 -1.24516148]\n",
            "  [-1.21630095 -0.74838161 -1.16935129]\n",
            "  ...\n",
            "  [-0.53463493 -1.48583636 -1.36397195]\n",
            "  [-1.93488282 -0.48102049 -0.87524508]\n",
            "  [-0.43482701 -0.55852477 -1.93143323]]\n",
            "\n",
            " ...\n",
            "\n",
            " [[-0.18252777 -1.86697467 -1.95535695]\n",
            "  [-1.92419436 -0.48862381 -1.903419  ]\n",
            "  [-1.99189132 -1.13136667 -1.86978709]\n",
            "  ...\n",
            "  [-1.84233791 -0.78284601 -0.50681369]\n",
            "  [-0.42606577 -0.07328119 -1.2999645 ]\n",
            "  [-0.80109397 -0.13712737 -1.74795521]]\n",
            "\n",
            " [[-1.43118433 -0.7379515  -1.50330974]\n",
            "  [-0.31940432 -0.41838007 -0.70438785]\n",
            "  [-0.62395589 -1.55231458 -1.7025035 ]\n",
            "  ...\n",
            "  [-0.09443543 -1.56825703 -0.7265555 ]\n",
            "  [-1.98876639 -0.14365129 -0.6099585 ]\n",
            "  [-1.75235213 -1.02672974 -0.75142597]]\n",
            "\n",
            " [[-1.39606451 -0.64387228 -0.61544438]\n",
            "  [-0.67395905 -0.7328524  -1.66016369]\n",
            "  [-1.30717265 -1.44836289 -1.75333539]\n",
            "  ...\n",
            "  [-0.48858791 -0.80427743 -0.61340553]\n",
            "  [-1.44178065 -1.46576408 -0.83582561]\n",
            "  [-0.39538722 -0.11767698 -0.47441355]]]\n"
          ]
        },
        {
          "output_type": "stream",
          "name": "stderr",
          "text": [
            "/usr/local/lib/python3.10/dist-packages/ipykernel/ipkernel.py:283: DeprecationWarning: `should_run_async` will not call `transform_cell` automatically in the future. Please pass the result to `transformed_cell` argument and any exception that happen during thetransform in `preprocessing_exc_tuple` in IPython 7.17 and above.\n",
            "  and should_run_async(code)\n"
          ]
        }
      ]
    },
    {
      "cell_type": "code",
      "source": [
        "done = False\n",
        "while not done:\n",
        "    action = 2  # always go right!\n",
        "    new_state, reward, done, _ = env.step(action)\n",
        "    print(reward, new_state)\n",
        "    env.render()\n",
        "    %matplotlib inline\n",
        "    clear_output(wait=True)\n",
        "    plt.imshow( env.render(mode='rgb_array') )\n",
        "    plt.show()\n",
        "env.close()"
      ],
      "metadata": {
        "colab": {
          "base_uri": "https://localhost:8080/",
          "height": 396
        },
        "id": "eUwp2K0fdTfH",
        "outputId": "84ab1410-eebb-4f9e-fd48-e8f504dee118"
      },
      "execution_count": 6,
      "outputs": [
        {
          "output_type": "display_data",
          "data": {
            "text/plain": [
              "<Figure size 640x480 with 1 Axes>"
            ],
            "image/png": "[encoded data removed]"
          },
          "metadata": {}
        }
      ]
    },
    {
      "cell_type": "code",
      "source": [],
      "metadata": {
        "id": "1hS-oIMDdTh8"
      },
      "execution_count": null,
      "outputs": []
    },
    {
      "cell_type": "code",
      "source": [],
      "metadata": {
        "id": "s4_bAv_pdTlF"
      },
      "execution_count": null,
      "outputs": []
    }
  ]
}