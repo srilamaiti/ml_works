{
  "nbformat": 4,
  "nbformat_minor": 0,
  "metadata": {
    "colab": {
      "provenance": [],
      "authorship_tag": "ABX9TyOwhvm618uKKnCmz1WDN0qa",
      "include_colab_link": true
    },
    "kernelspec": {
      "name": "python3",
      "display_name": "Python 3"
    },
    "language_info": {
      "name": "python"
    }
  },
  "cells": [
    {
      "cell_type": "markdown",
      "metadata": {
        "id": "view-in-github",
        "colab_type": "text"
      },
      "source": [
        "<a href=\"https://colab.research.google.com/github/srilamaiti/ml_works/blob/main/monte_carlo_simulation.ipynb\" target=\"_parent\"><img src=\"https://colab.research.google.com/assets/colab-badge.svg\" alt=\"Open In Colab\"/></a>"
      ]
    },
    {
      "cell_type": "markdown",
      "source": [
        "# **Monte Carlo method**\n",
        "\n",
        "The Monte Carlo simulation is a mathematical technique that predicts possible outcomes of an uncertain event. Computer programs use this method to analyze past data and predict a range of future outcomes based on a choice of action."
      ],
      "metadata": {
        "id": "pL3si0RTphUd"
      }
    },
    {
      "cell_type": "markdown",
      "source": [
        "Probability of landing a dart in the circle with radius 1 which is enclosed in a square of length 2. \n",
        "\n",
        "In simple probability way, it becomes total possible events / total outcomes, that is landing the dart in the circle is pi * r ^ 2 and total area is side of square ^ 2, which is (pi * 1 ^ 2) / (2 ^ 2) = pi / 4.\n",
        "\n",
        "However, if we do not know anything about geometry, Monte Cralo simulation is in rescue.\n",
        "\n",
        "We start with million number of trials of throwing dart and num_circle is the number of times dart lands in circle and finally the probability will be the ratio of total number of times the dart ands in circle to total number of trials.\n",
        "\n",
        "As we see, that if we increase the number of trails, our final result will be close to the actual number which we calculated before as pi / 4."
      ],
      "metadata": {
        "id": "kbxCn3O7prGU"
      }
    },
    {
      "cell_type": "code",
      "source": [
        "import random\n",
        "import numpy as np\n",
        "import matplotlib.pyplot as plt"
      ],
      "metadata": {
        "id": "EMchGlrBrHkS"
      },
      "execution_count": 1,
      "outputs": []
    },
    {
      "cell_type": "code",
      "execution_count": 13,
      "metadata": {
        "colab": {
          "base_uri": "https://localhost:8080/"
        },
        "id": "ZcKN91ARpcka",
        "outputId": "470ae06f-c771-4738-c4b3-b25eef9fc3a3"
      },
      "outputs": [
        {
          "output_type": "stream",
          "name": "stdout",
          "text": [
            "Final probability : 0.500003985500004 and actual value is : 0.7853981633974483\n"
          ]
        }
      ],
      "source": [
        "number_of_trials = 999999999\n",
        "number_circle_hit = 0\n",
        "for i in range(1, number_of_trials + 1):\n",
        "    x = random.randrange(-1, 1)\n",
        "    y = random.randrange(-1, 1)\n",
        "    if x * x + y * y == 1:\n",
        "        number_circle_hit += 1\n",
        "print(f\"Final probability : {number_circle_hit / number_of_trials} and actual value is : {np.pi / 4}\")"
      ]
    },
    {
      "cell_type": "markdown",
      "source": [
        "It's easy to thro some solutions, but not very interpretable to know how we get to the final result. And the time grows exponentially as the number of trials increase."
      ],
      "metadata": {
        "id": "h3oKsvtPsfFH"
      }
    }
  ]
}