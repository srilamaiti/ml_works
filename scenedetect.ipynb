{
  "nbformat": 4,
  "nbformat_minor": 0,
  "metadata": {
    "colab": {
      "provenance": [],
      "authorship_tag": "ABX9TyN8HrVxTpy5AKG6q0XURtPA",
      "include_colab_link": true
    },
    "kernelspec": {
      "name": "python3",
      "display_name": "Python 3"
    },
    "language_info": {
      "name": "python"
    }
  },
  "cells": [
    {
      "cell_type": "markdown",
      "metadata": {
        "id": "view-in-github",
        "colab_type": "text"
      },
      "source": [
        "<a href=\"https://colab.research.google.com/github/srilamaiti/ml_works/blob/main/scenedetect.ipynb\" target=\"_parent\"><img src=\"https://colab.research.google.com/assets/colab-badge.svg\" alt=\"Open In Colab\"/></a>"
      ]
    },
    {
      "cell_type": "code",
      "execution_count": 1,
      "metadata": {
        "colab": {
          "base_uri": "https://localhost:8080/"
        },
        "id": "OYcN_Ub9_Xw4",
        "outputId": "100412aa-71e5-4ae5-dcc3-481617dfd348"
      },
      "outputs": [
        {
          "output_type": "stream",
          "name": "stdout",
          "text": [
            "Requirement already satisfied: pixellib in /usr/local/lib/python3.10/dist-packages (0.7.1)\n",
            "Requirement already satisfied: pillow in /usr/local/lib/python3.10/dist-packages (from pixellib) (9.4.0)\n",
            "Requirement already satisfied: scikit-image in /usr/local/lib/python3.10/dist-packages (from pixellib) (0.19.3)\n",
            "Requirement already satisfied: opencv-python in /usr/local/lib/python3.10/dist-packages (from pixellib) (4.8.0.76)\n",
            "Requirement already satisfied: matplotlib in /usr/local/lib/python3.10/dist-packages (from pixellib) (3.7.1)\n",
            "Requirement already satisfied: imgaug in /usr/local/lib/python3.10/dist-packages (from pixellib) (0.4.0)\n",
            "Requirement already satisfied: labelme2coco in /usr/local/lib/python3.10/dist-packages (from pixellib) (0.2.4)\n",
            "Requirement already satisfied: imantics in /usr/local/lib/python3.10/dist-packages (from pixellib) (0.1.12)\n",
            "Requirement already satisfied: Cython in /usr/local/lib/python3.10/dist-packages (from pixellib) (3.0.2)\n",
            "Requirement already satisfied: pyQt5 in /usr/local/lib/python3.10/dist-packages (from pixellib) (5.15.9)\n",
            "Requirement already satisfied: fvcore in /usr/local/lib/python3.10/dist-packages (from pixellib) (0.1.5.post20221221)\n",
            "Requirement already satisfied: iopath in /usr/local/lib/python3.10/dist-packages (from pixellib) (0.1.10)\n",
            "Requirement already satisfied: omegaconf in /usr/local/lib/python3.10/dist-packages (from pixellib) (2.3.0)\n",
            "Requirement already satisfied: cloudpickle in /usr/local/lib/python3.10/dist-packages (from pixellib) (2.2.1)\n",
            "Requirement already satisfied: termcolor in /usr/local/lib/python3.10/dist-packages (from pixellib) (2.3.0)\n",
            "Requirement already satisfied: yacs in /usr/local/lib/python3.10/dist-packages (from pixellib) (0.1.8)\n",
            "Requirement already satisfied: tabulate in /usr/local/lib/python3.10/dist-packages (from pixellib) (0.9.0)\n",
            "Requirement already satisfied: tqdm in /usr/local/lib/python3.10/dist-packages (from pixellib) (4.66.1)\n",
            "Requirement already satisfied: future in /usr/local/lib/python3.10/dist-packages (from pixellib) (0.18.3)\n",
            "Requirement already satisfied: pydot in /usr/local/lib/python3.10/dist-packages (from pixellib) (1.4.2)\n",
            "Requirement already satisfied: dataclasses in /usr/local/lib/python3.10/dist-packages (from pixellib) (0.6)\n",
            "Requirement already satisfied: hydra-core in /usr/local/lib/python3.10/dist-packages (from pixellib) (1.3.2)\n",
            "Requirement already satisfied: black in /usr/local/lib/python3.10/dist-packages (from pixellib) (23.9.1)\n",
            "Requirement already satisfied: click>=8.0.0 in /usr/local/lib/python3.10/dist-packages (from black->pixellib) (8.1.7)\n",
            "Requirement already satisfied: mypy-extensions>=0.4.3 in /usr/local/lib/python3.10/dist-packages (from black->pixellib) (1.0.0)\n",
            "Requirement already satisfied: packaging>=22.0 in /usr/local/lib/python3.10/dist-packages (from black->pixellib) (23.1)\n",
            "Requirement already satisfied: pathspec>=0.9.0 in /usr/local/lib/python3.10/dist-packages (from black->pixellib) (0.11.2)\n",
            "Requirement already satisfied: platformdirs>=2 in /usr/local/lib/python3.10/dist-packages (from black->pixellib) (3.10.0)\n",
            "Requirement already satisfied: tomli>=1.1.0 in /usr/local/lib/python3.10/dist-packages (from black->pixellib) (2.0.1)\n",
            "Requirement already satisfied: typing-extensions>=4.0.1 in /usr/local/lib/python3.10/dist-packages (from black->pixellib) (4.5.0)\n",
            "Requirement already satisfied: numpy in /usr/local/lib/python3.10/dist-packages (from fvcore->pixellib) (1.23.5)\n",
            "Requirement already satisfied: pyyaml>=5.1 in /usr/local/lib/python3.10/dist-packages (from fvcore->pixellib) (6.0.1)\n",
            "Requirement already satisfied: portalocker in /usr/local/lib/python3.10/dist-packages (from iopath->pixellib) (2.8.2)\n",
            "Requirement already satisfied: antlr4-python3-runtime==4.9.* in /usr/local/lib/python3.10/dist-packages (from hydra-core->pixellib) (4.9.3)\n",
            "Requirement already satisfied: lxml in /usr/local/lib/python3.10/dist-packages (from imantics->pixellib) (4.9.3)\n",
            "Requirement already satisfied: xmljson in /usr/local/lib/python3.10/dist-packages (from imantics->pixellib) (0.2.1)\n",
            "Requirement already satisfied: six in /usr/local/lib/python3.10/dist-packages (from imgaug->pixellib) (1.16.0)\n",
            "Requirement already satisfied: scipy in /usr/local/lib/python3.10/dist-packages (from imgaug->pixellib) (1.11.2)\n",
            "Requirement already satisfied: imageio in /usr/local/lib/python3.10/dist-packages (from imgaug->pixellib) (2.31.3)\n",
            "Requirement already satisfied: Shapely in /usr/local/lib/python3.10/dist-packages (from imgaug->pixellib) (2.0.1)\n",
            "Requirement already satisfied: networkx>=2.2 in /usr/local/lib/python3.10/dist-packages (from scikit-image->pixellib) (3.1)\n",
            "Requirement already satisfied: tifffile>=2019.7.26 in /usr/local/lib/python3.10/dist-packages (from scikit-image->pixellib) (2023.8.30)\n",
            "Requirement already satisfied: PyWavelets>=1.1.1 in /usr/local/lib/python3.10/dist-packages (from scikit-image->pixellib) (1.4.1)\n",
            "Requirement already satisfied: sahi>=0.8.19 in /usr/local/lib/python3.10/dist-packages (from labelme2coco->pixellib) (0.11.14)\n",
            "Requirement already satisfied: jsonschema>=2.6.0 in /usr/local/lib/python3.10/dist-packages (from labelme2coco->pixellib) (4.19.0)\n",
            "Requirement already satisfied: contourpy>=1.0.1 in /usr/local/lib/python3.10/dist-packages (from matplotlib->pixellib) (1.1.0)\n",
            "Requirement already satisfied: cycler>=0.10 in /usr/local/lib/python3.10/dist-packages (from matplotlib->pixellib) (0.11.0)\n",
            "Requirement already satisfied: fonttools>=4.22.0 in /usr/local/lib/python3.10/dist-packages (from matplotlib->pixellib) (4.42.1)\n",
            "Requirement already satisfied: kiwisolver>=1.0.1 in /usr/local/lib/python3.10/dist-packages (from matplotlib->pixellib) (1.4.5)\n",
            "Requirement already satisfied: pyparsing>=2.3.1 in /usr/local/lib/python3.10/dist-packages (from matplotlib->pixellib) (3.1.1)\n",
            "Requirement already satisfied: python-dateutil>=2.7 in /usr/local/lib/python3.10/dist-packages (from matplotlib->pixellib) (2.8.2)\n",
            "Requirement already satisfied: PyQt5-sip<13,>=12.11 in /usr/local/lib/python3.10/dist-packages (from pyQt5->pixellib) (12.12.2)\n",
            "Requirement already satisfied: PyQt5-Qt5>=5.15.2 in /usr/local/lib/python3.10/dist-packages (from pyQt5->pixellib) (5.15.2)\n",
            "Requirement already satisfied: attrs>=22.2.0 in /usr/local/lib/python3.10/dist-packages (from jsonschema>=2.6.0->labelme2coco->pixellib) (23.1.0)\n",
            "Requirement already satisfied: jsonschema-specifications>=2023.03.6 in /usr/local/lib/python3.10/dist-packages (from jsonschema>=2.6.0->labelme2coco->pixellib) (2023.7.1)\n",
            "Requirement already satisfied: referencing>=0.28.4 in /usr/local/lib/python3.10/dist-packages (from jsonschema>=2.6.0->labelme2coco->pixellib) (0.30.2)\n",
            "Requirement already satisfied: rpds-py>=0.7.1 in /usr/local/lib/python3.10/dist-packages (from jsonschema>=2.6.0->labelme2coco->pixellib) (0.10.2)\n",
            "Requirement already satisfied: pybboxes==0.1.6 in /usr/local/lib/python3.10/dist-packages (from sahi>=0.8.19->labelme2coco->pixellib) (0.1.6)\n",
            "Requirement already satisfied: fire in /usr/local/lib/python3.10/dist-packages (from sahi>=0.8.19->labelme2coco->pixellib) (0.5.0)\n",
            "Requirement already satisfied: terminaltables in /usr/local/lib/python3.10/dist-packages (from sahi>=0.8.19->labelme2coco->pixellib) (3.1.10)\n",
            "Requirement already satisfied: requests in /usr/local/lib/python3.10/dist-packages (from sahi>=0.8.19->labelme2coco->pixellib) (2.31.0)\n",
            "Requirement already satisfied: charset-normalizer<4,>=2 in /usr/local/lib/python3.10/dist-packages (from requests->sahi>=0.8.19->labelme2coco->pixellib) (3.2.0)\n",
            "Requirement already satisfied: idna<4,>=2.5 in /usr/local/lib/python3.10/dist-packages (from requests->sahi>=0.8.19->labelme2coco->pixellib) (3.4)\n",
            "Requirement already satisfied: urllib3<3,>=1.21.1 in /usr/local/lib/python3.10/dist-packages (from requests->sahi>=0.8.19->labelme2coco->pixellib) (2.0.4)\n",
            "Requirement already satisfied: certifi>=2017.4.17 in /usr/local/lib/python3.10/dist-packages (from requests->sahi>=0.8.19->labelme2coco->pixellib) (2023.7.22)\n"
          ]
        }
      ],
      "source": [
        "pip install pixellib"
      ]
    },
    {
      "cell_type": "code",
      "source": [
        "pip install scenedetect[opencv] --upgrade\n"
      ],
      "metadata": {
        "colab": {
          "base_uri": "https://localhost:8080/"
        },
        "id": "VmUVhHPa_aO7",
        "outputId": "90eec650-e23c-4fd7-edf2-4a6556f375c2"
      },
      "execution_count": 3,
      "outputs": [
        {
          "output_type": "stream",
          "name": "stdout",
          "text": [
            "Collecting scenedetect[opencv]\n",
            "  Downloading scenedetect-0.6.2-py3-none-any.whl (117 kB)\n",
            "\u001b[?25l     \u001b[90m━━━━━━━━━━━━━━━━━━━━━━━━━━━━━━━━━━━━━━━━\u001b[0m \u001b[32m0.0/117.1 kB\u001b[0m \u001b[31m?\u001b[0m eta \u001b[36m-:--:--\u001b[0m\r\u001b[2K     \u001b[91m━━━━━━━━━━━━━━━━━━━━━━━━━━━━━━━━━━━━━\u001b[0m\u001b[91m╸\u001b[0m\u001b[90m━\u001b[0m \u001b[32m112.6/117.1 kB\u001b[0m \u001b[31m3.5 MB/s\u001b[0m eta \u001b[36m0:00:01\u001b[0m\r\u001b[2K     \u001b[90m━━━━━━━━━━━━━━━━━━━━━━━━━━━━━━━━━━━━━━━\u001b[0m \u001b[32m117.1/117.1 kB\u001b[0m \u001b[31m2.8 MB/s\u001b[0m eta \u001b[36m0:00:00\u001b[0m\n",
            "\u001b[?25hRequirement already satisfied: Click in /usr/local/lib/python3.10/dist-packages (from scenedetect[opencv]) (8.1.7)\n",
            "Requirement already satisfied: numpy in /usr/local/lib/python3.10/dist-packages (from scenedetect[opencv]) (1.23.5)\n",
            "Requirement already satisfied: platformdirs in /usr/local/lib/python3.10/dist-packages (from scenedetect[opencv]) (3.10.0)\n",
            "Requirement already satisfied: tqdm in /usr/local/lib/python3.10/dist-packages (from scenedetect[opencv]) (4.66.1)\n",
            "Requirement already satisfied: opencv-python in /usr/local/lib/python3.10/dist-packages (from scenedetect[opencv]) (4.8.0.76)\n",
            "Installing collected packages: scenedetect\n",
            "Successfully installed scenedetect-0.6.2\n"
          ]
        }
      ]
    },
    {
      "cell_type": "code",
      "source": [
        "from scenedetect import detect, ContentDetector\n",
        "scene_list = detect('baby.mp4', ContentDetector())"
      ],
      "metadata": {
        "colab": {
          "base_uri": "https://localhost:8080/"
        },
        "id": "EDEkrrosAO-P",
        "outputId": "2e021f1d-adea-4651-da10-b0ad19915dc6"
      },
      "execution_count": 4,
      "outputs": [
        {
          "output_type": "stream",
          "name": "stderr",
          "text": [
            "INFO:pyscenedetect:Detecting scenes...\n"
          ]
        }
      ]
    },
    {
      "cell_type": "code",
      "source": [
        "from scenedetect import detect, ContentDetector\n",
        "scene_list = detect('baby.mp4', ContentDetector())\n",
        "for i, scene in enumerate(scene_list):\n",
        "    print('    Scene %2d: Start %s / Frame %d, End %s / Frame %d' % (\n",
        "        i+1,\n",
        "        scene[0].get_timecode(), scene[0].get_frames(),\n",
        "        scene[1].get_timecode(), scene[1].get_frames(),))"
      ],
      "metadata": {
        "colab": {
          "base_uri": "https://localhost:8080/"
        },
        "id": "uHLGpIBpAPBM",
        "outputId": "3d3dc444-17bb-4a46-8da1-30b2cc299ba7"
      },
      "execution_count": 6,
      "outputs": [
        {
          "output_type": "stream",
          "name": "stderr",
          "text": [
            "INFO:pyscenedetect:Detecting scenes...\n"
          ]
        }
      ]
    },
    {
      "cell_type": "code",
      "source": [
        "from scenedetect import detect, ContentDetector, split_video_ffmpeg\n",
        "scene_list = detect('baby.mp4', ContentDetector())\n",
        "split_video_ffmpeg('baby.mp4', scene_list)"
      ],
      "metadata": {
        "colab": {
          "base_uri": "https://localhost:8080/"
        },
        "id": "jL0MlTYtAPD2",
        "outputId": "d31bb883-f756-46f7-ee25-be341c894ee1"
      },
      "execution_count": 7,
      "outputs": [
        {
          "output_type": "stream",
          "name": "stderr",
          "text": [
            "INFO:pyscenedetect:Detecting scenes...\n"
          ]
        },
        {
          "output_type": "execute_result",
          "data": {
            "text/plain": [
              "0"
            ]
          },
          "metadata": {},
          "execution_count": 7
        }
      ]
    },
    {
      "cell_type": "code",
      "source": [
        "from scenedetect import open_video, SceneManager, split_video_ffmpeg\n",
        "from scenedetect.detectors import ContentDetector\n",
        "from scenedetect.video_splitter import split_video_ffmpeg\n",
        "\n",
        "def split_video_into_scenes(video_path, threshold=27.0):\n",
        "    # Open our video, create a scene manager, and add a detector.\n",
        "    video = open_video(video_path)\n",
        "    scene_manager = SceneManager()\n",
        "    scene_manager.add_detector(\n",
        "        ContentDetector(threshold=threshold))\n",
        "    scene_manager.detect_scenes(video, show_progress=True)\n",
        "    scene_list = scene_manager.get_scene_list()\n",
        "    split_video_ffmpeg(video_path, scene_list, show_progress=True)\n",
        "split_video_into_scenes(\"baby.mp4\")"
      ],
      "metadata": {
        "colab": {
          "base_uri": "https://localhost:8080/"
        },
        "id": "NyrrqZ52_aRu",
        "outputId": "ff3f6706-8977-4a21-a133-06f9b9751b0e"
      },
      "execution_count": 9,
      "outputs": [
        {
          "output_type": "stream",
          "name": "stderr",
          "text": [
            "Detected: 0 | Progress:   0%|          | 0/73 [00:00<?, ?frames/s]INFO:pyscenedetect:Detecting scenes...\n",
            "Detected: 0 | Progress: 100%|██████████| 73/73 [00:00<00:00, 744.50frames/s]\n"
          ]
        }
      ]
    },
    {
      "cell_type": "code",
      "source": [],
      "metadata": {
        "id": "dGcbBZla_aUd"
      },
      "execution_count": 1,
      "outputs": []
    },
    {
      "cell_type": "code",
      "source": [],
      "metadata": {
        "id": "jG8gVZ3__aXl"
      },
      "execution_count": 1,
      "outputs": []
    },
    {
      "cell_type": "code",
      "source": [],
      "metadata": {
        "id": "TtcQLlk1_aah"
      },
      "execution_count": 1,
      "outputs": []
    }
  ]
}