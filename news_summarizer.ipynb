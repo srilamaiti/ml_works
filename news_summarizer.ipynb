{
  "nbformat": 4,
  "nbformat_minor": 0,
  "metadata": {
    "colab": {
      "provenance": [],
      "authorship_tag": "ABX9TyOFoZ63Qm8CGxrjC9p5ZW2P",
      "include_colab_link": true
    },
    "kernelspec": {
      "name": "python3",
      "display_name": "Python 3"
    },
    "language_info": {
      "name": "python"
    }
  },
  "cells": [
    {
      "cell_type": "markdown",
      "metadata": {
        "id": "view-in-github",
        "colab_type": "text"
      },
      "source": [
        "<a href=\"https://colab.research.google.com/github/srilamaiti/ml_works/blob/main/news_summarizer.ipynb\" target=\"_parent\"><img src=\"https://colab.research.google.com/assets/colab-badge.svg\" alt=\"Open In Colab\"/></a>"
      ]
    },
    {
      "cell_type": "code",
      "source": [
        "!pip install newspaper3k\n",
        "!pip install annotated-types==0.6.0\n",
        "!pip install anyio==4.3.0\n",
        "!pip install beautifulsoup4==4.12.3\n",
        "!pip install certifi==2024.2.2\n",
        "!pip install charset-normalizer==3.3.2\n",
        "!pip install colorama==0.4.6\n",
        "!pip install distro==1.9.0\n",
        "!pip install feedparser==6.0.11\n",
        "!pip install h11==0.14.0\n",
        "!pip install httpcore==1.0.5\n",
        "!pip install httpx==0.27.0\n",
        "!pip install idna==3.7\n",
        "!pip install openai==1.30.1\n",
        "!pip install pydantic==2.7.1\n",
        "!pip install pydantic_core==2.18.2\n",
        "!pip install python-dotenv==1.0.1\n",
        "!pip install requests==2.31.0\n",
        "!pip install sgmllib3k==1.0.0\n",
        "!pip install sniffio==1.3.1\n",
        "!pip install soupsieve==2.5\n",
        "!pip install tqdm==4.66.4\n",
        "!pip install typing_extensions==4.11.0\n",
        "!pip install urllib3==2.2.1\n",
        "!pip install langchain\n",
        "!pip install langchain-openai\n",
        "!pip install langchain[docarray]\n",
        "!pip install lxml\n",
        "!pip install xxhash"
      ],
      "metadata": {
        "colab": {
          "base_uri": "https://localhost:8080/"
        },
        "id": "HoRuMGwszuLS",
        "outputId": "e48b9f6f-bc3e-47b0-d83b-699b8da31c9f"
      },
      "execution_count": null,
      "outputs": [
        {
          "output_type": "stream",
          "name": "stdout",
          "text": [
            "Requirement already satisfied: newspaper3k in /usr/local/lib/python3.10/dist-packages (0.2.8)\n",
            "Requirement already satisfied: beautifulsoup4>=4.4.1 in /usr/local/lib/python3.10/dist-packages (from newspaper3k) (4.12.3)\n",
            "Requirement already satisfied: Pillow>=3.3.0 in /usr/local/lib/python3.10/dist-packages (from newspaper3k) (9.4.0)\n",
            "Requirement already satisfied: PyYAML>=3.11 in /usr/local/lib/python3.10/dist-packages (from newspaper3k) (6.0.1)\n",
            "Requirement already satisfied: cssselect>=0.9.2 in /usr/local/lib/python3.10/dist-packages (from newspaper3k) (1.2.0)\n",
            "Requirement already satisfied: lxml>=3.6.0 in /usr/local/lib/python3.10/dist-packages (from newspaper3k) (4.9.4)\n",
            "Requirement already satisfied: nltk>=3.2.1 in /usr/local/lib/python3.10/dist-packages (from newspaper3k) (3.8.1)\n",
            "Requirement already satisfied: requests>=2.10.0 in /usr/local/lib/python3.10/dist-packages (from newspaper3k) (2.31.0)\n",
            "Requirement already satisfied: feedparser>=5.2.1 in /usr/local/lib/python3.10/dist-packages (from newspaper3k) (6.0.11)\n",
            "Requirement already satisfied: tldextract>=2.0.1 in /usr/local/lib/python3.10/dist-packages (from newspaper3k) (5.1.2)\n",
            "Requirement already satisfied: feedfinder2>=0.0.4 in /usr/local/lib/python3.10/dist-packages (from newspaper3k) (0.0.4)\n",
            "Requirement already satisfied: jieba3k>=0.35.1 in /usr/local/lib/python3.10/dist-packages (from newspaper3k) (0.35.1)\n",
            "Requirement already satisfied: python-dateutil>=2.5.3 in /usr/local/lib/python3.10/dist-packages (from newspaper3k) (2.8.2)\n",
            "Requirement already satisfied: tinysegmenter==0.3 in /usr/local/lib/python3.10/dist-packages (from newspaper3k) (0.3)\n",
            "Requirement already satisfied: soupsieve>1.2 in /usr/local/lib/python3.10/dist-packages (from beautifulsoup4>=4.4.1->newspaper3k) (2.5)\n",
            "Requirement already satisfied: six in /usr/local/lib/python3.10/dist-packages (from feedfinder2>=0.0.4->newspaper3k) (1.16.0)\n",
            "Requirement already satisfied: sgmllib3k in /usr/local/lib/python3.10/dist-packages (from feedparser>=5.2.1->newspaper3k) (1.0.0)\n",
            "Requirement already satisfied: click in /usr/local/lib/python3.10/dist-packages (from nltk>=3.2.1->newspaper3k) (8.1.7)\n",
            "Requirement already satisfied: joblib in /usr/local/lib/python3.10/dist-packages (from nltk>=3.2.1->newspaper3k) (1.4.2)\n",
            "Requirement already satisfied: regex>=2021.8.3 in /usr/local/lib/python3.10/dist-packages (from nltk>=3.2.1->newspaper3k) (2023.12.25)\n",
            "Requirement already satisfied: tqdm in /usr/local/lib/python3.10/dist-packages (from nltk>=3.2.1->newspaper3k) (4.66.4)\n",
            "Requirement already satisfied: charset-normalizer<4,>=2 in /usr/local/lib/python3.10/dist-packages (from requests>=2.10.0->newspaper3k) (3.3.2)\n",
            "Requirement already satisfied: idna<4,>=2.5 in /usr/local/lib/python3.10/dist-packages (from requests>=2.10.0->newspaper3k) (3.7)\n",
            "Requirement already satisfied: urllib3<3,>=1.21.1 in /usr/local/lib/python3.10/dist-packages (from requests>=2.10.0->newspaper3k) (2.2.1)\n",
            "Requirement already satisfied: certifi>=2017.4.17 in /usr/local/lib/python3.10/dist-packages (from requests>=2.10.0->newspaper3k) (2024.2.2)\n",
            "Requirement already satisfied: requests-file>=1.4 in /usr/local/lib/python3.10/dist-packages (from tldextract>=2.0.1->newspaper3k) (2.0.0)\n",
            "Requirement already satisfied: filelock>=3.0.8 in /usr/local/lib/python3.10/dist-packages (from tldextract>=2.0.1->newspaper3k) (3.14.0)\n",
            "Requirement already satisfied: annotated-types==0.6.0 in /usr/local/lib/python3.10/dist-packages (0.6.0)\n",
            "Requirement already satisfied: anyio==4.3.0 in /usr/local/lib/python3.10/dist-packages (4.3.0)\n",
            "Requirement already satisfied: idna>=2.8 in /usr/local/lib/python3.10/dist-packages (from anyio==4.3.0) (3.7)\n",
            "Requirement already satisfied: sniffio>=1.1 in /usr/local/lib/python3.10/dist-packages (from anyio==4.3.0) (1.3.1)\n",
            "Requirement already satisfied: exceptiongroup>=1.0.2 in /usr/local/lib/python3.10/dist-packages (from anyio==4.3.0) (1.2.1)\n",
            "Requirement already satisfied: typing-extensions>=4.1 in /usr/local/lib/python3.10/dist-packages (from anyio==4.3.0) (4.11.0)\n",
            "Requirement already satisfied: beautifulsoup4==4.12.3 in /usr/local/lib/python3.10/dist-packages (4.12.3)\n",
            "Requirement already satisfied: soupsieve>1.2 in /usr/local/lib/python3.10/dist-packages (from beautifulsoup4==4.12.3) (2.5)\n",
            "Requirement already satisfied: certifi==2024.2.2 in /usr/local/lib/python3.10/dist-packages (2024.2.2)\n",
            "Requirement already satisfied: charset-normalizer==3.3.2 in /usr/local/lib/python3.10/dist-packages (3.3.2)\n",
            "Requirement already satisfied: colorama==0.4.6 in /usr/local/lib/python3.10/dist-packages (0.4.6)\n",
            "Requirement already satisfied: distro==1.9.0 in /usr/local/lib/python3.10/dist-packages (1.9.0)\n",
            "Requirement already satisfied: feedparser==6.0.11 in /usr/local/lib/python3.10/dist-packages (6.0.11)\n",
            "Requirement already satisfied: sgmllib3k in /usr/local/lib/python3.10/dist-packages (from feedparser==6.0.11) (1.0.0)\n",
            "Requirement already satisfied: h11==0.14.0 in /usr/local/lib/python3.10/dist-packages (0.14.0)\n",
            "Requirement already satisfied: httpcore==1.0.5 in /usr/local/lib/python3.10/dist-packages (1.0.5)\n",
            "Requirement already satisfied: certifi in /usr/local/lib/python3.10/dist-packages (from httpcore==1.0.5) (2024.2.2)\n",
            "Requirement already satisfied: h11<0.15,>=0.13 in /usr/local/lib/python3.10/dist-packages (from httpcore==1.0.5) (0.14.0)\n",
            "Requirement already satisfied: httpx==0.27.0 in /usr/local/lib/python3.10/dist-packages (0.27.0)\n",
            "Requirement already satisfied: anyio in /usr/local/lib/python3.10/dist-packages (from httpx==0.27.0) (4.3.0)\n",
            "Requirement already satisfied: certifi in /usr/local/lib/python3.10/dist-packages (from httpx==0.27.0) (2024.2.2)\n",
            "Requirement already satisfied: httpcore==1.* in /usr/local/lib/python3.10/dist-packages (from httpx==0.27.0) (1.0.5)\n",
            "Requirement already satisfied: idna in /usr/local/lib/python3.10/dist-packages (from httpx==0.27.0) (3.7)\n",
            "Requirement already satisfied: sniffio in /usr/local/lib/python3.10/dist-packages (from httpx==0.27.0) (1.3.1)\n",
            "Requirement already satisfied: h11<0.15,>=0.13 in /usr/local/lib/python3.10/dist-packages (from httpcore==1.*->httpx==0.27.0) (0.14.0)\n",
            "Requirement already satisfied: exceptiongroup>=1.0.2 in /usr/local/lib/python3.10/dist-packages (from anyio->httpx==0.27.0) (1.2.1)\n",
            "Requirement already satisfied: typing-extensions>=4.1 in /usr/local/lib/python3.10/dist-packages (from anyio->httpx==0.27.0) (4.11.0)\n",
            "Requirement already satisfied: idna==3.7 in /usr/local/lib/python3.10/dist-packages (3.7)\n",
            "Requirement already satisfied: openai==1.30.1 in /usr/local/lib/python3.10/dist-packages (1.30.1)\n",
            "Requirement already satisfied: anyio<5,>=3.5.0 in /usr/local/lib/python3.10/dist-packages (from openai==1.30.1) (4.3.0)\n",
            "Requirement already satisfied: distro<2,>=1.7.0 in /usr/local/lib/python3.10/dist-packages (from openai==1.30.1) (1.9.0)\n",
            "Requirement already satisfied: httpx<1,>=0.23.0 in /usr/local/lib/python3.10/dist-packages (from openai==1.30.1) (0.27.0)\n",
            "Requirement already satisfied: pydantic<3,>=1.9.0 in /usr/local/lib/python3.10/dist-packages (from openai==1.30.1) (2.7.1)\n",
            "Requirement already satisfied: sniffio in /usr/local/lib/python3.10/dist-packages (from openai==1.30.1) (1.3.1)\n",
            "Requirement already satisfied: tqdm>4 in /usr/local/lib/python3.10/dist-packages (from openai==1.30.1) (4.66.4)\n",
            "Requirement already satisfied: typing-extensions<5,>=4.7 in /usr/local/lib/python3.10/dist-packages (from openai==1.30.1) (4.11.0)\n",
            "Requirement already satisfied: idna>=2.8 in /usr/local/lib/python3.10/dist-packages (from anyio<5,>=3.5.0->openai==1.30.1) (3.7)\n",
            "Requirement already satisfied: exceptiongroup>=1.0.2 in /usr/local/lib/python3.10/dist-packages (from anyio<5,>=3.5.0->openai==1.30.1) (1.2.1)\n",
            "Requirement already satisfied: certifi in /usr/local/lib/python3.10/dist-packages (from httpx<1,>=0.23.0->openai==1.30.1) (2024.2.2)\n",
            "Requirement already satisfied: httpcore==1.* in /usr/local/lib/python3.10/dist-packages (from httpx<1,>=0.23.0->openai==1.30.1) (1.0.5)\n",
            "Requirement already satisfied: h11<0.15,>=0.13 in /usr/local/lib/python3.10/dist-packages (from httpcore==1.*->httpx<1,>=0.23.0->openai==1.30.1) (0.14.0)\n",
            "Requirement already satisfied: annotated-types>=0.4.0 in /usr/local/lib/python3.10/dist-packages (from pydantic<3,>=1.9.0->openai==1.30.1) (0.6.0)\n",
            "Requirement already satisfied: pydantic-core==2.18.2 in /usr/local/lib/python3.10/dist-packages (from pydantic<3,>=1.9.0->openai==1.30.1) (2.18.2)\n",
            "Requirement already satisfied: pydantic==2.7.1 in /usr/local/lib/python3.10/dist-packages (2.7.1)\n",
            "Requirement already satisfied: annotated-types>=0.4.0 in /usr/local/lib/python3.10/dist-packages (from pydantic==2.7.1) (0.6.0)\n",
            "Requirement already satisfied: pydantic-core==2.18.2 in /usr/local/lib/python3.10/dist-packages (from pydantic==2.7.1) (2.18.2)\n",
            "Requirement already satisfied: typing-extensions>=4.6.1 in /usr/local/lib/python3.10/dist-packages (from pydantic==2.7.1) (4.11.0)\n",
            "Requirement already satisfied: pydantic_core==2.18.2 in /usr/local/lib/python3.10/dist-packages (2.18.2)\n",
            "Requirement already satisfied: typing-extensions!=4.7.0,>=4.6.0 in /usr/local/lib/python3.10/dist-packages (from pydantic_core==2.18.2) (4.11.0)\n",
            "Requirement already satisfied: python-dotenv==1.0.1 in /usr/local/lib/python3.10/dist-packages (1.0.1)\n",
            "Requirement already satisfied: requests==2.31.0 in /usr/local/lib/python3.10/dist-packages (2.31.0)\n",
            "Requirement already satisfied: charset-normalizer<4,>=2 in /usr/local/lib/python3.10/dist-packages (from requests==2.31.0) (3.3.2)\n",
            "Requirement already satisfied: idna<4,>=2.5 in /usr/local/lib/python3.10/dist-packages (from requests==2.31.0) (3.7)\n",
            "Requirement already satisfied: urllib3<3,>=1.21.1 in /usr/local/lib/python3.10/dist-packages (from requests==2.31.0) (2.2.1)\n",
            "Requirement already satisfied: certifi>=2017.4.17 in /usr/local/lib/python3.10/dist-packages (from requests==2.31.0) (2024.2.2)\n",
            "Requirement already satisfied: sgmllib3k==1.0.0 in /usr/local/lib/python3.10/dist-packages (1.0.0)\n",
            "Requirement already satisfied: sniffio==1.3.1 in /usr/local/lib/python3.10/dist-packages (1.3.1)\n",
            "Requirement already satisfied: soupsieve==2.5 in /usr/local/lib/python3.10/dist-packages (2.5)\n",
            "Requirement already satisfied: tqdm==4.66.4 in /usr/local/lib/python3.10/dist-packages (4.66.4)\n",
            "Requirement already satisfied: typing_extensions==4.11.0 in /usr/local/lib/python3.10/dist-packages (4.11.0)\n",
            "Requirement already satisfied: urllib3==2.2.1 in /usr/local/lib/python3.10/dist-packages (2.2.1)\n",
            "Requirement already satisfied: langchain in /usr/local/lib/python3.10/dist-packages (0.2.0)\n",
            "Requirement already satisfied: PyYAML>=5.3 in /usr/local/lib/python3.10/dist-packages (from langchain) (6.0.1)\n",
            "Requirement already satisfied: SQLAlchemy<3,>=1.4 in /usr/local/lib/python3.10/dist-packages (from langchain) (2.0.30)\n",
            "Requirement already satisfied: aiohttp<4.0.0,>=3.8.3 in /usr/local/lib/python3.10/dist-packages (from langchain) (3.9.5)\n",
            "Requirement already satisfied: async-timeout<5.0.0,>=4.0.0 in /usr/local/lib/python3.10/dist-packages (from langchain) (4.0.3)\n",
            "Requirement already satisfied: dataclasses-json<0.7,>=0.5.7 in /usr/local/lib/python3.10/dist-packages (from langchain) (0.6.6)\n",
            "Requirement already satisfied: langchain-core<0.3.0,>=0.2.0 in /usr/local/lib/python3.10/dist-packages (from langchain) (0.2.0)\n",
            "Requirement already satisfied: langchain-text-splitters<0.3.0,>=0.2.0 in /usr/local/lib/python3.10/dist-packages (from langchain) (0.2.0)\n",
            "Requirement already satisfied: langsmith<0.2.0,>=0.1.17 in /usr/local/lib/python3.10/dist-packages (from langchain) (0.1.60)\n",
            "Requirement already satisfied: numpy<2,>=1 in /usr/local/lib/python3.10/dist-packages (from langchain) (1.25.2)\n",
            "Requirement already satisfied: pydantic<3,>=1 in /usr/local/lib/python3.10/dist-packages (from langchain) (2.7.1)\n",
            "Requirement already satisfied: requests<3,>=2 in /usr/local/lib/python3.10/dist-packages (from langchain) (2.31.0)\n",
            "Requirement already satisfied: tenacity<9.0.0,>=8.1.0 in /usr/local/lib/python3.10/dist-packages (from langchain) (8.3.0)\n",
            "Requirement already satisfied: aiosignal>=1.1.2 in /usr/local/lib/python3.10/dist-packages (from aiohttp<4.0.0,>=3.8.3->langchain) (1.3.1)\n",
            "Requirement already satisfied: attrs>=17.3.0 in /usr/local/lib/python3.10/dist-packages (from aiohttp<4.0.0,>=3.8.3->langchain) (23.2.0)\n",
            "Requirement already satisfied: frozenlist>=1.1.1 in /usr/local/lib/python3.10/dist-packages (from aiohttp<4.0.0,>=3.8.3->langchain) (1.4.1)\n",
            "Requirement already satisfied: multidict<7.0,>=4.5 in /usr/local/lib/python3.10/dist-packages (from aiohttp<4.0.0,>=3.8.3->langchain) (6.0.5)\n",
            "Requirement already satisfied: yarl<2.0,>=1.0 in /usr/local/lib/python3.10/dist-packages (from aiohttp<4.0.0,>=3.8.3->langchain) (1.9.4)\n",
            "Requirement already satisfied: marshmallow<4.0.0,>=3.18.0 in /usr/local/lib/python3.10/dist-packages (from dataclasses-json<0.7,>=0.5.7->langchain) (3.21.2)\n",
            "Requirement already satisfied: typing-inspect<1,>=0.4.0 in /usr/local/lib/python3.10/dist-packages (from dataclasses-json<0.7,>=0.5.7->langchain) (0.9.0)\n",
            "Requirement already satisfied: jsonpatch<2.0,>=1.33 in /usr/local/lib/python3.10/dist-packages (from langchain-core<0.3.0,>=0.2.0->langchain) (1.33)\n",
            "Requirement already satisfied: packaging<24.0,>=23.2 in /usr/local/lib/python3.10/dist-packages (from langchain-core<0.3.0,>=0.2.0->langchain) (23.2)\n",
            "Requirement already satisfied: orjson<4.0.0,>=3.9.14 in /usr/local/lib/python3.10/dist-packages (from langsmith<0.2.0,>=0.1.17->langchain) (3.10.3)\n",
            "Requirement already satisfied: annotated-types>=0.4.0 in /usr/local/lib/python3.10/dist-packages (from pydantic<3,>=1->langchain) (0.6.0)\n",
            "Requirement already satisfied: pydantic-core==2.18.2 in /usr/local/lib/python3.10/dist-packages (from pydantic<3,>=1->langchain) (2.18.2)\n",
            "Requirement already satisfied: typing-extensions>=4.6.1 in /usr/local/lib/python3.10/dist-packages (from pydantic<3,>=1->langchain) (4.11.0)\n",
            "Requirement already satisfied: charset-normalizer<4,>=2 in /usr/local/lib/python3.10/dist-packages (from requests<3,>=2->langchain) (3.3.2)\n",
            "Requirement already satisfied: idna<4,>=2.5 in /usr/local/lib/python3.10/dist-packages (from requests<3,>=2->langchain) (3.7)\n",
            "Requirement already satisfied: urllib3<3,>=1.21.1 in /usr/local/lib/python3.10/dist-packages (from requests<3,>=2->langchain) (2.2.1)\n",
            "Requirement already satisfied: certifi>=2017.4.17 in /usr/local/lib/python3.10/dist-packages (from requests<3,>=2->langchain) (2024.2.2)\n",
            "Requirement already satisfied: greenlet!=0.4.17 in /usr/local/lib/python3.10/dist-packages (from SQLAlchemy<3,>=1.4->langchain) (3.0.3)\n",
            "Requirement already satisfied: jsonpointer>=1.9 in /usr/local/lib/python3.10/dist-packages (from jsonpatch<2.0,>=1.33->langchain-core<0.3.0,>=0.2.0->langchain) (2.4)\n",
            "Requirement already satisfied: mypy-extensions>=0.3.0 in /usr/local/lib/python3.10/dist-packages (from typing-inspect<1,>=0.4.0->dataclasses-json<0.7,>=0.5.7->langchain) (1.0.0)\n",
            "Requirement already satisfied: langchain-openai in /usr/local/lib/python3.10/dist-packages (0.1.7)\n",
            "Requirement already satisfied: langchain-core<0.3,>=0.1.46 in /usr/local/lib/python3.10/dist-packages (from langchain-openai) (0.2.0)\n",
            "Requirement already satisfied: openai<2.0.0,>=1.24.0 in /usr/local/lib/python3.10/dist-packages (from langchain-openai) (1.30.1)\n",
            "Requirement already satisfied: tiktoken<1,>=0.7 in /usr/local/lib/python3.10/dist-packages (from langchain-openai) (0.7.0)\n",
            "Requirement already satisfied: PyYAML>=5.3 in /usr/local/lib/python3.10/dist-packages (from langchain-core<0.3,>=0.1.46->langchain-openai) (6.0.1)\n",
            "Requirement already satisfied: jsonpatch<2.0,>=1.33 in /usr/local/lib/python3.10/dist-packages (from langchain-core<0.3,>=0.1.46->langchain-openai) (1.33)\n",
            "Requirement already satisfied: langsmith<0.2.0,>=0.1.0 in /usr/local/lib/python3.10/dist-packages (from langchain-core<0.3,>=0.1.46->langchain-openai) (0.1.60)\n",
            "Requirement already satisfied: packaging<24.0,>=23.2 in /usr/local/lib/python3.10/dist-packages (from langchain-core<0.3,>=0.1.46->langchain-openai) (23.2)\n",
            "Requirement already satisfied: pydantic<3,>=1 in /usr/local/lib/python3.10/dist-packages (from langchain-core<0.3,>=0.1.46->langchain-openai) (2.7.1)\n",
            "Requirement already satisfied: tenacity<9.0.0,>=8.1.0 in /usr/local/lib/python3.10/dist-packages (from langchain-core<0.3,>=0.1.46->langchain-openai) (8.3.0)\n",
            "Requirement already satisfied: anyio<5,>=3.5.0 in /usr/local/lib/python3.10/dist-packages (from openai<2.0.0,>=1.24.0->langchain-openai) (4.3.0)\n",
            "Requirement already satisfied: distro<2,>=1.7.0 in /usr/local/lib/python3.10/dist-packages (from openai<2.0.0,>=1.24.0->langchain-openai) (1.9.0)\n",
            "Requirement already satisfied: httpx<1,>=0.23.0 in /usr/local/lib/python3.10/dist-packages (from openai<2.0.0,>=1.24.0->langchain-openai) (0.27.0)\n",
            "Requirement already satisfied: sniffio in /usr/local/lib/python3.10/dist-packages (from openai<2.0.0,>=1.24.0->langchain-openai) (1.3.1)\n",
            "Requirement already satisfied: tqdm>4 in /usr/local/lib/python3.10/dist-packages (from openai<2.0.0,>=1.24.0->langchain-openai) (4.66.4)\n",
            "Requirement already satisfied: typing-extensions<5,>=4.7 in /usr/local/lib/python3.10/dist-packages (from openai<2.0.0,>=1.24.0->langchain-openai) (4.11.0)\n",
            "Requirement already satisfied: regex>=2022.1.18 in /usr/local/lib/python3.10/dist-packages (from tiktoken<1,>=0.7->langchain-openai) (2023.12.25)\n",
            "Requirement already satisfied: requests>=2.26.0 in /usr/local/lib/python3.10/dist-packages (from tiktoken<1,>=0.7->langchain-openai) (2.31.0)\n",
            "Requirement already satisfied: idna>=2.8 in /usr/local/lib/python3.10/dist-packages (from anyio<5,>=3.5.0->openai<2.0.0,>=1.24.0->langchain-openai) (3.7)\n",
            "Requirement already satisfied: exceptiongroup>=1.0.2 in /usr/local/lib/python3.10/dist-packages (from anyio<5,>=3.5.0->openai<2.0.0,>=1.24.0->langchain-openai) (1.2.1)\n",
            "Requirement already satisfied: certifi in /usr/local/lib/python3.10/dist-packages (from httpx<1,>=0.23.0->openai<2.0.0,>=1.24.0->langchain-openai) (2024.2.2)\n",
            "Requirement already satisfied: httpcore==1.* in /usr/local/lib/python3.10/dist-packages (from httpx<1,>=0.23.0->openai<2.0.0,>=1.24.0->langchain-openai) (1.0.5)\n",
            "Requirement already satisfied: h11<0.15,>=0.13 in /usr/local/lib/python3.10/dist-packages (from httpcore==1.*->httpx<1,>=0.23.0->openai<2.0.0,>=1.24.0->langchain-openai) (0.14.0)\n",
            "Requirement already satisfied: jsonpointer>=1.9 in /usr/local/lib/python3.10/dist-packages (from jsonpatch<2.0,>=1.33->langchain-core<0.3,>=0.1.46->langchain-openai) (2.4)\n",
            "Requirement already satisfied: orjson<4.0.0,>=3.9.14 in /usr/local/lib/python3.10/dist-packages (from langsmith<0.2.0,>=0.1.0->langchain-core<0.3,>=0.1.46->langchain-openai) (3.10.3)\n",
            "Requirement already satisfied: annotated-types>=0.4.0 in /usr/local/lib/python3.10/dist-packages (from pydantic<3,>=1->langchain-core<0.3,>=0.1.46->langchain-openai) (0.6.0)\n",
            "Requirement already satisfied: pydantic-core==2.18.2 in /usr/local/lib/python3.10/dist-packages (from pydantic<3,>=1->langchain-core<0.3,>=0.1.46->langchain-openai) (2.18.2)\n",
            "Requirement already satisfied: charset-normalizer<4,>=2 in /usr/local/lib/python3.10/dist-packages (from requests>=2.26.0->tiktoken<1,>=0.7->langchain-openai) (3.3.2)\n",
            "Requirement already satisfied: urllib3<3,>=1.21.1 in /usr/local/lib/python3.10/dist-packages (from requests>=2.26.0->tiktoken<1,>=0.7->langchain-openai) (2.2.1)\n",
            "Requirement already satisfied: langchain[docarray] in /usr/local/lib/python3.10/dist-packages (0.2.0)\n",
            "Requirement already satisfied: PyYAML>=5.3 in /usr/local/lib/python3.10/dist-packages (from langchain[docarray]) (6.0.1)\n",
            "Requirement already satisfied: SQLAlchemy<3,>=1.4 in /usr/local/lib/python3.10/dist-packages (from langchain[docarray]) (2.0.30)\n",
            "Requirement already satisfied: aiohttp<4.0.0,>=3.8.3 in /usr/local/lib/python3.10/dist-packages (from langchain[docarray]) (3.9.5)\n",
            "Requirement already satisfied: async-timeout<5.0.0,>=4.0.0 in /usr/local/lib/python3.10/dist-packages (from langchain[docarray]) (4.0.3)\n",
            "Requirement already satisfied: dataclasses-json<0.7,>=0.5.7 in /usr/local/lib/python3.10/dist-packages (from langchain[docarray]) (0.6.6)\n",
            "Requirement already satisfied: langchain-core<0.3.0,>=0.2.0 in /usr/local/lib/python3.10/dist-packages (from langchain[docarray]) (0.2.0)\n",
            "Requirement already satisfied: langchain-text-splitters<0.3.0,>=0.2.0 in /usr/local/lib/python3.10/dist-packages (from langchain[docarray]) (0.2.0)\n",
            "Requirement already satisfied: langsmith<0.2.0,>=0.1.17 in /usr/local/lib/python3.10/dist-packages (from langchain[docarray]) (0.1.60)\n",
            "Requirement already satisfied: numpy<2,>=1 in /usr/local/lib/python3.10/dist-packages (from langchain[docarray]) (1.25.2)\n",
            "Requirement already satisfied: pydantic<3,>=1 in /usr/local/lib/python3.10/dist-packages (from langchain[docarray]) (2.7.1)\n",
            "Requirement already satisfied: requests<3,>=2 in /usr/local/lib/python3.10/dist-packages (from langchain[docarray]) (2.31.0)\n",
            "Requirement already satisfied: tenacity<9.0.0,>=8.1.0 in /usr/local/lib/python3.10/dist-packages (from langchain[docarray]) (8.3.0)\n",
            "Requirement already satisfied: docarray[hnswlib]<0.33.0,>=0.32.0 in /usr/local/lib/python3.10/dist-packages (from langchain[docarray]) (0.32.1)\n",
            "Requirement already satisfied: aiosignal>=1.1.2 in /usr/local/lib/python3.10/dist-packages (from aiohttp<4.0.0,>=3.8.3->langchain[docarray]) (1.3.1)\n",
            "Requirement already satisfied: attrs>=17.3.0 in /usr/local/lib/python3.10/dist-packages (from aiohttp<4.0.0,>=3.8.3->langchain[docarray]) (23.2.0)\n",
            "Requirement already satisfied: frozenlist>=1.1.1 in /usr/local/lib/python3.10/dist-packages (from aiohttp<4.0.0,>=3.8.3->langchain[docarray]) (1.4.1)\n",
            "Requirement already satisfied: multidict<7.0,>=4.5 in /usr/local/lib/python3.10/dist-packages (from aiohttp<4.0.0,>=3.8.3->langchain[docarray]) (6.0.5)\n",
            "Requirement already satisfied: yarl<2.0,>=1.0 in /usr/local/lib/python3.10/dist-packages (from aiohttp<4.0.0,>=3.8.3->langchain[docarray]) (1.9.4)\n",
            "Requirement already satisfied: marshmallow<4.0.0,>=3.18.0 in /usr/local/lib/python3.10/dist-packages (from dataclasses-json<0.7,>=0.5.7->langchain[docarray]) (3.21.2)\n",
            "Requirement already satisfied: typing-inspect<1,>=0.4.0 in /usr/local/lib/python3.10/dist-packages (from dataclasses-json<0.7,>=0.5.7->langchain[docarray]) (0.9.0)\n",
            "Requirement already satisfied: orjson>=3.8.2 in /usr/local/lib/python3.10/dist-packages (from docarray[hnswlib]<0.33.0,>=0.32.0->langchain[docarray]) (3.10.3)\n",
            "Requirement already satisfied: rich>=13.1.0 in /usr/local/lib/python3.10/dist-packages (from docarray[hnswlib]<0.33.0,>=0.32.0->langchain[docarray]) (13.7.1)\n",
            "Requirement already satisfied: types-requests>=2.28.11.6 in /usr/local/lib/python3.10/dist-packages (from docarray[hnswlib]<0.33.0,>=0.32.0->langchain[docarray]) (2.32.0.20240521)\n",
            "Requirement already satisfied: hnswlib>=0.6.2 in /usr/local/lib/python3.10/dist-packages (from docarray[hnswlib]<0.33.0,>=0.32.0->langchain[docarray]) (0.8.0)\n",
            "Requirement already satisfied: protobuf>=3.19.0 in /usr/local/lib/python3.10/dist-packages (from docarray[hnswlib]<0.33.0,>=0.32.0->langchain[docarray]) (3.20.3)\n",
            "Requirement already satisfied: jsonpatch<2.0,>=1.33 in /usr/local/lib/python3.10/dist-packages (from langchain-core<0.3.0,>=0.2.0->langchain[docarray]) (1.33)\n",
            "Requirement already satisfied: packaging<24.0,>=23.2 in /usr/local/lib/python3.10/dist-packages (from langchain-core<0.3.0,>=0.2.0->langchain[docarray]) (23.2)\n",
            "Requirement already satisfied: annotated-types>=0.4.0 in /usr/local/lib/python3.10/dist-packages (from pydantic<3,>=1->langchain[docarray]) (0.6.0)\n",
            "Requirement already satisfied: pydantic-core==2.18.2 in /usr/local/lib/python3.10/dist-packages (from pydantic<3,>=1->langchain[docarray]) (2.18.2)\n",
            "Requirement already satisfied: typing-extensions>=4.6.1 in /usr/local/lib/python3.10/dist-packages (from pydantic<3,>=1->langchain[docarray]) (4.11.0)\n",
            "Requirement already satisfied: charset-normalizer<4,>=2 in /usr/local/lib/python3.10/dist-packages (from requests<3,>=2->langchain[docarray]) (3.3.2)\n",
            "Requirement already satisfied: idna<4,>=2.5 in /usr/local/lib/python3.10/dist-packages (from requests<3,>=2->langchain[docarray]) (3.7)\n",
            "Requirement already satisfied: urllib3<3,>=1.21.1 in /usr/local/lib/python3.10/dist-packages (from requests<3,>=2->langchain[docarray]) (2.2.1)\n",
            "Requirement already satisfied: certifi>=2017.4.17 in /usr/local/lib/python3.10/dist-packages (from requests<3,>=2->langchain[docarray]) (2024.2.2)\n",
            "Requirement already satisfied: greenlet!=0.4.17 in /usr/local/lib/python3.10/dist-packages (from SQLAlchemy<3,>=1.4->langchain[docarray]) (3.0.3)\n",
            "Requirement already satisfied: jsonpointer>=1.9 in /usr/local/lib/python3.10/dist-packages (from jsonpatch<2.0,>=1.33->langchain-core<0.3.0,>=0.2.0->langchain[docarray]) (2.4)\n",
            "Requirement already satisfied: markdown-it-py>=2.2.0 in /usr/local/lib/python3.10/dist-packages (from rich>=13.1.0->docarray[hnswlib]<0.33.0,>=0.32.0->langchain[docarray]) (3.0.0)\n",
            "Requirement already satisfied: pygments<3.0.0,>=2.13.0 in /usr/local/lib/python3.10/dist-packages (from rich>=13.1.0->docarray[hnswlib]<0.33.0,>=0.32.0->langchain[docarray]) (2.16.1)\n",
            "Requirement already satisfied: mypy-extensions>=0.3.0 in /usr/local/lib/python3.10/dist-packages (from typing-inspect<1,>=0.4.0->dataclasses-json<0.7,>=0.5.7->langchain[docarray]) (1.0.0)\n",
            "Requirement already satisfied: mdurl~=0.1 in /usr/local/lib/python3.10/dist-packages (from markdown-it-py>=2.2.0->rich>=13.1.0->docarray[hnswlib]<0.33.0,>=0.32.0->langchain[docarray]) (0.1.2)\n",
            "Requirement already satisfied: lxml in /usr/local/lib/python3.10/dist-packages (4.9.4)\n",
            "Collecting xxhash\n",
            "  Downloading xxhash-3.4.1-cp310-cp310-manylinux_2_17_x86_64.manylinux2014_x86_64.whl (194 kB)\n",
            "\u001b[2K     \u001b[90m━━━━━━━━━━━━━━━━━━━━━━━━━━━━━━━━━━━━━━━━\u001b[0m \u001b[32m194.1/194.1 kB\u001b[0m \u001b[31m4.0 MB/s\u001b[0m eta \u001b[36m0:00:00\u001b[0m\n",
            "\u001b[?25hInstalling collected packages: xxhash\n",
            "Successfully installed xxhash-3.4.1\n"
          ]
        }
      ]
    },
    {
      "cell_type": "code",
      "execution_count": null,
      "metadata": {
        "colab": {
          "base_uri": "https://localhost:8080/"
        },
        "id": "-Fvqh-NfzZML",
        "outputId": "cd8e7828-d5bc-4cbe-d15b-22c4ac9fb949"
      },
      "outputs": [
        {
          "output_type": "stream",
          "name": "stdout",
          "text": [
            "Mounted at /content/drive\n"
          ]
        }
      ],
      "source": [
        "import nltk\n",
        "from textblob import TextBlob\n",
        "import openai\n",
        "import newspaper\n",
        "from newspaper import Article\n",
        "from newspaper import fulltext\n",
        "import feedparser\n",
        "import requests\n",
        "import os\n",
        "import concurrent.futures\n",
        "from configparser import ConfigParser\n",
        "import re\n",
        "import shelve\n",
        "import xxhash\n",
        "import threading\n",
        "from queue import Queue\n",
        "from datetime import datetime, timedelta\n",
        "import feedparser\n",
        "from dotenv import load_dotenv\n",
        "from langchain_openai.chat_models import ChatOpenAI\n",
        "import json\n",
        "from google.colab import drive\n",
        "drive.mount(\"/content/drive\", force_remount=True)\n",
        "os.environ['GDRIVE_CONFIG_DIR'] = \"/content/drive/MyDrive\""
      ]
    },
    {
      "cell_type": "code",
      "source": [
        "# Download required NLTK data\n",
        "nltk.download('punkt')"
      ],
      "metadata": {
        "colab": {
          "base_uri": "https://localhost:8080/"
        },
        "id": "r4eH9VkTzcl1",
        "outputId": "4a4e2e31-6d15-428a-f173-3b785e3c2aca"
      },
      "execution_count": null,
      "outputs": [
        {
          "output_type": "stream",
          "name": "stderr",
          "text": [
            "[nltk_data] Downloading package punkt to /root/nltk_data...\n",
            "[nltk_data]   Unzipping tokenizers/punkt.zip.\n"
          ]
        },
        {
          "output_type": "execute_result",
          "data": {
            "text/plain": [
              "True"
            ]
          },
          "metadata": {},
          "execution_count": 6
        }
      ]
    },
    {
      "cell_type": "code",
      "source": [
        "!rm -rf .env\n",
        "!touch .env\n",
        "!cat /content/drive/MyDrive/openai_api_key.txt >> .env"
      ],
      "metadata": {
        "id": "ksPw5VwOXwHN"
      },
      "execution_count": null,
      "outputs": []
    },
    {
      "cell_type": "code",
      "source": [
        "if not os.path.exists(\".env\"):\n",
        "    print(\"Error: .env file not found. Please create a .env file and set the OPENAI_API_KEY environment variable.\")\n",
        "    exit(1)"
      ],
      "metadata": {
        "id": "nhrX3AJTYA3Z"
      },
      "execution_count": null,
      "outputs": []
    },
    {
      "cell_type": "code",
      "source": [
        "aws_url='https://aws.amazon.com/about-aws/whats-new/recent/feed/'\n",
        "azure_url='https://azurecomcdn.azureedge.net/en-us/updates/feed/'\n",
        "financial_feed_url='https://www.ft.com/news-feed'\n",
        "num_days=7\n",
        "model='gpt-3.5-turbo'\n",
        "temperature=0.5\n",
        "max_tokens=64\n",
        "top_p=1"
      ],
      "metadata": {
        "id": "qY7KJoGvYlTf"
      },
      "execution_count": null,
      "outputs": []
    },
    {
      "cell_type": "code",
      "source": [
        "def fetch_rss_articles(urls):\n",
        "    \"\"\"Fetches articles from the given RSS feed URLs.\"\"\"\n",
        "    articles = []\n",
        "    count = 0\n",
        "    img_count = 0\n",
        "    for url in urls:\n",
        "        print(f\"Fetching articles from {url}...\")\n",
        "        feed = feedparser.parse(url)\n",
        "        if feed.bozo:\n",
        "            print(f\"Error fetching articles from {url}: {feed.bozo_exception}\")\n",
        "            continue\n",
        "\n",
        "        for entry in feed.entries:\n",
        "            article = {\n",
        "                \"id\": count,\n",
        "                \"title\": entry.title,\n",
        "                \"link\": entry.link,\n",
        "                \"published\": entry.get(\"published\", \"\"),\n",
        "                \"updated\": entry.get(\"updated\", \"\"),\n",
        "                \"content\": \"\",\n",
        "                \"image\": \"\",\n",
        "            }\n",
        "\n",
        "            # If 'content' is an array, merge all elements into a single string\n",
        "            if hasattr(entry, \"content\") and isinstance(entry.content, list):\n",
        "                content_merged = \"\".join([item.value for item in entry.content])\n",
        "                article[\"content\"] = content_merged\n",
        "            elif hasattr(entry, \"description\"):\n",
        "                article[\"content\"] = entry.description\n",
        "\n",
        "\n",
        "            # Extracting the first image from the content\n",
        "            article[\"image\"] = find_the_first_image(article[\"content\"])\n",
        "            # Clean the HTML content\n",
        "            article[\"content\"] = clean_html_content(article[\"content\"])\n",
        "            if article[\"image\"]:\n",
        "                # print(f\"Found image: {article['image']}\")\n",
        "                img_count += 1\n",
        "\n",
        "            articles.append(article)\n",
        "            count += 1\n",
        "    print(f\"Fetched {count} articles, {img_count} with images.\")\n",
        "    return articles\n",
        "\n",
        "def summarize_text(text, model = model, temperature = temperature, max_tokens = max_tokens, top_p = top_p):\n",
        "    \"\"\"\n",
        "    This function uses the OpenAI Chat completion api to summarize provided text.\n",
        "\n",
        "    :param text: the text which will be summarized\n",
        "    :return: summarized text\n",
        "    \"\"\"\n",
        "    response = openai.chat.completions.create(\n",
        "        model=model,\n",
        "        messages=[\n",
        "            {\n",
        "                \"role\": \"system\",\n",
        "                \"content\": \"Summarize content you are provided with for a second-grade student.\"\n",
        "            },\n",
        "            {\n",
        "                \"role\": \"user\",\n",
        "                \"content\": f\"Summarize the following text in one sentence:\\n\\n{text}\"\n",
        "            }\n",
        "        ],\n",
        "        temperature=temperature,\n",
        "        max_tokens=max_tokens,\n",
        "        top_p=top_p\n",
        "    )\n",
        "    return response.choices[0].message.content\n",
        "\n",
        "def process_entry(entry, one_week_ago):\n",
        "    \"\"\"\n",
        "    Process single feed.\n",
        "    :param entry: to be processed\n",
        "    :param one_week_ago: published date to be filtered\n",
        "    :return: dict\n",
        "    \"\"\"\n",
        "    published_date = datetime.strptime(entry.published, '%a, %d %b %Y %H:%M:%S %Z')\n",
        "\n",
        "    if published_date >= one_week_ago:\n",
        "        summary = summarize_text(entry.summary)\n",
        "        return {\n",
        "            'title': entry.title,\n",
        "            'link': entry.link,\n",
        "            'published': published_date.strftime('%Y-%m-%d'),\n",
        "            'summary': summary\n",
        "        }\n",
        "    return None\n",
        "\n",
        "\n",
        "def fetch_parsed_feed(filtered_entries, aws_url = financial_feed_url, azure_url = azure_url, num_days = num_days):\n",
        "    \"\"\"\n",
        "    Fetching the feed to be parsed.\n",
        "\n",
        "    :return: the feed\n",
        "    \"\"\"\n",
        "    rss_url = aws_url\n",
        "\n",
        "    now = datetime.now()\n",
        "    one_week_ago = now - timedelta(days=num_days)\n",
        "\n",
        "    feed = feedparser.parse(rss_url)\n",
        "\n",
        "    if feed.bozo:\n",
        "        print(\"Failed to parse the RSS feed.\")\n",
        "        exit(1)\n",
        "\n",
        "    with concurrent.futures.ThreadPoolExecutor() as executor:\n",
        "        futures = [executor.submit(process_entry, entry, one_week_ago) for entry in feed.entries if 'summary' in list(dict(entry).keys())]\n",
        "\n",
        "        for future in concurrent.futures.as_completed(futures):\n",
        "            result = future.result()\n",
        "            if result:\n",
        "                filtered_entries.append(result)\n",
        "\n",
        "    return filtered_entries\n",
        "\n",
        "def create_report(entries):\n",
        "    \"\"\"\n",
        "    Creates the html report\n",
        "\n",
        "    :param entries: news which were parsed\n",
        "    :return: nothing, creates the actual html report file\n",
        "    \"\"\"\n",
        "\n",
        "    html_content = \"\"\"\n",
        "<html>\n",
        "<head>\n",
        "    <title>News</title>\n",
        "    <style>\n",
        "        body {\n",
        "            font-family: Arial, sans-serif;\n",
        "        }\n",
        "        .panel {\n",
        "            background-color: #ffffff;\n",
        "            border: 1px solid #ccc;\n",
        "            border-radius: 5px;\n",
        "            margin: 10px 0;\n",
        "            padding: 10px;\n",
        "            cursor: pointer;\n",
        "        }\n",
        "        .panel-title {\n",
        "            font-size: 18px;\n",
        "            font-weight: bold;\n",
        "        }\n",
        "        .panel-content {\n",
        "            display: none;\n",
        "            margin-top: 10px;\n",
        "        }\n",
        "    </style>\n",
        "    <script>\n",
        "        function togglePanelContent(panel) {\n",
        "            var content = panel.querySelector('.panel-content');\n",
        "            if (content.style.display === 'none' || content.style.display === '') {\n",
        "                content.style.display = 'block';\n",
        "            } else {\n",
        "                content.style.display = 'none';\n",
        "            }\n",
        "        }\n",
        "    </script>\n",
        "</head>\n",
        "<body>\n",
        "    <h1>AWS News</h1>\n",
        "\"\"\"\n",
        "    for entry in entries:\n",
        "        html_content += f\"\"\"\n",
        "        <div class=\"panel\" onclick=\"togglePanelContent(this)\">\n",
        "            <div class=\"panel-title\">{entry['title']}</div>\n",
        "            <div class=\"panel-content\">\n",
        "                <p><strong>Link:</strong> <a href=\"{entry['link']}\">{entry['link']}</a></p>\n",
        "                <p><strong>AI Summary:</strong> {entry['summary']}</p>\n",
        "            </div>\n",
        "        </div>\n",
        "    \"\"\"\n",
        "    html_content += \"\"\"\n",
        "    </body>\n",
        "    </html>\n",
        "    \"\"\"\n",
        "\n",
        "    with open(\"newsBoard.html\", \"w\", encoding=\"utf-8\") as file:\n",
        "        file.write(html_content)\n",
        "    print(\"The news entries have been saved.\")"
      ],
      "metadata": {
        "id": "cw1J4Hc7Zaoi"
      },
      "execution_count": null,
      "outputs": []
    },
    {
      "cell_type": "code",
      "source": [
        "feed = feedparser.parse(aws_url)\n",
        "[e for e in feed.entries][0]"
      ],
      "metadata": {
        "colab": {
          "base_uri": "https://localhost:8080/"
        },
        "id": "EUScsHdWwq_Q",
        "outputId": "6adc9c01-2c49-4d9f-9675-86ef3a7b3bba"
      },
      "execution_count": null,
      "outputs": [
        {
          "output_type": "execute_result",
          "data": {
            "text/plain": [
              "{'id': 'c31649696350948f772b5efde84c415cf65a083c',\n",
              " 'guidislink': False,\n",
              " 'title': 'Amazon OpenSearch Service now supports OpenSearch version 2.13',\n",
              " 'title_detail': {'type': 'text/plain',\n",
              "  'language': None,\n",
              "  'base': 'https://aws.amazon.com/about-aws/whats-new/recent/feed/',\n",
              "  'value': 'Amazon OpenSearch Service now supports OpenSearch version 2.13'},\n",
              " 'summary': 'You can now run OpenSearch version 2.13 in Amazon OpenSearch Service. With OpenSearch 2.13, we have made several improvements to search performance and resiliency, OpenSearch Dashboards, and added new features to help you build AI-powered applications. We have introduced concurrent segment search that allows users to query index segments in parallel at the shard level. This offers improved latency for long-running requests that contain aggregations or large ranges. You can now index quantized vectors with FAISS-engine-based k-NN indexes, with potential to reduce memory footprint by as much as 50 percent with minimal impact to accuracy and latency. I/O-based admission control proactively monitors and prevents I/O usage breaches to further improve the resilience of the cluster. Finally, this release introduces tracking of high-latency queries with the top N queries feature. This launch also introduces several features that enable you to build and deploy AI-powered search applications. The new flow framework, helps you to automate the configuration of search and ingest pipeline resources required by advanced search features like semantic, multimodal, and conversational search. This adds to existing capabilities for automating ml-commons resource setup, allowing you to package OpenSearch AI solutions into portable templates. Additionally, we’ve added predefined templates to automate setup for models that are integrated through our connectors to APIs like OpenAI, Amazon Bedrock, and Cohere that enable you to build solutions like semantic search. For information on upgrading to OpenSearch 2.13, please see this documentation. OpenSearch 2.13 is now available in all AWS Regions where Amazon OpenSearch Service is available.',\n",
              " 'summary_detail': {'type': 'text/html',\n",
              "  'language': None,\n",
              "  'base': 'https://aws.amazon.com/about-aws/whats-new/recent/feed/',\n",
              "  'value': 'You can now run OpenSearch version 2.13 in Amazon OpenSearch Service. With OpenSearch 2.13, we have made several improvements to search performance and resiliency, OpenSearch Dashboards, and added new features to help you build AI-powered applications. We have introduced concurrent segment search that allows users to query index segments in parallel at the shard level. This offers improved latency for long-running requests that contain aggregations or large ranges. You can now index quantized vectors with FAISS-engine-based k-NN indexes, with potential to reduce memory footprint by as much as 50 percent with minimal impact to accuracy and latency. I/O-based admission control proactively monitors and prevents I/O usage breaches to further improve the resilience of the cluster. Finally, this release introduces tracking of high-latency queries with the top N queries feature. This launch also introduces several features that enable you to build and deploy AI-powered search applications. The new flow framework, helps you to automate the configuration of search and ingest pipeline resources required by advanced search features like semantic, multimodal, and conversational search. This adds to existing capabilities for automating ml-commons resource setup, allowing you to package OpenSearch AI solutions into portable templates. Additionally, we’ve added predefined templates to automate setup for models that are integrated through our connectors to APIs like OpenAI, Amazon Bedrock, and Cohere that enable you to build solutions like semantic search. For information on upgrading to OpenSearch 2.13, please see this documentation. OpenSearch 2.13 is now available in all AWS Regions where Amazon OpenSearch Service is available.'},\n",
              " 'published': 'Tue, 21 May 2024 19:00:00 GMT',\n",
              " 'published_parsed': time.struct_time(tm_year=2024, tm_mon=5, tm_mday=21, tm_hour=19, tm_min=0, tm_sec=0, tm_wday=1, tm_yday=142, tm_isdst=0),\n",
              " 'tags': [{'term': 'marketing:marchitecture/analytics,general:products/aws-govcloud-us,general:products/amazon-opensearch-service',\n",
              "   'scheme': None,\n",
              "   'label': None}],\n",
              " 'authors': [{'email': 'aws@amazon.com'}],\n",
              " 'author': 'aws@amazon.com',\n",
              " 'author_detail': {'email': 'aws@amazon.com'},\n",
              " 'links': [{'rel': 'alternate',\n",
              "   'type': 'text/html',\n",
              "   'href': 'https://aws.amazon.com/about-aws/whats-new/2024/05/amazon-opensearch-supports-opensearch-version-2-13/'}],\n",
              " 'link': 'https://aws.amazon.com/about-aws/whats-new/2024/05/amazon-opensearch-supports-opensearch-version-2-13/'}"
            ]
          },
          "metadata": {},
          "execution_count": 79
        }
      ]
    },
    {
      "cell_type": "code",
      "source": [
        "filtered_entries = []\n",
        "fetch_parsed_feed(filtered_entries)\n",
        "create_report(filtered_entries)"
      ],
      "metadata": {
        "colab": {
          "base_uri": "https://localhost:8080/"
        },
        "id": "ZZNKG2xNa1Cm",
        "outputId": "b0493d96-ce47-438b-ff40-8e545ba8c109"
      },
      "execution_count": null,
      "outputs": [
        {
          "output_type": "stream",
          "name": "stdout",
          "text": [
            "The news entries have been saved.\n"
          ]
        }
      ]
    },
    {
      "cell_type": "code",
      "source": [
        "cnn_paper = newspaper.build('http://cnn.com')\n",
        "for article in cnn_paper.articles:\n",
        "    print(article.url)"
      ],
      "metadata": {
        "colab": {
          "base_uri": "https://localhost:8080/"
        },
        "id": "wLJ0jb3t1DuJ",
        "outputId": "c4b76f86-da78-47d6-bd45-7bd138123c4d"
      },
      "execution_count": null,
      "outputs": [
        {
          "output_type": "stream",
          "name": "stderr",
          "text": [
            "CRITICAL:newspaper.network:[REQUEST FAILED] 404 Client Error: Not Found for url: http://www.cnn.com/feeds\n",
            "CRITICAL:newspaper.network:[REQUEST FAILED] 404 Client Error: Not Found for url: http://www.cnn.com/feed\n"
          ]
        },
        {
          "output_type": "stream",
          "name": "stdout",
          "text": [
            "http://cnn.com/2024/05/21/politics/takeaways-from-donald-trumps-defense-in-the-hush-money-trial/index.html\n",
            "http://cnn.com/2024/05/21/middleeast/european-hospital-gaza-medics-freed-intl-latam/index.html\n",
            "http://cnn.com/2024/05/17/opinions/open-ai-chatgpt-4o-yang/index.html\n",
            "http://cnn.com/2024/05/21/politics/rudy-giuliani-arizona-election-subversion/index.html\n",
            "http://cnn.com/2024/05/21/politics/us-assesses-russia-launched-counter-space-weapon/index.html\n",
            "http://cnn.com/2024/05/21/us/grizzly-bear-attack-wyoming/index.html\n",
            "http://cnn.com/2024/05/21/us/deaths-falls-hiking-climbing-parks/index.html\n",
            "http://cnn.com/2024/05/21/cars/vinfast-regulators-investigating-fatal-crash-ev/index.html\n",
            "http://cnn.com/2024/05/21/uk/us-embassy-london-congestion-fees-scli-intl/index.html\n",
            "http://cnn.com/2024/05/06/climate/video/refreeze-arctic-sea-ice-technology-ldn-digvid\n",
            "http://cnn.com/2024/05/21/world/video/raisi-funeral-procession-tabriz-tehran-iran-ldn-digvid\n",
            "http://cnn.com/2024/05/21/style/huia-feather-sold-new-zealand-intl-scli/index.html\n",
            "http://cnn.com/2024/05/21/investing/jamie-dimon-jpmorgan-succession-plan/index.html\n",
            "http://cnn.com/cnn-underscored/electronics/apple-airpods-max-vs-beats-solo-4\n",
            "http://cnn.com/2024/05/21/entertainment/misa-hylton-statement-diddy-cassie/index.html\n",
            "http://cnn.com/travel/fujikawaguchiko-japan-photo-blocking-barrier-intl-hnk/index.html\n",
            "http://cnn.com/2024/05/20/travel/lauterbrunnen-visitor-entry-fee-switzerland-intl-scli/index.html\n",
            "http://cnn.com/2024/05/16/style/cannes-film-festival-fashion/index.html\n",
            "http://cnn.com/2024/05/20/style/kehinde-wiley-joseph-awuah-darko-sexual-assault-accusations/index.html\n",
            "http://cnn.com/2024/05/18/style/sports-illustrated-swimsuit-issue-anniversary-covers/index.html\n",
            "http://cnn.com/2024/05/21/world/stonehenge-moon-lunar-standstill-scn/index.html\n",
            "http://cnn.com/2024/05/21/health/teen-social-media-mental-health-wellness/index.html\n",
            "https://bleacherreport.com/articles/10121917-takeru-kobayashi-retires-from-competitive-eating-won-6-hot-dog-eating-contests?utm_source=cnn.com&utm_medium=referral&utm_campaign=editorial\n",
            "https://bleacherreport.com/articles/10121851-ricky-stenhouse-jr-kyle-busch-get-celebrity-boxing-offer-after-nascar-fight-video?utm_source=cnn.com&utm_medium=referral&utm_campaign=editorial\n",
            "https://edition.cnn.com/2024/05/21/politics/takeaways-from-donald-trumps-defense-in-the-hush-money-trial/index.html\n",
            "https://edition.cnn.com/2024/05/21/politics/rudy-giuliani-arizona-election-subversion/index.html\n",
            "https://edition.cnn.com/2024/05/21/uk/us-embassy-london-congestion-fees-scli-intl/index.html\n",
            "https://edition.cnn.com/2024/05/21/world/stonehenge-moon-lunar-standstill-scn/index.html\n",
            "https://edition.cnn.com/2024/05/21/style/huia-feather-sold-new-zealand-intl-scli/index.html\n",
            "https://edition.cnn.com/2024/05/21/health/teen-social-media-mental-health-wellness/index.html\n",
            "https://cnnespanol.cnn.com/2024/05/21/opinion-ghitis-presidente-iran-raisi-muerto-lucha-poder-trax/\n",
            "https://cnnespanol.cnn.com/2024/05/20/presidente-iran-ebrahim-raisi-murio-cargo-que-sigue-trax/\n",
            "https://cnnespanol.cnn.com/2024/05/21/empresarios-venezolanos-incentivos-ley-pensiones-gobierno-maduro-orix/\n",
            "https://cnnespanol.cnn.com/2024/05/21/implacable-sistema-tormentoso-medio-oeste-vientos-tornados-trax/\n",
            "https://cnnespanol.cnn.com/2024/05/21/rusia-inicia-primera-fase-ejercicios-armas-nucleares-tacticas-trax/\n",
            "https://cnnespanol.cnn.com/2024/05/21/braceros-anciano-regreso-texas-historia-trax/\n",
            "https://cnnespanol.cnn.com/2024/05/21/redes-sociales-informe-jovenes-trax/\n",
            "https://cnnespanol.cnn.com/video/muerto-turbulencia-vuelo-singapore-airlines-trax/\n",
            "https://cnnespanol.cnn.com/2024/05/21/honduras-guatemala-calidad-aire-region-orix/\n",
            "https://cnnespanol.cnn.com/2024/05/21/elecciones-mexico-2024-noticias-ultima-hora-sheinbaum-galvez-maynez-orix-4/\n",
            "https://cnnespanol.cnn.com/video/disfraces-perros-pet-gala-ush-cafe-tv/\n",
            "https://cnnespanol.cnn.com/video/ordenes-arresto-cpi-netanyahu-reaccion-trax/\n",
            "https://cnnespanol.cnn.com/video/ceremonias-funebres-muerte-presidente-iran-ebrahim-raisi-cafe-tv/\n",
            "https://cnnespanol.cnn.com/video/tapan-monte-fuji-turistas-japon-cafe-tv/\n",
            "https://cnnespanol.cnn.com/video/milei-declaraciones-pedro-sanchez-embajada-espana-orix/\n",
            "https://cnnespanol.cnn.com/2024/05/21/tribunal-de-londres-impide-al-principe-harry-incluir-acusaciones-contra-murdoch-en-demada-en-curso-trax/\n",
            "https://cnnespanol.cnn.com/2024/05/21/microsoft-pc-relevantes-computadoras-ia-inteligencia-artificial-trax/\n",
            "https://cnnespanol.cnn.com/video/messi-mls-mejores-salarios-deportes-orix/\n",
            "https://arabic.cnn.com/middle-east/article/2024/05/21/blinken-israel-will-have-to-decide-normalization-saudi-arabia\n",
            "https://arabic.cnn.com/middle-east/video/2024/05/21/v156425-iran-raisi-mourning-wedeman-liveshot-052108aseg1-cnni-world-fast\n",
            "https://us.cnn.com/2024/05/21/politics/takeaways-from-donald-trumps-defense-in-the-hush-money-trial/index.html\n",
            "https://us.cnn.com/2024/05/21/middleeast/european-hospital-gaza-medics-freed-intl-latam/index.html\n",
            "https://us.cnn.com/2024/05/17/opinions/open-ai-chatgpt-4o-yang/index.html\n",
            "https://us.cnn.com/2024/05/21/politics/rudy-giuliani-arizona-election-subversion/index.html\n",
            "https://us.cnn.com/2024/05/21/politics/us-assesses-russia-launched-counter-space-weapon/index.html\n",
            "https://us.cnn.com/2024/05/21/us/grizzly-bear-attack-wyoming/index.html\n",
            "https://us.cnn.com/2024/05/21/us/deaths-falls-hiking-climbing-parks/index.html\n",
            "https://us.cnn.com/2024/05/21/cars/vinfast-regulators-investigating-fatal-crash-ev/index.html\n",
            "https://us.cnn.com/2024/05/21/uk/us-embassy-london-congestion-fees-scli-intl/index.html\n",
            "https://us.cnn.com/2024/05/06/climate/video/refreeze-arctic-sea-ice-technology-ldn-digvid\n",
            "https://us.cnn.com/2024/05/21/world/video/raisi-funeral-procession-tabriz-tehran-iran-ldn-digvid\n",
            "https://us.cnn.com/2024/05/21/style/huia-feather-sold-new-zealand-intl-scli/index.html\n",
            "https://us.cnn.com/2024/05/21/investing/jamie-dimon-jpmorgan-succession-plan/index.html\n",
            "https://us.cnn.com/cnn-underscored/electronics/apple-airpods-max-vs-beats-solo-4\n",
            "https://us.cnn.com/2024/05/21/entertainment/misa-hylton-statement-diddy-cassie/index.html\n",
            "https://us.cnn.com/travel/fujikawaguchiko-japan-photo-blocking-barrier-intl-hnk/index.html\n",
            "https://us.cnn.com/2024/05/20/travel/lauterbrunnen-visitor-entry-fee-switzerland-intl-scli/index.html\n",
            "https://us.cnn.com/2024/05/16/style/cannes-film-festival-fashion/index.html\n",
            "https://us.cnn.com/2024/05/20/style/kehinde-wiley-joseph-awuah-darko-sexual-assault-accusations/index.html\n",
            "https://us.cnn.com/2024/05/18/style/sports-illustrated-swimsuit-issue-anniversary-covers/index.html\n",
            "https://us.cnn.com/2024/05/21/world/stonehenge-moon-lunar-standstill-scn/index.html\n",
            "https://us.cnn.com/2024/05/21/health/teen-social-media-mental-health-wellness/index.html\n",
            "https://money.cnn.com/2024/05/21/cars/vinfast-regulators-investigating-fatal-crash-ev/index.html\n",
            "https://money.cnn.com/2024/05/21/investing/jamie-dimon-jpmorgan-succession-plan/index.html\n",
            "https://money.cnn.com/2024/05/17/business/us-blocks-imports-china-uyghur-forced-labor-ink-intl/index.html\n",
            "https://money.cnn.com/2024/05/15/business/warren-buffett-berkshire-hathaway-chubb-stake/index.html\n",
            "https://money.cnn.com/2024/05/16/investing/mit-crypto-hack/index.html\n",
            "https://money.cnn.com/2024/05/16/business/jamie-dimon-ray-dalio-us-government-debt/index.html\n",
            "https://www.cnn.com/2024/05/21/politics/takeaways-from-donald-trumps-defense-in-the-hush-money-trial/index.html\n",
            "https://www.cnn.com/2024/05/21/middleeast/european-hospital-gaza-medics-freed-intl-latam/index.html\n",
            "https://www.cnn.com/2024/05/17/opinions/open-ai-chatgpt-4o-yang/index.html\n",
            "https://www.cnn.com/2024/05/21/politics/rudy-giuliani-arizona-election-subversion/index.html\n",
            "https://www.cnn.com/2024/05/21/politics/us-assesses-russia-launched-counter-space-weapon/index.html\n",
            "https://www.cnn.com/2024/05/21/us/grizzly-bear-attack-wyoming/index.html\n",
            "https://www.cnn.com/2024/05/21/us/deaths-falls-hiking-climbing-parks/index.html\n",
            "https://www.cnn.com/2024/05/21/cars/vinfast-regulators-investigating-fatal-crash-ev/index.html\n",
            "https://www.cnn.com/2024/05/21/uk/us-embassy-london-congestion-fees-scli-intl/index.html\n",
            "https://www.cnn.com/2024/05/06/climate/video/refreeze-arctic-sea-ice-technology-ldn-digvid\n",
            "https://www.cnn.com/2024/05/21/world/video/raisi-funeral-procession-tabriz-tehran-iran-ldn-digvid\n",
            "https://www.cnn.com/2024/05/21/style/huia-feather-sold-new-zealand-intl-scli/index.html\n",
            "https://www.cnn.com/2024/05/21/investing/jamie-dimon-jpmorgan-succession-plan/index.html\n",
            "https://www.cnn.com/cnn-underscored/electronics/apple-airpods-max-vs-beats-solo-4\n",
            "https://www.cnn.com/2024/05/21/entertainment/misa-hylton-statement-diddy-cassie/index.html\n",
            "https://www.cnn.com/travel/fujikawaguchiko-japan-photo-blocking-barrier-intl-hnk/index.html\n",
            "https://www.cnn.com/2024/05/20/travel/lauterbrunnen-visitor-entry-fee-switzerland-intl-scli/index.html\n",
            "https://www.cnn.com/2024/05/16/style/cannes-film-festival-fashion/index.html\n",
            "https://www.cnn.com/2024/05/20/style/kehinde-wiley-joseph-awuah-darko-sexual-assault-accusations/index.html\n",
            "https://www.cnn.com/2024/05/18/style/sports-illustrated-swimsuit-issue-anniversary-covers/index.html\n",
            "https://www.cnn.com/2024/05/21/world/stonehenge-moon-lunar-standstill-scn/index.html\n",
            "https://www.cnn.com/2024/05/21/health/teen-social-media-mental-health-wellness/index.html\n"
          ]
        }
      ]
    },
    {
      "cell_type": "code",
      "source": [
        "load_dotenv()\n",
        "OPENAI_API_KEY = os.getenv(\"OPENAI_API_KEY\")"
      ],
      "metadata": {
        "id": "1bHFynTIYLMc"
      },
      "execution_count": null,
      "outputs": []
    },
    {
      "cell_type": "code",
      "source": [
        "for category in cnn_paper.category_urls():\n",
        "    print(category)"
      ],
      "metadata": {
        "colab": {
          "base_uri": "https://localhost:8080/"
        },
        "id": "65Z4Dehj1Ojo",
        "outputId": "8170da82-d484-497b-f4c8-5c5dd1b7da16"
      },
      "execution_count": null,
      "outputs": [
        {
          "output_type": "stream",
          "name": "stdout",
          "text": [
            "http://cnn.com\n",
            "https://edition.cnn.com\n",
            "https://cnnespanol.cnn.com\n",
            "http://cnn.com/follow\n",
            "https://arabic.cnn.com\n",
            "https://us.cnn.com\n",
            "https://money.cnn.com\n",
            "https://www.cnn.com\n"
          ]
        }
      ]
    },
    {
      "cell_type": "code",
      "source": [
        "cnn_article = cnn_paper.articles[0]\n",
        "cnn_article.download()\n",
        "cnn_article.parse()\n",
        "cnn_article.nlp()"
      ],
      "metadata": {
        "id": "LRzBswT3zcol"
      },
      "execution_count": null,
      "outputs": []
    },
    {
      "cell_type": "code",
      "source": [
        "url = \"https://www.cnn.com/2024/05/21/americas/us-lawmakers-turks-caicos-detained-americans/index.html\"\n",
        "# Initialize an Article object with the specified URL\n",
        "article = Article(url)\n",
        "\n",
        "# Download and parse the article's HTML\n",
        "article.download()\n",
        "article.parse()\n",
        "\n",
        "# Use natural language processing to extract useful information from the article\n",
        "article.nlp()"
      ],
      "metadata": {
        "id": "Q5UiH14yzcrX"
      },
      "execution_count": null,
      "outputs": []
    },
    {
      "cell_type": "code",
      "source": [
        "# Print the article's title, author(s), publication date and summary\n",
        "print(f'Title: {article.title}')\n",
        "print('\\n')\n",
        "print(f'Authors: {article.authors}')\n",
        "print('\\n')\n",
        "print(f'Publication Date: {article.publish_date}')\n",
        "print('\\n')\n",
        "print(f'Summary: {article.summary}')\n",
        "\n",
        "# Analyze the sentiment of the article using TextBlob\n",
        "analysis = TextBlob(article.text)\n",
        "print('\\n')\n",
        "\n",
        "# Print the polarity (i.e. sentiment score) of the article\n",
        "print(f\"Polarity : {analysis.polarity}\")\n",
        "\n",
        "# Print whether the sentiment of the article is positive, negative, or neutral\n",
        "print(f'Sentiment: {\"Positive\" if analysis.polarity > 0 else \"Negative\" if analysis.polarity < 0 else \"Neutral\"}')"
      ],
      "metadata": {
        "colab": {
          "base_uri": "https://localhost:8080/"
        },
        "id": "sXAqe-e3zcuM",
        "outputId": "a821adf0-0a99-49e2-8ea8-d8cf2625266f"
      },
      "execution_count": null,
      "outputs": [
        {
          "output_type": "stream",
          "name": "stdout",
          "text": [
            "Title: Bipartisan group of lawmakers travel to Turks and Caicos to push for release of detained Americans\n",
            "\n",
            "\n",
            "Authors: ['Lauren Mascarenhas']\n",
            "\n",
            "\n",
            "Publication Date: 2024-05-21 00:00:00\n",
            "\n",
            "\n",
            "Summary: CNN —A bipartisan group of US lawmakers traveled to Turks and Caicos to press for the release of five Americans detained on ammunition possession charges – but encountered resistance from officials on the island, the group announced Monday.\n",
            "The lawmakers met with Turks and Caicos officials, including the governor, attorney general, minister of tourism and police leaders, the statement from Mullin’s office said.\n",
            "“Unfortunately, despite our willingness to work with Turks and Caicos officials to get our constituents home, we were not able to find a path forward today,” Mullin said in the statement.\n",
            "Bringing firearms or ammunition, including stray bullets, into Turks and Caicos without prior permission from police is “strictly forbidden,” according to a statement from its government.\n",
            "Judges can lower the minimum sentence and adjust fines when there are “exceptional circumstances,” the Turks and Caicos attorney general said in a news release earlier this month.\n",
            "\n",
            "\n",
            "Polarity : 0.047619047619047616\n",
            "Sentiment: Positive\n"
          ]
        }
      ]
    },
    {
      "cell_type": "code",
      "source": [],
      "metadata": {
        "id": "_O-KUacmzc0D"
      },
      "execution_count": null,
      "outputs": []
    },
    {
      "cell_type": "code",
      "source": [],
      "metadata": {
        "id": "uCn9Ohh3zc3M"
      },
      "execution_count": null,
      "outputs": []
    }
  ]
}