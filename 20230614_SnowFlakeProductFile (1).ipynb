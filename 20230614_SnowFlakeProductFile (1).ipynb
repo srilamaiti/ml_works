{
 "cells": [
  {
   "cell_type": "code",
   "execution_count": null,
   "metadata": {},
   "outputs": [],
   "source": [
    "from pyspark import SparkContext, SparkConf\n",
    "from pyspark.sql import SparkSession\n",
    "import pandas as pd\n",
    "import requests\n",
    "import snowflake\n",
    "\n",
    "import sqlalchemy\n",
    "from sqlalchemy import create_engine\n",
    "\n",
    "import datetime\n",
    "from datetime import date\n",
    "from datetime import timedelta\n",
    "\n",
    "pd.set_option('display.max_columns', None)\n",
    "pd.set_option('display.max_rows', None)"
   ]
  },
  {
   "cell_type": "code",
   "execution_count": null,
   "metadata": {},
   "outputs": [],
   "source": [
    "# use your own credentials\n",
    "username='username'\n",
    "useremail='email'\n",
    "password='SBDpassword'"
   ]
  },
  {
   "cell_type": "markdown",
   "metadata": {},
   "source": [
    "## Below is the code to link SnowFlake Database, do not change"
   ]
  },
  {
   "cell_type": "code",
   "execution_count": null,
   "metadata": {},
   "outputs": [],
   "source": [
    "def get_oauth_token(svc_username=None, svc_password=None):\n",
    "\n",
    "    if svc_username and svc_password:\n",
    "        username = svc_username\n",
    "        password = svc_password\n",
    "    else:\n",
    "        print(\"Username and password isn't provided. Requesting user...\")\n",
    "        username = os.environ[\"service_account_id\"]\n",
    "        password = get_password_util(\n",
    "                pass_value=os.environ.get(\"service_account_password\", None),\n",
    "                pass_name=\"Please Enter Service Account Password:  \",\n",
    "            )\n",
    "\n",
    "\n",
    "    r = requests.post(\n",
    "        \"https://ssoprod.sbdinc.com/as/token.oauth2\",\n",
    "        data={\n",
    "            \"client_id\": \"Snowflake\",\n",
    "            \"grant_type\": \"password\",\n",
    "            \"username\": username,\n",
    "            \"password\": password,\n",
    "            \"client_secret\": 'f9sq630wmLP6UjpSsOk7kTuP6xccCrSOC4YhE1VdTq3GCupqR7gjYcpuhEGRJ9e0',\n",
    "            \"scope\": \"session:role-any\",\n",
    "        },\n",
    "    )\n",
    "    r.raise_for_status()\n",
    "    access_token = r.json()[\"access_token\"]\n",
    "    return access_token\n"
   ]
  },
  {
   "cell_type": "code",
   "execution_count": null,
   "metadata": {},
   "outputs": [],
   "source": [
    "def getsnowflakecursor(snowflakedatabase,\n",
    "                       snowflakewarehouse,\n",
    "                       snowflakeschema,\n",
    "                       snowflakerole,\n",
    "                       username,\n",
    "                       userpassword\n",
    "                      ):\n",
    "    import requests\n",
    "    import snowflake.connector\n",
    "    \n",
    "    \n",
    "\n",
    "    access_token = get_oauth_token(svc_username=username,\n",
    "                               svc_password=userpassword)\n",
    "\n",
    "    # Gets the version\n",
    "    activesnowflakeconnector = snowflake.connector.connect(account='sbd_caspian.us-east-1', \n",
    "                                                           authenticator='oauth', \n",
    "                                                           token=access_token,\n",
    "                                                          warehouse=snowflakewarehouse,\n",
    "                                                          database=snowflakedatabase,\n",
    "                                                          role=snowflakerole,\n",
    "                                                          schema=snowflakeschema)\n",
    "    activesnowflakecursor = activesnowflakeconnector.cursor()\n",
    "    \n",
    "\n",
    "\n",
    "    sqlalchemyengine = create_engine(f\"snowflake://sbd_caspian.us-east-1.snowflakecomputing.com\", creator=lambda: activesnowflakeconnector)\n",
    "    \n",
    "\n",
    "    return(activesnowflakeconnector,activesnowflakecursor,sqlalchemyengine)\n"
   ]
  },
  {
   "cell_type": "code",
   "execution_count": null,
   "metadata": {},
   "outputs": [],
   "source": [
    "def get_spark_configs(snowflakedatabase,\n",
    "                       snowflakewarehouse,\n",
    "                       snowflakeschema,\n",
    "                       snowflakerole,\n",
    "                       username,\n",
    "                       userpassword,\n",
    "                     useremail):\n",
    "    \n",
    "    \n",
    "    spark_snowflake_configs = dict(\n",
    "                sfUrl = 'sbd_caspian.us-east-1.snowflakecomputing.com',\n",
    "                sfUser = useremail,  \n",
    "                sfAuthenticator = \"oauth\",\n",
    "                sfRole = snowflakerole,\n",
    "                sfDatabase = snowflakedatabase,\n",
    "                sfSchema = snowflakeschema,\n",
    "                sfWarehouse = snowflakewarehouse,  \n",
    "                sfToken=get_oauth_token(username,userpassword)\n",
    "                )\n",
    "    return(spark_snowflake_configs)"
   ]
  },
  {
   "cell_type": "code",
   "execution_count": null,
   "metadata": {},
   "outputs": [],
   "source": [
    "get_oauth_token(username, password)"
   ]
  },
  {
   "cell_type": "markdown",
   "metadata": {},
   "source": [
    "## You can modify the cell below (dabase, role, schemas) before reading tables"
   ]
  },
  {
   "cell_type": "code",
   "execution_count": null,
   "metadata": {},
   "outputs": [],
   "source": [
    "activesnowflakeconnector,activesnowflakecursor,sqlalchemyengine = getsnowflakecursor(snowflakedatabase='PROD_EDW',\n",
    "                                                                                     snowflakewarehouse='DEV_AIDA_WH',\n",
    "                                                                                     snowflakeschema = 'DIMENSIONS',\n",
    "                                                                                     snowflakerole = 'OPERATIONS_CREATOR_RO',\n",
    "                                                                                     username = username,\n",
    "                                                                                     userpassword = password\n",
    "                                                                                    )"
   ]
  },
  {
   "cell_type": "code",
   "execution_count": null,
   "metadata": {},
   "outputs": [],
   "source": [
    "# DIM_Product table is a huge table even it is smaller anc simplified vs. the consolidated product table, \n",
    "# select the column has the useful information in the SQL equiry\n",
    "# only select based on the majoy SAP, if you need update, change the SQL equiry conditions\n",
    "queryp = \"\"\"\n",
    "select PROD_KEY\n",
    ", SRC_SYS_KEY\n",
    ", EFF_DTE\n",
    ", PROD_ID\n",
    ", PRIM_PLANT_LOC_CD\n",
    ", PRIM_PLANT_LOC_DESC\n",
    ", PROD_EAN_NBR\n",
    ", PROD_NAME\n",
    ", PROD_DESC\n",
    ", PROD_TYP_LKEY\n",
    ", BRAND_LKEY\n",
    ", SUPER_SBU_GPP\n",
    ", SUPER_SBU_GPP_DESC\n",
    ", GPP_SBU_ID\n",
    ", GPP_SBU_DESC\n",
    ", GPP_CATEGORY_DESC\n",
    ", GPP_PORTFOLIO_ID\n",
    ", GPP_PORTFOLIO_DESC\n",
    ", PROD_HIER_LVL_1_DESC\n",
    ", PROD_HIER_LVL_2_DESC\n",
    ", PROD_HIER_LVL_3_DESC\n",
    ", PROD_HIER_LVL_4_DESC\n",
    ", PROD_HIER_LVL_5_DESC\n",
    ", PROD_HIER_LVL_6_DESC\n",
    ", LEN\n",
    ", VOL\n",
    ", WDTH\n",
    ", WGT\n",
    ", NET_WGT\n",
    ", HGT\n",
    ", BASE_UOM_KEY\n",
    ", BASE_UNIT_OF_MEAS_NAME\n",
    ", SZ_UOM_KEY\n",
    ", VOL_UOM_KEY\n",
    ", WGT_UOM_KEY\n",
    ", PUR_UOM_KEY\n",
    ", BOX_QTY\n",
    ", CTN_QTY\n",
    ", MSTR_PCK_QTY\n",
    ", CASE_QTY\n",
    ", PALLET_QTY\n",
    ", BAG_QTY\n",
    ", PACK_QTY\n",
    ", PROD_DEL_DTE\n",
    ", LAUNCH_DTE\n",
    ", PROD_CREATE_DTE\n",
    ", MATL_GRP_LKEY\n",
    ", MFGR_NBR\n",
    ", MFGR_PROD_NBR\n",
    "from prod_edw.dimensions.dim_product\n",
    "where src_sys_key like 'SAPE03' or src_sys_key like 'SAPC11' or \n",
    "src_sys_key like 'SAPP10' or src_sys_key like 'SAPSHP' or src_sys_key like 'QADCH' or \n",
    "src_sys_key like 'QADAR' or src_sys_key like 'QADBR' or src_sys_key like 'QADPE' \n",
    "\"\"\""
   ]
  },
  {
   "cell_type": "code",
   "execution_count": null,
   "metadata": {},
   "outputs": [],
   "source": [
    "df1 = pd.read_sql(queryp,sqlalchemyengine)\n",
    "df1.head()"
   ]
  },
  {
   "cell_type": "code",
   "execution_count": null,
   "metadata": {},
   "outputs": [],
   "source": [
    "df1.shape"
   ]
  },
  {
   "cell_type": "markdown",
   "metadata": {},
   "source": [
    "#### The product table is a huge table, it is not effcient to export to a CSV file, the better way is to create a list of product SKU\n",
    "#### wanted to check, and update the following cells to only look at the products in scope, keep in mind same product can have info\n",
    "#### from different SAP system, and this may include outdated info as well "
   ]
  },
  {
   "cell_type": "code",
   "execution_count": null,
   "metadata": {},
   "outputs": [],
   "source": [
    "df1[df1['prod_id'] == 'DCST922P1']"
   ]
  },
  {
   "cell_type": "code",
   "execution_count": null,
   "metadata": {},
   "outputs": [],
   "source": [
    "df1[df1['prod_typ_lkey']=='FERT']['prod_id'].nunique()"
   ]
  },
  {
   "cell_type": "code",
   "execution_count": null,
   "metadata": {},
   "outputs": [],
   "source": []
  }
 ],
 "metadata": {
  "kernelspec": {
   "display_name": "Python 3 (ipykernel)",
   "language": "python",
   "name": "python3"
  },
  "language_info": {
   "codemirror_mode": {
    "name": "ipython",
    "version": 3
   },
   "file_extension": ".py",
   "mimetype": "text/x-python",
   "name": "python",
   "nbconvert_exporter": "python",
   "pygments_lexer": "ipython3",
   "version": "3.9.7"
  }
 },
 "nbformat": 4,
 "nbformat_minor": 4
}
