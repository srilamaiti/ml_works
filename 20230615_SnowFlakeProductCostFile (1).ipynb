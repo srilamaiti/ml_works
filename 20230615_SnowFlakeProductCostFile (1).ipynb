{
 "cells": [
  {
   "cell_type": "code",
   "execution_count": null,
   "metadata": {},
   "outputs": [],
   "source": [
    "from pyspark import SparkContext, SparkConf\n",
    "from pyspark.sql import SparkSession\n",
    "import pandas as pd\n",
    "import requests\n",
    "import snowflake\n",
    "\n",
    "import sqlalchemy\n",
    "from sqlalchemy import create_engine\n",
    "\n",
    "import datetime\n",
    "from datetime import date\n",
    "from datetime import timedelta\n",
    "\n",
    "pd.set_option('display.max_columns', None)\n",
    "pd.set_option('display.max_rows', None)"
   ]
  },
  {
   "cell_type": "code",
   "execution_count": null,
   "metadata": {},
   "outputs": [],
   "source": [
    "# use your own credentials\n",
    "username='username'\n",
    "useremail='email'\n",
    "password='SBDpassword'"
   ]
  },
  {
   "cell_type": "markdown",
   "metadata": {},
   "source": [
    "## Below is the code to link SnowFlake Database, do not change"
   ]
  },
  {
   "cell_type": "code",
   "execution_count": null,
   "metadata": {},
   "outputs": [],
   "source": [
    "def get_oauth_token(svc_username=None, svc_password=None):\n",
    "    \"\"\"\n",
    "    Retrives the authentication token for SBD Snowflake.\n",
    "    This function automatically requests for username and password from the user through interactive prompts.\n",
    "    If using service account credentials, they can be passed as svc_username and svc_password.\n",
    "    Keywords:\n",
    "    svc_username -- Service account username for which the token should be provided.\n",
    "    svc_password -- Password corresponding to the service account user.\n",
    "    Example usage:\n",
    "    # Authentication with your personal user id.\n",
    "    from sbd_common_utils.snowflake_utils import get_oauth_token\n",
    "    access_token = get_oauth_token()\n",
    "    # Authentication with service account.\n",
    "    from sbd_common_utils.snowflake_utils import get_oauth_token\n",
    "    from sbd_common_utils.common_utils import get_service_account_creds\n",
    "    username, password = get_service_account_creds(\"/datascience/sandbox/someapp/service-account\")\n",
    "    access_token = get_oauth_token(username, password)\n",
    "    \"\"\"\n",
    "\n",
    "    if svc_username and svc_password:\n",
    "        username = svc_username\n",
    "        password = svc_password\n",
    "    else:\n",
    "        print(\"Username and password isn't provided. Requesting user...\")\n",
    "        username = os.environ[\"service_account_id\"]\n",
    "        password = get_password_util(\n",
    "                pass_value=os.environ.get(\"service_account_password\", None),\n",
    "                pass_name=\"Please Enter Service Account Password:  \",\n",
    "            )\n",
    "\n",
    "\n",
    "    r = requests.post(\n",
    "        \"https://ssoprod.sbdinc.com/as/token.oauth2\",\n",
    "        data={\n",
    "            \"client_id\": \"Snowflake\",\n",
    "            \"grant_type\": \"password\",\n",
    "            \"username\": username,\n",
    "            \"password\": password,\n",
    "            \"client_secret\": 'f9sq630wmLP6UjpSsOk7kTuP6xccCrSOC4YhE1VdTq3GCupqR7gjYcpuhEGRJ9e0',\n",
    "            \"scope\": \"session:role-any\",\n",
    "        },\n",
    "    )\n",
    "    r.raise_for_status()\n",
    "    access_token = r.json()[\"access_token\"]\n",
    "    return access_token\n"
   ]
  },
  {
   "cell_type": "code",
   "execution_count": null,
   "metadata": {},
   "outputs": [],
   "source": [
    "def getsnowflakecursor(snowflakedatabase,\n",
    "                       snowflakewarehouse,\n",
    "                       snowflakeschema,\n",
    "                       snowflakerole,\n",
    "                       username,\n",
    "                       userpassword\n",
    "                      ):\n",
    "    import requests\n",
    "    import snowflake.connector\n",
    "    \n",
    "    \n",
    "\n",
    "    access_token = get_oauth_token(svc_username=username,\n",
    "                               svc_password=userpassword)\n",
    "\n",
    "    # Gets the version\n",
    "    activesnowflakeconnector = snowflake.connector.connect(account='sbd_caspian.us-east-1', \n",
    "                                                           authenticator='oauth', \n",
    "                                                           token=access_token,\n",
    "                                                          warehouse=snowflakewarehouse,\n",
    "                                                          database=snowflakedatabase,\n",
    "                                                          role=snowflakerole,\n",
    "                                                          schema=snowflakeschema)\n",
    "    activesnowflakecursor = activesnowflakeconnector.cursor()\n",
    "    \n",
    "\n",
    "\n",
    "    sqlalchemyengine = create_engine(f\"snowflake://sbd_caspian.us-east-1.snowflakecomputing.com\", creator=lambda: activesnowflakeconnector)\n",
    "    \n",
    "\n",
    "    return(activesnowflakeconnector,activesnowflakecursor,sqlalchemyengine)\n"
   ]
  },
  {
   "cell_type": "code",
   "execution_count": null,
   "metadata": {},
   "outputs": [],
   "source": [
    "def get_spark_configs(snowflakedatabase,\n",
    "                       snowflakewarehouse,\n",
    "                       snowflakeschema,\n",
    "                       snowflakerole,\n",
    "                       username,\n",
    "                       userpassword,\n",
    "                     useremail):\n",
    "    \n",
    "    \n",
    "    spark_snowflake_configs = dict(\n",
    "                sfUrl = 'sbd_caspian.us-east-1.snowflakecomputing.com',\n",
    "                sfUser = useremail,  \n",
    "                sfAuthenticator = \"oauth\",\n",
    "                sfRole = snowflakerole,\n",
    "                sfDatabase = snowflakedatabase,\n",
    "                sfSchema = snowflakeschema,\n",
    "                sfWarehouse = snowflakewarehouse,  \n",
    "                sfToken=get_oauth_token(username,userpassword)\n",
    "                )\n",
    "    return(spark_snowflake_configs)"
   ]
  },
  {
   "cell_type": "code",
   "execution_count": null,
   "metadata": {},
   "outputs": [],
   "source": [
    "get_oauth_token(username, password)"
   ]
  },
  {
   "cell_type": "markdown",
   "metadata": {},
   "source": [
    "## You can modify the cell below (dabase, role, schemas) before reading tables"
   ]
  },
  {
   "cell_type": "code",
   "execution_count": null,
   "metadata": {},
   "outputs": [],
   "source": [
    "activesnowflakeconnector,activesnowflakecursor,sqlalchemyengine = getsnowflakecursor(snowflakedatabase='PROD_EDW',\n",
    "                                                                                     snowflakewarehouse='DEV_AIDA_WH',\n",
    "                                                                                     snowflakeschema = 'DIMENSIONS',\n",
    "                                                                                     snowflakerole = 'OPERATIONS_CREATOR_RO',\n",
    "                                                                                     username = username,\n",
    "                                                                                     userpassword = password\n",
    "                                                                                    )"
   ]
  },
  {
   "cell_type": "code",
   "execution_count": null,
   "metadata": {},
   "outputs": [],
   "source": [
    "# this is to pick up the useful column from the product cost table for SAPC11\n",
    "# as the cost structure is different than SAPE03\n",
    "# it is not efficient to read the entire table, suggested to pick the product keys in scope in SQL query directly before further analysis\n",
    "# instead of reading entire table and select the product key later, the code may crash \n",
    "\n",
    "querypcc11 = \"\"\"\n",
    "select src_sys_key\n",
    ", LOC_KEY\n",
    ", COST_EFF_FROM_DTE\n",
    ", prod_key\n",
    ", prod_typ_lkey\n",
    ", prod_cost_lot_sz\n",
    ", lcrncy_key\n",
    ", full_cost\n",
    ", fixed_cost\n",
    ", FULLCOST_1\n",
    ", FIXEDCOST_1\n",
    ", FULLCOST_2\n",
    ", FIXEDCOST_2\n",
    ", FULLCOST_3\n",
    ", FIXEDCOST_3\n",
    ", FULLCOST_4\n",
    ", FIXEDCOST_4\n",
    ", FULLCOST_5\n",
    ", FIXEDCOST_5\n",
    ", FULLCOST_6\n",
    ", FIXEDCOST_6\n",
    ", FULLCOST_7\n",
    ", FIXEDCOST_7\n",
    ", FULLCOST_8\n",
    ", FIXEDCOST_8\n",
    ", FULLCOST_9\n",
    ", FIXEDCOST_9\n",
    ", FULLCOST_10\n",
    ", FIXEDCOST_10\n",
    ", FULLCOST_11\n",
    ", FIXEDCOST_11\n",
    ", FULLCOST_12\n",
    ", FIXEDCOST_12\n",
    ", FULLCOST_13\n",
    ", FIXEDCOST_13\n",
    ", FULLCOST_14\n",
    ", FIXEDCOST_14\n",
    ", FULLCOST_15\n",
    ", FIXEDCOST_15\n",
    ", FULLCOST_16\n",
    ", FIXEDCOST_16\n",
    ", FULLCOST_17\n",
    ", FIXEDCOST_17\n",
    ", FULLCOST_18\n",
    ", FIXEDCOST_18\n",
    "from prod_edw.dimensions.dim_product_cost\n",
    "where src_sys_key = 'SAPC11' and prod_key = 'N408124'\n",
    "\n",
    "\"\"\"\n"
   ]
  },
  {
   "cell_type": "code",
   "execution_count": null,
   "metadata": {},
   "outputs": [],
   "source": [
    "# this is to pick up the useful column from the product cost table for SAPE03\n",
    "# as the cost structure is different than SAPE03\n",
    "# it is not efficient to read the entire table, suggested to pick the product keys in scope in SQL query directly before further analysis\n",
    "# instead of reading entire table and select the product key later, the code may crash \n",
    "\n",
    "querypce03 = \"\"\"\n",
    "select src_sys_key\n",
    ", LOC_KEY\n",
    ", COST_EFF_FROM_DTE\n",
    ", prod_key\n",
    ", prod_typ_lkey\n",
    ", prod_cost_lot_sz\n",
    ", lcrncy_key\n",
    ", full_cost\n",
    ", fixed_cost\n",
    ", FULLCOST_11\n",
    ", FIXEDCOST_11\n",
    ", FULLCOST_12\n",
    ", FIXEDCOST_12\n",
    ", FULLCOST_13\n",
    ", FIXEDCOST_13\n",
    ", FULLCOST_20\n",
    ", FIXEDCOST_20\n",
    ", FULLCOST_30\n",
    ", FIXEDCOST_30\n",
    ", FULLCOST_40\n",
    ", FIXEDCOST_40\n",
    ", FULLCOST_50\n",
    ", FIXEDCOST_50\n",
    ", FULLCOST_60\n",
    ", FIXEDCOST_60\n",
    ", FULLCOST_65\n",
    ", FIXEDCOST_65\n",
    ", FULLCOST_70\n",
    ", FIXEDCOST_70\n",
    ", FULLCOST_80\n",
    ", FIXEDCOST_80\n",
    ", FULLCOST_90\n",
    ", FIXEDCOST_90\n",
    ", FULLCOST_95\n",
    ", FIXEDCOST_95\n",
    ", FULLCOST_99\n",
    ", FIXEDCOST_99\n",
    "from prod_edw.dimensions.dim_product_cost\n",
    "where src_sys_key = 'SAPE03' and prod_key = 'LXUB19610A'\n",
    "\"\"\"\n"
   ]
  },
  {
   "cell_type": "code",
   "execution_count": null,
   "metadata": {},
   "outputs": [],
   "source": [
    "dfpc1 = pd.read_sql(querypcc11,sqlalchemyengine)\n",
    "dfpc1.head()"
   ]
  },
  {
   "cell_type": "code",
   "execution_count": null,
   "metadata": {},
   "outputs": [],
   "source": [
    "# Only keep the most recent cost (based on cost_eff_from_date column)\n",
    "dfpc1a = dfpc1.sort_values(by = ['prod_key', 'loc_key', 'cost_eff_from_dte'], ascending = [True, True, False]).drop_duplicates(['prod_key', 'loc_key'])\n",
    "dfpc1a.head()"
   ]
  },
  {
   "cell_type": "code",
   "execution_count": null,
   "metadata": {},
   "outputs": [],
   "source": [
    "dfpc2 = pd.read_sql(querypce03,sqlalchemyengine)\n",
    "dfpc2.head()"
   ]
  },
  {
   "cell_type": "code",
   "execution_count": null,
   "metadata": {},
   "outputs": [],
   "source": [
    "# Only keep the most recent cost (based on cost_eff_from_date column)\n",
    "dfpc2a = dfpc2.sort_values(by = ['prod_key', 'loc_key', 'cost_eff_from_dte'], ascending = [True, True, False]).drop_duplicates(['prod_key', 'loc_key'])\n",
    "dfpc2a.head()"
   ]
  },
  {
   "cell_type": "code",
   "execution_count": null,
   "metadata": {},
   "outputs": [],
   "source": [
    "# modify the e03 table column header to replace the cost component number\n",
    "\n",
    "e03 = [['10', 'Material'], ['11', 'Freight'], ['12', 'Duty'],['13', 'ReadyToSell'], ['20','Subcon.'], \n",
    "        ['30', 'Consumbales'], ['40','Std.Adj1'], ['50', 'Std.Adj2'], ['60', 'Labor'], ['65', 'SetUpCost'],\n",
    "        ['70', 'Overhead'], ['80', 'Tooling'], ['90', 'OtherOH'],['95', 'Std.Adj3'], ['99', 'B&DKitting']]\n",
    "e03headerfull = pd.DataFrame(data = e03, columns = ['CostComp', 'CostCompName'])\n",
    "e03headerfull['CostType'] = 'fullcost_'\n",
    "\n",
    "e03headerfixed = pd.DataFrame(data = e03, columns = ['CostComp', 'CostCompName'])\n",
    "e03headerfixed['CostType'] = 'fixedcost_'\n",
    "\n",
    "e03header = pd.concat([e03headerfull, e03headerfixed], axis = 0).reset_index(drop = True)\n",
    "\n",
    "e03header['Original'] = e03header['CostType']+e03header['CostComp'] \n",
    "e03header['New'] = e03header['CostType']+e03header['CostCompName'] \n",
    "\n",
    "\n",
    "e03header"
   ]
  },
  {
   "cell_type": "code",
   "execution_count": null,
   "metadata": {},
   "outputs": [],
   "source": [
    "# modify the C11 table column header to replace the cost component number\n",
    "\n",
    "c11 = [['1', 'Material'], ['2', 'InterplantComp'], ['3', 'FreightAbsoption'],['4', 'MaterialAdj1'], ['5','MaterialAdj2'], \n",
    "        ['6', 'Labor'], ['7','LaborAdj'], ['8', 'Overhead'], ['9', 'PurchasingOH'], ['10', 'BudCreditTooling'],\n",
    "        ['11', 'MiscSupplies'], ['12', 'OHAdj'], ['13', 'MaterialWaste'],['14', 'CashDiscounts'], ['15', 'SubContract'],\n",
    "        ['16','ExternalProcess'],['17','FixedOHSupport'], ['18','Duty']]\n",
    "c11headerfull = pd.DataFrame(data = c11, columns = ['CostComp', 'CostCompName'])\n",
    "c11headerfull['CostType'] = 'fullcost_'\n",
    "\n",
    "c11headerfixed = pd.DataFrame(data = c11, columns = ['CostComp', 'CostCompName'])\n",
    "c11headerfixed['CostType'] = 'fixedcost_'\n",
    "\n",
    "c11header = pd.concat([c11headerfull, c11headerfixed], axis = 0).reset_index(drop = True)\n",
    "\n",
    "c11header['Original'] = c11header['CostType']+c11header['CostComp'] \n",
    "c11header['New'] = c11header['CostType']+c11header['CostCompName'] \n",
    "\n",
    "\n",
    "c11header"
   ]
  },
  {
   "cell_type": "code",
   "execution_count": null,
   "metadata": {},
   "outputs": [],
   "source": [
    "column_dicte03 = dict(zip(e03header['Original'], e03header['New']))\n",
    "dfpc2a.rename(columns=column_dicte03, inplace=True)"
   ]
  },
  {
   "cell_type": "code",
   "execution_count": null,
   "metadata": {},
   "outputs": [],
   "source": [
    "column_dictc11 = dict(zip(c11header['Original'], c11header['New']))\n",
    "dfpc1a.rename(columns=column_dictc11, inplace=True)\n",
    "dfpc1a.head()"
   ]
  },
  {
   "cell_type": "code",
   "execution_count": null,
   "metadata": {},
   "outputs": [],
   "source": [
    "# add the location information (need to update the link based on user's path)\n",
    "\n",
    "pathloc = 'C:\\\\Users\\\\HXW0316\\\\Stanley Black & Decker\\\\Supply Chain Development - General\\\\Projects\\\\Data Collected\\\\SF data and sample code\\\\'\n",
    "\n",
    "dfloc = pd.read_csv(pathloc+'20230613_SFMaster_Location.csv')\n",
    "dfloc2 = dfloc[['src_sys_key', 'plant_no', 'loc_name', 'match_cd_name', 'city_name', 'cntry_key']].reset_index(drop = True)\n",
    "dfloc2.head(2)"
   ]
  },
  {
   "cell_type": "code",
   "execution_count": null,
   "metadata": {},
   "outputs": [],
   "source": [
    "dfpc1b = pd.merge(dfpc1a, dfloc2, how = 'left', left_on = ['src_sys_key', 'loc_key'], right_on = ['src_sys_key', 'plant_no'], suffixes=('', '_drop')).reset_index(drop = True)\n",
    "dfpc1b.drop([col for col in dfpc2b.columns if 'drop' in col], axis=1, inplace=True)\n",
    "\n",
    "dfpc1b"
   ]
  },
  {
   "cell_type": "code",
   "execution_count": null,
   "metadata": {},
   "outputs": [],
   "source": [
    "dfpc2b = pd.merge(dfpc2a, dfloc2, how = 'left', left_on = ['src_sys_key', 'loc_key'], right_on = ['src_sys_key', 'plant_no'], suffixes=('', '_drop')).reset_index(drop = True)\n",
    "dfpc2b.drop([col for col in dfpc2b.columns if 'drop' in col], axis=1, inplace=True)\n",
    "\n",
    "dfpc2b"
   ]
  },
  {
   "cell_type": "code",
   "execution_count": null,
   "metadata": {},
   "outputs": [],
   "source": []
  }
 ],
 "metadata": {
  "kernelspec": {
   "display_name": "Python 3 (ipykernel)",
   "language": "python",
   "name": "python3"
  },
  "language_info": {
   "codemirror_mode": {
    "name": "ipython",
    "version": 3
   },
   "file_extension": ".py",
   "mimetype": "text/x-python",
   "name": "python",
   "nbconvert_exporter": "python",
   "pygments_lexer": "ipython3",
   "version": "3.9.7"
  }
 },
 "nbformat": 4,
 "nbformat_minor": 4
}
