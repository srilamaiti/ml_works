{
 "cells": [
  {
   "cell_type": "markdown",
   "id": "9ab7f96a",
   "metadata": {
    "papermill": {
     "duration": 0.005828,
     "end_time": "2022-08-31T13:57:31.138314",
     "exception": false,
     "start_time": "2022-08-31T13:57:31.132486",
     "status": "completed"
    },
    "tags": []
   },
   "source": [
    "### Link to training notebook:\n",
    "\n",
    "[https://www.kaggle.com/code/dlaststark/feedback-ell-roberta-large-train](http://)"
   ]
  },
  {
   "cell_type": "markdown",
   "id": "2e67eeec",
   "metadata": {
    "papermill": {
     "duration": 0.004158,
     "end_time": "2022-08-31T13:57:31.147620",
     "exception": false,
     "start_time": "2022-08-31T13:57:31.143462",
     "status": "completed"
    },
    "tags": []
   },
   "source": [
    "## Import libraries"
   ]
  },
  {
   "cell_type": "code",
   "execution_count": 1,
   "id": "74eec7ff",
   "metadata": {
    "execution": {
     "iopub.execute_input": "2022-08-31T13:57:31.156631Z",
     "iopub.status.busy": "2022-08-31T13:57:31.156236Z",
     "iopub.status.idle": "2022-08-31T13:57:38.870627Z",
     "shell.execute_reply": "2022-08-31T13:57:38.869672Z"
    },
    "papermill": {
     "duration": 7.721948,
     "end_time": "2022-08-31T13:57:38.873433",
     "exception": false,
     "start_time": "2022-08-31T13:57:31.151485",
     "status": "completed"
    },
    "tags": []
   },
   "outputs": [],
   "source": [
    "import gc\n",
    "import pickle\n",
    "import numpy as np\n",
    "import pandas as pd\n",
    "from tqdm import tqdm\n",
    "\n",
    "import tensorflow as tf\n",
    "from tensorflow.keras import layers\n",
    "from tensorflow.keras import callbacks\n",
    "from tensorflow.keras import optimizers\n",
    "from tensorflow.keras.models import Model\n",
    "\n",
    "from transformers import AutoTokenizer, TFAutoModel\n",
    "\n",
    "tqdm.pandas()\n",
    "np.random.seed(2022)\n",
    "tf.random.set_seed(2022)"
   ]
  },
  {
   "cell_type": "markdown",
   "id": "0cd1667e",
   "metadata": {
    "papermill": {
     "duration": 0.003422,
     "end_time": "2022-08-31T13:57:38.880720",
     "exception": false,
     "start_time": "2022-08-31T13:57:38.877298",
     "status": "completed"
    },
    "tags": []
   },
   "source": [
    "## Hyperparameters"
   ]
  },
  {
   "cell_type": "code",
   "execution_count": 2,
   "id": "9da30844",
   "metadata": {
    "execution": {
     "iopub.execute_input": "2022-08-31T13:57:38.889991Z",
     "iopub.status.busy": "2022-08-31T13:57:38.888789Z",
     "iopub.status.idle": "2022-08-31T13:57:40.894845Z",
     "shell.execute_reply": "2022-08-31T13:57:40.893551Z"
    },
    "papermill": {
     "duration": 2.013342,
     "end_time": "2022-08-31T13:57:40.897619",
     "exception": false,
     "start_time": "2022-08-31T13:57:38.884277",
     "status": "completed"
    },
    "tags": []
   },
   "outputs": [],
   "source": [
    "! cp -r ../input/feedback-ell-roberta-large-train/roberta-large-tokenizer ./\n",
    "! mv ./roberta-large-tokenizer/tokenizer_config.json ./roberta-large-tokenizer/config.json"
   ]
  },
  {
   "cell_type": "code",
   "execution_count": 3,
   "id": "5675fc00",
   "metadata": {
    "execution": {
     "iopub.execute_input": "2022-08-31T13:57:40.910563Z",
     "iopub.status.busy": "2022-08-31T13:57:40.910221Z",
     "iopub.status.idle": "2022-08-31T13:57:40.916145Z",
     "shell.execute_reply": "2022-08-31T13:57:40.915152Z"
    },
    "papermill": {
     "duration": 0.013163,
     "end_time": "2022-08-31T13:57:40.918095",
     "exception": false,
     "start_time": "2022-08-31T13:57:40.904932",
     "status": "completed"
    },
    "tags": []
   },
   "outputs": [],
   "source": [
    "class Config:\n",
    "    \n",
    "    FOLDS = 5\n",
    "    VERBOSE = 1\n",
    "    MAX_LEN = 512\n",
    "    BATCH_SIZE = 32\n",
    "    MODEL_PATH = '../input/feedback-ell-roberta-large-train/roberta-large-model'\n",
    "    TOKENIZER_PATH = './roberta-large-tokenizer'\n",
    "\n",
    "config = Config()"
   ]
  },
  {
   "cell_type": "markdown",
   "id": "cf06b2c7",
   "metadata": {
    "papermill": {
     "duration": 0.003382,
     "end_time": "2022-08-31T13:57:40.925648",
     "exception": false,
     "start_time": "2022-08-31T13:57:40.922266",
     "status": "completed"
    },
    "tags": []
   },
   "source": [
    "## Load test dataset"
   ]
  },
  {
   "cell_type": "code",
   "execution_count": 4,
   "id": "53b131b9",
   "metadata": {
    "execution": {
     "iopub.execute_input": "2022-08-31T13:57:40.934349Z",
     "iopub.status.busy": "2022-08-31T13:57:40.933575Z",
     "iopub.status.idle": "2022-08-31T13:57:40.965595Z",
     "shell.execute_reply": "2022-08-31T13:57:40.964552Z"
    },
    "papermill": {
     "duration": 0.038551,
     "end_time": "2022-08-31T13:57:40.967793",
     "exception": false,
     "start_time": "2022-08-31T13:57:40.929242",
     "status": "completed"
    },
    "tags": []
   },
   "outputs": [
    {
     "name": "stdout",
     "output_type": "stream",
     "text": [
      "test: (3, 2)\n"
     ]
    },
    {
     "data": {
      "text/html": [
       "<div>\n",
       "<style scoped>\n",
       "    .dataframe tbody tr th:only-of-type {\n",
       "        vertical-align: middle;\n",
       "    }\n",
       "\n",
       "    .dataframe tbody tr th {\n",
       "        vertical-align: top;\n",
       "    }\n",
       "\n",
       "    .dataframe thead th {\n",
       "        text-align: right;\n",
       "    }\n",
       "</style>\n",
       "<table border=\"1\" class=\"dataframe\">\n",
       "  <thead>\n",
       "    <tr style=\"text-align: right;\">\n",
       "      <th></th>\n",
       "      <th>text_id</th>\n",
       "      <th>full_text</th>\n",
       "    </tr>\n",
       "  </thead>\n",
       "  <tbody>\n",
       "    <tr>\n",
       "      <th>0</th>\n",
       "      <td>0000C359D63E</td>\n",
       "      <td>when a person has no experience on a job their...</td>\n",
       "    </tr>\n",
       "    <tr>\n",
       "      <th>1</th>\n",
       "      <td>000BAD50D026</td>\n",
       "      <td>Do you think students would benefit from being...</td>\n",
       "    </tr>\n",
       "    <tr>\n",
       "      <th>2</th>\n",
       "      <td>00367BB2546B</td>\n",
       "      <td>Thomas Jefferson once states that \"it is wonde...</td>\n",
       "    </tr>\n",
       "  </tbody>\n",
       "</table>\n",
       "</div>"
      ],
      "text/plain": [
       "        text_id                                          full_text\n",
       "0  0000C359D63E  when a person has no experience on a job their...\n",
       "1  000BAD50D026  Do you think students would benefit from being...\n",
       "2  00367BB2546B  Thomas Jefferson once states that \"it is wonde..."
      ]
     },
     "execution_count": 4,
     "metadata": {},
     "output_type": "execute_result"
    }
   ],
   "source": [
    "test = pd.read_csv('../input/feedback-prize-english-language-learning/test.csv')\n",
    "print(f\"test: {test.shape}\")\n",
    "test.head()"
   ]
  },
  {
   "cell_type": "markdown",
   "id": "a9c0bff0",
   "metadata": {
    "papermill": {
     "duration": 0.003627,
     "end_time": "2022-08-31T13:57:40.975306",
     "exception": false,
     "start_time": "2022-08-31T13:57:40.971679",
     "status": "completed"
    },
    "tags": []
   },
   "source": [
    "## Build the model"
   ]
  },
  {
   "cell_type": "code",
   "execution_count": 5,
   "id": "e9023b88",
   "metadata": {
    "execution": {
     "iopub.execute_input": "2022-08-31T13:57:40.984392Z",
     "iopub.status.busy": "2022-08-31T13:57:40.983707Z",
     "iopub.status.idle": "2022-08-31T13:57:40.990868Z",
     "shell.execute_reply": "2022-08-31T13:57:40.989847Z"
    },
    "papermill": {
     "duration": 0.013735,
     "end_time": "2022-08-31T13:57:40.992843",
     "exception": false,
     "start_time": "2022-08-31T13:57:40.979108",
     "status": "completed"
    },
    "tags": []
   },
   "outputs": [],
   "source": [
    "def encode_text(text, tokenizer):\n",
    "    \n",
    "    encoded = tokenizer.batch_encode_plus(\n",
    "        text,\n",
    "        add_special_tokens=True,\n",
    "        max_length=config.MAX_LEN,\n",
    "        padding='max_length',\n",
    "        truncation=True,\n",
    "        return_attention_mask=True,\n",
    "        return_tensors=\"tf\",\n",
    "    )\n",
    "\n",
    "    input_ids = np.array(encoded[\"input_ids\"], dtype=\"int32\")\n",
    "    attention_masks = np.array(encoded[\"attention_mask\"], dtype=\"int32\")\n",
    "\n",
    "    return {\n",
    "        \"input_ids\": input_ids,\n",
    "        \"attention_masks\": attention_masks\n",
    "    }"
   ]
  },
  {
   "cell_type": "code",
   "execution_count": 6,
   "id": "7ebbd54c",
   "metadata": {
    "execution": {
     "iopub.execute_input": "2022-08-31T13:57:41.002646Z",
     "iopub.status.busy": "2022-08-31T13:57:41.001512Z",
     "iopub.status.idle": "2022-08-31T13:57:41.013456Z",
     "shell.execute_reply": "2022-08-31T13:57:41.012645Z"
    },
    "papermill": {
     "duration": 0.018612,
     "end_time": "2022-08-31T13:57:41.015400",
     "exception": false,
     "start_time": "2022-08-31T13:57:40.996788",
     "status": "completed"
    },
    "tags": []
   },
   "outputs": [],
   "source": [
    "def feedback_model(transformer_model):\n",
    "    \n",
    "    input_ids = layers.Input(shape=(config.MAX_LEN,), dtype=tf.int32, name=\"input_ids\")\n",
    "    attention_mask = layers.Input(shape=(config.MAX_LEN,), dtype=tf.int32, name=\"attention_mask\")\n",
    "\n",
    "    bert_model = transformer_model(input_ids, attention_mask=attention_mask)\n",
    "    \n",
    "    last_hidden_state, pooler_output = bert_model[0], bert_model[1]\n",
    "    \n",
    "    x = layers.Concatenate()([\n",
    "        pooler_output,\n",
    "        layers.GlobalAveragePooling1D()(last_hidden_state),\n",
    "        layers.GlobalMaxPooling1D()(last_hidden_state)\n",
    "    ])\n",
    "    x = layers.Dropout(rate=0.35)(x)\n",
    "    \n",
    "    transformer_output = layers.Dense(units=1024, activation='gelu')(x)\n",
    "    \n",
    "    re = layers.Reshape((8, 8, 16))(transformer_output)\n",
    "    \n",
    "    x1 = layers.Conv2D(filters=32, kernel_size=3, strides=1,  \n",
    "                       padding='same', activation='gelu')(re)\n",
    "    x2 = layers.SpatialDropout2D(rate=0.2)(x1)\n",
    "    \n",
    "    x2 = layers.Conv2D(filters=48, kernel_size=3, strides=1, \n",
    "                       padding='same', activation='gelu')(x2)\n",
    "    x3 = layers.SpatialDropout2D(rate=0.2)(x2)\n",
    "    \n",
    "    x3 = layers.Conv2D(filters=64, kernel_size=3, strides=1, \n",
    "                       padding='same', activation='gelu')(x3)\n",
    "    \n",
    "    x4 = layers.MaxPool2D()(x3)\n",
    "    x4 = layers.Flatten()(x4)\n",
    "    \n",
    "    add0 = layers.Add()([transformer_output, x4])\n",
    "    \n",
    "    x_output = layers.Average()([\n",
    "        layers.Dense(units=6, activation='linear')(layers.Dropout(rate=0.35)(add0)),\n",
    "        layers.Dense(units=6, activation='linear')(layers.Dropout(rate=0.25)(add0)),\n",
    "        layers.Dense(units=6, activation='linear')(layers.Dropout(rate=0.15)(add0))\n",
    "    ])\n",
    "\n",
    "    model = Model(inputs=[input_ids, attention_mask], \n",
    "                  outputs=x_output, \n",
    "                  name='Feedback_TFRoberta_Large_Model')\n",
    "    return model"
   ]
  },
  {
   "cell_type": "code",
   "execution_count": 7,
   "id": "eb09b647",
   "metadata": {
    "execution": {
     "iopub.execute_input": "2022-08-31T13:57:41.024325Z",
     "iopub.status.busy": "2022-08-31T13:57:41.023796Z",
     "iopub.status.idle": "2022-08-31T13:58:01.166273Z",
     "shell.execute_reply": "2022-08-31T13:58:01.165379Z"
    },
    "papermill": {
     "duration": 20.149146,
     "end_time": "2022-08-31T13:58:01.168349",
     "exception": false,
     "start_time": "2022-08-31T13:57:41.019203",
     "status": "completed"
    },
    "tags": []
   },
   "outputs": [
    {
     "name": "stderr",
     "output_type": "stream",
     "text": [
      "2022-08-31 13:57:41.422227: I tensorflow/stream_executor/cuda/cuda_gpu_executor.cc:937] successful NUMA node read from SysFS had negative value (-1), but there must be at least one NUMA node, so returning NUMA node zero\n",
      "2022-08-31 13:57:41.423362: I tensorflow/stream_executor/cuda/cuda_gpu_executor.cc:937] successful NUMA node read from SysFS had negative value (-1), but there must be at least one NUMA node, so returning NUMA node zero\n",
      "2022-08-31 13:57:41.424065: I tensorflow/stream_executor/cuda/cuda_gpu_executor.cc:937] successful NUMA node read from SysFS had negative value (-1), but there must be at least one NUMA node, so returning NUMA node zero\n",
      "2022-08-31 13:57:41.424978: I tensorflow/core/platform/cpu_feature_guard.cc:142] This TensorFlow binary is optimized with oneAPI Deep Neural Network Library (oneDNN) to use the following CPU instructions in performance-critical operations:  AVX2 AVX512F FMA\n",
      "To enable them in other operations, rebuild TensorFlow with the appropriate compiler flags.\n",
      "2022-08-31 13:57:41.425267: I tensorflow/stream_executor/cuda/cuda_gpu_executor.cc:937] successful NUMA node read from SysFS had negative value (-1), but there must be at least one NUMA node, so returning NUMA node zero\n",
      "2022-08-31 13:57:41.425943: I tensorflow/stream_executor/cuda/cuda_gpu_executor.cc:937] successful NUMA node read from SysFS had negative value (-1), but there must be at least one NUMA node, so returning NUMA node zero\n",
      "2022-08-31 13:57:41.426781: I tensorflow/stream_executor/cuda/cuda_gpu_executor.cc:937] successful NUMA node read from SysFS had negative value (-1), but there must be at least one NUMA node, so returning NUMA node zero\n",
      "2022-08-31 13:57:46.349950: I tensorflow/stream_executor/cuda/cuda_gpu_executor.cc:937] successful NUMA node read from SysFS had negative value (-1), but there must be at least one NUMA node, so returning NUMA node zero\n",
      "2022-08-31 13:57:46.350860: I tensorflow/stream_executor/cuda/cuda_gpu_executor.cc:937] successful NUMA node read from SysFS had negative value (-1), but there must be at least one NUMA node, so returning NUMA node zero\n",
      "2022-08-31 13:57:46.351591: I tensorflow/stream_executor/cuda/cuda_gpu_executor.cc:937] successful NUMA node read from SysFS had negative value (-1), but there must be at least one NUMA node, so returning NUMA node zero\n",
      "2022-08-31 13:57:46.352229: I tensorflow/core/common_runtime/gpu/gpu_device.cc:1510] Created device /job:localhost/replica:0/task:0/device:GPU:0 with 15047 MB memory:  -> device: 0, name: Tesla P100-PCIE-16GB, pci bus id: 0000:00:04.0, compute capability: 6.0\n",
      "All model checkpoint layers were used when initializing TFRobertaModel.\n",
      "\n",
      "All the layers of TFRobertaModel were initialized from the model checkpoint at ../input/feedback-ell-roberta-large-train/roberta-large-model.\n",
      "If your task is similar to the task the model of the checkpoint was trained on, you can already use TFRobertaModel for predictions without further training.\n"
     ]
    }
   ],
   "source": [
    "tokenizer = AutoTokenizer.from_pretrained(config.TOKENIZER_PATH)\n",
    "transformer_model = TFAutoModel.from_pretrained(config.MODEL_PATH)\n",
    "\n",
    "test_data = encode_text(test['full_text'].tolist(), tokenizer)"
   ]
  },
  {
   "cell_type": "markdown",
   "id": "d1e0c6a5",
   "metadata": {
    "papermill": {
     "duration": 0.003973,
     "end_time": "2022-08-31T13:58:01.176536",
     "exception": false,
     "start_time": "2022-08-31T13:58:01.172563",
     "status": "completed"
    },
    "tags": []
   },
   "source": [
    "## Make predictions"
   ]
  },
  {
   "cell_type": "code",
   "execution_count": 8,
   "id": "7b70e291",
   "metadata": {
    "execution": {
     "iopub.execute_input": "2022-08-31T13:58:01.185953Z",
     "iopub.status.busy": "2022-08-31T13:58:01.185659Z",
     "iopub.status.idle": "2022-08-31T14:00:06.774705Z",
     "shell.execute_reply": "2022-08-31T14:00:06.773224Z"
    },
    "papermill": {
     "duration": 125.596272,
     "end_time": "2022-08-31T14:00:06.776927",
     "exception": false,
     "start_time": "2022-08-31T13:58:01.180655",
     "status": "completed"
    },
    "tags": []
   },
   "outputs": [
    {
     "name": "stdout",
     "output_type": "stream",
     "text": [
      ">>>>>  Fold-1  <<<<<\n"
     ]
    },
    {
     "name": "stderr",
     "output_type": "stream",
     "text": [
      "2022-08-31 13:58:23.545430: I tensorflow/compiler/mlir/mlir_graph_optimization_pass.cc:185] None of the MLIR Optimization Passes are enabled (registered 2)\n",
      "2022-08-31 13:58:29.843715: I tensorflow/stream_executor/cuda/cuda_dnn.cc:369] Loaded cuDNN version 8005\n"
     ]
    },
    {
     "name": "stdout",
     "output_type": "stream",
     "text": [
      "1/1 [==============================] - 11s 11s/step\n",
      "\n",
      ">>>>>  Fold-2  <<<<<\n",
      "1/1 [==============================] - 5s 5s/step\n",
      "\n",
      ">>>>>  Fold-3  <<<<<\n",
      "1/1 [==============================] - 5s 5s/step\n",
      "\n",
      ">>>>>  Fold-4  <<<<<\n",
      "1/1 [==============================] - 5s 5s/step\n",
      "\n",
      ">>>>>  Fold-5  <<<<<\n",
      "1/1 [==============================] - 5s 5s/step\n",
      "\n"
     ]
    }
   ],
   "source": [
    "test_preds = []\n",
    "\n",
    "for idx in range(config.FOLDS):\n",
    "    print(f\">>>>>  Fold-{idx+1}  <<<<<\")\n",
    "    \n",
    "    model = feedback_model(transformer_model)\n",
    "    model.load_weights(f\"../input/feedback-ell-roberta-large-train/Feedback_TFRoberta_Large_Model_{idx+1}C.h5\")\n",
    "\n",
    "    y_pred = model.predict(\n",
    "        (np.asarray(test_data['input_ids']),\n",
    "         np.asarray(test_data['attention_masks'])), \n",
    "        batch_size=config.BATCH_SIZE, \n",
    "        verbose=config.VERBOSE\n",
    "    )\n",
    "    \n",
    "    test_preds.append(y_pred)\n",
    "    \n",
    "    del model, y_pred\n",
    "    gc.collect()\n",
    "    \n",
    "    print()"
   ]
  },
  {
   "cell_type": "code",
   "execution_count": 9,
   "id": "937661f3",
   "metadata": {
    "execution": {
     "iopub.execute_input": "2022-08-31T14:00:06.790463Z",
     "iopub.status.busy": "2022-08-31T14:00:06.788553Z",
     "iopub.status.idle": "2022-08-31T14:00:06.794980Z",
     "shell.execute_reply": "2022-08-31T14:00:06.794094Z"
    },
    "papermill": {
     "duration": 0.014836,
     "end_time": "2022-08-31T14:00:06.796908",
     "exception": false,
     "start_time": "2022-08-31T14:00:06.782072",
     "status": "completed"
    },
    "tags": []
   },
   "outputs": [],
   "source": [
    "y_pred_final = np.mean(test_preds, axis=0)"
   ]
  },
  {
   "cell_type": "markdown",
   "id": "b393596e",
   "metadata": {
    "papermill": {
     "duration": 0.007759,
     "end_time": "2022-08-31T14:00:06.809832",
     "exception": false,
     "start_time": "2022-08-31T14:00:06.802073",
     "status": "completed"
    },
    "tags": []
   },
   "source": [
    "## Create submission file"
   ]
  },
  {
   "cell_type": "code",
   "execution_count": 10,
   "id": "673667fc",
   "metadata": {
    "execution": {
     "iopub.execute_input": "2022-08-31T14:00:06.830890Z",
     "iopub.status.busy": "2022-08-31T14:00:06.830395Z",
     "iopub.status.idle": "2022-08-31T14:00:06.878700Z",
     "shell.execute_reply": "2022-08-31T14:00:06.877790Z"
    },
    "papermill": {
     "duration": 0.063932,
     "end_time": "2022-08-31T14:00:06.882832",
     "exception": false,
     "start_time": "2022-08-31T14:00:06.818900",
     "status": "completed"
    },
    "tags": []
   },
   "outputs": [
    {
     "data": {
      "text/html": [
       "<div>\n",
       "<style scoped>\n",
       "    .dataframe tbody tr th:only-of-type {\n",
       "        vertical-align: middle;\n",
       "    }\n",
       "\n",
       "    .dataframe tbody tr th {\n",
       "        vertical-align: top;\n",
       "    }\n",
       "\n",
       "    .dataframe thead th {\n",
       "        text-align: right;\n",
       "    }\n",
       "</style>\n",
       "<table border=\"1\" class=\"dataframe\">\n",
       "  <thead>\n",
       "    <tr style=\"text-align: right;\">\n",
       "      <th></th>\n",
       "      <th>text_id</th>\n",
       "      <th>cohesion</th>\n",
       "      <th>syntax</th>\n",
       "      <th>vocabulary</th>\n",
       "      <th>phraseology</th>\n",
       "      <th>grammar</th>\n",
       "      <th>conventions</th>\n",
       "    </tr>\n",
       "  </thead>\n",
       "  <tbody>\n",
       "    <tr>\n",
       "      <th>0</th>\n",
       "      <td>0000C359D63E</td>\n",
       "      <td>2.624945</td>\n",
       "      <td>2.766888</td>\n",
       "      <td>2.795981</td>\n",
       "      <td>2.745884</td>\n",
       "      <td>2.631725</td>\n",
       "      <td>2.698045</td>\n",
       "    </tr>\n",
       "    <tr>\n",
       "      <th>1</th>\n",
       "      <td>000BAD50D026</td>\n",
       "      <td>2.354248</td>\n",
       "      <td>2.435251</td>\n",
       "      <td>2.487714</td>\n",
       "      <td>2.383238</td>\n",
       "      <td>2.209692</td>\n",
       "      <td>2.406398</td>\n",
       "    </tr>\n",
       "    <tr>\n",
       "      <th>2</th>\n",
       "      <td>00367BB2546B</td>\n",
       "      <td>3.432826</td>\n",
       "      <td>3.585508</td>\n",
       "      <td>3.507679</td>\n",
       "      <td>3.544212</td>\n",
       "      <td>3.450433</td>\n",
       "      <td>3.516163</td>\n",
       "    </tr>\n",
       "  </tbody>\n",
       "</table>\n",
       "</div>"
      ],
      "text/plain": [
       "        text_id  cohesion    syntax  vocabulary  phraseology   grammar  \\\n",
       "0  0000C359D63E  2.624945  2.766888    2.795981     2.745884  2.631725   \n",
       "1  000BAD50D026  2.354248  2.435251    2.487714     2.383238  2.209692   \n",
       "2  00367BB2546B  3.432826  3.585508    3.507679     3.544212  3.450433   \n",
       "\n",
       "   conventions  \n",
       "0     2.698045  \n",
       "1     2.406398  \n",
       "2     3.516163  "
      ]
     },
     "execution_count": 10,
     "metadata": {},
     "output_type": "execute_result"
    }
   ],
   "source": [
    "submission = pd.read_csv(\"../input/feedback-prize-english-language-learning/sample_submission.csv\")\n",
    "\n",
    "submission['cohesion'] = y_pred_final[:,0]\n",
    "submission['syntax'] = y_pred_final[:,1]\n",
    "submission['vocabulary'] = y_pred_final[:,2]\n",
    "submission['phraseology'] = y_pred_final[:,3]\n",
    "submission['grammar'] = y_pred_final[:,4]\n",
    "submission['conventions'] = y_pred_final[:,5]\n",
    "\n",
    "submission.to_csv(\"./submission.csv\", index=False)\n",
    "submission.head()"
   ]
  },
  {
   "cell_type": "code",
   "execution_count": 11,
   "id": "8b0cbd6c",
   "metadata": {
    "execution": {
     "iopub.execute_input": "2022-08-31T14:00:06.906420Z",
     "iopub.status.busy": "2022-08-31T14:00:06.905678Z",
     "iopub.status.idle": "2022-08-31T14:00:06.912013Z",
     "shell.execute_reply": "2022-08-31T14:00:06.911042Z"
    },
    "papermill": {
     "duration": 0.019478,
     "end_time": "2022-08-31T14:00:06.914062",
     "exception": false,
     "start_time": "2022-08-31T14:00:06.894584",
     "status": "completed"
    },
    "tags": []
   },
   "outputs": [],
   "source": [
    "## Good Day!!"
   ]
  }
 ],
 "metadata": {
  "kernelspec": {
   "display_name": "Python 3",
   "language": "python",
   "name": "python3"
  },
  "language_info": {
   "codemirror_mode": {
    "name": "ipython",
    "version": 3
   },
   "file_extension": ".py",
   "mimetype": "text/x-python",
   "name": "python",
   "nbconvert_exporter": "python",
   "pygments_lexer": "ipython3",
   "version": "3.7.12"
  },
  "papermill": {
   "default_parameters": {},
   "duration": 167.35126,
   "end_time": "2022-08-31T14:00:10.728081",
   "environment_variables": {},
   "exception": null,
   "input_path": "__notebook__.ipynb",
   "output_path": "__notebook__.ipynb",
   "parameters": {},
   "start_time": "2022-08-31T13:57:23.376821",
   "version": "2.3.4"
  }
 },
 "nbformat": 4,
 "nbformat_minor": 5
}
