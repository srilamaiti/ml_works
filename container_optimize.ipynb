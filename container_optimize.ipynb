{
  "nbformat": 4,
  "nbformat_minor": 0,
  "metadata": {
    "colab": {
      "provenance": [],
      "authorship_tag": "ABX9TyOFCqTqMBuAFWAjfkrX9t0p",
      "include_colab_link": true
    },
    "kernelspec": {
      "name": "python3",
      "display_name": "Python 3"
    },
    "language_info": {
      "name": "python"
    }
  },
  "cells": [
    {
      "cell_type": "markdown",
      "metadata": {
        "id": "view-in-github",
        "colab_type": "text"
      },
      "source": [
        "<a href=\"https://colab.research.google.com/github/srilamaiti/ml_works/blob/main/container_optimize.ipynb\" target=\"_parent\"><img src=\"https://colab.research.google.com/assets/colab-badge.svg\" alt=\"Open In Colab\"/></a>"
      ]
    },
    {
      "cell_type": "code",
      "execution_count": 2,
      "metadata": {
        "colab": {
          "base_uri": "https://localhost:8080/"
        },
        "id": "UUCQdNyx4q3T",
        "outputId": "a8c17144-6f8d-4dcf-fd89-8dc0c707b865"
      },
      "outputs": [
        {
          "output_type": "stream",
          "name": "stdout",
          "text": [
            "1 cents requires 1 coins: [1]\n",
            "2 cents requires 2 coins: [1, 1]\n",
            "3 cents requires 3 coins: [1, 1, 1]\n",
            "4 cents requires 4 coins: [1, 1, 1, 1]\n",
            "5 cents requires 1 coins: [5]\n",
            "6 cents requires 2 coins: [1, 5]\n",
            "7 cents requires 3 coins: [1, 1, 5]\n",
            "8 cents requires 4 coins: [1, 1, 1, 5]\n",
            "9 cents requires 5 coins: [1, 1, 1, 1, 5]\n",
            "10 cents requires 1 coins: [10]\n",
            "11 cents requires 2 coins: [1, 10]\n",
            "12 cents requires 3 coins: [1, 1, 10]\n",
            "13 cents requires 4 coins: [1, 1, 1, 10]\n",
            "14 cents requires 5 coins: [1, 1, 1, 1, 10]\n",
            "15 cents requires 2 coins: [5, 10]\n",
            "16 cents requires 3 coins: [1, 5, 10]\n",
            "17 cents requires 4 coins: [1, 1, 5, 10]\n",
            "18 cents requires 5 coins: [1, 1, 1, 5, 10]\n",
            "19 cents requires 6 coins: [1, 1, 1, 1, 5, 10]\n",
            "20 cents requires 2 coins: [10, 10]\n",
            "21 cents requires 3 coins: [1, 10, 10]\n",
            "22 cents requires 4 coins: [1, 1, 10, 10]\n",
            "23 cents requires 5 coins: [1, 1, 1, 10, 10]\n",
            "24 cents requires 6 coins: [1, 1, 1, 1, 10, 10]\n",
            "25 cents requires 1 coins: [25]\n",
            "26 cents requires 2 coins: [1, 25]\n",
            "27 cents requires 3 coins: [1, 1, 25]\n",
            "28 cents requires 4 coins: [1, 1, 1, 25]\n",
            "29 cents requires 5 coins: [1, 1, 1, 1, 25]\n",
            "30 cents requires 2 coins: [5, 25]\n",
            "31 cents requires 3 coins: [1, 5, 25]\n",
            "32 cents requires 4 coins: [1, 1, 5, 25]\n",
            "33 cents requires 5 coins: [1, 1, 1, 5, 25]\n",
            "34 cents requires 6 coins: [1, 1, 1, 1, 5, 25]\n",
            "35 cents requires 2 coins: [10, 25]\n",
            "36 cents requires 3 coins: [1, 10, 25]\n",
            "37 cents requires 4 coins: [1, 1, 10, 25]\n",
            "38 cents requires 5 coins: [1, 1, 1, 10, 25]\n",
            "39 cents requires 6 coins: [1, 1, 1, 1, 10, 25]\n",
            "40 cents requires 3 coins: [5, 10, 25]\n",
            "41 cents requires 4 coins: [1, 5, 10, 25]\n",
            "42 cents requires 5 coins: [1, 1, 5, 10, 25]\n",
            "43 cents requires 6 coins: [1, 1, 1, 5, 10, 25]\n",
            "44 cents requires 7 coins: [1, 1, 1, 1, 5, 10, 25]\n",
            "45 cents requires 3 coins: [10, 10, 25]\n",
            "46 cents requires 4 coins: [1, 10, 10, 25]\n",
            "47 cents requires 5 coins: [1, 1, 10, 10, 25]\n",
            "48 cents requires 6 coins: [1, 1, 1, 10, 10, 25]\n",
            "49 cents requires 7 coins: [1, 1, 1, 1, 10, 10, 25]\n",
            "50 cents requires 2 coins: [25, 25]\n",
            "51 cents requires 3 coins: [1, 25, 25]\n",
            "52 cents requires 4 coins: [1, 1, 25, 25]\n",
            "53 cents requires 5 coins: [1, 1, 1, 25, 25]\n",
            "54 cents requires 6 coins: [1, 1, 1, 1, 25, 25]\n",
            "55 cents requires 3 coins: [5, 25, 25]\n",
            "56 cents requires 4 coins: [1, 5, 25, 25]\n",
            "57 cents requires 5 coins: [1, 1, 5, 25, 25]\n",
            "58 cents requires 6 coins: [1, 1, 1, 5, 25, 25]\n",
            "59 cents requires 7 coins: [1, 1, 1, 1, 5, 25, 25]\n",
            "60 cents requires 3 coins: [10, 25, 25]\n",
            "61 cents requires 4 coins: [1, 10, 25, 25]\n",
            "62 cents requires 5 coins: [1, 1, 10, 25, 25]\n",
            "63 cents requires 6 coins: [1, 1, 1, 10, 25, 25]\n",
            "64 cents requires 7 coins: [1, 1, 1, 1, 10, 25, 25]\n",
            "65 cents requires 4 coins: [5, 10, 25, 25]\n",
            "66 cents requires 5 coins: [1, 5, 10, 25, 25]\n",
            "67 cents requires 6 coins: [1, 1, 5, 10, 25, 25]\n",
            "68 cents requires 7 coins: [1, 1, 1, 5, 10, 25, 25]\n",
            "69 cents requires 8 coins: [1, 1, 1, 1, 5, 10, 25, 25]\n",
            "70 cents requires 4 coins: [10, 10, 25, 25]\n",
            "71 cents requires 5 coins: [1, 10, 10, 25, 25]\n",
            "72 cents requires 6 coins: [1, 1, 10, 10, 25, 25]\n",
            "73 cents requires 7 coins: [1, 1, 1, 10, 10, 25, 25]\n",
            "74 cents requires 8 coins: [1, 1, 1, 1, 10, 10, 25, 25]\n",
            "75 cents requires 3 coins: [25, 25, 25]\n",
            "76 cents requires 4 coins: [1, 25, 25, 25]\n",
            "77 cents requires 5 coins: [1, 1, 25, 25, 25]\n",
            "78 cents requires 6 coins: [1, 1, 1, 25, 25, 25]\n",
            "79 cents requires 7 coins: [1, 1, 1, 1, 25, 25, 25]\n",
            "80 cents requires 4 coins: [5, 25, 25, 25]\n",
            "81 cents requires 5 coins: [1, 5, 25, 25, 25]\n",
            "82 cents requires 6 coins: [1, 1, 5, 25, 25, 25]\n",
            "83 cents requires 7 coins: [1, 1, 1, 5, 25, 25, 25]\n",
            "84 cents requires 8 coins: [1, 1, 1, 1, 5, 25, 25, 25]\n",
            "85 cents requires 4 coins: [10, 25, 25, 25]\n",
            "86 cents requires 5 coins: [1, 10, 25, 25, 25]\n",
            "87 cents requires 6 coins: [1, 1, 10, 25, 25, 25]\n",
            "88 cents requires 7 coins: [1, 1, 1, 10, 25, 25, 25]\n",
            "89 cents requires 8 coins: [1, 1, 1, 1, 10, 25, 25, 25]\n",
            "90 cents requires 5 coins: [5, 10, 25, 25, 25]\n",
            "91 cents requires 6 coins: [1, 5, 10, 25, 25, 25]\n",
            "92 cents requires 7 coins: [1, 1, 5, 10, 25, 25, 25]\n",
            "93 cents requires 8 coins: [1, 1, 1, 5, 10, 25, 25, 25]\n",
            "94 cents requires 9 coins: [1, 1, 1, 1, 5, 10, 25, 25, 25]\n",
            "95 cents requires 5 coins: [10, 10, 25, 25, 25]\n",
            "96 cents requires 6 coins: [1, 10, 10, 25, 25, 25]\n",
            "97 cents requires 7 coins: [1, 1, 10, 10, 25, 25, 25]\n",
            "98 cents requires 8 coins: [1, 1, 1, 10, 10, 25, 25, 25]\n",
            "99 cents requires 9 coins: [1, 1, 1, 1, 10, 10, 25, 25, 25]\n"
          ]
        }
      ],
      "source": [
        "coins = [1,5,10,25]\n",
        "d = {} # stores tuples of the form (# of coins, [coin list])\n",
        "\n",
        "# finds the minimum # of coins needed to\n",
        "# make change for some number of cents\n",
        "def m(cents):\n",
        "    if cents in d.keys():\n",
        "        return d[cents]\n",
        "    elif cents > 0:\n",
        "        choices = [(m(cents - x)[0] + 1, m(cents - x)[1] + [x]) for x in coins if cents >= x]\n",
        "\n",
        "        # given a list of tuples, python's min function\n",
        "        # uses the first element of each tuple for comparison\n",
        "        d[cents] = min(choices)\n",
        "        return d[cents]\n",
        "    else:\n",
        "        d[0] = (0, [])\n",
        "        return d[0]\n",
        "\n",
        "for x in range(1, 100):\n",
        "    val = m(x)\n",
        "    print(x, \"cents requires\", val[0], \"coins:\", val[1])"
      ]
    },
    {
      "cell_type": "code",
      "source": [
        "amount = 2\n",
        "pallet_sz = 96\n",
        "case_sz = 3\n",
        "masterpack_sz = 0\n",
        "each_sz = amount\n",
        "\n",
        "if pallet_sz == 0:\n",
        "    pallet_sz_xfrm = 1\n",
        "else:\n",
        "    pallet_sz_xfrm = pallet_sz\n",
        "\n",
        "if case_sz == 0:\n",
        "    case_sz_xfrm = 1\n",
        "else:\n",
        "    case_sz_xfrm = case_sz\n",
        "\n",
        "if masterpack_sz == 0:\n",
        "    masterpack_sz_xfrm = 1\n",
        "else:\n",
        "    masterpack_sz_xfrm = masterpack_sz\n",
        "\n",
        "pallets = amount // pallet_sz_xfrm\n",
        "cases = pallets // case_sz_xfrm\n",
        "master_packs = cases  // masterpack_sz_xfrm\n",
        "eas = amount - (pallets * pallet_sz) - (cases * case_sz) - - (master_packs * masterpack_sz)\n",
        "\n",
        "amount, pallet_sz, pallets, case_sz, cases, masterpack_sz, master_packs, eas"
      ],
      "metadata": {
        "colab": {
          "base_uri": "https://localhost:8080/"
        },
        "id": "OBO7z-NT42kd",
        "outputId": "dba8229f-1f11-4361-d7c7-4c7b409febed"
      },
      "execution_count": 36,
      "outputs": [
        {
          "output_type": "execute_result",
          "data": {
            "text/plain": [
              "(2, 96, 0, 3, 0, 0, 0, 2)"
            ]
          },
          "metadata": {},
          "execution_count": 36
        }
      ]
    },
    {
      "cell_type": "code",
      "source": [
        "amount = 16\n",
        "pallet_sz = 84\n",
        "case_sz = 0\n",
        "masterpack_sz = 0\n",
        "each_sz = amount\n",
        "\n",
        "if pallet_sz == 0:\n",
        "    pallet_sz_xfrm = 1\n",
        "else:\n",
        "    pallet_sz_xfrm = pallet_sz\n",
        "\n",
        "if case_sz == 0:\n",
        "    case_sz_xfrm = 1\n",
        "else:\n",
        "    case_sz_xfrm = case_sz\n",
        "\n",
        "if masterpack_sz == 0:\n",
        "    masterpack_sz_xfrm = 1\n",
        "else:\n",
        "    masterpack_sz_xfrm = masterpack_sz\n",
        "\n",
        "pallets = amount // pallet_sz_xfrm\n",
        "cases = (amount % pallet_sz_xfrm) // case_sz_xfrm\n",
        "master_packs = (amount - (pallets * pallet_sz) - (cases * case_sz)) % masterpack_sz_xfrm\n",
        "eas = amount - (pallets * pallet_sz) - (cases * case_sz) - (master_packs * masterpack_sz)\n",
        "\n",
        "amount, pallet_sz, pallets, case_sz, cases, masterpack_sz, master_packs, eas"
      ],
      "metadata": {
        "colab": {
          "base_uri": "https://localhost:8080/"
        },
        "id": "y0G5mXKP_nI2",
        "outputId": "783611d0-af88-428c-df48-8d2fc3f229f4"
      },
      "execution_count": 49,
      "outputs": [
        {
          "output_type": "execute_result",
          "data": {
            "text/plain": [
              "(16, 84, 0, 0, 16, 0, 0, 16)"
            ]
          },
          "metadata": {},
          "execution_count": 49
        }
      ]
    },
    {
      "cell_type": "code",
      "source": [
        "amount = 174\n",
        "pallet_sz = 126\n",
        "case_sz = 6\n",
        "masterpack_sz = 2\n",
        "each_sz = amount\n",
        "\n",
        "if pallet_sz == 0:\n",
        "    pallet_sz_xfrm = 1\n",
        "else:\n",
        "    pallet_sz_xfrm = pallet_sz\n",
        "\n",
        "if case_sz == 0:\n",
        "    case_sz_xfrm = 1\n",
        "else:\n",
        "    case_sz_xfrm = case_sz\n",
        "\n",
        "if masterpack_sz == 0:\n",
        "    masterpack_sz_xfrm = 1\n",
        "else:\n",
        "    masterpack_sz_xfrm = masterpack_sz\n",
        "\n",
        "pallets = amount // pallet_sz_xfrm\n",
        "cases = (amount % pallet_sz_xfrm) // case_sz_xfrm\n",
        "master_packs = (amount - (pallets * pallet_sz) - (cases * case_sz)) % masterpack_sz_xfrm\n",
        "eas = amount - (pallets * pallet_sz) - (cases * case_sz) - (master_packs * masterpack_sz)\n",
        "\n",
        "amount, pallet_sz, pallets, case_sz, cases, masterpack_sz, master_packs, eas"
      ],
      "metadata": {
        "colab": {
          "base_uri": "https://localhost:8080/"
        },
        "id": "OenF9U_0Ahtb",
        "outputId": "0633c60a-fe37-4d2d-9154-650bb51cb69a"
      },
      "execution_count": 48,
      "outputs": [
        {
          "output_type": "execute_result",
          "data": {
            "text/plain": [
              "(174, 126, 1, 6, 8, 2, 0, 0)"
            ]
          },
          "metadata": {},
          "execution_count": 48
        }
      ]
    },
    {
      "cell_type": "code",
      "source": [
        "amount = 102\n",
        "pallet_sz = 126\n",
        "case_sz = 6\n",
        "masterpack_sz = 2\n",
        "each_sz = amount\n",
        "\n",
        "if pallet_sz == 0:\n",
        "    pallet_sz_xfrm = 1\n",
        "else:\n",
        "    pallet_sz_xfrm = pallet_sz\n",
        "\n",
        "if case_sz == 0:\n",
        "    case_sz_xfrm = 1\n",
        "else:\n",
        "    case_sz_xfrm = case_sz\n",
        "\n",
        "if masterpack_sz == 0:\n",
        "    masterpack_sz_xfrm = 1\n",
        "else:\n",
        "    masterpack_sz_xfrm = masterpack_sz\n",
        "\n",
        "pallets = amount // pallet_sz_xfrm\n",
        "cases = (amount % pallet_sz_xfrm) // case_sz_xfrm\n",
        "master_packs = (amount - (pallets * pallet_sz) - (cases * case_sz)) % masterpack_sz_xfrm\n",
        "eas = amount - (pallets * pallet_sz) - (cases * case_sz) - (master_packs * masterpack_sz)\n",
        "\n",
        "amount, pallet_sz, pallets, case_sz, cases, masterpack_sz, master_packs, eas"
      ],
      "metadata": {
        "colab": {
          "base_uri": "https://localhost:8080/"
        },
        "id": "FQPvbqVGCbhx",
        "outputId": "61f85d74-78d7-4e17-9cd7-8d9b3ee35e3b"
      },
      "execution_count": 47,
      "outputs": [
        {
          "output_type": "execute_result",
          "data": {
            "text/plain": [
              "(102, 126, 0, 6, 17, 2, 0, 0)"
            ]
          },
          "metadata": {},
          "execution_count": 47
        }
      ]
    }
  ]
}