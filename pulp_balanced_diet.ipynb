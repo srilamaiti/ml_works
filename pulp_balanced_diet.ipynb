{
  "nbformat": 4,
  "nbformat_minor": 0,
  "metadata": {
    "colab": {
      "provenance": [],
      "authorship_tag": "ABX9TyN1y8VbXOJenTNlYUMlQRLn",
      "include_colab_link": true
    },
    "kernelspec": {
      "name": "python3",
      "display_name": "Python 3"
    },
    "language_info": {
      "name": "python"
    }
  },
  "cells": [
    {
      "cell_type": "markdown",
      "metadata": {
        "id": "view-in-github",
        "colab_type": "text"
      },
      "source": [
        "<a href=\"https://colab.research.google.com/github/srilamaiti/ml_works/blob/main/pulp_balanced_diet.ipynb\" target=\"_parent\"><img src=\"https://colab.research.google.com/assets/colab-badge.svg\" alt=\"Open In Colab\"/></a>"
      ]
    },
    {
      "cell_type": "code",
      "execution_count": 5,
      "metadata": {
        "colab": {
          "base_uri": "https://localhost:8080/"
        },
        "id": "R_7dEWyThtjj",
        "outputId": "b871ebdb-2164-42f0-a479-d9b018df6048"
      },
      "outputs": [
        {
          "output_type": "stream",
          "name": "stdout",
          "text": [
            "Looking in indexes: https://pypi.org/simple, https://us-python.pkg.dev/colab-wheels/public/simple/\n",
            "Requirement already satisfied: pulp in /usr/local/lib/python3.8/dist-packages (2.7.0)\n"
          ]
        }
      ],
      "source": [
        "!pip install pulp"
      ]
    },
    {
      "cell_type": "code",
      "source": [
        "from pulp import *\n",
        "import numpy as np\n",
        "import pandas as pd"
      ],
      "metadata": {
        "id": "EqDZLJHahxWQ"
      },
      "execution_count": 1,
      "outputs": []
    },
    {
      "cell_type": "code",
      "source": [
        "prob = LpProblem(\"Simple Diet Problem\",LpMinimize)"
      ],
      "metadata": {
        "colab": {
          "base_uri": "https://localhost:8080/"
        },
        "id": "ghio05ybhxZ3",
        "outputId": "068c2f15-9165-44ec-e23b-306bccfddbe5"
      },
      "execution_count": 2,
      "outputs": [
        {
          "output_type": "stream",
          "name": "stderr",
          "text": [
            "/usr/local/lib/python3.8/dist-packages/pulp/pulp.py:1352: UserWarning: Spaces are not permitted in the name. Converted to '_'\n",
            "  warnings.warn(\"Spaces are not permitted in the name. Converted to '_'\")\n"
          ]
        }
      ]
    },
    {
      "cell_type": "code",
      "source": [
        "# Read the first few rows dataset in a Pandas DataFrame\n",
        "# Read only the nutrition info not the bounds/constraints\n",
        "df = pd.read_excel(\"diet - medium.xls\",nrows=17)\n",
        "df"
      ],
      "metadata": {
        "colab": {
          "base_uri": "https://localhost:8080/",
          "height": 835
        },
        "id": "NpuozT2DhxdA",
        "outputId": "1ba00f69-0185-4c0c-9eb6-a1c0a30e5f22"
      },
      "execution_count": 3,
      "outputs": [
        {
          "output_type": "execute_result",
          "data": {
            "text/plain": [
              "                     Foods  Price/Serving          Serving Size  Calories  \\\n",
              "0          Frozen Broccoli           0.48             10 Oz Pkg      73.8   \n",
              "1              Frozen Corn           0.54               1/2 Cup      72.2   \n",
              "2      Raw Lettuce Iceberg           0.06                1 Leaf       2.6   \n",
              "3           Baked Potatoes           0.18               1/2 Cup     171.5   \n",
              "4                     Tofu           0.93             1/4 block      88.2   \n",
              "5          Roasted Chicken           2.52          1 lb chicken     277.4   \n",
              "6       Spaghetti W/ Sauce           2.34             1 1/2 Cup     358.2   \n",
              "7                Raw Apple           0.72    1 Fruit,3/Lb,Wo/Rf      81.4   \n",
              "8                   Banana           0.45  1 Fruit,Wo/Skn&Seeds     104.9   \n",
              "9              Wheat Bread           0.15                  1 Sl      65.0   \n",
              "10             White Bread           0.18                  1 Sl      65.0   \n",
              "11         Oatmeal Cookies           0.27              1 Cookie      81.0   \n",
              "12               Apple Pie           0.48                  1 Oz      67.2   \n",
              "13          Scrambled Eggs           0.33                 1 Egg      99.6   \n",
              "14          Turkey Bologna           0.45                  1 Oz      56.4   \n",
              "15        Beef Frankfurter           0.81         1 Frankfurter     141.8   \n",
              "16  Chocolate Chip Cookies           0.09              1 Cookie      78.1   \n",
              "\n",
              "    Cholesterol (mg)  Total_Fat (g)  Sodium (mg)  Carbohydrates (g)  \\\n",
              "0                0.0            0.8         68.2               13.6   \n",
              "1                0.0            0.6          2.5               17.1   \n",
              "2                0.0            0.0          1.8                0.4   \n",
              "3                0.0            0.2         15.2               39.9   \n",
              "4                0.0            5.5          8.1                2.2   \n",
              "5              129.9           10.8        125.6                0.0   \n",
              "6                0.0           12.3       1237.1               58.3   \n",
              "7                0.0            0.5          0.0               21.0   \n",
              "8                0.0            0.5          1.1               26.7   \n",
              "9                0.0            1.0        134.5               12.4   \n",
              "10               0.0            1.0        132.5               11.8   \n",
              "11               0.0            3.3         68.9               12.4   \n",
              "12               0.0            3.1         75.4                9.6   \n",
              "13             211.2            7.3        168.0                1.3   \n",
              "14              28.1            4.3        248.9                0.3   \n",
              "15              27.4           12.8        461.7                0.8   \n",
              "16               5.1            4.5         57.8                9.3   \n",
              "\n",
              "    Dietary_Fiber (g)  Protein (g)  Vit_A (IU)  Vit_C (IU)  Calcium (mg)  \\\n",
              "0                 8.5          8.0      5867.4       160.2         159.0   \n",
              "1                 2.0          2.5       106.6         5.2           3.3   \n",
              "2                 0.3          0.2        66.0         0.8           3.8   \n",
              "3                 3.2          3.7         0.0        15.6          22.7   \n",
              "4                 1.4          9.4        98.6         0.1         121.8   \n",
              "5                 0.0         42.2        77.4         0.0          21.9   \n",
              "6                11.6          8.2      3055.2        27.9          80.2   \n",
              "7                 3.7          0.3        73.1         7.9           9.7   \n",
              "8                 2.7          1.2        92.3        10.4           6.8   \n",
              "9                 1.3          2.2         0.0         0.0          10.8   \n",
              "10                1.1          2.3         0.0         0.0          26.2   \n",
              "11                0.6          1.1         2.9         0.1           6.7   \n",
              "12                0.5          0.5        35.2         0.9           3.1   \n",
              "13                0.0          6.7       409.2         0.1          42.6   \n",
              "14                0.0          3.9         0.0         0.0          23.8   \n",
              "15                0.0          5.4         0.0        10.8           9.0   \n",
              "16                0.0          0.9       101.8         0.0           6.2   \n",
              "\n",
              "    Iron (mg)  \n",
              "0         2.3  \n",
              "1         0.3  \n",
              "2         0.1  \n",
              "3         4.3  \n",
              "4         6.2  \n",
              "5         1.8  \n",
              "6         2.3  \n",
              "7         0.2  \n",
              "8         0.4  \n",
              "9         0.7  \n",
              "10        0.8  \n",
              "11        0.5  \n",
              "12        0.1  \n",
              "13        0.7  \n",
              "14        0.4  \n",
              "15        0.6  \n",
              "16        0.4  "
            ],
            "text/html": [
              "\n",
              "  <div id=\"df-e768d344-fe6e-4941-8e82-4c1e75737571\">\n",
              "    <div class=\"colab-df-container\">\n",
              "      <div>\n",
              "<style scoped>\n",
              "    .dataframe tbody tr th:only-of-type {\n",
              "        vertical-align: middle;\n",
              "    }\n",
              "\n",
              "    .dataframe tbody tr th {\n",
              "        vertical-align: top;\n",
              "    }\n",
              "\n",
              "    .dataframe thead th {\n",
              "        text-align: right;\n",
              "    }\n",
              "</style>\n",
              "<table border=\"1\" class=\"dataframe\">\n",
              "  <thead>\n",
              "    <tr style=\"text-align: right;\">\n",
              "      <th></th>\n",
              "      <th>Foods</th>\n",
              "      <th>Price/Serving</th>\n",
              "      <th>Serving Size</th>\n",
              "      <th>Calories</th>\n",
              "      <th>Cholesterol (mg)</th>\n",
              "      <th>Total_Fat (g)</th>\n",
              "      <th>Sodium (mg)</th>\n",
              "      <th>Carbohydrates (g)</th>\n",
              "      <th>Dietary_Fiber (g)</th>\n",
              "      <th>Protein (g)</th>\n",
              "      <th>Vit_A (IU)</th>\n",
              "      <th>Vit_C (IU)</th>\n",
              "      <th>Calcium (mg)</th>\n",
              "      <th>Iron (mg)</th>\n",
              "    </tr>\n",
              "  </thead>\n",
              "  <tbody>\n",
              "    <tr>\n",
              "      <th>0</th>\n",
              "      <td>Frozen Broccoli</td>\n",
              "      <td>0.48</td>\n",
              "      <td>10 Oz Pkg</td>\n",
              "      <td>73.8</td>\n",
              "      <td>0.0</td>\n",
              "      <td>0.8</td>\n",
              "      <td>68.2</td>\n",
              "      <td>13.6</td>\n",
              "      <td>8.5</td>\n",
              "      <td>8.0</td>\n",
              "      <td>5867.4</td>\n",
              "      <td>160.2</td>\n",
              "      <td>159.0</td>\n",
              "      <td>2.3</td>\n",
              "    </tr>\n",
              "    <tr>\n",
              "      <th>1</th>\n",
              "      <td>Frozen Corn</td>\n",
              "      <td>0.54</td>\n",
              "      <td>1/2 Cup</td>\n",
              "      <td>72.2</td>\n",
              "      <td>0.0</td>\n",
              "      <td>0.6</td>\n",
              "      <td>2.5</td>\n",
              "      <td>17.1</td>\n",
              "      <td>2.0</td>\n",
              "      <td>2.5</td>\n",
              "      <td>106.6</td>\n",
              "      <td>5.2</td>\n",
              "      <td>3.3</td>\n",
              "      <td>0.3</td>\n",
              "    </tr>\n",
              "    <tr>\n",
              "      <th>2</th>\n",
              "      <td>Raw Lettuce Iceberg</td>\n",
              "      <td>0.06</td>\n",
              "      <td>1 Leaf</td>\n",
              "      <td>2.6</td>\n",
              "      <td>0.0</td>\n",
              "      <td>0.0</td>\n",
              "      <td>1.8</td>\n",
              "      <td>0.4</td>\n",
              "      <td>0.3</td>\n",
              "      <td>0.2</td>\n",
              "      <td>66.0</td>\n",
              "      <td>0.8</td>\n",
              "      <td>3.8</td>\n",
              "      <td>0.1</td>\n",
              "    </tr>\n",
              "    <tr>\n",
              "      <th>3</th>\n",
              "      <td>Baked Potatoes</td>\n",
              "      <td>0.18</td>\n",
              "      <td>1/2 Cup</td>\n",
              "      <td>171.5</td>\n",
              "      <td>0.0</td>\n",
              "      <td>0.2</td>\n",
              "      <td>15.2</td>\n",
              "      <td>39.9</td>\n",
              "      <td>3.2</td>\n",
              "      <td>3.7</td>\n",
              "      <td>0.0</td>\n",
              "      <td>15.6</td>\n",
              "      <td>22.7</td>\n",
              "      <td>4.3</td>\n",
              "    </tr>\n",
              "    <tr>\n",
              "      <th>4</th>\n",
              "      <td>Tofu</td>\n",
              "      <td>0.93</td>\n",
              "      <td>1/4 block</td>\n",
              "      <td>88.2</td>\n",
              "      <td>0.0</td>\n",
              "      <td>5.5</td>\n",
              "      <td>8.1</td>\n",
              "      <td>2.2</td>\n",
              "      <td>1.4</td>\n",
              "      <td>9.4</td>\n",
              "      <td>98.6</td>\n",
              "      <td>0.1</td>\n",
              "      <td>121.8</td>\n",
              "      <td>6.2</td>\n",
              "    </tr>\n",
              "    <tr>\n",
              "      <th>5</th>\n",
              "      <td>Roasted Chicken</td>\n",
              "      <td>2.52</td>\n",
              "      <td>1 lb chicken</td>\n",
              "      <td>277.4</td>\n",
              "      <td>129.9</td>\n",
              "      <td>10.8</td>\n",
              "      <td>125.6</td>\n",
              "      <td>0.0</td>\n",
              "      <td>0.0</td>\n",
              "      <td>42.2</td>\n",
              "      <td>77.4</td>\n",
              "      <td>0.0</td>\n",
              "      <td>21.9</td>\n",
              "      <td>1.8</td>\n",
              "    </tr>\n",
              "    <tr>\n",
              "      <th>6</th>\n",
              "      <td>Spaghetti W/ Sauce</td>\n",
              "      <td>2.34</td>\n",
              "      <td>1 1/2 Cup</td>\n",
              "      <td>358.2</td>\n",
              "      <td>0.0</td>\n",
              "      <td>12.3</td>\n",
              "      <td>1237.1</td>\n",
              "      <td>58.3</td>\n",
              "      <td>11.6</td>\n",
              "      <td>8.2</td>\n",
              "      <td>3055.2</td>\n",
              "      <td>27.9</td>\n",
              "      <td>80.2</td>\n",
              "      <td>2.3</td>\n",
              "    </tr>\n",
              "    <tr>\n",
              "      <th>7</th>\n",
              "      <td>Raw Apple</td>\n",
              "      <td>0.72</td>\n",
              "      <td>1 Fruit,3/Lb,Wo/Rf</td>\n",
              "      <td>81.4</td>\n",
              "      <td>0.0</td>\n",
              "      <td>0.5</td>\n",
              "      <td>0.0</td>\n",
              "      <td>21.0</td>\n",
              "      <td>3.7</td>\n",
              "      <td>0.3</td>\n",
              "      <td>73.1</td>\n",
              "      <td>7.9</td>\n",
              "      <td>9.7</td>\n",
              "      <td>0.2</td>\n",
              "    </tr>\n",
              "    <tr>\n",
              "      <th>8</th>\n",
              "      <td>Banana</td>\n",
              "      <td>0.45</td>\n",
              "      <td>1 Fruit,Wo/Skn&amp;Seeds</td>\n",
              "      <td>104.9</td>\n",
              "      <td>0.0</td>\n",
              "      <td>0.5</td>\n",
              "      <td>1.1</td>\n",
              "      <td>26.7</td>\n",
              "      <td>2.7</td>\n",
              "      <td>1.2</td>\n",
              "      <td>92.3</td>\n",
              "      <td>10.4</td>\n",
              "      <td>6.8</td>\n",
              "      <td>0.4</td>\n",
              "    </tr>\n",
              "    <tr>\n",
              "      <th>9</th>\n",
              "      <td>Wheat Bread</td>\n",
              "      <td>0.15</td>\n",
              "      <td>1 Sl</td>\n",
              "      <td>65.0</td>\n",
              "      <td>0.0</td>\n",
              "      <td>1.0</td>\n",
              "      <td>134.5</td>\n",
              "      <td>12.4</td>\n",
              "      <td>1.3</td>\n",
              "      <td>2.2</td>\n",
              "      <td>0.0</td>\n",
              "      <td>0.0</td>\n",
              "      <td>10.8</td>\n",
              "      <td>0.7</td>\n",
              "    </tr>\n",
              "    <tr>\n",
              "      <th>10</th>\n",
              "      <td>White Bread</td>\n",
              "      <td>0.18</td>\n",
              "      <td>1 Sl</td>\n",
              "      <td>65.0</td>\n",
              "      <td>0.0</td>\n",
              "      <td>1.0</td>\n",
              "      <td>132.5</td>\n",
              "      <td>11.8</td>\n",
              "      <td>1.1</td>\n",
              "      <td>2.3</td>\n",
              "      <td>0.0</td>\n",
              "      <td>0.0</td>\n",
              "      <td>26.2</td>\n",
              "      <td>0.8</td>\n",
              "    </tr>\n",
              "    <tr>\n",
              "      <th>11</th>\n",
              "      <td>Oatmeal Cookies</td>\n",
              "      <td>0.27</td>\n",
              "      <td>1 Cookie</td>\n",
              "      <td>81.0</td>\n",
              "      <td>0.0</td>\n",
              "      <td>3.3</td>\n",
              "      <td>68.9</td>\n",
              "      <td>12.4</td>\n",
              "      <td>0.6</td>\n",
              "      <td>1.1</td>\n",
              "      <td>2.9</td>\n",
              "      <td>0.1</td>\n",
              "      <td>6.7</td>\n",
              "      <td>0.5</td>\n",
              "    </tr>\n",
              "    <tr>\n",
              "      <th>12</th>\n",
              "      <td>Apple Pie</td>\n",
              "      <td>0.48</td>\n",
              "      <td>1 Oz</td>\n",
              "      <td>67.2</td>\n",
              "      <td>0.0</td>\n",
              "      <td>3.1</td>\n",
              "      <td>75.4</td>\n",
              "      <td>9.6</td>\n",
              "      <td>0.5</td>\n",
              "      <td>0.5</td>\n",
              "      <td>35.2</td>\n",
              "      <td>0.9</td>\n",
              "      <td>3.1</td>\n",
              "      <td>0.1</td>\n",
              "    </tr>\n",
              "    <tr>\n",
              "      <th>13</th>\n",
              "      <td>Scrambled Eggs</td>\n",
              "      <td>0.33</td>\n",
              "      <td>1 Egg</td>\n",
              "      <td>99.6</td>\n",
              "      <td>211.2</td>\n",
              "      <td>7.3</td>\n",
              "      <td>168.0</td>\n",
              "      <td>1.3</td>\n",
              "      <td>0.0</td>\n",
              "      <td>6.7</td>\n",
              "      <td>409.2</td>\n",
              "      <td>0.1</td>\n",
              "      <td>42.6</td>\n",
              "      <td>0.7</td>\n",
              "    </tr>\n",
              "    <tr>\n",
              "      <th>14</th>\n",
              "      <td>Turkey Bologna</td>\n",
              "      <td>0.45</td>\n",
              "      <td>1 Oz</td>\n",
              "      <td>56.4</td>\n",
              "      <td>28.1</td>\n",
              "      <td>4.3</td>\n",
              "      <td>248.9</td>\n",
              "      <td>0.3</td>\n",
              "      <td>0.0</td>\n",
              "      <td>3.9</td>\n",
              "      <td>0.0</td>\n",
              "      <td>0.0</td>\n",
              "      <td>23.8</td>\n",
              "      <td>0.4</td>\n",
              "    </tr>\n",
              "    <tr>\n",
              "      <th>15</th>\n",
              "      <td>Beef Frankfurter</td>\n",
              "      <td>0.81</td>\n",
              "      <td>1 Frankfurter</td>\n",
              "      <td>141.8</td>\n",
              "      <td>27.4</td>\n",
              "      <td>12.8</td>\n",
              "      <td>461.7</td>\n",
              "      <td>0.8</td>\n",
              "      <td>0.0</td>\n",
              "      <td>5.4</td>\n",
              "      <td>0.0</td>\n",
              "      <td>10.8</td>\n",
              "      <td>9.0</td>\n",
              "      <td>0.6</td>\n",
              "    </tr>\n",
              "    <tr>\n",
              "      <th>16</th>\n",
              "      <td>Chocolate Chip Cookies</td>\n",
              "      <td>0.09</td>\n",
              "      <td>1 Cookie</td>\n",
              "      <td>78.1</td>\n",
              "      <td>5.1</td>\n",
              "      <td>4.5</td>\n",
              "      <td>57.8</td>\n",
              "      <td>9.3</td>\n",
              "      <td>0.0</td>\n",
              "      <td>0.9</td>\n",
              "      <td>101.8</td>\n",
              "      <td>0.0</td>\n",
              "      <td>6.2</td>\n",
              "      <td>0.4</td>\n",
              "    </tr>\n",
              "  </tbody>\n",
              "</table>\n",
              "</div>\n",
              "      <button class=\"colab-df-convert\" onclick=\"convertToInteractive('df-e768d344-fe6e-4941-8e82-4c1e75737571')\"\n",
              "              title=\"Convert this dataframe to an interactive table.\"\n",
              "              style=\"display:none;\">\n",
              "        \n",
              "  <svg xmlns=\"http://www.w3.org/2000/svg\" height=\"24px\"viewBox=\"0 0 24 24\"\n",
              "       width=\"24px\">\n",
              "    <path d=\"M0 0h24v24H0V0z\" fill=\"none\"/>\n",
              "    <path d=\"M18.56 5.44l.94 2.06.94-2.06 2.06-.94-2.06-.94-.94-2.06-.94 2.06-2.06.94zm-11 1L8.5 8.5l.94-2.06 2.06-.94-2.06-.94L8.5 2.5l-.94 2.06-2.06.94zm10 10l.94 2.06.94-2.06 2.06-.94-2.06-.94-.94-2.06-.94 2.06-2.06.94z\"/><path d=\"M17.41 7.96l-1.37-1.37c-.4-.4-.92-.59-1.43-.59-.52 0-1.04.2-1.43.59L10.3 9.45l-7.72 7.72c-.78.78-.78 2.05 0 2.83L4 21.41c.39.39.9.59 1.41.59.51 0 1.02-.2 1.41-.59l7.78-7.78 2.81-2.81c.8-.78.8-2.07 0-2.86zM5.41 20L4 18.59l7.72-7.72 1.47 1.35L5.41 20z\"/>\n",
              "  </svg>\n",
              "      </button>\n",
              "      \n",
              "  <style>\n",
              "    .colab-df-container {\n",
              "      display:flex;\n",
              "      flex-wrap:wrap;\n",
              "      gap: 12px;\n",
              "    }\n",
              "\n",
              "    .colab-df-convert {\n",
              "      background-color: #E8F0FE;\n",
              "      border: none;\n",
              "      border-radius: 50%;\n",
              "      cursor: pointer;\n",
              "      display: none;\n",
              "      fill: #1967D2;\n",
              "      height: 32px;\n",
              "      padding: 0 0 0 0;\n",
              "      width: 32px;\n",
              "    }\n",
              "\n",
              "    .colab-df-convert:hover {\n",
              "      background-color: #E2EBFA;\n",
              "      box-shadow: 0px 1px 2px rgba(60, 64, 67, 0.3), 0px 1px 3px 1px rgba(60, 64, 67, 0.15);\n",
              "      fill: #174EA6;\n",
              "    }\n",
              "\n",
              "    [theme=dark] .colab-df-convert {\n",
              "      background-color: #3B4455;\n",
              "      fill: #D2E3FC;\n",
              "    }\n",
              "\n",
              "    [theme=dark] .colab-df-convert:hover {\n",
              "      background-color: #434B5C;\n",
              "      box-shadow: 0px 1px 3px 1px rgba(0, 0, 0, 0.15);\n",
              "      filter: drop-shadow(0px 1px 2px rgba(0, 0, 0, 0.3));\n",
              "      fill: #FFFFFF;\n",
              "    }\n",
              "  </style>\n",
              "\n",
              "      <script>\n",
              "        const buttonEl =\n",
              "          document.querySelector('#df-e768d344-fe6e-4941-8e82-4c1e75737571 button.colab-df-convert');\n",
              "        buttonEl.style.display =\n",
              "          google.colab.kernel.accessAllowed ? 'block' : 'none';\n",
              "\n",
              "        async function convertToInteractive(key) {\n",
              "          const element = document.querySelector('#df-e768d344-fe6e-4941-8e82-4c1e75737571');\n",
              "          const dataTable =\n",
              "            await google.colab.kernel.invokeFunction('convertToInteractive',\n",
              "                                                     [key], {});\n",
              "          if (!dataTable) return;\n",
              "\n",
              "          const docLinkHtml = 'Like what you see? Visit the ' +\n",
              "            '<a target=\"_blank\" href=https://colab.research.google.com/notebooks/data_table.ipynb>data table notebook</a>'\n",
              "            + ' to learn more about interactive tables.';\n",
              "          element.innerHTML = '';\n",
              "          dataTable['output_type'] = 'display_data';\n",
              "          await google.colab.output.renderOutput(dataTable, element);\n",
              "          const docLink = document.createElement('div');\n",
              "          docLink.innerHTML = docLinkHtml;\n",
              "          element.appendChild(docLink);\n",
              "        }\n",
              "      </script>\n",
              "    </div>\n",
              "  </div>\n",
              "  "
            ]
          },
          "metadata": {},
          "execution_count": 3
        }
      ]
    },
    {
      "cell_type": "code",
      "source": [
        "# Create a list of the food items\n",
        "food_items = list(df['Foods'])"
      ],
      "metadata": {
        "id": "l7mQH8P7lmi1"
      },
      "execution_count": 4,
      "outputs": []
    },
    {
      "cell_type": "code",
      "source": [
        "print(\"So, the food items to consdier, are\\n\"+\"-\"*100)\n",
        "for f in food_items:\n",
        "    print(f,end=', ')"
      ],
      "metadata": {
        "colab": {
          "base_uri": "https://localhost:8080/"
        },
        "id": "JSHjo_ADhxf3",
        "outputId": "b62ccafc-91e7-4d7d-d76f-eb2f2d41f35b"
      },
      "execution_count": 5,
      "outputs": [
        {
          "output_type": "stream",
          "name": "stdout",
          "text": [
            "So, the food items to consdier, are\n",
            "----------------------------------------------------------------------------------------------------\n",
            "Frozen Broccoli, Frozen Corn, Raw Lettuce Iceberg,  Baked Potatoes, Tofu, Roasted Chicken, Spaghetti W/ Sauce, Raw Apple, Banana, Wheat Bread, White Bread, Oatmeal Cookies, Apple Pie, Scrambled Eggs, Turkey Bologna, Beef Frankfurter, Chocolate Chip Cookies, "
          ]
        }
      ]
    },
    {
      "cell_type": "code",
      "source": [
        "# Costs\n",
        "costs = dict(zip(food_items,df['Price/Serving']))\n",
        "costs"
      ],
      "metadata": {
        "colab": {
          "base_uri": "https://localhost:8080/"
        },
        "id": "4rxdW5ffhxjS",
        "outputId": "66405074-2faf-4b81-8f51-e199f38dbc80"
      },
      "execution_count": 6,
      "outputs": [
        {
          "output_type": "execute_result",
          "data": {
            "text/plain": [
              "{'Frozen Broccoli': 0.48,\n",
              " 'Frozen Corn': 0.54,\n",
              " 'Raw Lettuce Iceberg': 0.06,\n",
              " ' Baked Potatoes': 0.18,\n",
              " 'Tofu': 0.9299999999999999,\n",
              " 'Roasted Chicken': 2.52,\n",
              " 'Spaghetti W/ Sauce': 2.34,\n",
              " 'Raw Apple': 0.72,\n",
              " 'Banana': 0.44999999999999996,\n",
              " 'Wheat Bread': 0.15000000000000002,\n",
              " 'White Bread': 0.18,\n",
              " 'Oatmeal Cookies': 0.27,\n",
              " 'Apple Pie': 0.48,\n",
              " 'Scrambled Eggs': 0.33,\n",
              " 'Turkey Bologna': 0.44999999999999996,\n",
              " 'Beef Frankfurter': 0.81,\n",
              " 'Chocolate Chip Cookies': 0.09}"
            ]
          },
          "metadata": {},
          "execution_count": 6
        }
      ]
    },
    {
      "cell_type": "code",
      "source": [
        "# Create a dictionary of calories for all food items\n",
        "calories = dict(zip(food_items,df['Calories']))\n",
        "\n",
        "# Create a dictionary of total fat for all food items\n",
        "fat = dict(zip(food_items,df['Total_Fat (g)']))\n",
        "\n",
        "# Create a dictionary of carbohydrates for all food items\n",
        "carbs = dict(zip(food_items,df['Carbohydrates (g)']))\n",
        "\n",
        "# Create a dictionary of cholesterol for all food items\n",
        "cholesterol = dict(zip(food_items,df['Cholesterol (mg)']))\n",
        "\n",
        "# Create a dictionary of sodium for all food items\n",
        "sodium = dict(zip(food_items,df['Sodium (mg)']))\n",
        "\n",
        "# Create a dictionary of fiber for all food items\n",
        "fiber = dict(zip(food_items,df['Dietary_Fiber (g)']))\n",
        "\n",
        "# Create a dictionary of protein for all food items\n",
        "protein = dict(zip(food_items,df['Protein (g)']))\n",
        "\n",
        "vit_A = dict(zip(food_items,df['Vit_A (IU)']))\n",
        "vit_C = dict(zip(food_items,df['Vit_C (IU)']))\n",
        "calcium = dict(zip(food_items,df['Calcium (mg)']))\n",
        "iron = dict(zip(food_items,df['Iron (mg)']))\n"
      ],
      "metadata": {
        "id": "4BxZSnOMhxos"
      },
      "execution_count": 7,
      "outputs": []
    },
    {
      "cell_type": "code",
      "source": [
        "# A dictionary called 'food_vars' is created to contain the referenced Variables\n",
        "food_vars = LpVariable.dicts(\"Food\",food_items,0,cat='Continuous')\n",
        "food_vars"
      ],
      "metadata": {
        "colab": {
          "base_uri": "https://localhost:8080/"
        },
        "id": "-ZYtlWock0sJ",
        "outputId": "17b199cb-e75a-4b3f-b925-f4cabc39b172"
      },
      "execution_count": 8,
      "outputs": [
        {
          "output_type": "execute_result",
          "data": {
            "text/plain": [
              "{'Frozen Broccoli': Food_Frozen_Broccoli,\n",
              " 'Frozen Corn': Food_Frozen_Corn,\n",
              " 'Raw Lettuce Iceberg': Food_Raw_Lettuce_Iceberg,\n",
              " ' Baked Potatoes': Food__Baked_Potatoes,\n",
              " 'Tofu': Food_Tofu,\n",
              " 'Roasted Chicken': Food_Roasted_Chicken,\n",
              " 'Spaghetti W/ Sauce': Food_Spaghetti_W__Sauce,\n",
              " 'Raw Apple': Food_Raw_Apple,\n",
              " 'Banana': Food_Banana,\n",
              " 'Wheat Bread': Food_Wheat_Bread,\n",
              " 'White Bread': Food_White_Bread,\n",
              " 'Oatmeal Cookies': Food_Oatmeal_Cookies,\n",
              " 'Apple Pie': Food_Apple_Pie,\n",
              " 'Scrambled Eggs': Food_Scrambled_Eggs,\n",
              " 'Turkey Bologna': Food_Turkey_Bologna,\n",
              " 'Beef Frankfurter': Food_Beef_Frankfurter,\n",
              " 'Chocolate Chip Cookies': Food_Chocolate_Chip_Cookies}"
            ]
          },
          "metadata": {},
          "execution_count": 8
        }
      ]
    },
    {
      "cell_type": "code",
      "source": [
        "# The objective function is added to 'prob' first\n",
        "prob += lpSum([costs[i]*food_vars[i] for i in food_items]), \"Total Cost of the balanced diet\""
      ],
      "metadata": {
        "id": "gNhUGkN8k8qI"
      },
      "execution_count": 9,
      "outputs": []
    },
    {
      "cell_type": "code",
      "source": [
        "prob += lpSum([calories[f] * food_vars[f] for f in food_items]) >= 800.0, \"CalorieMinimum\"\n",
        "prob += lpSum([calories[f] * food_vars[f] for f in food_items]) <= 1300.0, \"CalorieMaximum\""
      ],
      "metadata": {
        "id": "XIgym4-yhxr1"
      },
      "execution_count": 10,
      "outputs": []
    },
    {
      "cell_type": "code",
      "source": [
        "# Fat\n",
        "prob += lpSum([fat[f] * food_vars[f] for f in food_items]) >= 20.0, \"FatMinimum\"\n",
        "prob += lpSum([fat[f] * food_vars[f] for f in food_items]) <= 50.0, \"FatMaximum\"\n",
        "\n",
        "# Carbs\n",
        "prob += lpSum([carbs[f] * food_vars[f] for f in food_items]) >= 130.0, \"CarbsMinimum\"\n",
        "prob += lpSum([carbs[f] * food_vars[f] for f in food_items]) <= 200.0, \"CarbsMaximum\"\n",
        "\n",
        "# Fiber\n",
        "prob += lpSum([fiber[f] * food_vars[f] for f in food_items]) >= 60.0, \"FiberMinimum\"\n",
        "prob += lpSum([fiber[f] * food_vars[f] for f in food_items]) <= 125.0, \"FiberMaximum\"\n",
        "\n",
        "# Protein\n",
        "prob += lpSum([protein[f] * food_vars[f] for f in food_items]) >= 100.0, \"ProteinMinimum\"\n",
        "prob += lpSum([protein[f] * food_vars[f] for f in food_items]) <= 150.0, \"ProteinMaximum\""
      ],
      "metadata": {
        "id": "F6reIzrJhxuu"
      },
      "execution_count": 11,
      "outputs": []
    },
    {
      "cell_type": "code",
      "source": [
        "# The problem is solved using PuLP's choice of Solver\n",
        "prob.solve()"
      ],
      "metadata": {
        "colab": {
          "base_uri": "https://localhost:8080/"
        },
        "id": "bBdyrrIihxyX",
        "outputId": "8578822b-d61d-44df-d9cf-a17fb0655585"
      },
      "execution_count": 12,
      "outputs": [
        {
          "output_type": "execute_result",
          "data": {
            "text/plain": [
              "1"
            ]
          },
          "metadata": {},
          "execution_count": 12
        }
      ]
    },
    {
      "cell_type": "code",
      "source": [
        "# The status of the solution is printed to the screen\n",
        "print(\"Status:\", LpStatus[prob.status])"
      ],
      "metadata": {
        "colab": {
          "base_uri": "https://localhost:8080/"
        },
        "id": "OX8j7d-plzjZ",
        "outputId": "fc429c50-90e3-4794-8d22-0ca1c330bffc"
      },
      "execution_count": 13,
      "outputs": [
        {
          "output_type": "stream",
          "name": "stdout",
          "text": [
            "Status: Optimal\n"
          ]
        }
      ]
    },
    {
      "cell_type": "code",
      "source": [
        "print(\"Therefore, the optimal (least cost) balanced diet consists of\\n\"+\"-\"*110)\n",
        "for v in prob.variables():\n",
        "    if v.varValue>0:\n",
        "        print(v.name, \"=\", v.varValue)"
      ],
      "metadata": {
        "colab": {
          "base_uri": "https://localhost:8080/"
        },
        "id": "90wNJAaflznW",
        "outputId": "4db4e1b9-fea5-45e5-9a2d-27a9c2d4b81e"
      },
      "execution_count": 14,
      "outputs": [
        {
          "output_type": "stream",
          "name": "stdout",
          "text": [
            "Therefore, the optimal (least cost) balanced diet consists of\n",
            "--------------------------------------------------------------------------------------------------------------\n",
            "Food_Frozen_Broccoli = 6.9242113\n",
            "Food_Scrambled_Eggs = 6.060891\n",
            "Food__Baked_Potatoes = 1.0806324\n"
          ]
        }
      ]
    },
    {
      "cell_type": "code",
      "source": [
        "print(\"The total cost of this balanced diet is: ${}\".format(round(value(prob.objective),2)))"
      ],
      "metadata": {
        "colab": {
          "base_uri": "https://localhost:8080/"
        },
        "id": "RK-_6hBxl7x_",
        "outputId": "ee3233bb-cd32-4b2d-b8e9-4afdfaa36c12"
      },
      "execution_count": 15,
      "outputs": [
        {
          "output_type": "stream",
          "name": "stdout",
          "text": [
            "The total cost of this balanced diet is: $5.52\n"
          ]
        }
      ]
    },
    {
      "cell_type": "code",
      "source": [],
      "metadata": {
        "id": "DRa-re_jl71W"
      },
      "execution_count": null,
      "outputs": []
    },
    {
      "cell_type": "code",
      "source": [],
      "metadata": {
        "id": "pxbJ6BbGl74u"
      },
      "execution_count": null,
      "outputs": []
    }
  ]
}