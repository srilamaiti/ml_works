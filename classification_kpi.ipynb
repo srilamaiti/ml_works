{
  "nbformat": 4,
  "nbformat_minor": 0,
  "metadata": {
    "colab": {
      "private_outputs": true,
      "provenance": [],
      "authorship_tag": "ABX9TyOlOPyBCIUqhG0Z95etbB95",
      "include_colab_link": true
    },
    "kernelspec": {
      "name": "python3",
      "display_name": "Python 3"
    },
    "language_info": {
      "name": "python"
    }
  },
  "cells": [
    {
      "cell_type": "markdown",
      "metadata": {
        "id": "view-in-github",
        "colab_type": "text"
      },
      "source": [
        "<a href=\"https://colab.research.google.com/github/srilamaiti/ml_works/blob/main/classification_kpi.ipynb\" target=\"_parent\"><img src=\"https://colab.research.google.com/assets/colab-badge.svg\" alt=\"Open In Colab\"/></a>"
      ]
    },
    {
      "cell_type": "markdown",
      "source": [
        "#AUC - ROC Curve\n",
        "In classification, there are many different evaluation metrics. The most popular is  ***accuracy***, which measures how often the model is correct. This is a great metric because it is easy to understand and getting the most correct guesses is often desired. There are some cases where you might consider using another evaluation metric.\n",
        "\n",
        "Another common metric is ***AUC***, area under the receiver operating characteristic (ROC) curve. The Reciever operating characteristic curve plots the true positive (TP) rate versus the false positive (FP) rate at different classification thresholds. The thresholds are different probability cutoffs that separate the two classes in binary classification. It uses probability to tell us how well a model separates the classes."
      ],
      "metadata": {
        "id": "vqN9Jb0qeK_e"
      }
    },
    {
      "cell_type": "markdown",
      "source": [
        "# Imbalanced Data\n",
        "Suppose we have an imbalanced data set where the majority of our data is of one value. We can obtain high accuracy for the model by predicting the majority class."
      ],
      "metadata": {
        "id": "vZjdjanreiOR"
      }
    },
    {
      "cell_type": "code",
      "source": [
        "import numpy as np\n",
        "from sklearn.metrics import accuracy_score, confusion_matrix, roc_auc_score, roc_curve\n",
        "\n",
        "n = 10000\n",
        "ratio = .95\n",
        "n_0 = int((1-ratio) * n)\n",
        "n_1 = int(ratio * n)\n",
        "\n",
        "y = np.array([0] * n_0 + [1] * n_1)\n",
        "# below are the probabilities obtained from a hypothetical model that always predicts the majority class\n",
        "# probability of predicting class 1 is going to be 100%\n",
        "y_proba = np.array([1]*n)\n",
        "y_pred = y_proba > .5\n",
        "\n",
        "print(f'accuracy score: {accuracy_score(y, y_pred)}')\n",
        "cf_mat = confusion_matrix(y, y_pred)\n",
        "print('Confusion matrix')\n",
        "print(cf_mat)\n",
        "print(f'class 0 accuracy: {cf_mat[0][0]/n_0}')\n",
        "print(f'class 1 accuracy: {cf_mat[1][1]/n_1}')\n"
      ],
      "metadata": {
        "id": "Eq7O_ZwYeeKw"
      },
      "execution_count": null,
      "outputs": []
    },
    {
      "cell_type": "code",
      "source": [
        "# below are the probabilities obtained from a hypothetical model that doesn't always predict the mode\n",
        "y_proba_2 = np.array(\n",
        "    np.random.uniform(0, .7, n_0).tolist() +\n",
        "    np.random.uniform(.3, 1, n_1).tolist()\n",
        ")\n",
        "y_pred_2 = y_proba_2 > .5\n",
        "\n",
        "print(f'accuracy score: {accuracy_score(y, y_pred_2)}')\n",
        "cf_mat = confusion_matrix(y, y_pred_2)\n",
        "print('Confusion matrix')\n",
        "print(cf_mat)\n",
        "print(f'class 0 accuracy: {cf_mat[0][0]/n_0}')\n",
        "print(f'class 1 accuracy: {cf_mat[1][1]/n_1}')"
      ],
      "metadata": {
        "id": "aUaLOkcsezyp"
      },
      "execution_count": null,
      "outputs": []
    },
    {
      "cell_type": "code",
      "source": [
        "import matplotlib.pyplot as plt\n",
        "\n",
        "def plot_roc_curve(true_y, y_prob):\n",
        "    \"\"\"\n",
        "    plots the roc curve based of the probabilities\n",
        "    \"\"\"\n",
        "\n",
        "    fpr, tpr, thresholds = roc_curve(true_y, y_prob)\n",
        "    print(fpr, tpr, thresholds)\n",
        "    plt.plot(fpr, tpr)\n",
        "    plt.xlabel('False Positive Rate')\n",
        "    plt.ylabel('True Positive Rate')"
      ],
      "metadata": {
        "id": "rvrob7CkfNUN"
      },
      "execution_count": null,
      "outputs": []
    },
    {
      "cell_type": "code",
      "source": [
        "plot_roc_curve(y, y_proba)\n",
        "print(f'model 1 AUC score: {roc_auc_score(y, y_proba)}')"
      ],
      "metadata": {
        "id": "YzFEu6z8fRWp"
      },
      "execution_count": null,
      "outputs": []
    },
    {
      "cell_type": "code",
      "source": [
        "plot_roc_curve(y, y_proba_2)\n",
        "print(f'model 2 AUC score: {roc_auc_score(y, y_proba_2)}')"
      ],
      "metadata": {
        "id": "Bk3zVy5lfWth"
      },
      "execution_count": null,
      "outputs": []
    },
    {
      "cell_type": "markdown",
      "source": [
        "An AUC score of around .5 would mean that the model is unable to make a distinction between the two classes and the curve would look like a line with a slope of 1. An AUC score closer to 1 means that the model has the ability to separate the two classes and the curve would come closer to the top left corner of the graph."
      ],
      "metadata": {
        "id": "ly70xT_Jf3Mm"
      }
    },
    {
      "cell_type": "markdown",
      "source": [
        "# Probabilities\n",
        "Because AUC is a metric that utilizes probabilities of the class predictions, we can be more confident in a model that has a higher AUC score than one with a lower score even if they have similar accuracies.\n",
        "\n",
        "In the data below, we have two sets of probabilites from hypothetical models. The first has probabilities that are not as \"confident\" when predicting the two classes (the probabilities are close to .5). The second has probabilities that are more \"confident\" when predicting the two classes (the probabilities are close to the extremes of 0 or 1)."
      ],
      "metadata": {
        "id": "S_kFFSoFgFgU"
      }
    },
    {
      "cell_type": "code",
      "source": [
        "import numpy as np\n",
        "\n",
        "n = 10000\n",
        "y = np.array([0] * n + [1] * n)\n",
        "#\n",
        "y_prob_1 = np.array(\n",
        "    np.random.uniform(.25, .5, n//2).tolist() +\n",
        "    np.random.uniform(.3, .7, n).tolist() +\n",
        "    np.random.uniform(.5, .75, n//2).tolist()\n",
        ")\n",
        "y_prob_2 = np.array(\n",
        "    np.random.uniform(0, .4, n//2).tolist() +\n",
        "    np.random.uniform(.3, .7, n).tolist() +\n",
        "    np.random.uniform(.6, 1, n//2).tolist()\n",
        ")\n",
        "\n",
        "print(f'model 1 accuracy score: {accuracy_score(y, y_prob_1>.5)}')\n",
        "print(f'model 2 accuracy score: {accuracy_score(y, y_prob_2>.5)}')\n",
        "\n",
        "print(f'model 1 AUC score: {roc_auc_score(y, y_prob_1)}')\n",
        "print(f'model 2 AUC score: {roc_auc_score(y, y_prob_2)}')"
      ],
      "metadata": {
        "id": "KwybuTeHgL-X"
      },
      "execution_count": null,
      "outputs": []
    },
    {
      "cell_type": "code",
      "source": [
        "plot_roc_curve(y, y_prob_1)"
      ],
      "metadata": {
        "id": "8hnZKDcSgTRa"
      },
      "execution_count": null,
      "outputs": []
    },
    {
      "cell_type": "code",
      "source": [
        "fpr, tpr, thresholds = roc_curve(y, y_prob_2)\n",
        "plt.plot(fpr, tpr)"
      ],
      "metadata": {
        "id": "ncErZqOggZP6"
      },
      "execution_count": null,
      "outputs": []
    },
    {
      "cell_type": "markdown",
      "source": [
        "Even though the accuracies for the two models are similar, the model with the higher AUC score will be more reliable because it takes into account the predicted probability. It is more likely to give you higher accuracy when predicting future data."
      ],
      "metadata": {
        "id": "-72fHo1qghzV"
      }
    }
  ]
}