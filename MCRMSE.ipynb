{
  "nbformat": 4,
  "nbformat_minor": 0,
  "metadata": {
    "colab": {
      "provenance": [],
      "authorship_tag": "ABX9TyNXrWj+VL11m9f2eoGfiziS",
      "include_colab_link": true
    },
    "kernelspec": {
      "name": "python3",
      "display_name": "Python 3"
    },
    "language_info": {
      "name": "python"
    }
  },
  "cells": [
    {
      "cell_type": "markdown",
      "metadata": {
        "id": "view-in-github",
        "colab_type": "text"
      },
      "source": [
        "<a href=\"https://colab.research.google.com/github/srilamaiti/ml_works/blob/main/MCRMSE.ipynb\" target=\"_parent\"><img src=\"https://colab.research.google.com/assets/colab-badge.svg\" alt=\"Open In Colab\"/></a>"
      ]
    },
    {
      "cell_type": "code",
      "execution_count": 9,
      "metadata": {
        "id": "x55oyL3fi0U7"
      },
      "outputs": [],
      "source": [
        "import numpy as np\n",
        "from sklearn.metrics import mean_squared_error"
      ]
    },
    {
      "cell_type": "code",
      "source": [
        "def roundPartial(value, resolution):\n",
        "    return round (value / resolution) * resolution\n",
        "\n"
      ],
      "metadata": {
        "id": "YDLFEjibi2ay"
      },
      "execution_count": 3,
      "outputs": []
    },
    {
      "cell_type": "code",
      "source": [
        "x = tf.constant([[1, 2, 4], [8, 16, 32], [1, 2, 3]])\n",
        "a = tf.reduce_mean(x)  \n",
        "print(tf.reduce_mean(x), tf.reduce_mean(x, 1), tf.reduce_mean(x, 0)  )"
      ],
      "metadata": {
        "colab": {
          "base_uri": "https://localhost:8080/"
        },
        "id": "DElHAu2umMCb",
        "outputId": "2bc82a6d-25a1-408c-e500-a2694354e1f5"
      },
      "execution_count": 37,
      "outputs": [
        {
          "output_type": "stream",
          "name": "stdout",
          "text": [
            "tf.Tensor(7, shape=(), dtype=int32) tf.Tensor([ 2 18  2], shape=(3,), dtype=int32) tf.Tensor([ 3  6 13], shape=(3,), dtype=int32)\n"
          ]
        }
      ]
    },
    {
      "cell_type": "code",
      "source": [
        "x = tf.constant([[1., 1.], [2., 2.]])\n",
        "tf.reduce_mean(x)  # 1.5\n",
        "tf.reduce_mean(x, 0)  # [1.5, 1.5]\n",
        "tf.reduce_mean(x, 1)  # [1.,  2.]"
      ],
      "metadata": {
        "colab": {
          "base_uri": "https://localhost:8080/"
        },
        "id": "mc_CUMDynzgM",
        "outputId": "0a3ee2f5-928b-4b9a-8fdf-82eb410d86b2"
      },
      "execution_count": 44,
      "outputs": [
        {
          "output_type": "execute_result",
          "data": {
            "text/plain": [
              "<tf.Tensor: shape=(2,), dtype=float32, numpy=array([1., 2.], dtype=float32)>"
            ]
          },
          "metadata": {},
          "execution_count": 44
        }
      ]
    },
    {
      "cell_type": "code",
      "source": [
        "import tensorflow as tf\n",
        "def MCRMSE(y_true, y_pred):\n",
        "    transform_pred = np.array(y_pred)\n",
        "    for row, r in enumerate(y_pred):\n",
        "        for col, c in enumerate(r):\n",
        "            transform_pred[row,col] = roundPartial(c, .5)\n",
        "    colwise_mse = tf.reduce_mean(tf.square(y_true - transform_pred), axis = 1)\n",
        "    return tf.reduce_mean(tf.sqrt(colwise_mse), axis = -1, keepdims = True)"
      ],
      "metadata": {
        "id": "ri1cUxXgkDER"
      },
      "execution_count": 53,
      "outputs": []
    },
    {
      "cell_type": "code",
      "source": [
        "def MCRMSE_1(y_trues, y_preds):\n",
        "    scores = []\n",
        "    transform_pred = np.array(y_pred)\n",
        "    for row, r in enumerate(y_pred):\n",
        "        for col, c in enumerate(r):\n",
        "            transform_pred[row,col] = roundPartial(c, .5)\n",
        "\n",
        "    idxes = y_trues.shape[1]\n",
        "    for i in range(idxes):\n",
        "        y_true = y_trues[:, i]\n",
        "        y_pred = transform_pred[:, i]\n",
        "        score = (y_true - y_pred) ** 2\n",
        "        scores.append(score)\n",
        "    mcrmse_score = np.mean(np.sqrt(np.mean(scores)))\n",
        "    return mcrmse_score, scores"
      ],
      "metadata": {
        "id": "RPiZwLN6i2dY"
      },
      "execution_count": 50,
      "outputs": []
    },
    {
      "cell_type": "code",
      "source": [
        "y_true = np.array([[5, 4.5, 3.5], [2.5, 3, 3.5], [2, 2.5, 3]])\n",
        "y_pred = np.array([[4.15, 3.58, 2.09], [2.578, 4.56, 2.99], [3.01, 3.54, 1.0008]])"
      ],
      "metadata": {
        "id": "6jehWAWJi2gR"
      },
      "execution_count": 25,
      "outputs": []
    },
    {
      "cell_type": "code",
      "source": [
        "transform = np.array(y_pred)\n",
        "for row, r in enumerate(y_pred):\n",
        "   for col, c in enumerate(r):\n",
        "        transform[row,col] = roundPartial(c, .5)\n",
        "transform"
      ],
      "metadata": {
        "colab": {
          "base_uri": "https://localhost:8080/"
        },
        "id": "PMLGeRrmpEq3",
        "outputId": "b04851d1-834f-4261-d2f1-81ffd3731826"
      },
      "execution_count": 49,
      "outputs": [
        {
          "output_type": "execute_result",
          "data": {
            "text/plain": [
              "array([[4. , 3.5, 2. ],\n",
              "       [2.5, 4.5, 3. ],\n",
              "       [3. , 3.5, 1. ]])"
            ]
          },
          "metadata": {},
          "execution_count": 49
        }
      ]
    },
    {
      "cell_type": "code",
      "source": [
        "MCRMSE(y_true, y_pred)#, MCRMSE_1(y_true, y_pred)"
      ],
      "metadata": {
        "colab": {
          "base_uri": "https://localhost:8080/"
        },
        "id": "LlTUJMvYi2i5",
        "outputId": "12d358eb-744a-43f4-e890-91b8969bf38e"
      },
      "execution_count": 54,
      "outputs": [
        {
          "output_type": "execute_result",
          "data": {
            "text/plain": [
              "<tf.Tensor: shape=(1,), dtype=float64, numpy=array([1.17244085])>"
            ]
          },
          "metadata": {},
          "execution_count": 54
        }
      ]
    },
    {
      "cell_type": "code",
      "source": [],
      "metadata": {
        "id": "netSOkoki2lu"
      },
      "execution_count": 25,
      "outputs": []
    }
  ]
}